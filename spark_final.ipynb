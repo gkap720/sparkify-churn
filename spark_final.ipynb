{
 "cells": [
  {
   "cell_type": "markdown",
   "id": "3982b234",
   "metadata": {},
   "source": [
    "# Load data"
   ]
  },
  {
   "cell_type": "code",
   "execution_count": 1,
   "id": "cd05c974-f8f8-4b41-9004-5f25d90ee271",
   "metadata": {
    "execution": {
     "iopub.execute_input": "2023-08-09T08:15:51.597295Z",
     "iopub.status.busy": "2023-08-09T08:15:51.596850Z",
     "iopub.status.idle": "2023-08-09T08:15:52.671298Z",
     "shell.execute_reply": "2023-08-09T08:15:52.670159Z",
     "shell.execute_reply.started": "2023-08-09T08:15:51.597253Z"
    },
    "tags": []
   },
   "outputs": [
    {
     "data": {
      "text/html": [
       "Current session configs: <tt>{'proxyUser': 'user_admin', 'conf': {'spark.pyspark.python': 'python3', 'spark.pyspark.virtualenv.enabled': 'true', 'spark.pyspark.virtualenv.type': 'native', 'spark.pyspark.virtualenv.bin.path': '/usr/bin/virtualenv'}, 'kind': 'pyspark'}</tt><br>"
      ],
      "text/plain": [
       "<IPython.core.display.HTML object>"
      ]
     },
     "metadata": {},
     "output_type": "display_data"
    },
    {
     "data": {
      "text/html": [
       "No active sessions."
      ],
      "text/plain": [
       "<IPython.core.display.HTML object>"
      ]
     },
     "metadata": {},
     "output_type": "display_data"
    }
   ],
   "source": [
    "%%info"
   ]
  },
  {
   "cell_type": "code",
   "execution_count": 2,
   "id": "2079b666",
   "metadata": {
    "execution": {
     "iopub.execute_input": "2023-08-09T08:15:54.500937Z",
     "iopub.status.busy": "2023-08-09T08:15:54.500628Z",
     "iopub.status.idle": "2023-08-09T08:17:02.495286Z",
     "shell.execute_reply": "2023-08-09T08:17:02.494556Z",
     "shell.execute_reply.started": "2023-08-09T08:15:54.500912Z"
    },
    "tags": []
   },
   "outputs": [
    {
     "data": {
      "application/vnd.jupyter.widget-view+json": {
       "model_id": "552841fea8274aaf84282e43f00687dc",
       "version_major": 2,
       "version_minor": 0
      },
      "text/plain": [
       "VBox()"
      ]
     },
     "metadata": {},
     "output_type": "display_data"
    },
    {
     "name": "stdout",
     "output_type": "stream",
     "text": [
      "Starting Spark application\n"
     ]
    },
    {
     "data": {
      "text/html": [
       "<table>\n",
       "<tbody><tr><th>ID</th><th>YARN Application ID</th><th>Kind</th><th>State</th><th>Spark UI</th><th>Driver log</th><th>User</th><th>Current session?</th></tr><tr><td>0</td><td>application_1691568817964_0001</td><td>pyspark</td><td>idle</td><td><a target=\"_blank\" href=\"http://ip-172-31-81-202.ec2.internal:20888/proxy/application_1691568817964_0001/\" class=\"emr-proxy-link j-36HDGMVSBV87D application_1691568817964_0001\" emr-resource=\"j-36HDGMVSBV87D\n",
       "\" application-id=\"application_1691568817964_0001\">Link</a></td><td><a target=\"_blank\" href=\"http://ip-172-31-94-231.ec2.internal:8042/node/containerlogs/container_1691568817964_0001_01_000001/livy\">Link</a></td><td>None</td><td>✔</td></tr></tbody></table>"
      ],
      "text/plain": [
       "<IPython.core.display.HTML object>"
      ]
     },
     "metadata": {},
     "output_type": "display_data"
    },
    {
     "data": {
      "application/vnd.jupyter.widget-view+json": {
       "model_id": "",
       "version_major": 2,
       "version_minor": 0
      },
      "text/plain": [
       "FloatProgress(value=0.0, bar_style='info', description='Progress:', layout=Layout(height='25px', width='50%'),…"
      ]
     },
     "metadata": {},
     "output_type": "display_data"
    },
    {
     "name": "stdout",
     "output_type": "stream",
     "text": [
      "SparkSession available as 'spark'.\n"
     ]
    },
    {
     "data": {
      "application/vnd.jupyter.widget-view+json": {
       "model_id": "",
       "version_major": 2,
       "version_minor": 0
      },
      "text/plain": [
       "FloatProgress(value=0.0, bar_style='info', description='Progress:', layout=Layout(height='25px', width='50%'),…"
      ]
     },
     "metadata": {},
     "output_type": "display_data"
    }
   ],
   "source": [
    "data_src = \"s3a://udacity-dsnd/sparkify/sparkify_event_data.json\""
   ]
  },
  {
   "cell_type": "code",
   "execution_count": 3,
   "id": "d2604011",
   "metadata": {
    "execution": {
     "iopub.execute_input": "2023-08-09T08:17:02.496670Z",
     "iopub.status.busy": "2023-08-09T08:17:02.496445Z",
     "iopub.status.idle": "2023-08-09T08:17:02.569338Z",
     "shell.execute_reply": "2023-08-09T08:17:02.568511Z",
     "shell.execute_reply.started": "2023-08-09T08:17:02.496648Z"
    },
    "tags": []
   },
   "outputs": [
    {
     "data": {
      "application/vnd.jupyter.widget-view+json": {
       "model_id": "83ac0f752473491bbae74f1adf9a6d12",
       "version_major": 2,
       "version_minor": 0
      },
      "text/plain": [
       "VBox()"
      ]
     },
     "metadata": {},
     "output_type": "display_data"
    },
    {
     "data": {
      "application/vnd.jupyter.widget-view+json": {
       "model_id": "",
       "version_major": 2,
       "version_minor": 0
      },
      "text/plain": [
       "FloatProgress(value=0.0, bar_style='info', description='Progress:', layout=Layout(height='25px', width='50%'),…"
      ]
     },
     "metadata": {},
     "output_type": "display_data"
    }
   ],
   "source": [
    "from pyspark import SparkConf, SparkContext\n",
    "from pyspark.sql import SparkSession\n",
    "\n",
    "spark = SparkSession \\\n",
    "    .builder \\\n",
    "    .appName(\"Sparkify\") \\\n",
    "    .getOrCreate()"
   ]
  },
  {
   "cell_type": "code",
   "execution_count": 4,
   "id": "d7e54994-3ae9-4de9-b838-9c09507fa0be",
   "metadata": {
    "execution": {
     "iopub.execute_input": "2023-08-09T08:17:02.577178Z",
     "iopub.status.busy": "2023-08-09T08:17:02.571159Z",
     "iopub.status.idle": "2023-08-09T08:17:21.946097Z",
     "shell.execute_reply": "2023-08-09T08:17:21.945027Z",
     "shell.execute_reply.started": "2023-08-09T08:17:02.577145Z"
    },
    "tags": []
   },
   "outputs": [
    {
     "data": {
      "application/vnd.jupyter.widget-view+json": {
       "model_id": "c377c21ada4947ffbaac8e0a9546be65",
       "version_major": 2,
       "version_minor": 0
      },
      "text/plain": [
       "VBox()"
      ]
     },
     "metadata": {},
     "output_type": "display_data"
    },
    {
     "data": {
      "application/vnd.jupyter.widget-view+json": {
       "model_id": "",
       "version_major": 2,
       "version_minor": 0
      },
      "text/plain": [
       "FloatProgress(value=0.0, bar_style='info', description='Progress:', layout=Layout(height='25px', width='50%'),…"
      ]
     },
     "metadata": {},
     "output_type": "display_data"
    },
    {
     "name": "stdout",
     "output_type": "stream",
     "text": [
      "Collecting pandas\n",
      "  Downloading pandas-1.3.5-cp37-cp37m-manylinux_2_17_x86_64.manylinux2014_x86_64.whl (11.3 MB)\n",
      "Collecting python-dateutil>=2.7.3\n",
      "  Downloading python_dateutil-2.8.2-py2.py3-none-any.whl (247 kB)\n",
      "Requirement already satisfied: numpy>=1.17.3; platform_machine != \"aarch64\" and platform_machine != \"arm64\" and python_version < \"3.10\" in /usr/local/lib64/python3.7/site-packages (from pandas) (1.20.0)\n",
      "Requirement already satisfied: pytz>=2017.3 in /usr/local/lib/python3.7/site-packages (from pandas) (2023.3)\n",
      "Requirement already satisfied: six>=1.5 in /usr/local/lib/python3.7/site-packages (from python-dateutil>=2.7.3->pandas) (1.13.0)\n",
      "Installing collected packages: python-dateutil, pandas\n",
      "Successfully installed pandas-1.3.5 python-dateutil-2.8.2\n",
      "\n",
      "WARNING: The directory '/home/.cache/pip' or its parent directory is not owned or is not writable by the current user. The cache has been disabled. Check the permissions and owner of that directory. If executing pip with sudo, you may want sudo's -H flag."
     ]
    }
   ],
   "source": [
    "sc.install_pypi_package(\"pandas\")"
   ]
  },
  {
   "cell_type": "code",
   "execution_count": 5,
   "id": "e2474751",
   "metadata": {
    "execution": {
     "iopub.execute_input": "2023-08-09T08:17:21.948096Z",
     "iopub.status.busy": "2023-08-09T08:17:21.947831Z",
     "iopub.status.idle": "2023-08-09T08:18:17.454522Z",
     "shell.execute_reply": "2023-08-09T08:18:17.453456Z",
     "shell.execute_reply.started": "2023-08-09T08:17:21.948069Z"
    },
    "tags": []
   },
   "outputs": [
    {
     "data": {
      "application/vnd.jupyter.widget-view+json": {
       "model_id": "7ef780823dd04295a6f35e4daae8e7d6",
       "version_major": 2,
       "version_minor": 0
      },
      "text/plain": [
       "VBox()"
      ]
     },
     "metadata": {},
     "output_type": "display_data"
    },
    {
     "data": {
      "application/vnd.jupyter.widget-view+json": {
       "model_id": "",
       "version_major": 2,
       "version_minor": 0
      },
      "text/plain": [
       "FloatProgress(value=0.0, bar_style='info', description='Progress:', layout=Layout(height='25px', width='50%'),…"
      ]
     },
     "metadata": {},
     "output_type": "display_data"
    }
   ],
   "source": [
    "df = spark.read.json(data_src)"
   ]
  },
  {
   "cell_type": "markdown",
   "id": "61c95231",
   "metadata": {},
   "source": [
    "# Process data for prediction"
   ]
  },
  {
   "cell_type": "markdown",
   "id": "e12c1ca9",
   "metadata": {},
   "source": [
    "Filter out all not logged-in users"
   ]
  },
  {
   "cell_type": "code",
   "execution_count": 6,
   "id": "e30be67f",
   "metadata": {
    "execution": {
     "iopub.execute_input": "2023-08-09T08:18:17.456363Z",
     "iopub.status.busy": "2023-08-09T08:18:17.456021Z",
     "iopub.status.idle": "2023-08-09T08:18:17.715879Z",
     "shell.execute_reply": "2023-08-09T08:18:17.715137Z",
     "shell.execute_reply.started": "2023-08-09T08:18:17.456325Z"
    },
    "tags": []
   },
   "outputs": [
    {
     "data": {
      "application/vnd.jupyter.widget-view+json": {
       "model_id": "480a141743ed4870b32c49c8db7cf869",
       "version_major": 2,
       "version_minor": 0
      },
      "text/plain": [
       "VBox()"
      ]
     },
     "metadata": {},
     "output_type": "display_data"
    },
    {
     "data": {
      "application/vnd.jupyter.widget-view+json": {
       "model_id": "",
       "version_major": 2,
       "version_minor": 0
      },
      "text/plain": [
       "FloatProgress(value=0.0, bar_style='info', description='Progress:', layout=Layout(height='25px', width='50%'),…"
      ]
     },
     "metadata": {},
     "output_type": "display_data"
    }
   ],
   "source": [
    "df = df.filter(df[\"userId\"] != \"\")"
   ]
  },
  {
   "cell_type": "code",
   "execution_count": 7,
   "id": "0f1d79cf",
   "metadata": {
    "execution": {
     "iopub.execute_input": "2023-08-09T08:18:17.717018Z",
     "iopub.status.busy": "2023-08-09T08:18:17.716774Z",
     "iopub.status.idle": "2023-08-09T08:18:17.976937Z",
     "shell.execute_reply": "2023-08-09T08:18:17.976059Z",
     "shell.execute_reply.started": "2023-08-09T08:18:17.716994Z"
    },
    "tags": []
   },
   "outputs": [
    {
     "data": {
      "application/vnd.jupyter.widget-view+json": {
       "model_id": "01f67857c5914a8b9e8d4277189806cb",
       "version_major": 2,
       "version_minor": 0
      },
      "text/plain": [
       "VBox()"
      ]
     },
     "metadata": {},
     "output_type": "display_data"
    },
    {
     "data": {
      "application/vnd.jupyter.widget-view+json": {
       "model_id": "",
       "version_major": 2,
       "version_minor": 0
      },
      "text/plain": [
       "FloatProgress(value=0.0, bar_style='info', description='Progress:', layout=Layout(height='25px', width='50%'),…"
      ]
     },
     "metadata": {},
     "output_type": "display_data"
    }
   ],
   "source": [
    "df.createOrReplaceTempView(\"events\")"
   ]
  },
  {
   "cell_type": "code",
   "execution_count": 8,
   "id": "f8a6bfad",
   "metadata": {
    "execution": {
     "iopub.execute_input": "2023-08-09T08:18:17.978109Z",
     "iopub.status.busy": "2023-08-09T08:18:17.977861Z",
     "iopub.status.idle": "2023-08-09T08:18:18.244848Z",
     "shell.execute_reply": "2023-08-09T08:18:18.244171Z",
     "shell.execute_reply.started": "2023-08-09T08:18:17.978086Z"
    },
    "tags": []
   },
   "outputs": [
    {
     "data": {
      "application/vnd.jupyter.widget-view+json": {
       "model_id": "31a36fb0a46740619c29157a80f508a3",
       "version_major": 2,
       "version_minor": 0
      },
      "text/plain": [
       "VBox()"
      ]
     },
     "metadata": {},
     "output_type": "display_data"
    },
    {
     "data": {
      "application/vnd.jupyter.widget-view+json": {
       "model_id": "",
       "version_major": 2,
       "version_minor": 0
      },
      "text/plain": [
       "FloatProgress(value=0.0, bar_style='info', description='Progress:', layout=Layout(height='25px', width='50%'),…"
      ]
     },
     "metadata": {},
     "output_type": "display_data"
    }
   ],
   "source": [
    "avg_session_len_per_user = spark.sql('''\n",
    "    SELECT userId, AVG(length) AS avg_session_length FROM (\n",
    "        SELECT userId, MAX(ts) - MIN(ts) AS length FROM events\n",
    "        GROUP BY userId, sessionId\n",
    "    )\n",
    "    GROUP BY userId\n",
    "''')"
   ]
  },
  {
   "cell_type": "code",
   "execution_count": 9,
   "id": "98e49271",
   "metadata": {
    "execution": {
     "iopub.execute_input": "2023-08-09T08:18:18.247286Z",
     "iopub.status.busy": "2023-08-09T08:18:18.247048Z",
     "iopub.status.idle": "2023-08-09T08:18:18.297582Z",
     "shell.execute_reply": "2023-08-09T08:18:18.296928Z",
     "shell.execute_reply.started": "2023-08-09T08:18:18.247264Z"
    },
    "tags": []
   },
   "outputs": [
    {
     "data": {
      "application/vnd.jupyter.widget-view+json": {
       "model_id": "4bd1462b31b14fa991c8fe1087ed9a71",
       "version_major": 2,
       "version_minor": 0
      },
      "text/plain": [
       "VBox()"
      ]
     },
     "metadata": {},
     "output_type": "display_data"
    },
    {
     "data": {
      "application/vnd.jupyter.widget-view+json": {
       "model_id": "",
       "version_major": 2,
       "version_minor": 0
      },
      "text/plain": [
       "FloatProgress(value=0.0, bar_style='info', description='Progress:', layout=Layout(height='25px', width='50%'),…"
      ]
     },
     "metadata": {},
     "output_type": "display_data"
    }
   ],
   "source": [
    "from pyspark.sql.functions import last, udf, pandas_udf, PandasUDFType\n",
    "from pyspark.sql.types import FloatType"
   ]
  },
  {
   "cell_type": "code",
   "execution_count": 10,
   "id": "bdc27e48",
   "metadata": {
    "execution": {
     "iopub.execute_input": "2023-08-09T08:18:18.299325Z",
     "iopub.status.busy": "2023-08-09T08:18:18.299061Z",
     "iopub.status.idle": "2023-08-09T08:18:18.554435Z",
     "shell.execute_reply": "2023-08-09T08:18:18.553673Z",
     "shell.execute_reply.started": "2023-08-09T08:18:18.299301Z"
    },
    "tags": []
   },
   "outputs": [
    {
     "data": {
      "application/vnd.jupyter.widget-view+json": {
       "model_id": "cd143f82d15b40ca9fc0cb7d5a76a569",
       "version_major": 2,
       "version_minor": 0
      },
      "text/plain": [
       "VBox()"
      ]
     },
     "metadata": {},
     "output_type": "display_data"
    },
    {
     "data": {
      "application/vnd.jupyter.widget-view+json": {
       "model_id": "",
       "version_major": 2,
       "version_minor": 0
      },
      "text/plain": [
       "FloatProgress(value=0.0, bar_style='info', description='Progress:', layout=Layout(height='25px', width='50%'),…"
      ]
     },
     "metadata": {},
     "output_type": "display_data"
    }
   ],
   "source": [
    "session_ends = df.sort(\"ts\").groupby(df.userId, df.sessionId).agg(last(df.ts).alias(\"end\"))"
   ]
  },
  {
   "cell_type": "code",
   "execution_count": 53,
   "id": "11c0c222",
   "metadata": {
    "execution": {
     "iopub.execute_input": "2023-08-08T12:24:06.241862Z",
     "iopub.status.busy": "2023-08-08T12:24:06.241566Z",
     "iopub.status.idle": "2023-08-08T12:24:06.287107Z",
     "shell.execute_reply": "2023-08-08T12:24:06.286291Z",
     "shell.execute_reply.started": "2023-08-08T12:24:06.241838Z"
    },
    "tags": []
   },
   "outputs": [
    {
     "data": {
      "application/vnd.jupyter.widget-view+json": {
       "model_id": "f3dc828fd51146b28ca89ccd4ffc8f38",
       "version_major": 2,
       "version_minor": 0
      },
      "text/plain": [
       "VBox()"
      ]
     },
     "metadata": {},
     "output_type": "display_data"
    },
    {
     "data": {
      "application/vnd.jupyter.widget-view+json": {
       "model_id": "",
       "version_major": 2,
       "version_minor": 0
      },
      "text/plain": [
       "FloatProgress(value=0.0, bar_style='info', description='Progress:', layout=Layout(height='25px', width='50%'),…"
      ]
     },
     "metadata": {},
     "output_type": "display_data"
    },
    {
     "name": "stderr",
     "output_type": "stream",
     "text": [
      "An error was encountered:\n",
      "PyArrow >= 1.0.0 must be installed; however, it was not found.\n",
      "Traceback (most recent call last):\n",
      "  File \"/mnt/yarn/usercache/livy/appcache/application_1691496157060_0001/container_1691496157060_0001_01_000001/pyspark.zip/pyspark/sql/pandas/functions.py\", line 337, in pandas_udf\n",
      "    require_minimum_pyarrow_version()\n",
      "  File \"/mnt/yarn/usercache/livy/appcache/application_1691496157060_0001/container_1691496157060_0001_01_000001/pyspark.zip/pyspark/sql/pandas/utils.py\", line 63, in require_minimum_pyarrow_version\n",
      "    ) from raised_error\n",
      "ImportError: PyArrow >= 1.0.0 must be installed; however, it was not found.\n",
      "\n"
     ]
    }
   ],
   "source": [
    "@pandas_udf(FloatType())\n",
    "def time_bw_sessions(s: pd.Series) -> float:\n",
    "    return s.diff().mean()"
   ]
  },
  {
   "cell_type": "code",
   "execution_count": 18,
   "id": "441b6a2c",
   "metadata": {
    "execution": {
     "iopub.execute_input": "2023-08-08T12:11:48.654558Z",
     "iopub.status.busy": "2023-08-08T12:11:48.654284Z",
     "iopub.status.idle": "2023-08-08T12:11:48.915977Z",
     "shell.execute_reply": "2023-08-08T12:11:48.915086Z",
     "shell.execute_reply.started": "2023-08-08T12:11:48.654534Z"
    }
   },
   "outputs": [
    {
     "data": {
      "application/vnd.jupyter.widget-view+json": {
       "model_id": "321007c4bbb44a0895233eece8f93a63",
       "version_major": 2,
       "version_minor": 0
      },
      "text/plain": [
       "VBox()"
      ]
     },
     "metadata": {},
     "output_type": "display_data"
    },
    {
     "data": {
      "application/vnd.jupyter.widget-view+json": {
       "model_id": "",
       "version_major": 2,
       "version_minor": 0
      },
      "text/plain": [
       "FloatProgress(value=0.0, bar_style='info', description='Progress:', layout=Layout(height='25px', width='50%'),…"
      ]
     },
     "metadata": {},
     "output_type": "display_data"
    },
    {
     "name": "stderr",
     "output_type": "stream",
     "text": [
      "An error was encountered:\n",
      "name 'time_bw_sessions' is not defined\n",
      "Traceback (most recent call last):\n",
      "NameError: name 'time_bw_sessions' is not defined\n",
      "\n"
     ]
    }
   ],
   "source": [
    "avg_time_bw_sessions = session_ends.sort(\"sessionId\").groupby(\"userId\").agg(time_bw_sessions(\"end\"))"
   ]
  },
  {
   "cell_type": "code",
   "execution_count": 11,
   "id": "82c8c24e",
   "metadata": {
    "execution": {
     "iopub.execute_input": "2023-08-09T08:18:18.555678Z",
     "iopub.status.busy": "2023-08-09T08:18:18.555440Z",
     "iopub.status.idle": "2023-08-09T08:18:18.819437Z",
     "shell.execute_reply": "2023-08-09T08:18:18.818658Z",
     "shell.execute_reply.started": "2023-08-09T08:18:18.555655Z"
    },
    "tags": []
   },
   "outputs": [
    {
     "data": {
      "application/vnd.jupyter.widget-view+json": {
       "model_id": "fb6a7f3a2feb4833ab51df502464bb00",
       "version_major": 2,
       "version_minor": 0
      },
      "text/plain": [
       "VBox()"
      ]
     },
     "metadata": {},
     "output_type": "display_data"
    },
    {
     "data": {
      "application/vnd.jupyter.widget-view+json": {
       "model_id": "",
       "version_major": 2,
       "version_minor": 0
      },
      "text/plain": [
       "FloatProgress(value=0.0, bar_style='info', description='Progress:', layout=Layout(height='25px', width='50%'),…"
      ]
     },
     "metadata": {},
     "output_type": "display_data"
    }
   ],
   "source": [
    "time_per_day = spark.sql('''\n",
    "    SELECT events.userId, ROUND(COUNT(*) / first(a.days), 2) AS pages_per_day\n",
    "    FROM events\n",
    "    JOIN (\n",
    "        SELECT userId, GREATEST(1, ROUND((MAX(ts) - MIN(ts)) / 3600 / 24 / 1000, 2)) AS days FROM events\n",
    "        GROUP BY userId\n",
    "    ) AS a ON events.userId = a.userId\n",
    "    GROUP BY events.userId\n",
    "''')"
   ]
  },
  {
   "cell_type": "code",
   "execution_count": 55,
   "id": "543b5ac4",
   "metadata": {
    "execution": {
     "iopub.execute_input": "2023-08-08T12:24:19.589626Z",
     "iopub.status.busy": "2023-08-08T12:24:19.589327Z",
     "iopub.status.idle": "2023-08-08T12:24:19.633434Z",
     "shell.execute_reply": "2023-08-08T12:24:19.632562Z",
     "shell.execute_reply.started": "2023-08-08T12:24:19.589602Z"
    },
    "tags": []
   },
   "outputs": [
    {
     "data": {
      "application/vnd.jupyter.widget-view+json": {
       "model_id": "58789ca202394c04948379412b2d7f89",
       "version_major": 2,
       "version_minor": 0
      },
      "text/plain": [
       "VBox()"
      ]
     },
     "metadata": {},
     "output_type": "display_data"
    },
    {
     "data": {
      "application/vnd.jupyter.widget-view+json": {
       "model_id": "",
       "version_major": 2,
       "version_minor": 0
      },
      "text/plain": [
       "FloatProgress(value=0.0, bar_style='info', description='Progress:', layout=Layout(height='25px', width='50%'),…"
      ]
     },
     "metadata": {},
     "output_type": "display_data"
    },
    {
     "name": "stdout",
     "output_type": "stream",
     "text": [
      "['artist', 'auth', 'firstName', 'gender', 'itemInSession', 'lastName', 'length', 'level', 'location', 'method', 'page', 'registration', 'sessionId', 'song', 'status', 'ts', 'userAgent', 'userId']"
     ]
    }
   ],
   "source": [
    "df.columns"
   ]
  },
  {
   "cell_type": "markdown",
   "id": "91b9ab19",
   "metadata": {},
   "source": [
    "Find how many times a user visits each page"
   ]
  },
  {
   "cell_type": "code",
   "execution_count": 12,
   "id": "7ea26897",
   "metadata": {
    "execution": {
     "iopub.execute_input": "2023-08-09T08:18:18.820609Z",
     "iopub.status.busy": "2023-08-09T08:18:18.820350Z",
     "iopub.status.idle": "2023-08-09T08:18:19.081402Z",
     "shell.execute_reply": "2023-08-09T08:18:19.080653Z",
     "shell.execute_reply.started": "2023-08-09T08:18:18.820584Z"
    },
    "tags": []
   },
   "outputs": [
    {
     "data": {
      "application/vnd.jupyter.widget-view+json": {
       "model_id": "04c6ad2e547a41899e2f491f69e9fd6f",
       "version_major": 2,
       "version_minor": 0
      },
      "text/plain": [
       "VBox()"
      ]
     },
     "metadata": {},
     "output_type": "display_data"
    },
    {
     "data": {
      "application/vnd.jupyter.widget-view+json": {
       "model_id": "",
       "version_major": 2,
       "version_minor": 0
      },
      "text/plain": [
       "FloatProgress(value=0.0, bar_style='info', description='Progress:', layout=Layout(height='25px', width='50%'),…"
      ]
     },
     "metadata": {},
     "output_type": "display_data"
    }
   ],
   "source": [
    "pages_per_user_by_type = spark.sql('''\n",
    "    SELECT userId, page, COUNT(*) AS page_visits\n",
    "    FROM events\n",
    "    GROUP BY userId, page\n",
    "''')"
   ]
  },
  {
   "cell_type": "code",
   "execution_count": 13,
   "id": "ec26b641",
   "metadata": {
    "execution": {
     "iopub.execute_input": "2023-08-09T08:18:19.082722Z",
     "iopub.status.busy": "2023-08-09T08:18:19.082436Z",
     "iopub.status.idle": "2023-08-09T08:18:19.197563Z",
     "shell.execute_reply": "2023-08-09T08:18:19.196778Z",
     "shell.execute_reply.started": "2023-08-09T08:18:19.082697Z"
    },
    "tags": []
   },
   "outputs": [
    {
     "data": {
      "application/vnd.jupyter.widget-view+json": {
       "model_id": "d23fe8a8919b423a8ca5ac541e90632f",
       "version_major": 2,
       "version_minor": 0
      },
      "text/plain": [
       "VBox()"
      ]
     },
     "metadata": {},
     "output_type": "display_data"
    },
    {
     "data": {
      "application/vnd.jupyter.widget-view+json": {
       "model_id": "",
       "version_major": 2,
       "version_minor": 0
      },
      "text/plain": [
       "FloatProgress(value=0.0, bar_style='info', description='Progress:', layout=Layout(height='25px', width='50%'),…"
      ]
     },
     "metadata": {},
     "output_type": "display_data"
    }
   ],
   "source": [
    "from pyspark.sql.functions import coalesce, sum as fsum, lit"
   ]
  },
  {
   "cell_type": "code",
   "execution_count": 14,
   "id": "7f395980",
   "metadata": {
    "execution": {
     "iopub.execute_input": "2023-08-09T08:18:19.199232Z",
     "iopub.status.busy": "2023-08-09T08:18:19.198883Z",
     "iopub.status.idle": "2023-08-09T08:19:00.634044Z",
     "shell.execute_reply": "2023-08-09T08:19:00.633287Z",
     "shell.execute_reply.started": "2023-08-09T08:18:19.199194Z"
    },
    "tags": []
   },
   "outputs": [
    {
     "data": {
      "application/vnd.jupyter.widget-view+json": {
       "model_id": "14887dc1b9934153934c3c603feb9455",
       "version_major": 2,
       "version_minor": 0
      },
      "text/plain": [
       "VBox()"
      ]
     },
     "metadata": {},
     "output_type": "display_data"
    },
    {
     "data": {
      "application/vnd.jupyter.widget-view+json": {
       "model_id": "",
       "version_major": 2,
       "version_minor": 0
      },
      "text/plain": [
       "FloatProgress(value=0.0, bar_style='info', description='Progress:', layout=Layout(height='25px', width='50%'),…"
      ]
     },
     "metadata": {},
     "output_type": "display_data"
    }
   ],
   "source": [
    "pages_per_user_by_type = pages_per_user_by_type.groupby(\"userId\").pivot(\"page\").sum(\"page_visits\").na.fill(0)"
   ]
  },
  {
   "cell_type": "code",
   "execution_count": 15,
   "id": "fedd837b-994c-4be1-9e9a-af19e9ff4fc0",
   "metadata": {
    "execution": {
     "iopub.execute_input": "2023-08-09T08:19:00.635351Z",
     "iopub.status.busy": "2023-08-09T08:19:00.635106Z",
     "iopub.status.idle": "2023-08-09T08:19:00.890803Z",
     "shell.execute_reply": "2023-08-09T08:19:00.889945Z",
     "shell.execute_reply.started": "2023-08-09T08:19:00.635326Z"
    },
    "tags": []
   },
   "outputs": [
    {
     "data": {
      "application/vnd.jupyter.widget-view+json": {
       "model_id": "1069ea91b0f94da6816b5ea78ebb3390",
       "version_major": 2,
       "version_minor": 0
      },
      "text/plain": [
       "VBox()"
      ]
     },
     "metadata": {},
     "output_type": "display_data"
    },
    {
     "data": {
      "application/vnd.jupyter.widget-view+json": {
       "model_id": "",
       "version_major": 2,
       "version_minor": 0
      },
      "text/plain": [
       "FloatProgress(value=0.0, bar_style='info', description='Progress:', layout=Layout(height='25px', width='50%'),…"
      ]
     },
     "metadata": {},
     "output_type": "display_data"
    }
   ],
   "source": [
    "demographic = spark.sql('''\n",
    "    SELECT userId, any_value(gender) AS gender\n",
    "    FROM events\n",
    "    GROUP BY userId\n",
    "''')"
   ]
  },
  {
   "cell_type": "code",
   "execution_count": 16,
   "id": "ab9c3cbb-ac60-4dd7-a36b-a57f64347d0f",
   "metadata": {
    "execution": {
     "iopub.execute_input": "2023-08-09T08:19:00.892106Z",
     "iopub.status.busy": "2023-08-09T08:19:00.891865Z",
     "iopub.status.idle": "2023-08-09T08:19:44.322331Z",
     "shell.execute_reply": "2023-08-09T08:19:44.321483Z",
     "shell.execute_reply.started": "2023-08-09T08:19:00.892082Z"
    },
    "tags": []
   },
   "outputs": [
    {
     "data": {
      "application/vnd.jupyter.widget-view+json": {
       "model_id": "c585b33372164f119719ac9a7cbc9434",
       "version_major": 2,
       "version_minor": 0
      },
      "text/plain": [
       "VBox()"
      ]
     },
     "metadata": {},
     "output_type": "display_data"
    },
    {
     "data": {
      "application/vnd.jupyter.widget-view+json": {
       "model_id": "",
       "version_major": 2,
       "version_minor": 0
      },
      "text/plain": [
       "FloatProgress(value=0.0, bar_style='info', description='Progress:', layout=Layout(height='25px', width='50%'),…"
      ]
     },
     "metadata": {},
     "output_type": "display_data"
    }
   ],
   "source": [
    "from pyspark.ml.feature import StringIndexer\n",
    "stringIndexer = StringIndexer(inputCol=\"gender\", outputCol=\"genderIndexed\", handleInvalid=\"skip\")\n",
    "model = stringIndexer.fit(demographic)\n",
    "demographic_indexed = model.transform(demographic)"
   ]
  },
  {
   "cell_type": "code",
   "execution_count": 17,
   "id": "b8c66f18",
   "metadata": {
    "execution": {
     "iopub.execute_input": "2023-08-09T08:19:44.323977Z",
     "iopub.status.busy": "2023-08-09T08:19:44.323504Z",
     "iopub.status.idle": "2023-08-09T08:19:44.596802Z",
     "shell.execute_reply": "2023-08-09T08:19:44.595956Z",
     "shell.execute_reply.started": "2023-08-09T08:19:44.323942Z"
    },
    "tags": []
   },
   "outputs": [
    {
     "data": {
      "application/vnd.jupyter.widget-view+json": {
       "model_id": "0ff891ebcc8b489d99a273075eb9ac8e",
       "version_major": 2,
       "version_minor": 0
      },
      "text/plain": [
       "VBox()"
      ]
     },
     "metadata": {},
     "output_type": "display_data"
    },
    {
     "data": {
      "application/vnd.jupyter.widget-view+json": {
       "model_id": "",
       "version_major": 2,
       "version_minor": 0
      },
      "text/plain": [
       "FloatProgress(value=0.0, bar_style='info', description='Progress:', layout=Layout(height='25px', width='50%'),…"
      ]
     },
     "metadata": {},
     "output_type": "display_data"
    }
   ],
   "source": [
    "final = pages_per_user_by_type.join(time_per_day, on=\"userId\").join(avg_session_len_per_user, on=\"userId\").join(demographic_indexed, on=\"userId\")"
   ]
  },
  {
   "cell_type": "code",
   "execution_count": 61,
   "id": "b78ca0a4",
   "metadata": {
    "execution": {
     "iopub.execute_input": "2023-08-08T12:25:24.901418Z",
     "iopub.status.busy": "2023-08-08T12:25:24.901105Z",
     "iopub.status.idle": "2023-08-08T12:28:16.738342Z",
     "shell.execute_reply": "2023-08-08T12:28:16.737644Z",
     "shell.execute_reply.started": "2023-08-08T12:25:24.901391Z"
    },
    "tags": []
   },
   "outputs": [
    {
     "data": {
      "application/vnd.jupyter.widget-view+json": {
       "model_id": "166a444758c848e2a737e2eb1a5afaa4",
       "version_major": 2,
       "version_minor": 0
      },
      "text/plain": [
       "VBox()"
      ]
     },
     "metadata": {},
     "output_type": "display_data"
    },
    {
     "data": {
      "application/vnd.jupyter.widget-view+json": {
       "model_id": "",
       "version_major": 2,
       "version_minor": 0
      },
      "text/plain": [
       "FloatProgress(value=0.0, bar_style='info', description='Progress:', layout=Layout(height='25px', width='50%'),…"
      ]
     },
     "metadata": {},
     "output_type": "display_data"
    },
    {
     "name": "stdout",
     "output_type": "stream",
     "text": [
      "+------+-----+----------+---------------+------+-------------------------+---------+-----+----+----+-----+------+--------+--------+-----------+-------------+--------+----------------+-------------------+--------------+-----------+---------+-------+-------------+------------------+------+\n",
      "|userId|About|Add Friend|Add to Playlist|Cancel|Cancellation Confirmation|Downgrade|Error|Help|Home|Login|Logout|NextSong|Register|Roll Advert|Save Settings|Settings|Submit Downgrade|Submit Registration|Submit Upgrade|Thumbs Down|Thumbs Up|Upgrade|pages_per_day|avg_session_length|gender|\n",
      "+------+-----+----------+---------------+------+-------------------------+---------+-----+----+----+-----+------+--------+--------+-----------+-------------+--------+----------------+-------------------+--------------+-----------+---------+-------+-------------+------------------+------+\n",
      "|     0|    0|         0|              0|     0|                        0|        0|    0|   0|   0|    0|     0|       0|       0|          0|            0|       0|               0|                  0|             0|          0|        0|      0|            0|                 0|     1|\n",
      "+------+-----+----------+---------------+------+-------------------------+---------+-----+----+----+-----+------+--------+--------+-----------+-------------+--------+----------------+-------------------+--------------+-----------+---------+-------+-------------+------------------+------+"
     ]
    }
   ],
   "source": [
    "from pyspark.sql.functions import isnan, when, count, col\n",
    "\n",
    "final.select([count(when(isnan(c) | col(c).isNull(), c)).alias(c) for c in final.columns]).show()"
   ]
  },
  {
   "cell_type": "markdown",
   "id": "a73aa4bf",
   "metadata": {},
   "source": [
    "# Modeling"
   ]
  },
  {
   "cell_type": "code",
   "execution_count": 18,
   "id": "3e454f40",
   "metadata": {
    "execution": {
     "iopub.execute_input": "2023-08-09T08:19:44.598035Z",
     "iopub.status.busy": "2023-08-09T08:19:44.597787Z",
     "iopub.status.idle": "2023-08-09T08:19:44.645287Z",
     "shell.execute_reply": "2023-08-09T08:19:44.644615Z",
     "shell.execute_reply.started": "2023-08-09T08:19:44.598011Z"
    },
    "tags": []
   },
   "outputs": [
    {
     "data": {
      "application/vnd.jupyter.widget-view+json": {
       "model_id": "b6887293f8f54df1bc1d57ca6728528c",
       "version_major": 2,
       "version_minor": 0
      },
      "text/plain": [
       "VBox()"
      ]
     },
     "metadata": {},
     "output_type": "display_data"
    },
    {
     "data": {
      "application/vnd.jupyter.widget-view+json": {
       "model_id": "",
       "version_major": 2,
       "version_minor": 0
      },
      "text/plain": [
       "FloatProgress(value=0.0, bar_style='info', description='Progress:', layout=Layout(height='25px', width='50%'),…"
      ]
     },
     "metadata": {},
     "output_type": "display_data"
    }
   ],
   "source": [
    "from pyspark.ml.feature import VectorAssembler"
   ]
  },
  {
   "cell_type": "markdown",
   "id": "301451b6",
   "metadata": {},
   "source": [
    "Including visits to the \"Cancel\" page would likely introduce data leakage. And we want to predict churn before the user cancels so let's drop those columns"
   ]
  },
  {
   "cell_type": "code",
   "execution_count": 19,
   "id": "60b924e6",
   "metadata": {
    "execution": {
     "iopub.execute_input": "2023-08-09T08:19:44.646512Z",
     "iopub.status.busy": "2023-08-09T08:19:44.646232Z",
     "iopub.status.idle": "2023-08-09T08:19:44.693894Z",
     "shell.execute_reply": "2023-08-09T08:19:44.693027Z",
     "shell.execute_reply.started": "2023-08-09T08:19:44.646487Z"
    },
    "tags": []
   },
   "outputs": [
    {
     "data": {
      "application/vnd.jupyter.widget-view+json": {
       "model_id": "27d7e94e2b1c42169070c6e7ad676317",
       "version_major": 2,
       "version_minor": 0
      },
      "text/plain": [
       "VBox()"
      ]
     },
     "metadata": {},
     "output_type": "display_data"
    },
    {
     "data": {
      "application/vnd.jupyter.widget-view+json": {
       "model_id": "",
       "version_major": 2,
       "version_minor": 0
      },
      "text/plain": [
       "FloatProgress(value=0.0, bar_style='info', description='Progress:', layout=Layout(height='25px', width='50%'),…"
      ]
     },
     "metadata": {},
     "output_type": "display_data"
    }
   ],
   "source": [
    "feature_cols = list(set(final.columns) - set([\"userId\", \"Cancel\", \"Cancellation Confirmation\", \"gender\"]))"
   ]
  },
  {
   "cell_type": "code",
   "execution_count": 20,
   "id": "b238419d",
   "metadata": {
    "execution": {
     "iopub.execute_input": "2023-08-09T08:19:44.695145Z",
     "iopub.status.busy": "2023-08-09T08:19:44.694907Z",
     "iopub.status.idle": "2023-08-09T08:19:44.744788Z",
     "shell.execute_reply": "2023-08-09T08:19:44.744109Z",
     "shell.execute_reply.started": "2023-08-09T08:19:44.695122Z"
    },
    "tags": []
   },
   "outputs": [
    {
     "data": {
      "application/vnd.jupyter.widget-view+json": {
       "model_id": "a1d77b048687443c854aca242d9181b9",
       "version_major": 2,
       "version_minor": 0
      },
      "text/plain": [
       "VBox()"
      ]
     },
     "metadata": {},
     "output_type": "display_data"
    },
    {
     "data": {
      "application/vnd.jupyter.widget-view+json": {
       "model_id": "",
       "version_major": 2,
       "version_minor": 0
      },
      "text/plain": [
       "FloatProgress(value=0.0, bar_style='info', description='Progress:', layout=Layout(height='25px', width='50%'),…"
      ]
     },
     "metadata": {},
     "output_type": "display_data"
    },
    {
     "name": "stdout",
     "output_type": "stream",
     "text": [
      "['Home', 'avg_session_length', 'Logout', 'Downgrade', 'Thumbs Down', 'Login', 'Help', 'Save Settings', 'Upgrade', 'Roll Advert', 'Submit Upgrade', 'Submit Registration', 'About', 'Error', 'Settings', 'Submit Downgrade', 'Register', 'Add Friend', 'Thumbs Up', 'Add to Playlist', 'genderIndexed', 'pages_per_day', 'NextSong']"
     ]
    }
   ],
   "source": [
    "feature_cols"
   ]
  },
  {
   "cell_type": "code",
   "execution_count": 21,
   "id": "83ecce25",
   "metadata": {
    "execution": {
     "iopub.execute_input": "2023-08-09T08:19:44.745931Z",
     "iopub.status.busy": "2023-08-09T08:19:44.745698Z",
     "iopub.status.idle": "2023-08-09T08:19:45.016312Z",
     "shell.execute_reply": "2023-08-09T08:19:45.015261Z",
     "shell.execute_reply.started": "2023-08-09T08:19:44.745908Z"
    },
    "tags": []
   },
   "outputs": [
    {
     "data": {
      "application/vnd.jupyter.widget-view+json": {
       "model_id": "97ab560eceea440cb8f5d9552e829df0",
       "version_major": 2,
       "version_minor": 0
      },
      "text/plain": [
       "VBox()"
      ]
     },
     "metadata": {},
     "output_type": "display_data"
    },
    {
     "data": {
      "application/vnd.jupyter.widget-view+json": {
       "model_id": "",
       "version_major": 2,
       "version_minor": 0
      },
      "text/plain": [
       "FloatProgress(value=0.0, bar_style='info', description='Progress:', layout=Layout(height='25px', width='50%'),…"
      ]
     },
     "metadata": {},
     "output_type": "display_data"
    },
    {
     "name": "stdout",
     "output_type": "stream",
     "text": [
      "VectorAssembler_3593eed58e19"
     ]
    }
   ],
   "source": [
    "vec_assembler = VectorAssembler(outputCol=\"features\")\n",
    "vec_assembler.setInputCols(feature_cols)"
   ]
  },
  {
   "cell_type": "code",
   "execution_count": 22,
   "id": "732521fb",
   "metadata": {
    "execution": {
     "iopub.execute_input": "2023-08-09T08:19:45.018005Z",
     "iopub.status.busy": "2023-08-09T08:19:45.017688Z",
     "iopub.status.idle": "2023-08-09T08:19:45.074337Z",
     "shell.execute_reply": "2023-08-09T08:19:45.073452Z",
     "shell.execute_reply.started": "2023-08-09T08:19:45.017974Z"
    },
    "tags": []
   },
   "outputs": [
    {
     "data": {
      "application/vnd.jupyter.widget-view+json": {
       "model_id": "ebe3b1e776934e35b6575e6db4890cac",
       "version_major": 2,
       "version_minor": 0
      },
      "text/plain": [
       "VBox()"
      ]
     },
     "metadata": {},
     "output_type": "display_data"
    },
    {
     "data": {
      "application/vnd.jupyter.widget-view+json": {
       "model_id": "",
       "version_major": 2,
       "version_minor": 0
      },
      "text/plain": [
       "FloatProgress(value=0.0, bar_style='info', description='Progress:', layout=Layout(height='25px', width='50%'),…"
      ]
     },
     "metadata": {},
     "output_type": "display_data"
    }
   ],
   "source": [
    "from pyspark.ml.classification import GBTClassifier"
   ]
  },
  {
   "cell_type": "code",
   "execution_count": 23,
   "id": "7286c888",
   "metadata": {
    "execution": {
     "iopub.execute_input": "2023-08-09T08:19:45.076066Z",
     "iopub.status.busy": "2023-08-09T08:19:45.075739Z",
     "iopub.status.idle": "2023-08-09T08:19:45.841173Z",
     "shell.execute_reply": "2023-08-09T08:19:45.840445Z",
     "shell.execute_reply.started": "2023-08-09T08:19:45.076030Z"
    },
    "tags": []
   },
   "outputs": [
    {
     "data": {
      "application/vnd.jupyter.widget-view+json": {
       "model_id": "7c19126a4cc748a197b7713d7d306496",
       "version_major": 2,
       "version_minor": 0
      },
      "text/plain": [
       "VBox()"
      ]
     },
     "metadata": {},
     "output_type": "display_data"
    },
    {
     "data": {
      "application/vnd.jupyter.widget-view+json": {
       "model_id": "",
       "version_major": 2,
       "version_minor": 0
      },
      "text/plain": [
       "FloatProgress(value=0.0, bar_style='info', description='Progress:', layout=Layout(height='25px', width='50%'),…"
      ]
     },
     "metadata": {},
     "output_type": "display_data"
    }
   ],
   "source": [
    "data = vec_assembler.transform(final).select(\"features\", final[\"Cancellation Confirmation\"].alias(\"label\"))"
   ]
  },
  {
   "cell_type": "code",
   "execution_count": 24,
   "id": "efc70b77-e181-4a71-bcff-191305c73ea0",
   "metadata": {
    "execution": {
     "iopub.execute_input": "2023-08-09T08:19:45.844530Z",
     "iopub.status.busy": "2023-08-09T08:19:45.844113Z",
     "iopub.status.idle": "2023-08-09T08:19:46.094745Z",
     "shell.execute_reply": "2023-08-09T08:19:46.093763Z",
     "shell.execute_reply.started": "2023-08-09T08:19:45.844492Z"
    }
   },
   "outputs": [
    {
     "data": {
      "application/vnd.jupyter.widget-view+json": {
       "model_id": "3135000f7efb486a8df19b2ecc635cbf",
       "version_major": 2,
       "version_minor": 0
      },
      "text/plain": [
       "VBox()"
      ]
     },
     "metadata": {},
     "output_type": "display_data"
    },
    {
     "data": {
      "application/vnd.jupyter.widget-view+json": {
       "model_id": "",
       "version_major": 2,
       "version_minor": 0
      },
      "text/plain": [
       "FloatProgress(value=0.0, bar_style='info', description='Progress:', layout=Layout(height='25px', width='50%'),…"
      ]
     },
     "metadata": {},
     "output_type": "display_data"
    }
   ],
   "source": [
    "# Split the data into training and test sets (30% held out for testing)\n",
    "(trainingData, testData) = data.randomSplit([0.7, 0.3])"
   ]
  },
  {
   "cell_type": "code",
   "execution_count": 87,
   "id": "516681e4",
   "metadata": {
    "execution": {
     "iopub.execute_input": "2023-08-08T12:41:28.568977Z",
     "iopub.status.busy": "2023-08-08T12:41:28.568757Z",
     "iopub.status.idle": "2023-08-08T12:44:56.887119Z",
     "shell.execute_reply": "2023-08-08T12:44:56.886017Z",
     "shell.execute_reply.started": "2023-08-08T12:41:28.568955Z"
    },
    "tags": []
   },
   "outputs": [
    {
     "data": {
      "application/vnd.jupyter.widget-view+json": {
       "model_id": "61bad4a4007946cea11ad2a3f0cb8a6e",
       "version_major": 2,
       "version_minor": 0
      },
      "text/plain": [
       "VBox()"
      ]
     },
     "metadata": {},
     "output_type": "display_data"
    },
    {
     "data": {
      "application/vnd.jupyter.widget-view+json": {
       "model_id": "",
       "version_major": 2,
       "version_minor": 0
      },
      "text/plain": [
       "FloatProgress(value=0.0, bar_style='info', description='Progress:', layout=Layout(height='25px', width='50%'),…"
      ]
     },
     "metadata": {},
     "output_type": "display_data"
    }
   ],
   "source": [
    "gbt = GBTClassifier(maxIter=5, maxDepth=5, labelCol=\"label\", seed=42,\n",
    "    leafCol=\"leafId\")\n",
    "\n",
    "model = gbt.fit(trainingData)"
   ]
  },
  {
   "cell_type": "code",
   "execution_count": 88,
   "id": "99e50c84",
   "metadata": {
    "execution": {
     "iopub.execute_input": "2023-08-08T12:44:56.888426Z",
     "iopub.status.busy": "2023-08-08T12:44:56.888160Z",
     "iopub.status.idle": "2023-08-08T12:44:57.177710Z",
     "shell.execute_reply": "2023-08-08T12:44:57.176999Z",
     "shell.execute_reply.started": "2023-08-08T12:44:56.888402Z"
    },
    "tags": []
   },
   "outputs": [
    {
     "data": {
      "application/vnd.jupyter.widget-view+json": {
       "model_id": "7f0bf47418dd41b390e4b528e0f5156c",
       "version_major": 2,
       "version_minor": 0
      },
      "text/plain": [
       "VBox()"
      ]
     },
     "metadata": {},
     "output_type": "display_data"
    },
    {
     "data": {
      "application/vnd.jupyter.widget-view+json": {
       "model_id": "",
       "version_major": 2,
       "version_minor": 0
      },
      "text/plain": [
       "FloatProgress(value=0.0, bar_style='info', description='Progress:', layout=Layout(height='25px', width='50%'),…"
      ]
     },
     "metadata": {},
     "output_type": "display_data"
    }
   ],
   "source": [
    "# Evaluate model on test instances and compute test error\n",
    "predictions = model.transform(testData)"
   ]
  },
  {
   "cell_type": "code",
   "execution_count": 89,
   "id": "4976fd40",
   "metadata": {
    "execution": {
     "iopub.execute_input": "2023-08-08T12:44:57.178986Z",
     "iopub.status.busy": "2023-08-08T12:44:57.178753Z",
     "iopub.status.idle": "2023-08-08T12:44:57.251353Z",
     "shell.execute_reply": "2023-08-08T12:44:57.250429Z",
     "shell.execute_reply.started": "2023-08-08T12:44:57.178957Z"
    },
    "tags": []
   },
   "outputs": [
    {
     "data": {
      "application/vnd.jupyter.widget-view+json": {
       "model_id": "70b7cb6c10ce49c8ba8a02005ed7996b",
       "version_major": 2,
       "version_minor": 0
      },
      "text/plain": [
       "VBox()"
      ]
     },
     "metadata": {},
     "output_type": "display_data"
    },
    {
     "data": {
      "application/vnd.jupyter.widget-view+json": {
       "model_id": "",
       "version_major": 2,
       "version_minor": 0
      },
      "text/plain": [
       "FloatProgress(value=0.0, bar_style='info', description='Progress:', layout=Layout(height='25px', width='50%'),…"
      ]
     },
     "metadata": {},
     "output_type": "display_data"
    }
   ],
   "source": [
    "from pyspark.sql.functions import when"
   ]
  },
  {
   "cell_type": "code",
   "execution_count": 90,
   "id": "826dcd82",
   "metadata": {
    "execution": {
     "iopub.execute_input": "2023-08-08T12:44:57.252758Z",
     "iopub.status.busy": "2023-08-08T12:44:57.252524Z",
     "iopub.status.idle": "2023-08-08T12:47:53.277175Z",
     "shell.execute_reply": "2023-08-08T12:47:53.276226Z",
     "shell.execute_reply.started": "2023-08-08T12:44:57.252736Z"
    },
    "tags": []
   },
   "outputs": [
    {
     "data": {
      "application/vnd.jupyter.widget-view+json": {
       "model_id": "f9fdbcb67c59401ba3be05c5b05610c0",
       "version_major": 2,
       "version_minor": 0
      },
      "text/plain": [
       "VBox()"
      ]
     },
     "metadata": {},
     "output_type": "display_data"
    },
    {
     "data": {
      "application/vnd.jupyter.widget-view+json": {
       "model_id": "",
       "version_major": 2,
       "version_minor": 0
      },
      "text/plain": [
       "FloatProgress(value=0.0, bar_style='info', description='Progress:', layout=Layout(height='25px', width='50%'),…"
      ]
     },
     "metadata": {},
     "output_type": "display_data"
    }
   ],
   "source": [
    "confusion_mat = predictions.select(\n",
    "    fsum(when(predictions.label + predictions.prediction == 0, 1).otherwise(0)).alias(\"TN\"),\n",
    "    fsum(when(predictions.label + predictions.prediction == 2, 1).otherwise(0)).alias(\"TP\"),\n",
    "    fsum(when(predictions.label > predictions.prediction, 1).otherwise(0)).alias(\"FN\"),\n",
    "    fsum(when(predictions.label < predictions.prediction, 1).otherwise(0)).alias(\"FP\")\n",
    ").collect()"
   ]
  },
  {
   "cell_type": "code",
   "execution_count": 91,
   "id": "62f8e30b",
   "metadata": {
    "execution": {
     "iopub.execute_input": "2023-08-08T12:47:53.278991Z",
     "iopub.status.busy": "2023-08-08T12:47:53.278632Z",
     "iopub.status.idle": "2023-08-08T12:47:53.335751Z",
     "shell.execute_reply": "2023-08-08T12:47:53.334696Z",
     "shell.execute_reply.started": "2023-08-08T12:47:53.278954Z"
    },
    "tags": []
   },
   "outputs": [
    {
     "data": {
      "application/vnd.jupyter.widget-view+json": {
       "model_id": "d28a211278c840169b70cf0c50e50b19",
       "version_major": 2,
       "version_minor": 0
      },
      "text/plain": [
       "VBox()"
      ]
     },
     "metadata": {},
     "output_type": "display_data"
    },
    {
     "data": {
      "application/vnd.jupyter.widget-view+json": {
       "model_id": "",
       "version_major": 2,
       "version_minor": 0
      },
      "text/plain": [
       "FloatProgress(value=0.0, bar_style='info', description='Progress:', layout=Layout(height='25px', width='50%'),…"
      ]
     },
     "metadata": {},
     "output_type": "display_data"
    },
    {
     "name": "stdout",
     "output_type": "stream",
     "text": [
      "(0.7926267281105991, 0.5702917771883289)"
     ]
    }
   ],
   "source": [
    "precision = confusion_mat[0][\"TP\"] / (confusion_mat[0][\"TP\"] + confusion_mat[0][\"FP\"])\n",
    "recall = confusion_mat[0][\"TP\"] / (confusion_mat[0][\"TP\"] + confusion_mat[0][\"FN\"])\n",
    "precision, recall"
   ]
  },
  {
   "cell_type": "markdown",
   "id": "9b70b595",
   "metadata": {},
   "source": [
    "Not the best results, let's try some cross validation and grid-searching."
   ]
  },
  {
   "cell_type": "code",
   "execution_count": 29,
   "id": "865c14d4-9c23-4311-a5e3-472c09f6a0c7",
   "metadata": {
    "execution": {
     "iopub.execute_input": "2023-08-09T08:21:21.801962Z",
     "iopub.status.busy": "2023-08-09T08:21:21.801495Z",
     "iopub.status.idle": "2023-08-09T08:21:21.866699Z",
     "shell.execute_reply": "2023-08-09T08:21:21.865849Z",
     "shell.execute_reply.started": "2023-08-09T08:21:21.801916Z"
    },
    "tags": []
   },
   "outputs": [
    {
     "data": {
      "application/vnd.jupyter.widget-view+json": {
       "model_id": "a9040d72cf41482cae5abb51fd6d41d3",
       "version_major": 2,
       "version_minor": 0
      },
      "text/plain": [
       "VBox()"
      ]
     },
     "metadata": {},
     "output_type": "display_data"
    },
    {
     "data": {
      "application/vnd.jupyter.widget-view+json": {
       "model_id": "",
       "version_major": 2,
       "version_minor": 0
      },
      "text/plain": [
       "FloatProgress(value=0.0, bar_style='info', description='Progress:', layout=Layout(height='25px', width='50%'),…"
      ]
     },
     "metadata": {},
     "output_type": "display_data"
    }
   ],
   "source": [
    "from pyspark.ml.evaluation import BinaryClassificationEvaluator\n",
    "from pyspark.ml.tuning import CrossValidator, ParamGridBuilder, CrossValidatorModel"
   ]
  },
  {
   "cell_type": "code",
   "execution_count": 92,
   "id": "34cffb3a",
   "metadata": {
    "execution": {
     "iopub.execute_input": "2023-08-08T12:52:17.516993Z",
     "iopub.status.busy": "2023-08-08T12:52:17.516667Z",
     "iopub.status.idle": "2023-08-08T14:21:29.185573Z",
     "shell.execute_reply": "2023-08-08T14:21:29.184819Z",
     "shell.execute_reply.started": "2023-08-08T12:52:17.516945Z"
    },
    "tags": []
   },
   "outputs": [
    {
     "data": {
      "application/vnd.jupyter.widget-view+json": {
       "model_id": "3dd88b0fea1a4579a4b752dd15672bc5",
       "version_major": 2,
       "version_minor": 0
      },
      "text/plain": [
       "VBox()"
      ]
     },
     "metadata": {},
     "output_type": "display_data"
    },
    {
     "data": {
      "application/vnd.jupyter.widget-view+json": {
       "model_id": "",
       "version_major": 2,
       "version_minor": 0
      },
      "text/plain": [
       "FloatProgress(value=0.0, bar_style='info', description='Progress:', layout=Layout(height='25px', width='50%'),…"
      ]
     },
     "metadata": {},
     "output_type": "display_data"
    },
    {
     "name": "stderr",
     "output_type": "stream",
     "text": [
      "Exception in thread cell_monitor-92:\n",
      "Traceback (most recent call last):\n",
      "  File \"/mnt/notebook-env/lib/python3.7/threading.py\", line 926, in _bootstrap_inner\n",
      "    self.run()\n",
      "  File \"/mnt/notebook-env/lib/python3.7/threading.py\", line 870, in run\n",
      "    self._target(*self._args, **self._kwargs)\n",
      "  File \"/mnt/notebook-env/lib/python3.7/site-packages/awseditorssparkmonitoringwidget-1.0-py3.7.egg/awseditorssparkmonitoringwidget/cellmonitor.py\", line 178, in cell_monitor\n",
      "    job_binned_stages[job_id][stage_id] = all_stages[stage_id]\n",
      "KeyError: 3511\n",
      "\n"
     ]
    }
   ],
   "source": [
    "gbt = GBTClassifier(maxIter=5, maxDepth=5, labelCol=\"label\", leafCol=\"leafId\")\n",
    "grid = ParamGridBuilder() \\\n",
    "    .addGrid(gbt.maxIter, [5, 10, 50]) \\\n",
    "    .addGrid(gbt.maxDepth, [2, 5, 10]) \\\n",
    "    .build()\n",
    "evaluator = BinaryClassificationEvaluator()\n",
    "cv = CrossValidator(estimator=gbt, estimatorParamMaps=grid, evaluator=evaluator)\n",
    "\n",
    "cvModel = cv.fit(trainingData)"
   ]
  },
  {
   "cell_type": "code",
   "execution_count": 93,
   "id": "6b1690a1",
   "metadata": {
    "execution": {
     "iopub.execute_input": "2023-08-08T15:26:26.874768Z",
     "iopub.status.busy": "2023-08-08T15:26:26.874451Z",
     "iopub.status.idle": "2023-08-08T15:26:26.919964Z",
     "shell.execute_reply": "2023-08-08T15:26:26.919260Z",
     "shell.execute_reply.started": "2023-08-08T15:26:26.874742Z"
    },
    "tags": []
   },
   "outputs": [
    {
     "data": {
      "application/vnd.jupyter.widget-view+json": {
       "model_id": "fa5dbd75b62a42c181371ea3cb9ee327",
       "version_major": 2,
       "version_minor": 0
      },
      "text/plain": [
       "VBox()"
      ]
     },
     "metadata": {},
     "output_type": "display_data"
    },
    {
     "data": {
      "application/vnd.jupyter.widget-view+json": {
       "model_id": "",
       "version_major": 2,
       "version_minor": 0
      },
      "text/plain": [
       "FloatProgress(value=0.0, bar_style='info', description='Progress:', layout=Layout(height='25px', width='50%'),…"
      ]
     },
     "metadata": {},
     "output_type": "display_data"
    },
    {
     "name": "stdout",
     "output_type": "stream",
     "text": [
      "5"
     ]
    }
   ],
   "source": [
    "cvModel.bestModel.getMaxDepth()"
   ]
  },
  {
   "cell_type": "code",
   "execution_count": 94,
   "id": "0dca1888",
   "metadata": {
    "execution": {
     "iopub.execute_input": "2023-08-08T15:26:29.132646Z",
     "iopub.status.busy": "2023-08-08T15:26:29.132348Z",
     "iopub.status.idle": "2023-08-08T15:26:29.184286Z",
     "shell.execute_reply": "2023-08-08T15:26:29.182777Z",
     "shell.execute_reply.started": "2023-08-08T15:26:29.132620Z"
    },
    "tags": []
   },
   "outputs": [
    {
     "data": {
      "application/vnd.jupyter.widget-view+json": {
       "model_id": "4f02257b2bee4dc7a4bb15e9cdf7e7c5",
       "version_major": 2,
       "version_minor": 0
      },
      "text/plain": [
       "VBox()"
      ]
     },
     "metadata": {},
     "output_type": "display_data"
    },
    {
     "data": {
      "application/vnd.jupyter.widget-view+json": {
       "model_id": "",
       "version_major": 2,
       "version_minor": 0
      },
      "text/plain": [
       "FloatProgress(value=0.0, bar_style='info', description='Progress:', layout=Layout(height='25px', width='50%'),…"
      ]
     },
     "metadata": {},
     "output_type": "display_data"
    },
    {
     "name": "stdout",
     "output_type": "stream",
     "text": [
      "50"
     ]
    }
   ],
   "source": [
    "cvModel.bestModel.getMaxIter()"
   ]
  },
  {
   "cell_type": "markdown",
   "id": "f83a9601",
   "metadata": {},
   "source": [
    "Much better scores after CV."
   ]
  },
  {
   "cell_type": "code",
   "execution_count": 95,
   "id": "e1a690bd",
   "metadata": {
    "execution": {
     "iopub.execute_input": "2023-08-08T15:26:35.133510Z",
     "iopub.status.busy": "2023-08-08T15:26:35.133207Z",
     "iopub.status.idle": "2023-08-08T15:29:41.293334Z",
     "shell.execute_reply": "2023-08-08T15:29:41.292299Z",
     "shell.execute_reply.started": "2023-08-08T15:26:35.133484Z"
    },
    "tags": []
   },
   "outputs": [
    {
     "data": {
      "application/vnd.jupyter.widget-view+json": {
       "model_id": "7f8489bb10b84cb9b3ffc4ecc310f6b3",
       "version_major": 2,
       "version_minor": 0
      },
      "text/plain": [
       "VBox()"
      ]
     },
     "metadata": {},
     "output_type": "display_data"
    },
    {
     "data": {
      "application/vnd.jupyter.widget-view+json": {
       "model_id": "",
       "version_major": 2,
       "version_minor": 0
      },
      "text/plain": [
       "FloatProgress(value=0.0, bar_style='info', description='Progress:', layout=Layout(height='25px', width='50%'),…"
      ]
     },
     "metadata": {},
     "output_type": "display_data"
    },
    {
     "name": "stdout",
     "output_type": "stream",
     "text": [
      "(0.8353140916808149, 0.6525198938992043)"
     ]
    }
   ],
   "source": [
    "# Evaluate model on test instances and compute test error\n",
    "predictions = cvModel.bestModel.transform(testData)\n",
    "confusion_mat = predictions.select(\n",
    "    fsum(when(predictions.label + predictions.prediction == 0, 1).otherwise(0)).alias(\"TN\"),\n",
    "    fsum(when(predictions.label + predictions.prediction == 2, 1).otherwise(0)).alias(\"TP\"),\n",
    "    fsum(when(predictions.label > predictions.prediction, 1).otherwise(0)).alias(\"FN\"),\n",
    "    fsum(when(predictions.label < predictions.prediction, 1).otherwise(0)).alias(\"FP\")\n",
    ").collect()\n",
    "precision = confusion_mat[0][\"TP\"] / (confusion_mat[0][\"TP\"] + confusion_mat[0][\"FP\"])\n",
    "recall = confusion_mat[0][\"TP\"] / (confusion_mat[0][\"TP\"] + confusion_mat[0][\"FN\"])\n",
    "precision, recall"
   ]
  },
  {
   "cell_type": "code",
   "execution_count": 30,
   "id": "b7e1b098-4ceb-4afd-abb5-75807d823c7a",
   "metadata": {
    "execution": {
     "iopub.execute_input": "2023-08-09T08:21:32.678320Z",
     "iopub.status.busy": "2023-08-09T08:21:32.677984Z",
     "iopub.status.idle": "2023-08-09T10:10:57.861864Z",
     "shell.execute_reply": "2023-08-09T10:10:57.861169Z",
     "shell.execute_reply.started": "2023-08-09T08:21:32.678262Z"
    },
    "tags": []
   },
   "outputs": [
    {
     "data": {
      "application/vnd.jupyter.widget-view+json": {
       "model_id": "53e1dbbd63fc46658ab33534e1f73b98",
       "version_major": 2,
       "version_minor": 0
      },
      "text/plain": [
       "VBox()"
      ]
     },
     "metadata": {},
     "output_type": "display_data"
    },
    {
     "data": {
      "application/vnd.jupyter.widget-view+json": {
       "model_id": "",
       "version_major": 2,
       "version_minor": 0
      },
      "text/plain": [
       "FloatProgress(value=0.0, bar_style='info', description='Progress:', layout=Layout(height='25px', width='50%'),…"
      ]
     },
     "metadata": {},
     "output_type": "display_data"
    },
    {
     "name": "stderr",
     "output_type": "stream",
     "text": [
      "Exception in thread cell_monitor-29:\n",
      "Traceback (most recent call last):\n",
      "  File \"/mnt/notebook-env/lib/python3.7/threading.py\", line 926, in _bootstrap_inner\n",
      "    self.run()\n",
      "  File \"/mnt/notebook-env/lib/python3.7/threading.py\", line 870, in run\n",
      "    self._target(*self._args, **self._kwargs)\n",
      "  File \"/mnt/notebook-env/lib/python3.7/site-packages/awseditorssparkmonitoringwidget-1.0-py3.7.egg/awseditorssparkmonitoringwidget/cellmonitor.py\", line 154, in cell_monitor\n",
      "    job_group_filtered_jobs = [job for job in jobs_data if job['jobGroup'] == str(statement_id)]\n",
      "  File \"/mnt/notebook-env/lib/python3.7/site-packages/awseditorssparkmonitoringwidget-1.0-py3.7.egg/awseditorssparkmonitoringwidget/cellmonitor.py\", line 154, in <listcomp>\n",
      "    job_group_filtered_jobs = [job for job in jobs_data if job['jobGroup'] == str(statement_id)]\n",
      "KeyError: 'jobGroup'\n",
      "\n"
     ]
    }
   ],
   "source": [
    "gbt = GBTClassifier(maxIter=5, maxDepth=5, labelCol=\"label\", leafCol=\"leafId\")\n",
    "grid = ParamGridBuilder() \\\n",
    "    .addGrid(gbt.maxIter, [50, 75, 100]) \\\n",
    "    .addGrid(gbt.maxDepth, [4, 5, 6]) \\\n",
    "    .build()\n",
    "evaluator = BinaryClassificationEvaluator()\n",
    "cv = CrossValidator(estimator=gbt, estimatorParamMaps=grid, evaluator=evaluator, parallelism=9)\n",
    "\n",
    "cvModel = cv.fit(trainingData)"
   ]
  },
  {
   "cell_type": "code",
   "execution_count": 31,
   "id": "eaaf1d80-8616-4b9a-a2cc-83b2d5109c83",
   "metadata": {
    "execution": {
     "iopub.execute_input": "2023-08-09T10:10:57.863352Z",
     "iopub.status.busy": "2023-08-09T10:10:57.863118Z",
     "iopub.status.idle": "2023-08-09T10:10:57.904570Z",
     "shell.execute_reply": "2023-08-09T10:10:57.903755Z",
     "shell.execute_reply.started": "2023-08-09T10:10:57.863328Z"
    },
    "tags": []
   },
   "outputs": [
    {
     "data": {
      "application/vnd.jupyter.widget-view+json": {
       "model_id": "c983de6c46174d50bc0fa1779bdc4670",
       "version_major": 2,
       "version_minor": 0
      },
      "text/plain": [
       "VBox()"
      ]
     },
     "metadata": {},
     "output_type": "display_data"
    },
    {
     "data": {
      "application/vnd.jupyter.widget-view+json": {
       "model_id": "",
       "version_major": 2,
       "version_minor": 0
      },
      "text/plain": [
       "FloatProgress(value=0.0, bar_style='info', description='Progress:', layout=Layout(height='25px', width='50%'),…"
      ]
     },
     "metadata": {},
     "output_type": "display_data"
    },
    {
     "name": "stdout",
     "output_type": "stream",
     "text": [
      "4"
     ]
    }
   ],
   "source": [
    "cvModel.bestModel.getMaxDepth()"
   ]
  },
  {
   "cell_type": "code",
   "execution_count": 32,
   "id": "35419f94-d257-4339-a93f-02672fffd3a2",
   "metadata": {
    "execution": {
     "iopub.execute_input": "2023-08-09T10:10:57.906804Z",
     "iopub.status.busy": "2023-08-09T10:10:57.906474Z",
     "iopub.status.idle": "2023-08-09T10:10:57.959735Z",
     "shell.execute_reply": "2023-08-09T10:10:57.959066Z",
     "shell.execute_reply.started": "2023-08-09T10:10:57.906767Z"
    },
    "tags": []
   },
   "outputs": [
    {
     "data": {
      "application/vnd.jupyter.widget-view+json": {
       "model_id": "018d4a290fa247f3a4f68cdfd57baaa0",
       "version_major": 2,
       "version_minor": 0
      },
      "text/plain": [
       "VBox()"
      ]
     },
     "metadata": {},
     "output_type": "display_data"
    },
    {
     "name": "stderr",
     "output_type": "stream",
     "text": [
      "Exception in thread cell_monitor-30:\n",
      "Traceback (most recent call last):\n",
      "  File \"/mnt/notebook-env/lib/python3.7/threading.py\", line 926, in _bootstrap_inner\n",
      "    self.run()\n",
      "  File \"/mnt/notebook-env/lib/python3.7/threading.py\", line 870, in run\n",
      "    self._target(*self._args, **self._kwargs)\n",
      "  File \"/mnt/notebook-env/lib/python3.7/site-packages/awseditorssparkmonitoringwidget-1.0-py3.7.egg/awseditorssparkmonitoringwidget/cellmonitor.py\", line 154, in cell_monitor\n",
      "    job_group_filtered_jobs = [job for job in jobs_data if job['jobGroup'] == str(statement_id)]\n",
      "  File \"/mnt/notebook-env/lib/python3.7/site-packages/awseditorssparkmonitoringwidget-1.0-py3.7.egg/awseditorssparkmonitoringwidget/cellmonitor.py\", line 154, in <listcomp>\n",
      "    job_group_filtered_jobs = [job for job in jobs_data if job['jobGroup'] == str(statement_id)]\n",
      "KeyError: 'jobGroup'\n",
      "\n"
     ]
    },
    {
     "data": {
      "application/vnd.jupyter.widget-view+json": {
       "model_id": "",
       "version_major": 2,
       "version_minor": 0
      },
      "text/plain": [
       "FloatProgress(value=0.0, bar_style='info', description='Progress:', layout=Layout(height='25px', width='50%'),…"
      ]
     },
     "metadata": {},
     "output_type": "display_data"
    },
    {
     "name": "stdout",
     "output_type": "stream",
     "text": [
      "100"
     ]
    }
   ],
   "source": [
    "cvModel.bestModel.getMaxIter()"
   ]
  },
  {
   "cell_type": "code",
   "execution_count": 34,
   "id": "c82ba181-b3ef-459f-ba48-7d36e2dca36b",
   "metadata": {
    "execution": {
     "iopub.execute_input": "2023-08-09T11:39:57.832287Z",
     "iopub.status.busy": "2023-08-09T11:39:57.831922Z",
     "iopub.status.idle": "2023-08-09T11:39:57.869949Z",
     "shell.execute_reply": "2023-08-09T11:39:57.869303Z",
     "shell.execute_reply.started": "2023-08-09T11:39:57.832252Z"
    }
   },
   "outputs": [
    {
     "data": {
      "application/vnd.jupyter.widget-view+json": {
       "model_id": "c459c88ac5ba488b99e7566ad5ee136f",
       "version_major": 2,
       "version_minor": 0
      },
      "text/plain": [
       "VBox()"
      ]
     },
     "metadata": {},
     "output_type": "display_data"
    },
    {
     "data": {
      "application/vnd.jupyter.widget-view+json": {
       "model_id": "",
       "version_major": 2,
       "version_minor": 0
      },
      "text/plain": [
       "FloatProgress(value=0.0, bar_style='info', description='Progress:', layout=Layout(height='25px', width='50%'),…"
      ]
     },
     "metadata": {},
     "output_type": "display_data"
    }
   ],
   "source": [
    "from pyspark.sql.functions import when"
   ]
  },
  {
   "cell_type": "code",
   "execution_count": 43,
   "id": "7e362e4c-2a31-46a6-af4e-db9d63638613",
   "metadata": {
    "execution": {
     "iopub.execute_input": "2023-08-09T12:57:25.481603Z",
     "iopub.status.busy": "2023-08-09T12:57:25.481291Z",
     "iopub.status.idle": "2023-08-09T12:57:25.725278Z",
     "shell.execute_reply": "2023-08-09T12:57:25.724464Z",
     "shell.execute_reply.started": "2023-08-09T12:57:25.481575Z"
    },
    "tags": []
   },
   "outputs": [
    {
     "data": {
      "application/vnd.jupyter.widget-view+json": {
       "model_id": "0c874b8856f74a769a744e8008feafe7",
       "version_major": 2,
       "version_minor": 0
      },
      "text/plain": [
       "VBox()"
      ]
     },
     "metadata": {},
     "output_type": "display_data"
    },
    {
     "data": {
      "application/vnd.jupyter.widget-view+json": {
       "model_id": "",
       "version_major": 2,
       "version_minor": 0
      },
      "text/plain": [
       "FloatProgress(value=0.0, bar_style='info', description='Progress:', layout=Layout(height='25px', width='50%'),…"
      ]
     },
     "metadata": {},
     "output_type": "display_data"
    },
    {
     "name": "stderr",
     "output_type": "stream",
     "text": [
      "Exception in thread cell_monitor-42:\n",
      "Traceback (most recent call last):\n",
      "  File \"/mnt/notebook-env/lib/python3.7/threading.py\", line 926, in _bootstrap_inner\n",
      "    self.run()\n",
      "  File \"/mnt/notebook-env/lib/python3.7/threading.py\", line 870, in run\n",
      "    self._target(*self._args, **self._kwargs)\n",
      "  File \"/mnt/notebook-env/lib/python3.7/site-packages/awseditorssparkmonitoringwidget-1.0-py3.7.egg/awseditorssparkmonitoringwidget/cellmonitor.py\", line 154, in cell_monitor\n",
      "    job_group_filtered_jobs = [job for job in jobs_data if job['jobGroup'] == str(statement_id)]\n",
      "  File \"/mnt/notebook-env/lib/python3.7/site-packages/awseditorssparkmonitoringwidget-1.0-py3.7.egg/awseditorssparkmonitoringwidget/cellmonitor.py\", line 154, in <listcomp>\n",
      "    job_group_filtered_jobs = [job for job in jobs_data if job['jobGroup'] == str(statement_id)]\n",
      "KeyError: 'jobGroup'\n",
      "\n"
     ]
    }
   ],
   "source": [
    "# Evaluate model on test instances and compute test error\n",
    "predictions = cvModel.bestModel.transform(testData)"
   ]
  },
  {
   "cell_type": "code",
   "execution_count": null,
   "id": "23b90c65-3ebf-4aa0-b447-a2917f1fc420",
   "metadata": {},
   "outputs": [
    {
     "name": "stderr",
     "output_type": "stream",
     "text": [
      "Exception in thread cell_monitor-33:\n",
      "Traceback (most recent call last):\n",
      "  File \"/mnt/notebook-env/lib/python3.7/threading.py\", line 926, in _bootstrap_inner\n",
      "    self.run()\n",
      "  File \"/mnt/notebook-env/lib/python3.7/threading.py\", line 870, in run\n",
      "    self._target(*self._args, **self._kwargs)\n",
      "  File \"/mnt/notebook-env/lib/python3.7/site-packages/awseditorssparkmonitoringwidget-1.0-py3.7.egg/awseditorssparkmonitoringwidget/cellmonitor.py\", line 154, in cell_monitor\n",
      "    job_group_filtered_jobs = [job for job in jobs_data if job['jobGroup'] == str(statement_id)]\n",
      "  File \"/mnt/notebook-env/lib/python3.7/site-packages/awseditorssparkmonitoringwidget-1.0-py3.7.egg/awseditorssparkmonitoringwidget/cellmonitor.py\", line 154, in <listcomp>\n",
      "    job_group_filtered_jobs = [job for job in jobs_data if job['jobGroup'] == str(statement_id)]\n",
      "KeyError: 'jobGroup'\n",
      "\n"
     ]
    },
    {
     "data": {
      "application/vnd.jupyter.widget-view+json": {
       "model_id": "",
       "version_major": 2,
       "version_minor": 0
      },
      "text/plain": [
       "VBox()"
      ]
     },
     "metadata": {},
     "output_type": "display_data"
    },
    {
     "data": {
      "application/vnd.jupyter.widget-view+json": {
       "model_id": "",
       "version_major": 2,
       "version_minor": 0
      },
      "text/plain": [
       "FloatProgress(value=0.0, bar_style='info', description='Progress:', layout=Layout(height='25px', width='50%'),…"
      ]
     },
     "metadata": {},
     "output_type": "display_data"
    },
    {
     "name": "stderr",
     "output_type": "stream",
     "text": [
      "Exception in thread cell_monitor-34:\n",
      "Traceback (most recent call last):\n",
      "  File \"/mnt/notebook-env/lib/python3.7/threading.py\", line 926, in _bootstrap_inner\n",
      "    self.run()\n",
      "  File \"/mnt/notebook-env/lib/python3.7/threading.py\", line 870, in run\n",
      "    self._target(*self._args, **self._kwargs)\n",
      "  File \"/mnt/notebook-env/lib/python3.7/site-packages/awseditorssparkmonitoringwidget-1.0-py3.7.egg/awseditorssparkmonitoringwidget/cellmonitor.py\", line 154, in cell_monitor\n",
      "    job_group_filtered_jobs = [job for job in jobs_data if job['jobGroup'] == str(statement_id)]\n",
      "  File \"/mnt/notebook-env/lib/python3.7/site-packages/awseditorssparkmonitoringwidget-1.0-py3.7.egg/awseditorssparkmonitoringwidget/cellmonitor.py\", line 154, in <listcomp>\n",
      "    job_group_filtered_jobs = [job for job in jobs_data if job['jobGroup'] == str(statement_id)]\n",
      "KeyError: 'jobGroup'\n",
      "\n"
     ]
    },
    {
     "name": "stdout",
     "output_type": "stream",
     "text": [
      "(0.8694835680751174, 0.6144658261446583)"
     ]
    }
   ],
   "source": [
    "confusion_mat = predictions.select(\n",
    "    fsum(when(predictions.label + predictions.prediction == 0, 1).otherwise(0)).alias(\"TN\"),\n",
    "    fsum(when(predictions.label + predictions.prediction == 2, 1).otherwise(0)).alias(\"TP\"),\n",
    "    fsum(when(predictions.label > predictions.prediction, 1).otherwise(0)).alias(\"FN\"),\n",
    "    fsum(when(predictions.label < predictions.prediction, 1).otherwise(0)).alias(\"FP\")\n",
    ").collect()\n",
    "precision = confusion_mat[0][\"TP\"] / (confusion_mat[0][\"TP\"] + confusion_mat[0][\"FP\"])\n",
    "recall = confusion_mat[0][\"TP\"] / (confusion_mat[0][\"TP\"] + confusion_mat[0][\"FN\"])\n",
    "precision, recall"
   ]
  },
  {
   "cell_type": "markdown",
   "id": "5927834b-cd73-42c6-9513-d2830045079a",
   "metadata": {},
   "source": [
    "Better precision, but slightly worse recall. The model is likely better overall, but let's tune the threshold to try to get better recall. Let's convert the predictions into a pandas dataframe for easy calculation."
   ]
  },
  {
   "cell_type": "code",
   "execution_count": 50,
   "id": "76244a23-10d1-42e6-bf8e-04ef8a666852",
   "metadata": {
    "execution": {
     "iopub.execute_input": "2023-08-09T13:12:50.266069Z",
     "iopub.status.busy": "2023-08-09T13:12:50.265722Z",
     "iopub.status.idle": "2023-08-09T13:15:58.319003Z",
     "shell.execute_reply": "2023-08-09T13:15:58.318240Z",
     "shell.execute_reply.started": "2023-08-09T13:12:50.266032Z"
    },
    "tags": []
   },
   "outputs": [
    {
     "data": {
      "application/vnd.jupyter.widget-view+json": {
       "model_id": "15ce8c1b57e44dc1a499c82bbea5a738",
       "version_major": 2,
       "version_minor": 0
      },
      "text/plain": [
       "VBox()"
      ]
     },
     "metadata": {},
     "output_type": "display_data"
    },
    {
     "data": {
      "application/vnd.jupyter.widget-view+json": {
       "model_id": "",
       "version_major": 2,
       "version_minor": 0
      },
      "text/plain": [
       "FloatProgress(value=0.0, bar_style='info', description='Progress:', layout=Layout(height='25px', width='50%'),…"
      ]
     },
     "metadata": {},
     "output_type": "display_data"
    },
    {
     "name": "stderr",
     "output_type": "stream",
     "text": [
      "Exception in thread cell_monitor-49:\n",
      "Traceback (most recent call last):\n",
      "  File \"/mnt/notebook-env/lib/python3.7/threading.py\", line 926, in _bootstrap_inner\n",
      "    self.run()\n",
      "  File \"/mnt/notebook-env/lib/python3.7/threading.py\", line 870, in run\n",
      "    self._target(*self._args, **self._kwargs)\n",
      "  File \"/mnt/notebook-env/lib/python3.7/site-packages/awseditorssparkmonitoringwidget-1.0-py3.7.egg/awseditorssparkmonitoringwidget/cellmonitor.py\", line 154, in cell_monitor\n",
      "    job_group_filtered_jobs = [job for job in jobs_data if job['jobGroup'] == str(statement_id)]\n",
      "  File \"/mnt/notebook-env/lib/python3.7/site-packages/awseditorssparkmonitoringwidget-1.0-py3.7.egg/awseditorssparkmonitoringwidget/cellmonitor.py\", line 154, in <listcomp>\n",
      "    job_group_filtered_jobs = [job for job in jobs_data if job['jobGroup'] == str(statement_id)]\n",
      "KeyError: 'jobGroup'\n",
      "\n"
     ]
    }
   ],
   "source": [
    "predictions_df = predictions.toPandas()"
   ]
  },
  {
   "cell_type": "code",
   "execution_count": 55,
   "id": "02fcd0e4-da47-4bad-8c8b-5fb3239a6263",
   "metadata": {
    "execution": {
     "iopub.execute_input": "2023-08-09T13:16:40.054058Z",
     "iopub.status.busy": "2023-08-09T13:16:40.053752Z",
     "iopub.status.idle": "2023-08-09T13:16:40.094064Z",
     "shell.execute_reply": "2023-08-09T13:16:40.093413Z",
     "shell.execute_reply.started": "2023-08-09T13:16:40.054033Z"
    },
    "tags": []
   },
   "outputs": [
    {
     "data": {
      "application/vnd.jupyter.widget-view+json": {
       "model_id": "2e945828e48641b1ac6601ccd7ff7c92",
       "version_major": 2,
       "version_minor": 0
      },
      "text/plain": [
       "VBox()"
      ]
     },
     "metadata": {},
     "output_type": "display_data"
    },
    {
     "data": {
      "application/vnd.jupyter.widget-view+json": {
       "model_id": "",
       "version_major": 2,
       "version_minor": 0
      },
      "text/plain": [
       "FloatProgress(value=0.0, bar_style='info', description='Progress:', layout=Layout(height='25px', width='50%'),…"
      ]
     },
     "metadata": {},
     "output_type": "display_data"
    },
    {
     "name": "stdout",
     "output_type": "stream",
     "text": [
      "['features', 'label', 'rawPrediction', 'probability', 'prediction', 'leafId']"
     ]
    },
    {
     "name": "stderr",
     "output_type": "stream",
     "text": [
      "Exception in thread cell_monitor-54:\n",
      "Traceback (most recent call last):\n",
      "  File \"/mnt/notebook-env/lib/python3.7/threading.py\", line 926, in _bootstrap_inner\n",
      "    self.run()\n",
      "  File \"/mnt/notebook-env/lib/python3.7/threading.py\", line 870, in run\n",
      "    self._target(*self._args, **self._kwargs)\n",
      "  File \"/mnt/notebook-env/lib/python3.7/site-packages/awseditorssparkmonitoringwidget-1.0-py3.7.egg/awseditorssparkmonitoringwidget/cellmonitor.py\", line 154, in cell_monitor\n",
      "    job_group_filtered_jobs = [job for job in jobs_data if job['jobGroup'] == str(statement_id)]\n",
      "  File \"/mnt/notebook-env/lib/python3.7/site-packages/awseditorssparkmonitoringwidget-1.0-py3.7.egg/awseditorssparkmonitoringwidget/cellmonitor.py\", line 154, in <listcomp>\n",
      "    job_group_filtered_jobs = [job for job in jobs_data if job['jobGroup'] == str(statement_id)]\n",
      "KeyError: 'jobGroup'\n",
      "\n"
     ]
    }
   ],
   "source": [
    "predictions.columns"
   ]
  },
  {
   "cell_type": "code",
   "execution_count": 88,
   "id": "f58d4947-ac3b-44fb-a255-2ca2e503d2a5",
   "metadata": {
    "collapsed": true,
    "execution": {
     "iopub.execute_input": "2023-08-09T13:31:37.573809Z",
     "iopub.status.busy": "2023-08-09T13:31:37.573486Z",
     "iopub.status.idle": "2023-08-09T13:31:37.818502Z",
     "shell.execute_reply": "2023-08-09T13:31:37.817601Z",
     "shell.execute_reply.started": "2023-08-09T13:31:37.573779Z"
    },
    "tags": []
   },
   "outputs": [
    {
     "data": {
      "application/vnd.jupyter.widget-view+json": {
       "model_id": "919a6dea346246ce8ccb43ce47adca7d",
       "version_major": 2,
       "version_minor": 0
      },
      "text/plain": [
       "VBox()"
      ]
     },
     "metadata": {},
     "output_type": "display_data"
    },
    {
     "data": {
      "application/vnd.jupyter.widget-view+json": {
       "model_id": "",
       "version_major": 2,
       "version_minor": 0
      },
      "text/plain": [
       "FloatProgress(value=0.0, bar_style='info', description='Progress:', layout=Layout(height='25px', width='50%'),…"
      ]
     },
     "metadata": {},
     "output_type": "display_data"
    },
    {
     "name": "stderr",
     "output_type": "stream",
     "text": [
      "Exception in thread cell_monitor-87:\n",
      "Traceback (most recent call last):\n",
      "  File \"/mnt/notebook-env/lib/python3.7/threading.py\", line 926, in _bootstrap_inner\n",
      "    self.run()\n",
      "  File \"/mnt/notebook-env/lib/python3.7/threading.py\", line 870, in run\n",
      "    self._target(*self._args, **self._kwargs)\n",
      "  File \"/mnt/notebook-env/lib/python3.7/site-packages/awseditorssparkmonitoringwidget-1.0-py3.7.egg/awseditorssparkmonitoringwidget/cellmonitor.py\", line 154, in cell_monitor\n",
      "    job_group_filtered_jobs = [job for job in jobs_data if job['jobGroup'] == str(statement_id)]\n",
      "  File \"/mnt/notebook-env/lib/python3.7/site-packages/awseditorssparkmonitoringwidget-1.0-py3.7.egg/awseditorssparkmonitoringwidget/cellmonitor.py\", line 154, in <listcomp>\n",
      "    job_group_filtered_jobs = [job for job in jobs_data if job['jobGroup'] == str(statement_id)]\n",
      "KeyError: 'jobGroup'\n",
      "\n"
     ]
    }
   ],
   "source": [
    "import numpy as np\n",
    "thresholds = np.linspace(0.15, 0.3, 100)\n",
    "raw_probs = np.stack(predictions_df[\"probability\"].map(lambda x: x.toArray()).values)[:, 1]\n",
    "results = {\"precision\": [], \"recall\": [], \"threshold\": []}\n",
    "for i in list(thresholds):\n",
    "    preds = raw_probs > i\n",
    "    tn = (preds + predictions_df[\"label\"] == 0).sum()\n",
    "    tp = (preds + predictions_df[\"label\"] == 2).sum()\n",
    "    fn = (preds < predictions_df[\"label\"]).sum()\n",
    "    fp = (preds > predictions_df[\"label\"]).sum()\n",
    "    precision = tp / (tp+fp)\n",
    "    recall = tp / (tp+fn)\n",
    "    results[\"threshold\"].append(i)\n",
    "    results[\"precision\"].append(precision)\n",
    "    results[\"recall\"].append(recall)"
   ]
  },
  {
   "cell_type": "code",
   "execution_count": 94,
   "id": "1446ebf1-cc40-496b-8aa0-5363fde92786",
   "metadata": {
    "execution": {
     "iopub.execute_input": "2023-08-09T13:35:23.596733Z",
     "iopub.status.busy": "2023-08-09T13:35:23.596423Z",
     "iopub.status.idle": "2023-08-09T13:35:23.641538Z",
     "shell.execute_reply": "2023-08-09T13:35:23.640715Z",
     "shell.execute_reply.started": "2023-08-09T13:35:23.596706Z"
    },
    "tags": []
   },
   "outputs": [
    {
     "data": {
      "application/vnd.jupyter.widget-view+json": {
       "model_id": "b3f99856c3c24c0bb37e1309c6646d60",
       "version_major": 2,
       "version_minor": 0
      },
      "text/plain": [
       "VBox()"
      ]
     },
     "metadata": {},
     "output_type": "display_data"
    },
    {
     "data": {
      "application/vnd.jupyter.widget-view+json": {
       "model_id": "",
       "version_major": 2,
       "version_minor": 0
      },
      "text/plain": [
       "FloatProgress(value=0.0, bar_style='info', description='Progress:', layout=Layout(height='25px', width='50%'),…"
      ]
     },
     "metadata": {},
     "output_type": "display_data"
    },
    {
     "name": "stdout",
     "output_type": "stream",
     "text": [
      "0.22727272727272727"
     ]
    },
    {
     "name": "stderr",
     "output_type": "stream",
     "text": [
      "Exception in thread cell_monitor-93:\n",
      "Traceback (most recent call last):\n",
      "  File \"/mnt/notebook-env/lib/python3.7/threading.py\", line 926, in _bootstrap_inner\n",
      "    self.run()\n",
      "  File \"/mnt/notebook-env/lib/python3.7/threading.py\", line 870, in run\n",
      "    self._target(*self._args, **self._kwargs)\n",
      "  File \"/mnt/notebook-env/lib/python3.7/site-packages/awseditorssparkmonitoringwidget-1.0-py3.7.egg/awseditorssparkmonitoringwidget/cellmonitor.py\", line 154, in cell_monitor\n",
      "    job_group_filtered_jobs = [job for job in jobs_data if job['jobGroup'] == str(statement_id)]\n",
      "  File \"/mnt/notebook-env/lib/python3.7/site-packages/awseditorssparkmonitoringwidget-1.0-py3.7.egg/awseditorssparkmonitoringwidget/cellmonitor.py\", line 154, in <listcomp>\n",
      "    job_group_filtered_jobs = [job for job in jobs_data if job['jobGroup'] == str(statement_id)]\n",
      "KeyError: 'jobGroup'\n",
      "\n"
     ]
    }
   ],
   "source": [
    "idx = len(np.array(results[\"recall\"])[np.array(results[\"recall\"]) > 0.8])-1\n",
    "results[\"threshold\"][idx]"
   ]
  },
  {
   "cell_type": "markdown",
   "id": "5c9b0650",
   "metadata": {},
   "source": [
    "We get a prediction threshold of 0.22727272727272727 instead of the default 0.5."
   ]
  },
  {
   "cell_type": "markdown",
   "id": "6460ac89-69fa-4484-919f-453a54318c87",
   "metadata": {},
   "source": [
    "Using this new threshold, we now hav a model with a recall of 80% on the test set, meaning that at least 80% of all true positives will be recovered. This should help us detect customers who may churn. There will be an increase in false positives as well so whatever marketing strategy is employed later will need to take that into account."
   ]
  }
 ],
 "metadata": {
  "kernelspec": {
   "display_name": "Python 3",
   "language": "python",
   "name": "python3"
  },
  "language_info": {
   "codemirror_mode": {
    "name": "ipython",
    "version": 3
   },
   "file_extension": ".py",
   "mimetype": "text/x-python",
   "name": "python",
   "nbconvert_exporter": "python",
   "pygments_lexer": "ipython3",
   "version": "3.8.12"
  },
  "toc": {
   "base_numbering": 1,
   "nav_menu": {},
   "number_sections": true,
   "sideBar": true,
   "skip_h1_title": false,
   "title_cell": "Table of Contents",
   "title_sidebar": "Contents",
   "toc_cell": false,
   "toc_position": {},
   "toc_section_display": true,
   "toc_window_display": false
  }
 },
 "nbformat": 4,
 "nbformat_minor": 5
}
