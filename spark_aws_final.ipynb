{
 "cells": [
  {
   "cell_type": "markdown",
   "id": "3982b234",
   "metadata": {},
   "source": [
    "# Load data"
   ]
  },
  {
   "cell_type": "code",
   "execution_count": 40,
   "id": "11289e81-001d-4816-a03e-79ea8c42cd2e",
   "metadata": {
    "execution": {
     "iopub.execute_input": "2023-09-13T17:03:19.888617Z",
     "iopub.status.busy": "2023-09-13T17:03:19.888310Z",
     "iopub.status.idle": "2023-09-13T17:03:19.926128Z",
     "shell.execute_reply": "2023-09-13T17:03:19.925449Z",
     "shell.execute_reply.started": "2023-09-13T17:03:19.888589Z"
    },
    "tags": []
   },
   "outputs": [
    {
     "data": {
      "application/vnd.jupyter.widget-view+json": {
       "model_id": "c7650f7d11f8459d9d603f790b50833e",
       "version_major": 2,
       "version_minor": 0
      },
      "text/plain": [
       "VBox()"
      ]
     },
     "metadata": {},
     "output_type": "display_data"
    },
    {
     "data": {
      "application/vnd.jupyter.widget-view+json": {
       "model_id": "",
       "version_major": 2,
       "version_minor": 0
      },
      "text/plain": [
       "FloatProgress(value=0.0, bar_style='info', description='Progress:', layout=Layout(height='25px', width='50%'),…"
      ]
     },
     "metadata": {},
     "output_type": "display_data"
    },
    {
     "name": "stderr",
     "output_type": "stream",
     "text": [
      "Exception in thread cell_monitor-40:\n",
      "Traceback (most recent call last):\n",
      "  File \"/mnt/notebook-env/lib/python3.7/threading.py\", line 926, in _bootstrap_inner\n",
      "    self.run()\n",
      "  File \"/mnt/notebook-env/lib/python3.7/threading.py\", line 870, in run\n",
      "    self._target(*self._args, **self._kwargs)\n",
      "  File \"/mnt/notebook-env/lib/python3.7/site-packages/awseditorssparkmonitoringwidget-1.0-py3.7.egg/awseditorssparkmonitoringwidget/cellmonitor.py\", line 154, in cell_monitor\n",
      "    job_group_filtered_jobs = [job for job in jobs_data if job['jobGroup'] == str(statement_id)]\n",
      "  File \"/mnt/notebook-env/lib/python3.7/site-packages/awseditorssparkmonitoringwidget-1.0-py3.7.egg/awseditorssparkmonitoringwidget/cellmonitor.py\", line 154, in <listcomp>\n",
      "    job_group_filtered_jobs = [job for job in jobs_data if job['jobGroup'] == str(statement_id)]\n",
      "KeyError: 'jobGroup'\n",
      "\n"
     ]
    }
   ],
   "source": [
    "spark.conf.set(\"spark.sql.shuffle.partitions\", 10)"
   ]
  },
  {
   "cell_type": "code",
   "execution_count": 1,
   "id": "cc455c13",
   "metadata": {
    "execution": {
     "iopub.execute_input": "2023-09-13T15:30:59.837777Z",
     "iopub.status.busy": "2023-09-13T15:30:59.837427Z",
     "iopub.status.idle": "2023-09-13T15:31:28.442133Z",
     "shell.execute_reply": "2023-09-13T15:31:28.441484Z",
     "shell.execute_reply.started": "2023-09-13T15:30:59.837746Z"
    },
    "tags": []
   },
   "outputs": [
    {
     "data": {
      "application/vnd.jupyter.widget-view+json": {
       "model_id": "5c87fd93463e46b3a2c93b5fa05014b3",
       "version_major": 2,
       "version_minor": 0
      },
      "text/plain": [
       "VBox()"
      ]
     },
     "metadata": {},
     "output_type": "display_data"
    },
    {
     "name": "stdout",
     "output_type": "stream",
     "text": [
      "Starting Spark application\n"
     ]
    },
    {
     "data": {
      "text/html": [
       "<table>\n",
       "<tbody><tr><th>ID</th><th>YARN Application ID</th><th>Kind</th><th>State</th><th>Spark UI</th><th>Driver log</th><th>User</th><th>Current session?</th></tr><tr><td>6</td><td>application_1694596352859_0007</td><td>pyspark</td><td>idle</td><td><a target=\"_blank\" href=\"http://ip-172-31-93-29.ec2.internal:20888/proxy/application_1694596352859_0007/\" class=\"emr-proxy-link j-2J75IX9283MUS application_1694596352859_0007\" emr-resource=\"j-2J75IX9283MUS\n",
       "\" application-id=\"application_1694596352859_0007\">Link</a></td><td><a target=\"_blank\" href=\"http://ip-172-31-95-178.ec2.internal:8042/node/containerlogs/container_1694596352859_0007_01_000001/livy\">Link</a></td><td>None</td><td>✔</td></tr></tbody></table>"
      ],
      "text/plain": [
       "<IPython.core.display.HTML object>"
      ]
     },
     "metadata": {},
     "output_type": "display_data"
    },
    {
     "data": {
      "application/vnd.jupyter.widget-view+json": {
       "model_id": "",
       "version_major": 2,
       "version_minor": 0
      },
      "text/plain": [
       "FloatProgress(value=0.0, bar_style='info', description='Progress:', layout=Layout(height='25px', width='50%'),…"
      ]
     },
     "metadata": {},
     "output_type": "display_data"
    },
    {
     "name": "stdout",
     "output_type": "stream",
     "text": [
      "SparkSession available as 'spark'.\n"
     ]
    },
    {
     "data": {
      "application/vnd.jupyter.widget-view+json": {
       "model_id": "",
       "version_major": 2,
       "version_minor": 0
      },
      "text/plain": [
       "FloatProgress(value=0.0, bar_style='info', description='Progress:', layout=Layout(height='25px', width='50%'),…"
      ]
     },
     "metadata": {},
     "output_type": "display_data"
    }
   ],
   "source": [
    "data_src = \"s3a://udacity-dsnd/sparkify/sparkify_event_data.json\""
   ]
  },
  {
   "cell_type": "code",
   "execution_count": 2,
   "id": "d2604011",
   "metadata": {
    "execution": {
     "iopub.execute_input": "2023-09-13T15:31:31.846214Z",
     "iopub.status.busy": "2023-09-13T15:31:31.845913Z",
     "iopub.status.idle": "2023-09-13T15:31:47.149220Z",
     "shell.execute_reply": "2023-09-13T15:31:47.148535Z",
     "shell.execute_reply.started": "2023-09-13T15:31:31.846189Z"
    },
    "tags": []
   },
   "outputs": [
    {
     "data": {
      "application/vnd.jupyter.widget-view+json": {
       "model_id": "dcb82ec8c52b435aad84111a9285264d",
       "version_major": 2,
       "version_minor": 0
      },
      "text/plain": [
       "VBox()"
      ]
     },
     "metadata": {},
     "output_type": "display_data"
    },
    {
     "data": {
      "application/vnd.jupyter.widget-view+json": {
       "model_id": "",
       "version_major": 2,
       "version_minor": 0
      },
      "text/plain": [
       "FloatProgress(value=0.0, bar_style='info', description='Progress:', layout=Layout(height='25px', width='50%'),…"
      ]
     },
     "metadata": {},
     "output_type": "display_data"
    },
    {
     "name": "stdout",
     "output_type": "stream",
     "text": [
      "Collecting pandas\n",
      "  Downloading pandas-1.3.5-cp37-cp37m-manylinux_2_17_x86_64.manylinux2014_x86_64.whl (11.3 MB)\n",
      "Collecting python-dateutil>=2.7.3\n",
      "  Downloading python_dateutil-2.8.2-py2.py3-none-any.whl (247 kB)\n",
      "Requirement already satisfied: numpy>=1.17.3; platform_machine != \"aarch64\" and platform_machine != \"arm64\" and python_version < \"3.10\" in /usr/local/lib64/python3.7/site-packages (from pandas) (1.20.0)\n",
      "Requirement already satisfied: pytz>=2017.3 in /usr/local/lib/python3.7/site-packages (from pandas) (2023.3)\n",
      "Requirement already satisfied: six>=1.5 in /usr/local/lib/python3.7/site-packages (from python-dateutil>=2.7.3->pandas) (1.13.0)\n",
      "Installing collected packages: python-dateutil, pandas\n",
      "Successfully installed pandas-1.3.5 python-dateutil-2.8.2\n",
      "\n",
      "WARNING: The directory '/home/.cache/pip' or its parent directory is not owned or is not writable by the current user. The cache has been disabled. Check the permissions and owner of that directory. If executing pip with sudo, you may want sudo's -H flag."
     ]
    }
   ],
   "source": [
    "sc.install_pypi_package(\"pandas\")"
   ]
  },
  {
   "cell_type": "code",
   "execution_count": 3,
   "id": "a272095c-9abb-4df2-84cb-0898647dc80d",
   "metadata": {
    "execution": {
     "iopub.execute_input": "2023-09-13T15:31:47.150586Z",
     "iopub.status.busy": "2023-09-13T15:31:47.150347Z",
     "iopub.status.idle": "2023-09-13T15:31:52.416262Z",
     "shell.execute_reply": "2023-09-13T15:31:52.415575Z",
     "shell.execute_reply.started": "2023-09-13T15:31:47.150549Z"
    },
    "tags": []
   },
   "outputs": [
    {
     "data": {
      "application/vnd.jupyter.widget-view+json": {
       "model_id": "6a84891600a14665a225e1b8e9d37e14",
       "version_major": 2,
       "version_minor": 0
      },
      "text/plain": [
       "VBox()"
      ]
     },
     "metadata": {},
     "output_type": "display_data"
    },
    {
     "data": {
      "application/vnd.jupyter.widget-view+json": {
       "model_id": "",
       "version_major": 2,
       "version_minor": 0
      },
      "text/plain": [
       "FloatProgress(value=0.0, bar_style='info', description='Progress:', layout=Layout(height='25px', width='50%'),…"
      ]
     },
     "metadata": {},
     "output_type": "display_data"
    },
    {
     "name": "stdout",
     "output_type": "stream",
     "text": [
      "Collecting pyarrow\n",
      "  Downloading pyarrow-12.0.1-cp37-cp37m-manylinux_2_17_x86_64.manylinux2014_x86_64.whl (39.1 MB)\n",
      "Requirement already satisfied: numpy>=1.16.6 in /usr/local/lib64/python3.7/site-packages (from pyarrow) (1.20.0)\n",
      "Installing collected packages: pyarrow\n",
      "Successfully installed pyarrow-12.0.1\n",
      "\n",
      "WARNING: The directory '/home/.cache/pip' or its parent directory is not owned or is not writable by the current user. The cache has been disabled. Check the permissions and owner of that directory. If executing pip with sudo, you may want sudo's -H flag."
     ]
    }
   ],
   "source": [
    "sc.install_pypi_package(\"pyarrow\")"
   ]
  },
  {
   "cell_type": "code",
   "execution_count": 4,
   "id": "e2474751",
   "metadata": {
    "execution": {
     "iopub.execute_input": "2023-09-13T15:31:52.417957Z",
     "iopub.status.busy": "2023-09-13T15:31:52.417727Z",
     "iopub.status.idle": "2023-09-13T15:32:39.789432Z",
     "shell.execute_reply": "2023-09-13T15:32:39.788555Z",
     "shell.execute_reply.started": "2023-09-13T15:31:52.417934Z"
    },
    "tags": []
   },
   "outputs": [
    {
     "data": {
      "application/vnd.jupyter.widget-view+json": {
       "model_id": "73a4270df6f44badbeb89be4a58ef3c0",
       "version_major": 2,
       "version_minor": 0
      },
      "text/plain": [
       "VBox()"
      ]
     },
     "metadata": {},
     "output_type": "display_data"
    },
    {
     "data": {
      "application/vnd.jupyter.widget-view+json": {
       "model_id": "",
       "version_major": 2,
       "version_minor": 0
      },
      "text/plain": [
       "FloatProgress(value=0.0, bar_style='info', description='Progress:', layout=Layout(height='25px', width='50%'),…"
      ]
     },
     "metadata": {},
     "output_type": "display_data"
    }
   ],
   "source": [
    "df = spark.read.json(data_src).cache()"
   ]
  },
  {
   "cell_type": "markdown",
   "id": "61c95231",
   "metadata": {},
   "source": [
    "# Process data for prediction"
   ]
  },
  {
   "cell_type": "markdown",
   "id": "e12c1ca9",
   "metadata": {},
   "source": [
    "Filter out all not logged-in users"
   ]
  },
  {
   "cell_type": "code",
   "execution_count": 5,
   "id": "e30be67f",
   "metadata": {
    "execution": {
     "iopub.execute_input": "2023-09-13T15:32:39.794550Z",
     "iopub.status.busy": "2023-09-13T15:32:39.791159Z",
     "iopub.status.idle": "2023-09-13T15:32:40.058950Z",
     "shell.execute_reply": "2023-09-13T15:32:40.058089Z",
     "shell.execute_reply.started": "2023-09-13T15:32:39.794511Z"
    },
    "tags": []
   },
   "outputs": [
    {
     "data": {
      "application/vnd.jupyter.widget-view+json": {
       "model_id": "5c58682a895b497cb4decf514d0b03af",
       "version_major": 2,
       "version_minor": 0
      },
      "text/plain": [
       "VBox()"
      ]
     },
     "metadata": {},
     "output_type": "display_data"
    },
    {
     "data": {
      "application/vnd.jupyter.widget-view+json": {
       "model_id": "",
       "version_major": 2,
       "version_minor": 0
      },
      "text/plain": [
       "FloatProgress(value=0.0, bar_style='info', description='Progress:', layout=Layout(height='25px', width='50%'),…"
      ]
     },
     "metadata": {},
     "output_type": "display_data"
    }
   ],
   "source": [
    "df = df.filter(df[\"userId\"] != \"\")"
   ]
  },
  {
   "cell_type": "code",
   "execution_count": 6,
   "id": "0f1d79cf",
   "metadata": {
    "execution": {
     "iopub.execute_input": "2023-09-13T15:32:40.060528Z",
     "iopub.status.busy": "2023-09-13T15:32:40.060206Z",
     "iopub.status.idle": "2023-09-13T15:32:40.317020Z",
     "shell.execute_reply": "2023-09-13T15:32:40.316053Z",
     "shell.execute_reply.started": "2023-09-13T15:32:40.060493Z"
    },
    "tags": []
   },
   "outputs": [
    {
     "data": {
      "application/vnd.jupyter.widget-view+json": {
       "model_id": "2bda0fc8ad594057ab31e4404577cdfb",
       "version_major": 2,
       "version_minor": 0
      },
      "text/plain": [
       "VBox()"
      ]
     },
     "metadata": {},
     "output_type": "display_data"
    },
    {
     "data": {
      "application/vnd.jupyter.widget-view+json": {
       "model_id": "",
       "version_major": 2,
       "version_minor": 0
      },
      "text/plain": [
       "FloatProgress(value=0.0, bar_style='info', description='Progress:', layout=Layout(height='25px', width='50%'),…"
      ]
     },
     "metadata": {},
     "output_type": "display_data"
    }
   ],
   "source": [
    "df.createOrReplaceTempView(\"events\")"
   ]
  },
  {
   "cell_type": "markdown",
   "id": "6c6038bf",
   "metadata": {},
   "source": [
    "## Get average session length and average number of items per session"
   ]
  },
  {
   "cell_type": "code",
   "execution_count": 7,
   "id": "f8a6bfad",
   "metadata": {
    "execution": {
     "iopub.execute_input": "2023-09-13T15:32:40.324415Z",
     "iopub.status.busy": "2023-09-13T15:32:40.323817Z",
     "iopub.status.idle": "2023-09-13T15:32:40.588444Z",
     "shell.execute_reply": "2023-09-13T15:32:40.587698Z",
     "shell.execute_reply.started": "2023-09-13T15:32:40.324377Z"
    },
    "tags": []
   },
   "outputs": [
    {
     "data": {
      "application/vnd.jupyter.widget-view+json": {
       "model_id": "0a875bed483c4c5bab9e64409120a543",
       "version_major": 2,
       "version_minor": 0
      },
      "text/plain": [
       "VBox()"
      ]
     },
     "metadata": {},
     "output_type": "display_data"
    },
    {
     "data": {
      "application/vnd.jupyter.widget-view+json": {
       "model_id": "",
       "version_major": 2,
       "version_minor": 0
      },
      "text/plain": [
       "FloatProgress(value=0.0, bar_style='info', description='Progress:', layout=Layout(height='25px', width='50%'),…"
      ]
     },
     "metadata": {},
     "output_type": "display_data"
    }
   ],
   "source": [
    "avg_session_len_per_user = spark.sql('''\n",
    "    SELECT userId, \n",
    "        AVG(sessionLength) AS avg_session_length, \n",
    "        AVG(items) AS avg_items_per_session \n",
    "    FROM (\n",
    "        SELECT userId,\n",
    "            MAX(ts) - MIN(ts) AS sessionLength, \n",
    "            MAX(itemInSession) AS items FROM events\n",
    "        GROUP BY userId, sessionId\n",
    "    )\n",
    "    GROUP BY userId\n",
    "''')"
   ]
  },
  {
   "cell_type": "markdown",
   "id": "d013a384",
   "metadata": {},
   "source": [
    "## Get average time between sessions"
   ]
  },
  {
   "cell_type": "code",
   "execution_count": 8,
   "id": "c9984e4d-3dc6-4107-b478-6b37a17243b7",
   "metadata": {
    "execution": {
     "iopub.execute_input": "2023-09-13T15:32:40.591308Z",
     "iopub.status.busy": "2023-09-13T15:32:40.589452Z",
     "iopub.status.idle": "2023-09-13T15:32:40.919949Z",
     "shell.execute_reply": "2023-09-13T15:32:40.919238Z",
     "shell.execute_reply.started": "2023-09-13T15:32:40.591277Z"
    },
    "tags": []
   },
   "outputs": [
    {
     "data": {
      "application/vnd.jupyter.widget-view+json": {
       "model_id": "3f5ee6fcebbf41fdb76b3535e61c4465",
       "version_major": 2,
       "version_minor": 0
      },
      "text/plain": [
       "VBox()"
      ]
     },
     "metadata": {},
     "output_type": "display_data"
    },
    {
     "data": {
      "application/vnd.jupyter.widget-view+json": {
       "model_id": "",
       "version_major": 2,
       "version_minor": 0
      },
      "text/plain": [
       "FloatProgress(value=0.0, bar_style='info', description='Progress:', layout=Layout(height='25px', width='50%'),…"
      ]
     },
     "metadata": {},
     "output_type": "display_data"
    }
   ],
   "source": [
    "avg_time_bw_sessions = spark.sql('''\n",
    "    WITH diffs AS (\n",
    "        SELECT userId, \n",
    "            end - LAG(end, 1) OVER(\n",
    "                PARTITION BY userId \n",
    "                ORDER BY sessionId ASC\n",
    "            ) AS diff\n",
    "        FROM (\n",
    "            SELECT userId,\n",
    "                sessionId,\n",
    "                last(ts) AS end\n",
    "            FROM events\n",
    "            GROUP BY userId, sessionId\n",
    "        )\n",
    "    )\n",
    "    SELECT userId, AVG(diff) AS avg_time_bw_sessions FROM diffs\n",
    "    GROUP BY userId\n",
    "''')"
   ]
  },
  {
   "cell_type": "markdown",
   "id": "3631c766",
   "metadata": {},
   "source": [
    "## How much time per day is user spending on the platform"
   ]
  },
  {
   "cell_type": "code",
   "execution_count": 9,
   "id": "82c8c24e",
   "metadata": {
    "execution": {
     "iopub.execute_input": "2023-09-13T15:32:40.922026Z",
     "iopub.status.busy": "2023-09-13T15:32:40.921801Z",
     "iopub.status.idle": "2023-09-13T15:32:41.164792Z",
     "shell.execute_reply": "2023-09-13T15:32:41.164079Z",
     "shell.execute_reply.started": "2023-09-13T15:32:40.922003Z"
    },
    "tags": []
   },
   "outputs": [
    {
     "data": {
      "application/vnd.jupyter.widget-view+json": {
       "model_id": "ffc684c5fbd64eb980c4c2af42cfd9f0",
       "version_major": 2,
       "version_minor": 0
      },
      "text/plain": [
       "VBox()"
      ]
     },
     "metadata": {},
     "output_type": "display_data"
    },
    {
     "data": {
      "application/vnd.jupyter.widget-view+json": {
       "model_id": "",
       "version_major": 2,
       "version_minor": 0
      },
      "text/plain": [
       "FloatProgress(value=0.0, bar_style='info', description='Progress:', layout=Layout(height='25px', width='50%'),…"
      ]
     },
     "metadata": {},
     "output_type": "display_data"
    }
   ],
   "source": [
    "time_per_day = spark.sql('''\n",
    "    SELECT events.userId, first(a.days) AS total_days, ROUND(COUNT(*) / first(a.days), 2) AS pages_per_day\n",
    "    FROM events\n",
    "    JOIN (\n",
    "        SELECT userId, GREATEST(1, ROUND((MAX(ts) - MIN(ts)) / 3600 / 24 / 1000, 2)) AS days FROM events\n",
    "        GROUP BY userId\n",
    "    ) AS a ON events.userId = a.userId\n",
    "    GROUP BY events.userId\n",
    "''')"
   ]
  },
  {
   "cell_type": "markdown",
   "id": "91b9ab19",
   "metadata": {},
   "source": [
    "## Find how many times a user visits each page"
   ]
  },
  {
   "cell_type": "code",
   "execution_count": 10,
   "id": "7ea26897",
   "metadata": {
    "execution": {
     "iopub.execute_input": "2023-09-13T15:32:41.166191Z",
     "iopub.status.busy": "2023-09-13T15:32:41.165960Z",
     "iopub.status.idle": "2023-09-13T15:32:41.405377Z",
     "shell.execute_reply": "2023-09-13T15:32:41.404708Z",
     "shell.execute_reply.started": "2023-09-13T15:32:41.166167Z"
    },
    "tags": []
   },
   "outputs": [
    {
     "data": {
      "application/vnd.jupyter.widget-view+json": {
       "model_id": "5be9c7eaa9e34629b65c08c93bb15ffa",
       "version_major": 2,
       "version_minor": 0
      },
      "text/plain": [
       "VBox()"
      ]
     },
     "metadata": {},
     "output_type": "display_data"
    },
    {
     "data": {
      "application/vnd.jupyter.widget-view+json": {
       "model_id": "",
       "version_major": 2,
       "version_minor": 0
      },
      "text/plain": [
       "FloatProgress(value=0.0, bar_style='info', description='Progress:', layout=Layout(height='25px', width='50%'),…"
      ]
     },
     "metadata": {},
     "output_type": "display_data"
    }
   ],
   "source": [
    "pages_per_user_by_type = spark.sql('''\n",
    "    SELECT userId, page, COUNT(*) AS page_visits\n",
    "    FROM events\n",
    "    GROUP BY userId, page\n",
    "''')"
   ]
  },
  {
   "cell_type": "code",
   "execution_count": 11,
   "id": "7f395980",
   "metadata": {
    "execution": {
     "iopub.execute_input": "2023-09-13T15:32:41.406600Z",
     "iopub.status.busy": "2023-09-13T15:32:41.406361Z",
     "iopub.status.idle": "2023-09-13T15:33:52.834875Z",
     "shell.execute_reply": "2023-09-13T15:33:52.834118Z",
     "shell.execute_reply.started": "2023-09-13T15:32:41.406578Z"
    },
    "tags": []
   },
   "outputs": [
    {
     "data": {
      "application/vnd.jupyter.widget-view+json": {
       "model_id": "e444e2f77896407aaf44dc9f801850fa",
       "version_major": 2,
       "version_minor": 0
      },
      "text/plain": [
       "VBox()"
      ]
     },
     "metadata": {},
     "output_type": "display_data"
    },
    {
     "data": {
      "application/vnd.jupyter.widget-view+json": {
       "model_id": "",
       "version_major": 2,
       "version_minor": 0
      },
      "text/plain": [
       "FloatProgress(value=0.0, bar_style='info', description='Progress:', layout=Layout(height='25px', width='50%'),…"
      ]
     },
     "metadata": {},
     "output_type": "display_data"
    }
   ],
   "source": [
    "pages_per_user_by_type = pages_per_user_by_type.groupby(\"userId\").pivot(\"page\").sum(\"page_visits\").na.fill(0)"
   ]
  },
  {
   "cell_type": "markdown",
   "id": "728cbf37",
   "metadata": {},
   "source": [
    "## Get gender, level and is_mobile as 0/1. Get total time spent listening to music"
   ]
  },
  {
   "cell_type": "code",
   "execution_count": 12,
   "id": "ce657c00",
   "metadata": {
    "execution": {
     "iopub.execute_input": "2023-09-13T15:33:52.836170Z",
     "iopub.status.busy": "2023-09-13T15:33:52.835928Z",
     "iopub.status.idle": "2023-09-13T15:33:53.077899Z",
     "shell.execute_reply": "2023-09-13T15:33:53.077261Z",
     "shell.execute_reply.started": "2023-09-13T15:33:52.836147Z"
    },
    "tags": []
   },
   "outputs": [
    {
     "data": {
      "application/vnd.jupyter.widget-view+json": {
       "model_id": "a0887b904f414e43b7678cde05412830",
       "version_major": 2,
       "version_minor": 0
      },
      "text/plain": [
       "VBox()"
      ]
     },
     "metadata": {},
     "output_type": "display_data"
    },
    {
     "data": {
      "application/vnd.jupyter.widget-view+json": {
       "model_id": "",
       "version_major": 2,
       "version_minor": 0
      },
      "text/plain": [
       "FloatProgress(value=0.0, bar_style='info', description='Progress:', layout=Layout(height='25px', width='50%'),…"
      ]
     },
     "metadata": {},
     "output_type": "display_data"
    }
   ],
   "source": [
    "user_data = spark.sql('''\n",
    "    SELECT userId, \n",
    "        CASE WHEN first(gender) = 'F' THEN 1 ELSE 0 END AS gender,\n",
    "        CASE WHEN last(level) = 'paid' THEN 1 ELSE 0 END AS paid,\n",
    "        CASE WHEN first(userAgent) LIKE '%Mobi%' THEN 1 ELSE 0 END AS is_mobile,\n",
    "        SUM(nanvl(length, 0)) AS listening_time\n",
    "    FROM (SELECT * FROM events ORDER BY ts ASC)\n",
    "    GROUP BY userId\n",
    "''')"
   ]
  },
  {
   "cell_type": "markdown",
   "id": "8eb5c7c3",
   "metadata": {},
   "source": [
    "## Prepare final dataframe"
   ]
  },
  {
   "cell_type": "code",
   "execution_count": 13,
   "id": "b8c66f18",
   "metadata": {
    "execution": {
     "iopub.execute_input": "2023-09-13T15:33:53.079134Z",
     "iopub.status.busy": "2023-09-13T15:33:53.078882Z",
     "iopub.status.idle": "2023-09-13T15:33:53.319604Z",
     "shell.execute_reply": "2023-09-13T15:33:53.318897Z",
     "shell.execute_reply.started": "2023-09-13T15:33:53.079109Z"
    },
    "tags": []
   },
   "outputs": [
    {
     "data": {
      "application/vnd.jupyter.widget-view+json": {
       "model_id": "9ffa2e74223f4096b889acf8857e676f",
       "version_major": 2,
       "version_minor": 0
      },
      "text/plain": [
       "VBox()"
      ]
     },
     "metadata": {},
     "output_type": "display_data"
    },
    {
     "data": {
      "application/vnd.jupyter.widget-view+json": {
       "model_id": "",
       "version_major": 2,
       "version_minor": 0
      },
      "text/plain": [
       "FloatProgress(value=0.0, bar_style='info', description='Progress:', layout=Layout(height='25px', width='50%'),…"
      ]
     },
     "metadata": {},
     "output_type": "display_data"
    }
   ],
   "source": [
    "final = pages_per_user_by_type.join(time_per_day, on=\"userId\") \\\n",
    "    .join(avg_session_len_per_user, on=\"userId\") \\\n",
    "    .join(user_data, on=\"userId\") \\\n",
    "    .join(avg_time_bw_sessions, on=\"userId\")"
   ]
  },
  {
   "cell_type": "code",
   "execution_count": 14,
   "id": "b78ca0a4",
   "metadata": {
    "execution": {
     "iopub.execute_input": "2023-09-13T15:33:53.320781Z",
     "iopub.status.busy": "2023-09-13T15:33:53.320532Z",
     "iopub.status.idle": "2023-09-13T15:34:28.666934Z",
     "shell.execute_reply": "2023-09-13T15:34:28.666273Z",
     "shell.execute_reply.started": "2023-09-13T15:33:53.320757Z"
    },
    "tags": []
   },
   "outputs": [
    {
     "data": {
      "application/vnd.jupyter.widget-view+json": {
       "model_id": "22abf3699d084a7f892cf352e07a8562",
       "version_major": 2,
       "version_minor": 0
      },
      "text/plain": [
       "VBox()"
      ]
     },
     "metadata": {},
     "output_type": "display_data"
    },
    {
     "data": {
      "application/vnd.jupyter.widget-view+json": {
       "model_id": "",
       "version_major": 2,
       "version_minor": 0
      },
      "text/plain": [
       "FloatProgress(value=0.0, bar_style='info', description='Progress:', layout=Layout(height='25px', width='50%'),…"
      ]
     },
     "metadata": {},
     "output_type": "display_data"
    },
    {
     "name": "stdout",
     "output_type": "stream",
     "text": [
      "+------+-----+----------+---------------+------+-------------------------+---------+-----+----+----+-----+------+--------+--------+-----------+-------------+--------+----------------+-------------------+--------------+-----------+---------+-------+----------+-------------+------------------+---------------------+------+----+---------+--------------+--------------------+\n",
      "|userId|About|Add Friend|Add to Playlist|Cancel|Cancellation Confirmation|Downgrade|Error|Help|Home|Login|Logout|NextSong|Register|Roll Advert|Save Settings|Settings|Submit Downgrade|Submit Registration|Submit Upgrade|Thumbs Down|Thumbs Up|Upgrade|total_days|pages_per_day|avg_session_length|avg_items_per_session|gender|paid|is_mobile|listening_time|avg_time_bw_sessions|\n",
      "+------+-----+----------+---------------+------+-------------------------+---------+-----+----+----+-----+------+--------+--------+-----------+-------------+--------+----------------+-------------------+--------------+-----------+---------+-------+----------+-------------+------------------+---------------------+------+----+---------+--------------+--------------------+\n",
      "|     0|    0|         0|              0|     0|                        0|        0|    0|   0|   0|    0|     0|       0|       0|          0|            0|       0|               0|                  0|             0|          0|        0|      0|         0|            0|                 0|                    0|     0|   0|        0|            17|                1148|\n",
      "+------+-----+----------+---------------+------+-------------------------+---------+-----+----+----+-----+------+--------+--------+-----------+-------------+--------+----------------+-------------------+--------------+-----------+---------+-------+----------+-------------+------------------+---------------------+------+----+---------+--------------+--------------------+"
     ]
    }
   ],
   "source": [
    "from pyspark.sql.functions import isnan, when, count, col\n",
    "\n",
    "final.select([count(when(isnan(c) | col(c).isNull(), c)).alias(c) for c in final.columns]).show()"
   ]
  },
  {
   "cell_type": "code",
   "execution_count": 15,
   "id": "b2450559-8e13-4579-8cbf-bef0d8b37aca",
   "metadata": {
    "execution": {
     "iopub.execute_input": "2023-09-13T15:34:28.668093Z",
     "iopub.status.busy": "2023-09-13T15:34:28.667874Z",
     "iopub.status.idle": "2023-09-13T15:34:28.910954Z",
     "shell.execute_reply": "2023-09-13T15:34:28.910247Z",
     "shell.execute_reply.started": "2023-09-13T15:34:28.668071Z"
    },
    "tags": []
   },
   "outputs": [
    {
     "data": {
      "application/vnd.jupyter.widget-view+json": {
       "model_id": "cdede4aae7624170aaec29e0a5c591e0",
       "version_major": 2,
       "version_minor": 0
      },
      "text/plain": [
       "VBox()"
      ]
     },
     "metadata": {},
     "output_type": "display_data"
    },
    {
     "data": {
      "application/vnd.jupyter.widget-view+json": {
       "model_id": "",
       "version_major": 2,
       "version_minor": 0
      },
      "text/plain": [
       "FloatProgress(value=0.0, bar_style='info', description='Progress:', layout=Layout(height='25px', width='50%'),…"
      ]
     },
     "metadata": {},
     "output_type": "display_data"
    }
   ],
   "source": [
    "final = final.fillna(0, subset=['listening_time'])"
   ]
  },
  {
   "cell_type": "markdown",
   "id": "c8ee4c1e",
   "metadata": {},
   "source": [
    "We will handle missing values in \"avg_time_bw_sessions\" after the train/test split"
   ]
  },
  {
   "cell_type": "markdown",
   "id": "a73aa4bf",
   "metadata": {},
   "source": [
    "# Modeling"
   ]
  },
  {
   "cell_type": "markdown",
   "id": "6cdcce52",
   "metadata": {},
   "source": [
    "Split into train and test"
   ]
  },
  {
   "cell_type": "code",
   "execution_count": 16,
   "id": "516681e4",
   "metadata": {
    "execution": {
     "iopub.execute_input": "2023-09-13T15:34:55.219451Z",
     "iopub.status.busy": "2023-09-13T15:34:55.219054Z",
     "iopub.status.idle": "2023-09-13T15:35:24.559289Z",
     "shell.execute_reply": "2023-09-13T15:35:24.558382Z",
     "shell.execute_reply.started": "2023-09-13T15:34:55.219404Z"
    },
    "tags": []
   },
   "outputs": [
    {
     "data": {
      "application/vnd.jupyter.widget-view+json": {
       "model_id": "1c484292fe1146a4ba3dcc4426bb6129",
       "version_major": 2,
       "version_minor": 0
      },
      "text/plain": [
       "VBox()"
      ]
     },
     "metadata": {},
     "output_type": "display_data"
    },
    {
     "data": {
      "application/vnd.jupyter.widget-view+json": {
       "model_id": "",
       "version_major": 2,
       "version_minor": 0
      },
      "text/plain": [
       "FloatProgress(value=0.0, bar_style='info', description='Progress:', layout=Layout(height='25px', width='50%'),…"
      ]
     },
     "metadata": {},
     "output_type": "display_data"
    }
   ],
   "source": [
    "from pyspark.ml.feature import Imputer\n",
    "# Split the data into training and test sets (30% held out for testing)\n",
    "(train_df, test_df) = final.randomSplit([0.7, 0.3], seed=42)\n",
    "\n",
    "# impute missing values in avg_time_bw_sessions\n",
    "imputer = Imputer(inputCol=\"avg_time_bw_sessions\", outputCol=\"avg_time_bw_sessions\")\n",
    "model = imputer.fit(train_df)\n",
    "train_df = model.transform(train_df)\n",
    "test_df = model.transform(test_df)"
   ]
  },
  {
   "cell_type": "code",
   "execution_count": 17,
   "id": "3e454f40",
   "metadata": {
    "execution": {
     "iopub.execute_input": "2023-09-13T15:35:24.560663Z",
     "iopub.status.busy": "2023-09-13T15:35:24.560439Z",
     "iopub.status.idle": "2023-09-13T15:35:24.606443Z",
     "shell.execute_reply": "2023-09-13T15:35:24.605702Z",
     "shell.execute_reply.started": "2023-09-13T15:35:24.560641Z"
    },
    "tags": []
   },
   "outputs": [
    {
     "data": {
      "application/vnd.jupyter.widget-view+json": {
       "model_id": "df5dffdb92674a4894b59b6365661f19",
       "version_major": 2,
       "version_minor": 0
      },
      "text/plain": [
       "VBox()"
      ]
     },
     "metadata": {},
     "output_type": "display_data"
    },
    {
     "data": {
      "application/vnd.jupyter.widget-view+json": {
       "model_id": "",
       "version_major": 2,
       "version_minor": 0
      },
      "text/plain": [
       "FloatProgress(value=0.0, bar_style='info', description='Progress:', layout=Layout(height='25px', width='50%'),…"
      ]
     },
     "metadata": {},
     "output_type": "display_data"
    }
   ],
   "source": [
    "from pyspark.ml.feature import VectorAssembler"
   ]
  },
  {
   "cell_type": "markdown",
   "id": "301451b6",
   "metadata": {},
   "source": [
    "Including visits to the \"Cancel\" page would likely introduce data leakage. And we want to predict churn before the user cancels so let's drop those columns"
   ]
  },
  {
   "cell_type": "code",
   "execution_count": 18,
   "id": "60b924e6",
   "metadata": {
    "execution": {
     "iopub.execute_input": "2023-09-13T15:35:24.608746Z",
     "iopub.status.busy": "2023-09-13T15:35:24.608429Z",
     "iopub.status.idle": "2023-09-13T15:35:24.651486Z",
     "shell.execute_reply": "2023-09-13T15:35:24.650829Z",
     "shell.execute_reply.started": "2023-09-13T15:35:24.608711Z"
    },
    "tags": []
   },
   "outputs": [
    {
     "data": {
      "application/vnd.jupyter.widget-view+json": {
       "model_id": "17e787dce6a84b5e89306e37540211ff",
       "version_major": 2,
       "version_minor": 0
      },
      "text/plain": [
       "VBox()"
      ]
     },
     "metadata": {},
     "output_type": "display_data"
    },
    {
     "data": {
      "application/vnd.jupyter.widget-view+json": {
       "model_id": "",
       "version_major": 2,
       "version_minor": 0
      },
      "text/plain": [
       "FloatProgress(value=0.0, bar_style='info', description='Progress:', layout=Layout(height='25px', width='50%'),…"
      ]
     },
     "metadata": {},
     "output_type": "display_data"
    }
   ],
   "source": [
    "feature_cols = list(set(final.columns) - set([\"userId\", \"Cancel\", \"Cancellation Confirmation\"]))"
   ]
  },
  {
   "cell_type": "code",
   "execution_count": 19,
   "id": "83ecce25",
   "metadata": {
    "execution": {
     "iopub.execute_input": "2023-09-13T15:35:24.652899Z",
     "iopub.status.busy": "2023-09-13T15:35:24.652681Z",
     "iopub.status.idle": "2023-09-13T15:35:24.692088Z",
     "shell.execute_reply": "2023-09-13T15:35:24.691328Z",
     "shell.execute_reply.started": "2023-09-13T15:35:24.652876Z"
    },
    "tags": []
   },
   "outputs": [
    {
     "data": {
      "application/vnd.jupyter.widget-view+json": {
       "model_id": "795261a5472b4f18a66ae8f5675d343a",
       "version_major": 2,
       "version_minor": 0
      },
      "text/plain": [
       "VBox()"
      ]
     },
     "metadata": {},
     "output_type": "display_data"
    },
    {
     "data": {
      "application/vnd.jupyter.widget-view+json": {
       "model_id": "",
       "version_major": 2,
       "version_minor": 0
      },
      "text/plain": [
       "FloatProgress(value=0.0, bar_style='info', description='Progress:', layout=Layout(height='25px', width='50%'),…"
      ]
     },
     "metadata": {},
     "output_type": "display_data"
    },
    {
     "name": "stdout",
     "output_type": "stream",
     "text": [
      "VectorAssembler_09d783a7f346"
     ]
    }
   ],
   "source": [
    "vec_assembler = VectorAssembler(outputCol=\"features\")\n",
    "vec_assembler.setInputCols(feature_cols)"
   ]
  },
  {
   "cell_type": "code",
   "execution_count": 20,
   "id": "aaea6bd9",
   "metadata": {
    "execution": {
     "iopub.execute_input": "2023-09-13T15:35:24.693302Z",
     "iopub.status.busy": "2023-09-13T15:35:24.693077Z",
     "iopub.status.idle": "2023-09-13T15:35:25.437533Z",
     "shell.execute_reply": "2023-09-13T15:35:25.436872Z",
     "shell.execute_reply.started": "2023-09-13T15:35:24.693280Z"
    },
    "tags": []
   },
   "outputs": [
    {
     "data": {
      "application/vnd.jupyter.widget-view+json": {
       "model_id": "f29e54120f504b3db67ff7a1d4f08263",
       "version_major": 2,
       "version_minor": 0
      },
      "text/plain": [
       "VBox()"
      ]
     },
     "metadata": {},
     "output_type": "display_data"
    },
    {
     "data": {
      "application/vnd.jupyter.widget-view+json": {
       "model_id": "",
       "version_major": 2,
       "version_minor": 0
      },
      "text/plain": [
       "FloatProgress(value=0.0, bar_style='info', description='Progress:', layout=Layout(height='25px', width='50%'),…"
      ]
     },
     "metadata": {},
     "output_type": "display_data"
    }
   ],
   "source": [
    "trainingData = vec_assembler.transform(train_df).select(\"features\", final[\"Cancellation Confirmation\"].alias(\"label\")).cache()\n",
    "testData = vec_assembler.transform(test_df).select(\"features\", final[\"Cancellation Confirmation\"].alias(\"label\")).cache()"
   ]
  },
  {
   "cell_type": "markdown",
   "id": "36c572df",
   "metadata": {},
   "source": [
    "## Gradient boosted trees"
   ]
  },
  {
   "cell_type": "code",
   "execution_count": 21,
   "id": "6d7bb0f9",
   "metadata": {
    "execution": {
     "iopub.execute_input": "2023-09-13T15:35:25.438793Z",
     "iopub.status.busy": "2023-09-13T15:35:25.438546Z",
     "iopub.status.idle": "2023-09-13T15:36:19.504880Z",
     "shell.execute_reply": "2023-09-13T15:36:19.461142Z",
     "shell.execute_reply.started": "2023-09-13T15:35:25.438769Z"
    },
    "tags": []
   },
   "outputs": [
    {
     "data": {
      "application/vnd.jupyter.widget-view+json": {
       "model_id": "4f1fd9406cff487a937ec8a7991ee67d",
       "version_major": 2,
       "version_minor": 0
      },
      "text/plain": [
       "VBox()"
      ]
     },
     "metadata": {},
     "output_type": "display_data"
    },
    {
     "data": {
      "application/vnd.jupyter.widget-view+json": {
       "model_id": "",
       "version_major": 2,
       "version_minor": 0
      },
      "text/plain": [
       "FloatProgress(value=0.0, bar_style='info', description='Progress:', layout=Layout(height='25px', width='50%'),…"
      ]
     },
     "metadata": {},
     "output_type": "display_data"
    }
   ],
   "source": [
    "from pyspark.ml.classification import GBTClassifier\n",
    "gbt = GBTClassifier(maxIter=5, maxDepth=5, labelCol=\"label\", seed=42,\n",
    "    leafCol=\"leafId\")\n",
    "\n",
    "model = gbt.fit(trainingData)"
   ]
  },
  {
   "cell_type": "code",
   "execution_count": 22,
   "id": "99e50c84",
   "metadata": {
    "execution": {
     "iopub.execute_input": "2023-09-13T15:36:19.529607Z",
     "iopub.status.busy": "2023-09-13T15:36:19.529350Z",
     "iopub.status.idle": "2023-09-13T15:36:49.415663Z",
     "shell.execute_reply": "2023-09-13T15:36:49.414814Z",
     "shell.execute_reply.started": "2023-09-13T15:36:19.529583Z"
    },
    "scrolled": true,
    "tags": []
   },
   "outputs": [
    {
     "data": {
      "application/vnd.jupyter.widget-view+json": {
       "model_id": "4f5af84313604434a83f6d38890236c6",
       "version_major": 2,
       "version_minor": 0
      },
      "text/plain": [
       "VBox()"
      ]
     },
     "metadata": {},
     "output_type": "display_data"
    },
    {
     "data": {
      "application/vnd.jupyter.widget-view+json": {
       "model_id": "",
       "version_major": 2,
       "version_minor": 0
      },
      "text/plain": [
       "FloatProgress(value=0.0, bar_style='info', description='Progress:', layout=Layout(height='25px', width='50%'),…"
      ]
     },
     "metadata": {},
     "output_type": "display_data"
    }
   ],
   "source": [
    "# Evaluate model on test instances and compute test error\n",
    "predictions = model.transform(testData)\n",
    "predictions_df = predictions.toPandas()"
   ]
  },
  {
   "cell_type": "code",
   "execution_count": 23,
   "id": "9bbd6f7c",
   "metadata": {
    "execution": {
     "iopub.execute_input": "2023-09-13T15:36:49.418359Z",
     "iopub.status.busy": "2023-09-13T15:36:49.418030Z",
     "iopub.status.idle": "2023-09-13T15:36:49.469282Z",
     "shell.execute_reply": "2023-09-13T15:36:49.468548Z",
     "shell.execute_reply.started": "2023-09-13T15:36:49.418324Z"
    },
    "tags": []
   },
   "outputs": [
    {
     "data": {
      "application/vnd.jupyter.widget-view+json": {
       "model_id": "e6323aea42344067baca85a949380e96",
       "version_major": 2,
       "version_minor": 0
      },
      "text/plain": [
       "VBox()"
      ]
     },
     "metadata": {},
     "output_type": "display_data"
    },
    {
     "data": {
      "application/vnd.jupyter.widget-view+json": {
       "model_id": "",
       "version_major": 2,
       "version_minor": 0
      },
      "text/plain": [
       "FloatProgress(value=0.0, bar_style='info', description='Progress:', layout=Layout(height='25px', width='50%'),…"
      ]
     },
     "metadata": {},
     "output_type": "display_data"
    },
    {
     "name": "stdout",
     "output_type": "stream",
     "text": [
      "(0.8718190386427899, 0.6117724867724867)"
     ]
    }
   ],
   "source": [
    "tn = (predictions_df[\"prediction\"] + predictions_df[\"label\"] == 0).sum()\n",
    "tp = (predictions_df[\"prediction\"] + predictions_df[\"label\"] == 2).sum()\n",
    "fn = (predictions_df[\"prediction\"] < predictions_df[\"label\"]).sum()\n",
    "fp = (predictions_df[\"prediction\"] > predictions_df[\"label\"]).sum()\n",
    "precision = tp / (tp+fp)\n",
    "recall = tp / (tp+fn)\n",
    "precision, recall"
   ]
  },
  {
   "cell_type": "markdown",
   "id": "9b70b595",
   "metadata": {},
   "source": [
    "Not the best results, let's try some cross validation and grid-searching."
   ]
  },
  {
   "cell_type": "code",
   "execution_count": 24,
   "id": "e2c243a0",
   "metadata": {
    "execution": {
     "iopub.execute_input": "2023-09-13T15:37:31.465114Z",
     "iopub.status.busy": "2023-09-13T15:37:31.464800Z",
     "iopub.status.idle": "2023-09-13T15:37:31.503416Z",
     "shell.execute_reply": "2023-09-13T15:37:31.502717Z",
     "shell.execute_reply.started": "2023-09-13T15:37:31.465089Z"
    },
    "tags": []
   },
   "outputs": [
    {
     "data": {
      "application/vnd.jupyter.widget-view+json": {
       "model_id": "af6bce8285214867997c651382ac3a69",
       "version_major": 2,
       "version_minor": 0
      },
      "text/plain": [
       "VBox()"
      ]
     },
     "metadata": {},
     "output_type": "display_data"
    },
    {
     "data": {
      "application/vnd.jupyter.widget-view+json": {
       "model_id": "",
       "version_major": 2,
       "version_minor": 0
      },
      "text/plain": [
       "FloatProgress(value=0.0, bar_style='info', description='Progress:', layout=Layout(height='25px', width='50%'),…"
      ]
     },
     "metadata": {},
     "output_type": "display_data"
    }
   ],
   "source": [
    "from pyspark.ml.evaluation import BinaryClassificationEvaluator\n",
    "from pyspark.ml.tuning import CrossValidator, ParamGridBuilder, CrossValidatorModel\n",
    "import tempfile"
   ]
  },
  {
   "cell_type": "code",
   "execution_count": 25,
   "id": "34cffb3a",
   "metadata": {
    "execution": {
     "iopub.execute_input": "2023-09-13T15:37:35.314017Z",
     "iopub.status.busy": "2023-09-13T15:37:35.313707Z",
     "iopub.status.idle": "2023-09-13T16:42:08.362271Z",
     "shell.execute_reply": "2023-09-13T16:42:08.361513Z",
     "shell.execute_reply.started": "2023-09-13T15:37:35.313990Z"
    },
    "tags": []
   },
   "outputs": [
    {
     "data": {
      "application/vnd.jupyter.widget-view+json": {
       "model_id": "737feaf194ed44a18c2b03b89c8fa9b9",
       "version_major": 2,
       "version_minor": 0
      },
      "text/plain": [
       "VBox()"
      ]
     },
     "metadata": {},
     "output_type": "display_data"
    },
    {
     "data": {
      "application/vnd.jupyter.widget-view+json": {
       "model_id": "",
       "version_major": 2,
       "version_minor": 0
      },
      "text/plain": [
       "FloatProgress(value=0.0, bar_style='info', description='Progress:', layout=Layout(height='25px', width='50%'),…"
      ]
     },
     "metadata": {},
     "output_type": "display_data"
    },
    {
     "name": "stderr",
     "output_type": "stream",
     "text": [
      "Exception in thread cell_monitor-24:\n",
      "Traceback (most recent call last):\n",
      "  File \"/mnt/notebook-env/lib/python3.7/threading.py\", line 926, in _bootstrap_inner\n",
      "    self.run()\n",
      "  File \"/mnt/notebook-env/lib/python3.7/threading.py\", line 870, in run\n",
      "    self._target(*self._args, **self._kwargs)\n",
      "  File \"/mnt/notebook-env/lib/python3.7/site-packages/awseditorssparkmonitoringwidget-1.0-py3.7.egg/awseditorssparkmonitoringwidget/cellmonitor.py\", line 154, in cell_monitor\n",
      "    job_group_filtered_jobs = [job for job in jobs_data if job['jobGroup'] == str(statement_id)]\n",
      "  File \"/mnt/notebook-env/lib/python3.7/site-packages/awseditorssparkmonitoringwidget-1.0-py3.7.egg/awseditorssparkmonitoringwidget/cellmonitor.py\", line 154, in <listcomp>\n",
      "    job_group_filtered_jobs = [job for job in jobs_data if job['jobGroup'] == str(statement_id)]\n",
      "KeyError: 'jobGroup'\n",
      "\n",
      "Exception in thread cell_monitor-25:\n",
      "Traceback (most recent call last):\n",
      "  File \"/mnt/notebook-env/lib/python3.7/threading.py\", line 926, in _bootstrap_inner\n",
      "    self.run()\n",
      "  File \"/mnt/notebook-env/lib/python3.7/threading.py\", line 870, in run\n",
      "    self._target(*self._args, **self._kwargs)\n",
      "  File \"/mnt/notebook-env/lib/python3.7/site-packages/awseditorssparkmonitoringwidget-1.0-py3.7.egg/awseditorssparkmonitoringwidget/cellmonitor.py\", line 154, in cell_monitor\n",
      "    job_group_filtered_jobs = [job for job in jobs_data if job['jobGroup'] == str(statement_id)]\n",
      "  File \"/mnt/notebook-env/lib/python3.7/site-packages/awseditorssparkmonitoringwidget-1.0-py3.7.egg/awseditorssparkmonitoringwidget/cellmonitor.py\", line 154, in <listcomp>\n",
      "    job_group_filtered_jobs = [job for job in jobs_data if job['jobGroup'] == str(statement_id)]\n",
      "KeyError: 'jobGroup'\n",
      "\n"
     ]
    }
   ],
   "source": [
    "gbt = GBTClassifier(maxIter=5, maxDepth=5, labelCol=\"label\", seed=42,\n",
    "    leafCol=\"leafId\")\n",
    "grid = ParamGridBuilder() \\\n",
    "    .addGrid(gbt.maxIter, [5, 10, 50]) \\\n",
    "    .addGrid(gbt.maxDepth, [2, 5, 10]) \\\n",
    "    .build()\n",
    "evaluator = BinaryClassificationEvaluator(metricName=\"areaUnderPR\")\n",
    "cv = CrossValidator(estimator=gbt, estimatorParamMaps=grid, evaluator=evaluator, parallelism=6)\n",
    "\n",
    "cvModel = cv.fit(trainingData)"
   ]
  },
  {
   "cell_type": "code",
   "execution_count": 26,
   "id": "6b1690a1",
   "metadata": {
    "execution": {
     "iopub.execute_input": "2023-09-13T16:42:08.363714Z",
     "iopub.status.busy": "2023-09-13T16:42:08.363477Z",
     "iopub.status.idle": "2023-09-13T16:42:08.403664Z",
     "shell.execute_reply": "2023-09-13T16:42:08.402932Z",
     "shell.execute_reply.started": "2023-09-13T16:42:08.363691Z"
    },
    "tags": []
   },
   "outputs": [
    {
     "data": {
      "application/vnd.jupyter.widget-view+json": {
       "model_id": "e030fde02ba043868a005347968b3e04",
       "version_major": 2,
       "version_minor": 0
      },
      "text/plain": [
       "VBox()"
      ]
     },
     "metadata": {},
     "output_type": "display_data"
    },
    {
     "data": {
      "application/vnd.jupyter.widget-view+json": {
       "model_id": "",
       "version_major": 2,
       "version_minor": 0
      },
      "text/plain": [
       "FloatProgress(value=0.0, bar_style='info', description='Progress:', layout=Layout(height='25px', width='50%'),…"
      ]
     },
     "metadata": {},
     "output_type": "display_data"
    },
    {
     "name": "stdout",
     "output_type": "stream",
     "text": [
      "5"
     ]
    }
   ],
   "source": [
    "cvModel.bestModel.getMaxDepth()"
   ]
  },
  {
   "cell_type": "code",
   "execution_count": 27,
   "id": "0dca1888",
   "metadata": {
    "execution": {
     "iopub.execute_input": "2023-09-13T16:42:08.405462Z",
     "iopub.status.busy": "2023-09-13T16:42:08.405081Z",
     "iopub.status.idle": "2023-09-13T16:42:08.463485Z",
     "shell.execute_reply": "2023-09-13T16:42:08.462772Z",
     "shell.execute_reply.started": "2023-09-13T16:42:08.405436Z"
    },
    "tags": []
   },
   "outputs": [
    {
     "data": {
      "application/vnd.jupyter.widget-view+json": {
       "model_id": "905a3e337a8945329da4f49e8fe61b97",
       "version_major": 2,
       "version_minor": 0
      },
      "text/plain": [
       "VBox()"
      ]
     },
     "metadata": {},
     "output_type": "display_data"
    },
    {
     "name": "stderr",
     "output_type": "stream",
     "text": [
      "Exception in thread cell_monitor-26:\n",
      "Traceback (most recent call last):\n",
      "  File \"/mnt/notebook-env/lib/python3.7/threading.py\", line 926, in _bootstrap_inner\n",
      "    self.run()\n",
      "  File \"/mnt/notebook-env/lib/python3.7/threading.py\", line 870, in run\n",
      "    self._target(*self._args, **self._kwargs)\n",
      "  File \"/mnt/notebook-env/lib/python3.7/site-packages/awseditorssparkmonitoringwidget-1.0-py3.7.egg/awseditorssparkmonitoringwidget/cellmonitor.py\", line 154, in cell_monitor\n",
      "    job_group_filtered_jobs = [job for job in jobs_data if job['jobGroup'] == str(statement_id)]\n",
      "  File \"/mnt/notebook-env/lib/python3.7/site-packages/awseditorssparkmonitoringwidget-1.0-py3.7.egg/awseditorssparkmonitoringwidget/cellmonitor.py\", line 154, in <listcomp>\n",
      "    job_group_filtered_jobs = [job for job in jobs_data if job['jobGroup'] == str(statement_id)]\n",
      "KeyError: 'jobGroup'\n",
      "\n"
     ]
    },
    {
     "data": {
      "application/vnd.jupyter.widget-view+json": {
       "model_id": "",
       "version_major": 2,
       "version_minor": 0
      },
      "text/plain": [
       "FloatProgress(value=0.0, bar_style='info', description='Progress:', layout=Layout(height='25px', width='50%'),…"
      ]
     },
     "metadata": {},
     "output_type": "display_data"
    },
    {
     "name": "stdout",
     "output_type": "stream",
     "text": [
      "50"
     ]
    },
    {
     "name": "stderr",
     "output_type": "stream",
     "text": [
      "Exception in thread cell_monitor-27:\n",
      "Traceback (most recent call last):\n",
      "  File \"/mnt/notebook-env/lib/python3.7/threading.py\", line 926, in _bootstrap_inner\n",
      "    self.run()\n",
      "  File \"/mnt/notebook-env/lib/python3.7/threading.py\", line 870, in run\n",
      "    self._target(*self._args, **self._kwargs)\n",
      "  File \"/mnt/notebook-env/lib/python3.7/site-packages/awseditorssparkmonitoringwidget-1.0-py3.7.egg/awseditorssparkmonitoringwidget/cellmonitor.py\", line 154, in cell_monitor\n",
      "    job_group_filtered_jobs = [job for job in jobs_data if job['jobGroup'] == str(statement_id)]\n",
      "  File \"/mnt/notebook-env/lib/python3.7/site-packages/awseditorssparkmonitoringwidget-1.0-py3.7.egg/awseditorssparkmonitoringwidget/cellmonitor.py\", line 154, in <listcomp>\n",
      "    job_group_filtered_jobs = [job for job in jobs_data if job['jobGroup'] == str(statement_id)]\n",
      "KeyError: 'jobGroup'\n",
      "\n"
     ]
    }
   ],
   "source": [
    "cvModel.bestModel.getMaxIter()"
   ]
  },
  {
   "cell_type": "code",
   "execution_count": 29,
   "id": "f4c0587c",
   "metadata": {
    "execution": {
     "iopub.execute_input": "2023-09-13T16:42:08.501221Z",
     "iopub.status.busy": "2023-09-13T16:42:08.500707Z",
     "iopub.status.idle": "2023-09-13T16:42:10.792340Z",
     "shell.execute_reply": "2023-09-13T16:42:10.791613Z",
     "shell.execute_reply.started": "2023-09-13T16:42:08.501185Z"
    },
    "tags": []
   },
   "outputs": [
    {
     "data": {
      "application/vnd.jupyter.widget-view+json": {
       "model_id": "115b96cb1b5c4968af7ccd8f1ff68094",
       "version_major": 2,
       "version_minor": 0
      },
      "text/plain": [
       "VBox()"
      ]
     },
     "metadata": {},
     "output_type": "display_data"
    },
    {
     "name": "stderr",
     "output_type": "stream",
     "text": [
      "Exception in thread cell_monitor-28:\n",
      "Traceback (most recent call last):\n",
      "  File \"/mnt/notebook-env/lib/python3.7/threading.py\", line 926, in _bootstrap_inner\n",
      "    self.run()\n",
      "  File \"/mnt/notebook-env/lib/python3.7/threading.py\", line 870, in run\n",
      "    self._target(*self._args, **self._kwargs)\n",
      "  File \"/mnt/notebook-env/lib/python3.7/site-packages/awseditorssparkmonitoringwidget-1.0-py3.7.egg/awseditorssparkmonitoringwidget/cellmonitor.py\", line 154, in cell_monitor\n",
      "    job_group_filtered_jobs = [job for job in jobs_data if job['jobGroup'] == str(statement_id)]\n",
      "  File \"/mnt/notebook-env/lib/python3.7/site-packages/awseditorssparkmonitoringwidget-1.0-py3.7.egg/awseditorssparkmonitoringwidget/cellmonitor.py\", line 154, in <listcomp>\n",
      "    job_group_filtered_jobs = [job for job in jobs_data if job['jobGroup'] == str(statement_id)]\n",
      "KeyError: 'jobGroup'\n",
      "\n"
     ]
    },
    {
     "data": {
      "application/vnd.jupyter.widget-view+json": {
       "model_id": "",
       "version_major": 2,
       "version_minor": 0
      },
      "text/plain": [
       "FloatProgress(value=0.0, bar_style='info', description='Progress:', layout=Layout(height='25px', width='50%'),…"
      ]
     },
     "metadata": {},
     "output_type": "display_data"
    },
    {
     "name": "stderr",
     "output_type": "stream",
     "text": [
      "Exception in thread cell_monitor-29:\n",
      "Traceback (most recent call last):\n",
      "  File \"/mnt/notebook-env/lib/python3.7/threading.py\", line 926, in _bootstrap_inner\n",
      "    self.run()\n",
      "  File \"/mnt/notebook-env/lib/python3.7/threading.py\", line 870, in run\n",
      "    self._target(*self._args, **self._kwargs)\n",
      "  File \"/mnt/notebook-env/lib/python3.7/site-packages/awseditorssparkmonitoringwidget-1.0-py3.7.egg/awseditorssparkmonitoringwidget/cellmonitor.py\", line 154, in cell_monitor\n",
      "    job_group_filtered_jobs = [job for job in jobs_data if job['jobGroup'] == str(statement_id)]\n",
      "  File \"/mnt/notebook-env/lib/python3.7/site-packages/awseditorssparkmonitoringwidget-1.0-py3.7.egg/awseditorssparkmonitoringwidget/cellmonitor.py\", line 154, in <listcomp>\n",
      "    job_group_filtered_jobs = [job for job in jobs_data if job['jobGroup'] == str(statement_id)]\n",
      "KeyError: 'jobGroup'\n",
      "\n"
     ]
    },
    {
     "name": "stdout",
     "output_type": "stream",
     "text": [
      "(0.8590831918505942, 0.6693121693121693)"
     ]
    }
   ],
   "source": [
    "# Evaluate model on test instances and compute test error\n",
    "predictions = cvModel.bestModel.transform(testData)\n",
    "predictions_df = predictions.toPandas()\n",
    "tn = (predictions_df[\"prediction\"] + predictions_df[\"label\"] == 0).sum()\n",
    "tp = (predictions_df[\"prediction\"] + predictions_df[\"label\"] == 2).sum()\n",
    "fn = (predictions_df[\"prediction\"] < predictions_df[\"label\"]).sum()\n",
    "fp = (predictions_df[\"prediction\"] > predictions_df[\"label\"]).sum()\n",
    "precision = tp / (tp+fp)\n",
    "recall = tp / (tp+fn)\n",
    "precision, recall"
   ]
  },
  {
   "cell_type": "markdown",
   "id": "c9536dd2",
   "metadata": {},
   "source": [
    "Much better score on recall than the default model. We could tweak the prediction to try and squeeze a bit more recall out of the model."
   ]
  },
  {
   "cell_type": "markdown",
   "id": "8df2a640",
   "metadata": {},
   "source": [
    "## LinearSVM"
   ]
  },
  {
   "cell_type": "code",
   "execution_count": 30,
   "id": "685aca07",
   "metadata": {
    "execution": {
     "iopub.execute_input": "2023-09-13T16:42:10.793622Z",
     "iopub.status.busy": "2023-09-13T16:42:10.793388Z",
     "iopub.status.idle": "2023-09-13T16:42:10.831402Z",
     "shell.execute_reply": "2023-09-13T16:42:10.830292Z",
     "shell.execute_reply.started": "2023-09-13T16:42:10.793599Z"
    },
    "tags": []
   },
   "outputs": [
    {
     "data": {
      "application/vnd.jupyter.widget-view+json": {
       "model_id": "a694d105e23940f8a691cefa30a13bf3",
       "version_major": 2,
       "version_minor": 0
      },
      "text/plain": [
       "VBox()"
      ]
     },
     "metadata": {},
     "output_type": "display_data"
    },
    {
     "data": {
      "application/vnd.jupyter.widget-view+json": {
       "model_id": "",
       "version_major": 2,
       "version_minor": 0
      },
      "text/plain": [
       "FloatProgress(value=0.0, bar_style='info', description='Progress:', layout=Layout(height='25px', width='50%'),…"
      ]
     },
     "metadata": {},
     "output_type": "display_data"
    }
   ],
   "source": [
    "from pyspark.ml.classification import LinearSVC"
   ]
  },
  {
   "cell_type": "code",
   "execution_count": 31,
   "id": "2ae05252",
   "metadata": {
    "execution": {
     "iopub.execute_input": "2023-09-13T16:42:10.833301Z",
     "iopub.status.busy": "2023-09-13T16:42:10.832937Z",
     "iopub.status.idle": "2023-09-13T16:42:10.881473Z",
     "shell.execute_reply": "2023-09-13T16:42:10.880327Z",
     "shell.execute_reply.started": "2023-09-13T16:42:10.833248Z"
    },
    "tags": []
   },
   "outputs": [
    {
     "data": {
      "application/vnd.jupyter.widget-view+json": {
       "model_id": "783dd287c1974efdabd9f812efb65bc9",
       "version_major": 2,
       "version_minor": 0
      },
      "text/plain": [
       "VBox()"
      ]
     },
     "metadata": {},
     "output_type": "display_data"
    },
    {
     "name": "stderr",
     "output_type": "stream",
     "text": [
      "Exception in thread cell_monitor-30:\n",
      "Traceback (most recent call last):\n",
      "  File \"/mnt/notebook-env/lib/python3.7/threading.py\", line 926, in _bootstrap_inner\n",
      "    self.run()\n",
      "  File \"/mnt/notebook-env/lib/python3.7/threading.py\", line 870, in run\n",
      "    self._target(*self._args, **self._kwargs)\n",
      "  File \"/mnt/notebook-env/lib/python3.7/site-packages/awseditorssparkmonitoringwidget-1.0-py3.7.egg/awseditorssparkmonitoringwidget/cellmonitor.py\", line 154, in cell_monitor\n",
      "    job_group_filtered_jobs = [job for job in jobs_data if job['jobGroup'] == str(statement_id)]\n",
      "  File \"/mnt/notebook-env/lib/python3.7/site-packages/awseditorssparkmonitoringwidget-1.0-py3.7.egg/awseditorssparkmonitoringwidget/cellmonitor.py\", line 154, in <listcomp>\n",
      "    job_group_filtered_jobs = [job for job in jobs_data if job['jobGroup'] == str(statement_id)]\n",
      "KeyError: 'jobGroup'\n",
      "\n"
     ]
    },
    {
     "data": {
      "application/vnd.jupyter.widget-view+json": {
       "model_id": "",
       "version_major": 2,
       "version_minor": 0
      },
      "text/plain": [
       "FloatProgress(value=0.0, bar_style='info', description='Progress:', layout=Layout(height='25px', width='50%'),…"
      ]
     },
     "metadata": {},
     "output_type": "display_data"
    }
   ],
   "source": [
    "from pyspark.ml.feature import RobustScaler"
   ]
  },
  {
   "cell_type": "code",
   "execution_count": 32,
   "id": "6bbe9d4a",
   "metadata": {
    "execution": {
     "iopub.execute_input": "2023-09-13T16:42:10.884869Z",
     "iopub.status.busy": "2023-09-13T16:42:10.884372Z",
     "iopub.status.idle": "2023-09-13T16:42:13.165047Z",
     "shell.execute_reply": "2023-09-13T16:42:13.164307Z",
     "shell.execute_reply.started": "2023-09-13T16:42:10.884840Z"
    },
    "tags": []
   },
   "outputs": [
    {
     "data": {
      "application/vnd.jupyter.widget-view+json": {
       "model_id": "cef0a29785f640268c2e8772c9a91f41",
       "version_major": 2,
       "version_minor": 0
      },
      "text/plain": [
       "VBox()"
      ]
     },
     "metadata": {},
     "output_type": "display_data"
    },
    {
     "name": "stderr",
     "output_type": "stream",
     "text": [
      "Exception in thread cell_monitor-31:\n",
      "Traceback (most recent call last):\n",
      "  File \"/mnt/notebook-env/lib/python3.7/threading.py\", line 926, in _bootstrap_inner\n",
      "    self.run()\n",
      "  File \"/mnt/notebook-env/lib/python3.7/threading.py\", line 870, in run\n",
      "    self._target(*self._args, **self._kwargs)\n",
      "  File \"/mnt/notebook-env/lib/python3.7/site-packages/awseditorssparkmonitoringwidget-1.0-py3.7.egg/awseditorssparkmonitoringwidget/cellmonitor.py\", line 154, in cell_monitor\n",
      "    job_group_filtered_jobs = [job for job in jobs_data if job['jobGroup'] == str(statement_id)]\n",
      "  File \"/mnt/notebook-env/lib/python3.7/site-packages/awseditorssparkmonitoringwidget-1.0-py3.7.egg/awseditorssparkmonitoringwidget/cellmonitor.py\", line 154, in <listcomp>\n",
      "    job_group_filtered_jobs = [job for job in jobs_data if job['jobGroup'] == str(statement_id)]\n",
      "KeyError: 'jobGroup'\n",
      "\n"
     ]
    },
    {
     "data": {
      "application/vnd.jupyter.widget-view+json": {
       "model_id": "",
       "version_major": 2,
       "version_minor": 0
      },
      "text/plain": [
       "FloatProgress(value=0.0, bar_style='info', description='Progress:', layout=Layout(height='25px', width='50%'),…"
      ]
     },
     "metadata": {},
     "output_type": "display_data"
    },
    {
     "name": "stderr",
     "output_type": "stream",
     "text": [
      "Exception in thread cell_monitor-32:\n",
      "Traceback (most recent call last):\n",
      "  File \"/mnt/notebook-env/lib/python3.7/threading.py\", line 926, in _bootstrap_inner\n",
      "    self.run()\n",
      "  File \"/mnt/notebook-env/lib/python3.7/threading.py\", line 870, in run\n",
      "    self._target(*self._args, **self._kwargs)\n",
      "  File \"/mnt/notebook-env/lib/python3.7/site-packages/awseditorssparkmonitoringwidget-1.0-py3.7.egg/awseditorssparkmonitoringwidget/cellmonitor.py\", line 154, in cell_monitor\n",
      "    job_group_filtered_jobs = [job for job in jobs_data if job['jobGroup'] == str(statement_id)]\n",
      "  File \"/mnt/notebook-env/lib/python3.7/site-packages/awseditorssparkmonitoringwidget-1.0-py3.7.egg/awseditorssparkmonitoringwidget/cellmonitor.py\", line 154, in <listcomp>\n",
      "    job_group_filtered_jobs = [job for job in jobs_data if job['jobGroup'] == str(statement_id)]\n",
      "KeyError: 'jobGroup'\n",
      "\n"
     ]
    }
   ],
   "source": [
    "r_scaler = RobustScaler(inputCol='features', outputCol=\"features_scaled\")\n",
    "robust_model = r_scaler.fit(trainingData)\n",
    "trainScaled = robust_model.transform(trainingData).cache()"
   ]
  },
  {
   "cell_type": "code",
   "execution_count": 33,
   "id": "ff211dbb",
   "metadata": {
    "execution": {
     "iopub.execute_input": "2023-09-13T16:42:13.166669Z",
     "iopub.status.busy": "2023-09-13T16:42:13.166409Z",
     "iopub.status.idle": "2023-09-13T16:43:57.529582Z",
     "shell.execute_reply": "2023-09-13T16:43:57.528670Z",
     "shell.execute_reply.started": "2023-09-13T16:42:13.166644Z"
    },
    "tags": []
   },
   "outputs": [
    {
     "data": {
      "application/vnd.jupyter.widget-view+json": {
       "model_id": "76db370ca7a44827b5e87f39228831db",
       "version_major": 2,
       "version_minor": 0
      },
      "text/plain": [
       "VBox()"
      ]
     },
     "metadata": {},
     "output_type": "display_data"
    },
    {
     "data": {
      "application/vnd.jupyter.widget-view+json": {
       "model_id": "",
       "version_major": 2,
       "version_minor": 0
      },
      "text/plain": [
       "FloatProgress(value=0.0, bar_style='info', description='Progress:', layout=Layout(height='25px', width='50%'),…"
      ]
     },
     "metadata": {},
     "output_type": "display_data"
    },
    {
     "name": "stderr",
     "output_type": "stream",
     "text": [
      "Exception in thread cell_monitor-33:\n",
      "Traceback (most recent call last):\n",
      "  File \"/mnt/notebook-env/lib/python3.7/threading.py\", line 926, in _bootstrap_inner\n",
      "    self.run()\n",
      "  File \"/mnt/notebook-env/lib/python3.7/threading.py\", line 870, in run\n",
      "    self._target(*self._args, **self._kwargs)\n",
      "  File \"/mnt/notebook-env/lib/python3.7/site-packages/awseditorssparkmonitoringwidget-1.0-py3.7.egg/awseditorssparkmonitoringwidget/cellmonitor.py\", line 154, in cell_monitor\n",
      "    job_group_filtered_jobs = [job for job in jobs_data if job['jobGroup'] == str(statement_id)]\n",
      "  File \"/mnt/notebook-env/lib/python3.7/site-packages/awseditorssparkmonitoringwidget-1.0-py3.7.egg/awseditorssparkmonitoringwidget/cellmonitor.py\", line 154, in <listcomp>\n",
      "    job_group_filtered_jobs = [job for job in jobs_data if job['jobGroup'] == str(statement_id)]\n",
      "KeyError: 'jobGroup'\n",
      "\n"
     ]
    }
   ],
   "source": [
    "svm = LinearSVC(regParam=0.01, featuresCol=\"features_scaled\")\n",
    "model = svm.fit(trainScaled)"
   ]
  },
  {
   "cell_type": "code",
   "execution_count": 34,
   "id": "bf499405",
   "metadata": {
    "execution": {
     "iopub.execute_input": "2023-09-13T16:43:57.531160Z",
     "iopub.status.busy": "2023-09-13T16:43:57.530837Z",
     "iopub.status.idle": "2023-09-13T16:43:57.789620Z",
     "shell.execute_reply": "2023-09-13T16:43:57.788683Z",
     "shell.execute_reply.started": "2023-09-13T16:43:57.531126Z"
    },
    "tags": []
   },
   "outputs": [
    {
     "data": {
      "application/vnd.jupyter.widget-view+json": {
       "model_id": "0e3e0e354d0847e6aab07b99b5c6d5bb",
       "version_major": 2,
       "version_minor": 0
      },
      "text/plain": [
       "VBox()"
      ]
     },
     "metadata": {},
     "output_type": "display_data"
    },
    {
     "data": {
      "application/vnd.jupyter.widget-view+json": {
       "model_id": "",
       "version_major": 2,
       "version_minor": 0
      },
      "text/plain": [
       "FloatProgress(value=0.0, bar_style='info', description='Progress:', layout=Layout(height='25px', width='50%'),…"
      ]
     },
     "metadata": {},
     "output_type": "display_data"
    },
    {
     "name": "stderr",
     "output_type": "stream",
     "text": [
      "Exception in thread cell_monitor-34:\n",
      "Traceback (most recent call last):\n",
      "  File \"/mnt/notebook-env/lib/python3.7/threading.py\", line 926, in _bootstrap_inner\n",
      "    self.run()\n",
      "  File \"/mnt/notebook-env/lib/python3.7/threading.py\", line 870, in run\n",
      "    self._target(*self._args, **self._kwargs)\n",
      "  File \"/mnt/notebook-env/lib/python3.7/site-packages/awseditorssparkmonitoringwidget-1.0-py3.7.egg/awseditorssparkmonitoringwidget/cellmonitor.py\", line 154, in cell_monitor\n",
      "    job_group_filtered_jobs = [job for job in jobs_data if job['jobGroup'] == str(statement_id)]\n",
      "  File \"/mnt/notebook-env/lib/python3.7/site-packages/awseditorssparkmonitoringwidget-1.0-py3.7.egg/awseditorssparkmonitoringwidget/cellmonitor.py\", line 154, in <listcomp>\n",
      "    job_group_filtered_jobs = [job for job in jobs_data if job['jobGroup'] == str(statement_id)]\n",
      "KeyError: 'jobGroup'\n",
      "\n"
     ]
    }
   ],
   "source": [
    "testScaled = robust_model.transform(testData).cache()"
   ]
  },
  {
   "cell_type": "code",
   "execution_count": 35,
   "id": "cce16613",
   "metadata": {
    "execution": {
     "iopub.execute_input": "2023-09-13T16:43:57.790877Z",
     "iopub.status.busy": "2023-09-13T16:43:57.790639Z",
     "iopub.status.idle": "2023-09-13T16:43:59.063532Z",
     "shell.execute_reply": "2023-09-13T16:43:59.062682Z",
     "shell.execute_reply.started": "2023-09-13T16:43:57.790854Z"
    },
    "tags": []
   },
   "outputs": [
    {
     "data": {
      "application/vnd.jupyter.widget-view+json": {
       "model_id": "1dc0176e73bd4de7a0feea83e808cb96",
       "version_major": 2,
       "version_minor": 0
      },
      "text/plain": [
       "VBox()"
      ]
     },
     "metadata": {},
     "output_type": "display_data"
    },
    {
     "data": {
      "application/vnd.jupyter.widget-view+json": {
       "model_id": "",
       "version_major": 2,
       "version_minor": 0
      },
      "text/plain": [
       "FloatProgress(value=0.0, bar_style='info', description='Progress:', layout=Layout(height='25px', width='50%'),…"
      ]
     },
     "metadata": {},
     "output_type": "display_data"
    },
    {
     "name": "stderr",
     "output_type": "stream",
     "text": [
      "Exception in thread cell_monitor-35:\n",
      "Traceback (most recent call last):\n",
      "  File \"/mnt/notebook-env/lib/python3.7/threading.py\", line 926, in _bootstrap_inner\n",
      "    self.run()\n",
      "  File \"/mnt/notebook-env/lib/python3.7/threading.py\", line 870, in run\n",
      "    self._target(*self._args, **self._kwargs)\n",
      "  File \"/mnt/notebook-env/lib/python3.7/site-packages/awseditorssparkmonitoringwidget-1.0-py3.7.egg/awseditorssparkmonitoringwidget/cellmonitor.py\", line 154, in cell_monitor\n",
      "    job_group_filtered_jobs = [job for job in jobs_data if job['jobGroup'] == str(statement_id)]\n",
      "  File \"/mnt/notebook-env/lib/python3.7/site-packages/awseditorssparkmonitoringwidget-1.0-py3.7.egg/awseditorssparkmonitoringwidget/cellmonitor.py\", line 154, in <listcomp>\n",
      "    job_group_filtered_jobs = [job for job in jobs_data if job['jobGroup'] == str(statement_id)]\n",
      "KeyError: 'jobGroup'\n",
      "\n"
     ]
    },
    {
     "name": "stdout",
     "output_type": "stream",
     "text": [
      "(0.7185185185185186, 0.5773809523809523)"
     ]
    }
   ],
   "source": [
    "# Evaluate model on test instances and compute test error\n",
    "predictions = model.transform(testScaled)\n",
    "predictions_df = predictions.toPandas()\n",
    "tn = (predictions_df[\"prediction\"] + predictions_df[\"label\"] == 0).sum()\n",
    "tp = (predictions_df[\"prediction\"] + predictions_df[\"label\"] == 2).sum()\n",
    "fn = (predictions_df[\"prediction\"] < predictions_df[\"label\"]).sum()\n",
    "fp = (predictions_df[\"prediction\"] > predictions_df[\"label\"]).sum()\n",
    "precision = tp / (tp+fp)\n",
    "recall = tp / (tp+fn)\n",
    "precision, recall"
   ]
  },
  {
   "cell_type": "code",
   "execution_count": 43,
   "id": "1e1b8abe",
   "metadata": {
    "execution": {
     "iopub.execute_input": "2023-09-13T17:05:37.701805Z",
     "iopub.status.busy": "2023-09-13T17:05:37.701508Z",
     "iopub.status.idle": "2023-09-13T17:55:52.862456Z",
     "shell.execute_reply": "2023-09-13T17:55:52.861847Z",
     "shell.execute_reply.started": "2023-09-13T17:05:37.701780Z"
    },
    "tags": []
   },
   "outputs": [
    {
     "data": {
      "application/vnd.jupyter.widget-view+json": {
       "model_id": "db41d03cabc24f9fa78bc5f033b8b48f",
       "version_major": 2,
       "version_minor": 0
      },
      "text/plain": [
       "VBox()"
      ]
     },
     "metadata": {},
     "output_type": "display_data"
    },
    {
     "data": {
      "application/vnd.jupyter.widget-view+json": {
       "model_id": "",
       "version_major": 2,
       "version_minor": 0
      },
      "text/plain": [
       "FloatProgress(value=0.0, bar_style='info', description='Progress:', layout=Layout(height='25px', width='50%'),…"
      ]
     },
     "metadata": {},
     "output_type": "display_data"
    },
    {
     "name": "stderr",
     "output_type": "stream",
     "text": [
      "Exception in thread cell_monitor-43:\n",
      "Traceback (most recent call last):\n",
      "  File \"/mnt/notebook-env/lib/python3.7/threading.py\", line 926, in _bootstrap_inner\n",
      "    self.run()\n",
      "  File \"/mnt/notebook-env/lib/python3.7/threading.py\", line 870, in run\n",
      "    self._target(*self._args, **self._kwargs)\n",
      "  File \"/mnt/notebook-env/lib/python3.7/site-packages/awseditorssparkmonitoringwidget-1.0-py3.7.egg/awseditorssparkmonitoringwidget/cellmonitor.py\", line 154, in cell_monitor\n",
      "    job_group_filtered_jobs = [job for job in jobs_data if job['jobGroup'] == str(statement_id)]\n",
      "  File \"/mnt/notebook-env/lib/python3.7/site-packages/awseditorssparkmonitoringwidget-1.0-py3.7.egg/awseditorssparkmonitoringwidget/cellmonitor.py\", line 154, in <listcomp>\n",
      "    job_group_filtered_jobs = [job for job in jobs_data if job['jobGroup'] == str(statement_id)]\n",
      "KeyError: 'jobGroup'\n",
      "\n"
     ]
    }
   ],
   "source": [
    "svm = LinearSVC(regParam=0.1, featuresCol=\"features_scaled\")\n",
    "grid = ParamGridBuilder() \\\n",
    "    .addGrid(svm.regParam, [0.001, 0.01, 0.1]) \\\n",
    "    .addGrid(svm.aggregationDepth, [2, 3, 4]) \\\n",
    "    .build()\n",
    "evaluator = BinaryClassificationEvaluator(metricName=\"areaUnderPR\")\n",
    "cv = CrossValidator(estimator=svm, estimatorParamMaps=grid, evaluator=evaluator, parallelism=6)\n",
    "\n",
    "cvModel = cv.fit(trainScaled)"
   ]
  },
  {
   "cell_type": "code",
   "execution_count": 44,
   "id": "0d1f671b-aca0-48f0-b033-259f55a70037",
   "metadata": {
    "execution": {
     "iopub.execute_input": "2023-09-13T17:55:52.864020Z",
     "iopub.status.busy": "2023-09-13T17:55:52.863774Z",
     "iopub.status.idle": "2023-09-13T17:55:52.899277Z",
     "shell.execute_reply": "2023-09-13T17:55:52.898600Z",
     "shell.execute_reply.started": "2023-09-13T17:55:52.863998Z"
    },
    "tags": []
   },
   "outputs": [
    {
     "data": {
      "application/vnd.jupyter.widget-view+json": {
       "model_id": "39b0b15da6dd48cfb59ddba33245de01",
       "version_major": 2,
       "version_minor": 0
      },
      "text/plain": [
       "VBox()"
      ]
     },
     "metadata": {},
     "output_type": "display_data"
    },
    {
     "data": {
      "application/vnd.jupyter.widget-view+json": {
       "model_id": "",
       "version_major": 2,
       "version_minor": 0
      },
      "text/plain": [
       "FloatProgress(value=0.0, bar_style='info', description='Progress:', layout=Layout(height='25px', width='50%'),…"
      ]
     },
     "metadata": {},
     "output_type": "display_data"
    }
   ],
   "source": [
    "def precision_recall(model, testData):\n",
    "    predictions = model.transform(testData)\n",
    "    predictions_df = predictions.toPandas()\n",
    "    tn = (predictions_df[\"prediction\"] + predictions_df[\"label\"] == 0).sum()\n",
    "    tp = (predictions_df[\"prediction\"] + predictions_df[\"label\"] == 2).sum()\n",
    "    fn = (predictions_df[\"prediction\"] < predictions_df[\"label\"]).sum()\n",
    "    fp = (predictions_df[\"prediction\"] > predictions_df[\"label\"]).sum()\n",
    "    precision = tp / (tp+fp)\n",
    "    recall = tp / (tp+fn)\n",
    "    return precision, recall, predictions_df"
   ]
  },
  {
   "cell_type": "code",
   "execution_count": 45,
   "id": "e1a690bd",
   "metadata": {
    "execution": {
     "iopub.execute_input": "2023-09-13T17:55:52.900718Z",
     "iopub.status.busy": "2023-09-13T17:55:52.900510Z",
     "iopub.status.idle": "2023-09-13T17:55:52.946860Z",
     "shell.execute_reply": "2023-09-13T17:55:52.946137Z",
     "shell.execute_reply.started": "2023-09-13T17:55:52.900696Z"
    },
    "scrolled": true,
    "tags": []
   },
   "outputs": [
    {
     "data": {
      "application/vnd.jupyter.widget-view+json": {
       "model_id": "0043a9ece5cb4ffbacea370e8f9de1ef",
       "version_major": 2,
       "version_minor": 0
      },
      "text/plain": [
       "VBox()"
      ]
     },
     "metadata": {},
     "output_type": "display_data"
    },
    {
     "name": "stderr",
     "output_type": "stream",
     "text": [
      "Exception in thread cell_monitor-44:\n",
      "Traceback (most recent call last):\n",
      "  File \"/mnt/notebook-env/lib/python3.7/threading.py\", line 926, in _bootstrap_inner\n",
      "    self.run()\n",
      "  File \"/mnt/notebook-env/lib/python3.7/threading.py\", line 870, in run\n",
      "    self._target(*self._args, **self._kwargs)\n",
      "  File \"/mnt/notebook-env/lib/python3.7/site-packages/awseditorssparkmonitoringwidget-1.0-py3.7.egg/awseditorssparkmonitoringwidget/cellmonitor.py\", line 154, in cell_monitor\n",
      "    job_group_filtered_jobs = [job for job in jobs_data if job['jobGroup'] == str(statement_id)]\n",
      "  File \"/mnt/notebook-env/lib/python3.7/site-packages/awseditorssparkmonitoringwidget-1.0-py3.7.egg/awseditorssparkmonitoringwidget/cellmonitor.py\", line 154, in <listcomp>\n",
      "    job_group_filtered_jobs = [job for job in jobs_data if job['jobGroup'] == str(statement_id)]\n",
      "KeyError: 'jobGroup'\n",
      "\n"
     ]
    },
    {
     "data": {
      "application/vnd.jupyter.widget-view+json": {
       "model_id": "",
       "version_major": 2,
       "version_minor": 0
      },
      "text/plain": [
       "FloatProgress(value=0.0, bar_style='info', description='Progress:', layout=Layout(height='25px', width='50%'),…"
      ]
     },
     "metadata": {},
     "output_type": "display_data"
    },
    {
     "name": "stderr",
     "output_type": "stream",
     "text": [
      "An error was encountered:\n",
      "'CrossValidator' object has no attribute 'bestModel'\n",
      "Traceback (most recent call last):\n",
      "AttributeError: 'CrossValidator' object has no attribute 'bestModel'\n",
      "\n"
     ]
    }
   ],
   "source": [
    "precision, recall, svm_predictions = precision_recall(cvModel.bestModel, testScaled)"
   ]
  },
  {
   "cell_type": "code",
   "execution_count": 46,
   "id": "fc8946ac-cac0-43b1-944c-2f98f480bb6c",
   "metadata": {
    "execution": {
     "iopub.execute_input": "2023-09-13T17:55:52.950010Z",
     "iopub.status.busy": "2023-09-13T17:55:52.948191Z",
     "iopub.status.idle": "2023-09-13T17:55:52.993156Z",
     "shell.execute_reply": "2023-09-13T17:55:52.992400Z",
     "shell.execute_reply.started": "2023-09-13T17:55:52.949975Z"
    },
    "tags": []
   },
   "outputs": [
    {
     "data": {
      "application/vnd.jupyter.widget-view+json": {
       "model_id": "bbb29850267f40f98b2eaf9d935cce10",
       "version_major": 2,
       "version_minor": 0
      },
      "text/plain": [
       "VBox()"
      ]
     },
     "metadata": {},
     "output_type": "display_data"
    },
    {
     "name": "stderr",
     "output_type": "stream",
     "text": [
      "Exception in thread cell_monitor-45:\n",
      "Traceback (most recent call last):\n",
      "  File \"/mnt/notebook-env/lib/python3.7/threading.py\", line 926, in _bootstrap_inner\n",
      "    self.run()\n",
      "  File \"/mnt/notebook-env/lib/python3.7/threading.py\", line 870, in run\n",
      "    self._target(*self._args, **self._kwargs)\n",
      "  File \"/mnt/notebook-env/lib/python3.7/site-packages/awseditorssparkmonitoringwidget-1.0-py3.7.egg/awseditorssparkmonitoringwidget/cellmonitor.py\", line 154, in cell_monitor\n",
      "    job_group_filtered_jobs = [job for job in jobs_data if job['jobGroup'] == str(statement_id)]\n",
      "  File \"/mnt/notebook-env/lib/python3.7/site-packages/awseditorssparkmonitoringwidget-1.0-py3.7.egg/awseditorssparkmonitoringwidget/cellmonitor.py\", line 154, in <listcomp>\n",
      "    job_group_filtered_jobs = [job for job in jobs_data if job['jobGroup'] == str(statement_id)]\n",
      "KeyError: 'jobGroup'\n",
      "\n"
     ]
    },
    {
     "data": {
      "application/vnd.jupyter.widget-view+json": {
       "model_id": "",
       "version_major": 2,
       "version_minor": 0
      },
      "text/plain": [
       "FloatProgress(value=0.0, bar_style='info', description='Progress:', layout=Layout(height='25px', width='50%'),…"
      ]
     },
     "metadata": {},
     "output_type": "display_data"
    },
    {
     "name": "stdout",
     "output_type": "stream",
     "text": [
      "(0.7185185185185186, 0.5773809523809523)"
     ]
    }
   ],
   "source": [
    "precision, recall"
   ]
  },
  {
   "cell_type": "code",
   "execution_count": 47,
   "id": "6440db39",
   "metadata": {
    "execution": {
     "iopub.execute_input": "2023-09-13T17:55:52.995938Z",
     "iopub.status.busy": "2023-09-13T17:55:52.995382Z",
     "iopub.status.idle": "2023-09-13T17:55:53.049239Z",
     "shell.execute_reply": "2023-09-13T17:55:53.047589Z",
     "shell.execute_reply.started": "2023-09-13T17:55:52.995903Z"
    },
    "tags": []
   },
   "outputs": [
    {
     "data": {
      "application/vnd.jupyter.widget-view+json": {
       "model_id": "d158e8787524455a866b18527f1188ee",
       "version_major": 2,
       "version_minor": 0
      },
      "text/plain": [
       "VBox()"
      ]
     },
     "metadata": {},
     "output_type": "display_data"
    },
    {
     "name": "stderr",
     "output_type": "stream",
     "text": [
      "Exception in thread cell_monitor-46:\n",
      "Traceback (most recent call last):\n",
      "  File \"/mnt/notebook-env/lib/python3.7/threading.py\", line 926, in _bootstrap_inner\n",
      "    self.run()\n",
      "  File \"/mnt/notebook-env/lib/python3.7/threading.py\", line 870, in run\n",
      "    self._target(*self._args, **self._kwargs)\n",
      "  File \"/mnt/notebook-env/lib/python3.7/site-packages/awseditorssparkmonitoringwidget-1.0-py3.7.egg/awseditorssparkmonitoringwidget/cellmonitor.py\", line 154, in cell_monitor\n",
      "    job_group_filtered_jobs = [job for job in jobs_data if job['jobGroup'] == str(statement_id)]\n",
      "  File \"/mnt/notebook-env/lib/python3.7/site-packages/awseditorssparkmonitoringwidget-1.0-py3.7.egg/awseditorssparkmonitoringwidget/cellmonitor.py\", line 154, in <listcomp>\n",
      "    job_group_filtered_jobs = [job for job in jobs_data if job['jobGroup'] == str(statement_id)]\n",
      "KeyError: 'jobGroup'\n",
      "\n"
     ]
    },
    {
     "data": {
      "application/vnd.jupyter.widget-view+json": {
       "model_id": "",
       "version_major": 2,
       "version_minor": 0
      },
      "text/plain": [
       "FloatProgress(value=0.0, bar_style='info', description='Progress:', layout=Layout(height='25px', width='50%'),…"
      ]
     },
     "metadata": {},
     "output_type": "display_data"
    },
    {
     "name": "stdout",
     "output_type": "stream",
     "text": [
      "(0.001, 2)"
     ]
    },
    {
     "name": "stderr",
     "output_type": "stream",
     "text": [
      "Exception in thread cell_monitor-47:\n",
      "Traceback (most recent call last):\n",
      "  File \"/mnt/notebook-env/lib/python3.7/threading.py\", line 926, in _bootstrap_inner\n",
      "    self.run()\n",
      "  File \"/mnt/notebook-env/lib/python3.7/threading.py\", line 870, in run\n",
      "    self._target(*self._args, **self._kwargs)\n",
      "  File \"/mnt/notebook-env/lib/python3.7/site-packages/awseditorssparkmonitoringwidget-1.0-py3.7.egg/awseditorssparkmonitoringwidget/cellmonitor.py\", line 154, in cell_monitor\n",
      "    job_group_filtered_jobs = [job for job in jobs_data if job['jobGroup'] == str(statement_id)]\n",
      "  File \"/mnt/notebook-env/lib/python3.7/site-packages/awseditorssparkmonitoringwidget-1.0-py3.7.egg/awseditorssparkmonitoringwidget/cellmonitor.py\", line 154, in <listcomp>\n",
      "    job_group_filtered_jobs = [job for job in jobs_data if job['jobGroup'] == str(statement_id)]\n",
      "KeyError: 'jobGroup'\n",
      "\n"
     ]
    }
   ],
   "source": [
    "cvModel.bestModel.getRegParam(), cvModel.bestModel.getAggregationDepth()"
   ]
  },
  {
   "cell_type": "markdown",
   "id": "efdc18c9-4a8a-4224-8433-168e2f7d32b3",
   "metadata": {},
   "source": [
    "After trying a variety of hyperparameters, it seems our Gradient Boosted Trees classifier still outperforms the Linear SVC despite our earlier results when using a subset of the data. Let's now adjust the threshold of our tree model using our best hyperparameters to try to increase recall as much as possible."
   ]
  },
  {
   "cell_type": "markdown",
   "id": "f0e916d5-d10f-44a3-b397-4c1cb53a140c",
   "metadata": {},
   "source": [
    "## Threshold Adjustment"
   ]
  },
  {
   "cell_type": "markdown",
   "id": "990f6070",
   "metadata": {},
   "source": [
    "### Training a model with the best params from the first GridSearch"
   ]
  },
  {
   "cell_type": "code",
   "execution_count": 54,
   "id": "3197698b-29f8-42bf-ab5b-ba40f51de11e",
   "metadata": {
    "execution": {
     "iopub.execute_input": "2023-09-13T18:27:07.724029Z",
     "iopub.status.busy": "2023-09-13T18:27:07.723727Z",
     "iopub.status.idle": "2023-09-13T18:29:35.997968Z",
     "shell.execute_reply": "2023-09-13T18:29:35.997234Z",
     "shell.execute_reply.started": "2023-09-13T18:27:07.724003Z"
    },
    "tags": []
   },
   "outputs": [
    {
     "data": {
      "application/vnd.jupyter.widget-view+json": {
       "model_id": "fe86a57587804a71b9ee0742fb771615",
       "version_major": 2,
       "version_minor": 0
      },
      "text/plain": [
       "VBox()"
      ]
     },
     "metadata": {},
     "output_type": "display_data"
    },
    {
     "data": {
      "application/vnd.jupyter.widget-view+json": {
       "model_id": "",
       "version_major": 2,
       "version_minor": 0
      },
      "text/plain": [
       "FloatProgress(value=0.0, bar_style='info', description='Progress:', layout=Layout(height='25px', width='50%'),…"
      ]
     },
     "metadata": {},
     "output_type": "display_data"
    },
    {
     "name": "stderr",
     "output_type": "stream",
     "text": [
      "Exception in thread cell_monitor-54:\n",
      "Traceback (most recent call last):\n",
      "  File \"/mnt/notebook-env/lib/python3.7/threading.py\", line 926, in _bootstrap_inner\n",
      "    self.run()\n",
      "  File \"/mnt/notebook-env/lib/python3.7/threading.py\", line 870, in run\n",
      "    self._target(*self._args, **self._kwargs)\n",
      "  File \"/mnt/notebook-env/lib/python3.7/site-packages/awseditorssparkmonitoringwidget-1.0-py3.7.egg/awseditorssparkmonitoringwidget/cellmonitor.py\", line 154, in cell_monitor\n",
      "    job_group_filtered_jobs = [job for job in jobs_data if job['jobGroup'] == str(statement_id)]\n",
      "  File \"/mnt/notebook-env/lib/python3.7/site-packages/awseditorssparkmonitoringwidget-1.0-py3.7.egg/awseditorssparkmonitoringwidget/cellmonitor.py\", line 154, in <listcomp>\n",
      "    job_group_filtered_jobs = [job for job in jobs_data if job['jobGroup'] == str(statement_id)]\n",
      "KeyError: 'jobGroup'\n",
      "\n"
     ]
    }
   ],
   "source": [
    "best_gbt = GBTClassifier(maxIter=50, maxDepth=5, labelCol=\"label\", seed=42,\n",
    "    leafCol=\"leafId\")\n",
    "best_gbt_model = best_gbt.fit(trainingData)"
   ]
  },
  {
   "cell_type": "code",
   "execution_count": 55,
   "id": "0e5f5fca-74e7-4afe-ba18-a1c21b4fa9bb",
   "metadata": {
    "execution": {
     "iopub.execute_input": "2023-09-13T18:29:35.999355Z",
     "iopub.status.busy": "2023-09-13T18:29:35.999096Z",
     "iopub.status.idle": "2023-09-13T18:29:38.276031Z",
     "shell.execute_reply": "2023-09-13T18:29:38.275373Z",
     "shell.execute_reply.started": "2023-09-13T18:29:35.999331Z"
    },
    "tags": []
   },
   "outputs": [
    {
     "data": {
      "application/vnd.jupyter.widget-view+json": {
       "model_id": "1de1176c81e84401b5a6037391c35c1e",
       "version_major": 2,
       "version_minor": 0
      },
      "text/plain": [
       "VBox()"
      ]
     },
     "metadata": {},
     "output_type": "display_data"
    },
    {
     "data": {
      "application/vnd.jupyter.widget-view+json": {
       "model_id": "",
       "version_major": 2,
       "version_minor": 0
      },
      "text/plain": [
       "FloatProgress(value=0.0, bar_style='info', description='Progress:', layout=Layout(height='25px', width='50%'),…"
      ]
     },
     "metadata": {},
     "output_type": "display_data"
    },
    {
     "name": "stderr",
     "output_type": "stream",
     "text": [
      "Exception in thread cell_monitor-55:\n",
      "Traceback (most recent call last):\n",
      "  File \"/mnt/notebook-env/lib/python3.7/threading.py\", line 926, in _bootstrap_inner\n",
      "    self.run()\n",
      "  File \"/mnt/notebook-env/lib/python3.7/threading.py\", line 870, in run\n",
      "    self._target(*self._args, **self._kwargs)\n",
      "  File \"/mnt/notebook-env/lib/python3.7/site-packages/awseditorssparkmonitoringwidget-1.0-py3.7.egg/awseditorssparkmonitoringwidget/cellmonitor.py\", line 154, in cell_monitor\n",
      "    job_group_filtered_jobs = [job for job in jobs_data if job['jobGroup'] == str(statement_id)]\n",
      "  File \"/mnt/notebook-env/lib/python3.7/site-packages/awseditorssparkmonitoringwidget-1.0-py3.7.egg/awseditorssparkmonitoringwidget/cellmonitor.py\", line 154, in <listcomp>\n",
      "    job_group_filtered_jobs = [job for job in jobs_data if job['jobGroup'] == str(statement_id)]\n",
      "KeyError: 'jobGroup'\n",
      "\n"
     ]
    }
   ],
   "source": [
    "# Evaluate model on test instances and compute test error\n",
    "predictions = best_gbt_model.transform(testData)\n",
    "predictions_df = predictions.toPandas()"
   ]
  },
  {
   "cell_type": "code",
   "execution_count": 56,
   "id": "4f495e0e-4d69-4948-8423-bd3965838117",
   "metadata": {
    "execution": {
     "iopub.execute_input": "2023-09-13T18:29:38.277553Z",
     "iopub.status.busy": "2023-09-13T18:29:38.277331Z",
     "iopub.status.idle": "2023-09-13T18:29:38.520700Z",
     "shell.execute_reply": "2023-09-13T18:29:38.519901Z",
     "shell.execute_reply.started": "2023-09-13T18:29:38.277530Z"
    },
    "tags": []
   },
   "outputs": [
    {
     "data": {
      "application/vnd.jupyter.widget-view+json": {
       "model_id": "63d6a7819c5e4c87996b8d98eb94d7ac",
       "version_major": 2,
       "version_minor": 0
      },
      "text/plain": [
       "VBox()"
      ]
     },
     "metadata": {},
     "output_type": "display_data"
    },
    {
     "data": {
      "application/vnd.jupyter.widget-view+json": {
       "model_id": "",
       "version_major": 2,
       "version_minor": 0
      },
      "text/plain": [
       "FloatProgress(value=0.0, bar_style='info', description='Progress:', layout=Layout(height='25px', width='50%'),…"
      ]
     },
     "metadata": {},
     "output_type": "display_data"
    },
    {
     "name": "stderr",
     "output_type": "stream",
     "text": [
      "Exception in thread cell_monitor-56:\n",
      "Traceback (most recent call last):\n",
      "  File \"/mnt/notebook-env/lib/python3.7/threading.py\", line 926, in _bootstrap_inner\n",
      "    self.run()\n",
      "  File \"/mnt/notebook-env/lib/python3.7/threading.py\", line 870, in run\n",
      "    self._target(*self._args, **self._kwargs)\n",
      "  File \"/mnt/notebook-env/lib/python3.7/site-packages/awseditorssparkmonitoringwidget-1.0-py3.7.egg/awseditorssparkmonitoringwidget/cellmonitor.py\", line 154, in cell_monitor\n",
      "    job_group_filtered_jobs = [job for job in jobs_data if job['jobGroup'] == str(statement_id)]\n",
      "  File \"/mnt/notebook-env/lib/python3.7/site-packages/awseditorssparkmonitoringwidget-1.0-py3.7.egg/awseditorssparkmonitoringwidget/cellmonitor.py\", line 154, in <listcomp>\n",
      "    job_group_filtered_jobs = [job for job in jobs_data if job['jobGroup'] == str(statement_id)]\n",
      "KeyError: 'jobGroup'\n",
      "\n"
     ]
    }
   ],
   "source": [
    "import numpy as np\n",
    "thresholds = np.linspace(0.15, 0.3, 100)\n",
    "raw_probs = np.stack(predictions_df[\"probability\"].map(lambda x: x.toArray()).values)[:, 1]\n",
    "results = {\"precision\": [], \"recall\": [], \"threshold\": []}\n",
    "for i in list(thresholds):\n",
    "    preds = raw_probs > i\n",
    "    tn = (preds + predictions_df[\"label\"] == 0).sum()\n",
    "    tp = (preds + predictions_df[\"label\"] == 2).sum()\n",
    "    fn = (preds < predictions_df[\"label\"]).sum()\n",
    "    fp = (preds > predictions_df[\"label\"]).sum()\n",
    "    precision = tp / (tp+fp)\n",
    "    recall = tp / (tp+fn)\n",
    "    results[\"threshold\"].append(i)\n",
    "    results[\"precision\"].append(precision)\n",
    "    results[\"recall\"].append(recall)"
   ]
  },
  {
   "cell_type": "code",
   "execution_count": 57,
   "id": "52c5d7d6-e448-41d2-80d9-97c25a14cf6f",
   "metadata": {
    "execution": {
     "iopub.execute_input": "2023-09-13T18:29:38.522448Z",
     "iopub.status.busy": "2023-09-13T18:29:38.522107Z",
     "iopub.status.idle": "2023-09-13T18:29:38.563696Z",
     "shell.execute_reply": "2023-09-13T18:29:38.563029Z",
     "shell.execute_reply.started": "2023-09-13T18:29:38.522414Z"
    },
    "tags": []
   },
   "outputs": [
    {
     "data": {
      "application/vnd.jupyter.widget-view+json": {
       "model_id": "13e8374ed1434bd8b8702859e1ea7cc2",
       "version_major": 2,
       "version_minor": 0
      },
      "text/plain": [
       "VBox()"
      ]
     },
     "metadata": {},
     "output_type": "display_data"
    },
    {
     "data": {
      "application/vnd.jupyter.widget-view+json": {
       "model_id": "",
       "version_major": 2,
       "version_minor": 0
      },
      "text/plain": [
       "FloatProgress(value=0.0, bar_style='info', description='Progress:', layout=Layout(height='25px', width='50%'),…"
      ]
     },
     "metadata": {},
     "output_type": "display_data"
    },
    {
     "name": "stdout",
     "output_type": "stream",
     "text": [
      "0.23484848484848486"
     ]
    },
    {
     "name": "stderr",
     "output_type": "stream",
     "text": [
      "Exception in thread cell_monitor-57:\n",
      "Traceback (most recent call last):\n",
      "  File \"/mnt/notebook-env/lib/python3.7/threading.py\", line 926, in _bootstrap_inner\n",
      "    self.run()\n",
      "  File \"/mnt/notebook-env/lib/python3.7/threading.py\", line 870, in run\n",
      "    self._target(*self._args, **self._kwargs)\n",
      "  File \"/mnt/notebook-env/lib/python3.7/site-packages/awseditorssparkmonitoringwidget-1.0-py3.7.egg/awseditorssparkmonitoringwidget/cellmonitor.py\", line 154, in cell_monitor\n",
      "    job_group_filtered_jobs = [job for job in jobs_data if job['jobGroup'] == str(statement_id)]\n",
      "  File \"/mnt/notebook-env/lib/python3.7/site-packages/awseditorssparkmonitoringwidget-1.0-py3.7.egg/awseditorssparkmonitoringwidget/cellmonitor.py\", line 154, in <listcomp>\n",
      "    job_group_filtered_jobs = [job for job in jobs_data if job['jobGroup'] == str(statement_id)]\n",
      "KeyError: 'jobGroup'\n",
      "\n"
     ]
    }
   ],
   "source": [
    "idx = len(np.array(results[\"recall\"])[np.array(results[\"recall\"]) > 0.8])-1\n",
    "results[\"threshold\"][idx]"
   ]
  },
  {
   "cell_type": "markdown",
   "id": "b9319684",
   "metadata": {},
   "source": [
    "We should adjust the prediction threshold to 0.2348 instead of the default 0.5 to guarantee higher recall."
   ]
  },
  {
   "cell_type": "markdown",
   "id": "14792ccd",
   "metadata": {},
   "source": [
    "### Training a model with the hyperparams from a second GridSearch"
   ]
  },
  {
   "cell_type": "code",
   "execution_count": 58,
   "id": "22bf13be-5fce-4951-bbaf-a1c548542585",
   "metadata": {
    "execution": {
     "iopub.execute_input": "2023-09-13T18:33:11.960594Z",
     "iopub.status.busy": "2023-09-13T18:33:11.960295Z",
     "iopub.status.idle": "2023-09-13T18:37:25.104750Z",
     "shell.execute_reply": "2023-09-13T18:37:25.104069Z",
     "shell.execute_reply.started": "2023-09-13T18:33:11.960569Z"
    }
   },
   "outputs": [
    {
     "data": {
      "application/vnd.jupyter.widget-view+json": {
       "model_id": "38ddc0a9456548bcae39c764bdf30fd1",
       "version_major": 2,
       "version_minor": 0
      },
      "text/plain": [
       "VBox()"
      ]
     },
     "metadata": {},
     "output_type": "display_data"
    },
    {
     "data": {
      "application/vnd.jupyter.widget-view+json": {
       "model_id": "",
       "version_major": 2,
       "version_minor": 0
      },
      "text/plain": [
       "FloatProgress(value=0.0, bar_style='info', description='Progress:', layout=Layout(height='25px', width='50%'),…"
      ]
     },
     "metadata": {},
     "output_type": "display_data"
    },
    {
     "name": "stderr",
     "output_type": "stream",
     "text": [
      "Exception in thread cell_monitor-58:\n",
      "Traceback (most recent call last):\n",
      "  File \"/mnt/notebook-env/lib/python3.7/threading.py\", line 926, in _bootstrap_inner\n",
      "    self.run()\n",
      "  File \"/mnt/notebook-env/lib/python3.7/threading.py\", line 870, in run\n",
      "    self._target(*self._args, **self._kwargs)\n",
      "  File \"/mnt/notebook-env/lib/python3.7/site-packages/awseditorssparkmonitoringwidget-1.0-py3.7.egg/awseditorssparkmonitoringwidget/cellmonitor.py\", line 154, in cell_monitor\n",
      "    job_group_filtered_jobs = [job for job in jobs_data if job['jobGroup'] == str(statement_id)]\n",
      "  File \"/mnt/notebook-env/lib/python3.7/site-packages/awseditorssparkmonitoringwidget-1.0-py3.7.egg/awseditorssparkmonitoringwidget/cellmonitor.py\", line 154, in <listcomp>\n",
      "    job_group_filtered_jobs = [job for job in jobs_data if job['jobGroup'] == str(statement_id)]\n",
      "KeyError: 'jobGroup'\n",
      "\n"
     ]
    }
   ],
   "source": [
    "best_gbt = GBTClassifier(maxIter=100, maxDepth=4, labelCol=\"label\", seed=42,\n",
    "    leafCol=\"leafId\")\n",
    "best_gbt_model = best_gbt.fit(trainingData)"
   ]
  },
  {
   "cell_type": "code",
   "execution_count": 59,
   "id": "ad8cd97a-7cf2-48e6-8b29-b1c9f8db80cc",
   "metadata": {
    "execution": {
     "iopub.execute_input": "2023-09-13T18:37:25.106137Z",
     "iopub.status.busy": "2023-09-13T18:37:25.105892Z",
     "iopub.status.idle": "2023-09-13T18:37:27.380949Z",
     "shell.execute_reply": "2023-09-13T18:37:27.380244Z",
     "shell.execute_reply.started": "2023-09-13T18:37:25.106113Z"
    }
   },
   "outputs": [
    {
     "data": {
      "application/vnd.jupyter.widget-view+json": {
       "model_id": "fecabfed33404506be451400eba60d1c",
       "version_major": 2,
       "version_minor": 0
      },
      "text/plain": [
       "VBox()"
      ]
     },
     "metadata": {},
     "output_type": "display_data"
    },
    {
     "data": {
      "application/vnd.jupyter.widget-view+json": {
       "model_id": "",
       "version_major": 2,
       "version_minor": 0
      },
      "text/plain": [
       "FloatProgress(value=0.0, bar_style='info', description='Progress:', layout=Layout(height='25px', width='50%'),…"
      ]
     },
     "metadata": {},
     "output_type": "display_data"
    },
    {
     "name": "stderr",
     "output_type": "stream",
     "text": [
      "Exception in thread cell_monitor-59:\n",
      "Traceback (most recent call last):\n",
      "  File \"/mnt/notebook-env/lib/python3.7/threading.py\", line 926, in _bootstrap_inner\n",
      "    self.run()\n",
      "  File \"/mnt/notebook-env/lib/python3.7/threading.py\", line 870, in run\n",
      "    self._target(*self._args, **self._kwargs)\n",
      "  File \"/mnt/notebook-env/lib/python3.7/site-packages/awseditorssparkmonitoringwidget-1.0-py3.7.egg/awseditorssparkmonitoringwidget/cellmonitor.py\", line 154, in cell_monitor\n",
      "    job_group_filtered_jobs = [job for job in jobs_data if job['jobGroup'] == str(statement_id)]\n",
      "  File \"/mnt/notebook-env/lib/python3.7/site-packages/awseditorssparkmonitoringwidget-1.0-py3.7.egg/awseditorssparkmonitoringwidget/cellmonitor.py\", line 154, in <listcomp>\n",
      "    job_group_filtered_jobs = [job for job in jobs_data if job['jobGroup'] == str(statement_id)]\n",
      "KeyError: 'jobGroup'\n",
      "\n"
     ]
    },
    {
     "name": "stdout",
     "output_type": "stream",
     "text": [
      "(0.8606418918918919, 0.673941798941799)"
     ]
    }
   ],
   "source": [
    "precision, recall, gbt_predictions = precision_recall(best_gbt_model, testData)\n",
    "precision, recall"
   ]
  },
  {
   "cell_type": "code",
   "execution_count": 60,
   "id": "3061f819-170a-4f7a-8c84-c8e4c0892dd7",
   "metadata": {
    "execution": {
     "iopub.execute_input": "2023-09-13T18:43:03.833760Z",
     "iopub.status.busy": "2023-09-13T18:43:03.833444Z",
     "iopub.status.idle": "2023-09-13T18:43:04.076613Z",
     "shell.execute_reply": "2023-09-13T18:43:04.075773Z",
     "shell.execute_reply.started": "2023-09-13T18:43:03.833735Z"
    },
    "tags": []
   },
   "outputs": [
    {
     "data": {
      "application/vnd.jupyter.widget-view+json": {
       "model_id": "a3a2c6712bbb4fd08183e180d1be6f78",
       "version_major": 2,
       "version_minor": 0
      },
      "text/plain": [
       "VBox()"
      ]
     },
     "metadata": {},
     "output_type": "display_data"
    },
    {
     "data": {
      "application/vnd.jupyter.widget-view+json": {
       "model_id": "",
       "version_major": 2,
       "version_minor": 0
      },
      "text/plain": [
       "FloatProgress(value=0.0, bar_style='info', description='Progress:', layout=Layout(height='25px', width='50%'),…"
      ]
     },
     "metadata": {},
     "output_type": "display_data"
    },
    {
     "name": "stderr",
     "output_type": "stream",
     "text": [
      "Exception in thread cell_monitor-60:\n",
      "Traceback (most recent call last):\n",
      "  File \"/mnt/notebook-env/lib/python3.7/threading.py\", line 926, in _bootstrap_inner\n",
      "    self.run()\n",
      "  File \"/mnt/notebook-env/lib/python3.7/threading.py\", line 870, in run\n",
      "    self._target(*self._args, **self._kwargs)\n",
      "  File \"/mnt/notebook-env/lib/python3.7/site-packages/awseditorssparkmonitoringwidget-1.0-py3.7.egg/awseditorssparkmonitoringwidget/cellmonitor.py\", line 154, in cell_monitor\n",
      "    job_group_filtered_jobs = [job for job in jobs_data if job['jobGroup'] == str(statement_id)]\n",
      "  File \"/mnt/notebook-env/lib/python3.7/site-packages/awseditorssparkmonitoringwidget-1.0-py3.7.egg/awseditorssparkmonitoringwidget/cellmonitor.py\", line 154, in <listcomp>\n",
      "    job_group_filtered_jobs = [job for job in jobs_data if job['jobGroup'] == str(statement_id)]\n",
      "KeyError: 'jobGroup'\n",
      "\n"
     ]
    }
   ],
   "source": [
    "import numpy as np\n",
    "thresholds = np.linspace(0.15, 0.3, 100)\n",
    "raw_probs = np.stack(gbt_predictions[\"probability\"].map(lambda x: x.toArray()).values)[:, 1]\n",
    "results = {\"precision\": [], \"recall\": [], \"threshold\": []}\n",
    "for i in list(thresholds):\n",
    "    preds = raw_probs > i\n",
    "    tn = (preds + gbt_predictions[\"label\"] == 0).sum()\n",
    "    tp = (preds + gbt_predictions[\"label\"] == 2).sum()\n",
    "    fn = (preds < gbt_predictions[\"label\"]).sum()\n",
    "    fp = (preds > gbt_predictions[\"label\"]).sum()\n",
    "    precision = tp / (tp+fp)\n",
    "    recall = tp / (tp+fn)\n",
    "    results[\"threshold\"].append(i)\n",
    "    results[\"precision\"].append(precision)\n",
    "    results[\"recall\"].append(recall)"
   ]
  },
  {
   "cell_type": "code",
   "execution_count": 61,
   "id": "fa872605-3f75-4aa0-885e-b31982ef1872",
   "metadata": {
    "execution": {
     "iopub.execute_input": "2023-09-13T18:43:20.659943Z",
     "iopub.status.busy": "2023-09-13T18:43:20.659592Z",
     "iopub.status.idle": "2023-09-13T18:43:20.698526Z",
     "shell.execute_reply": "2023-09-13T18:43:20.697884Z",
     "shell.execute_reply.started": "2023-09-13T18:43:20.659915Z"
    },
    "tags": []
   },
   "outputs": [
    {
     "data": {
      "application/vnd.jupyter.widget-view+json": {
       "model_id": "f9c0767073db4242927751e51d24a40a",
       "version_major": 2,
       "version_minor": 0
      },
      "text/plain": [
       "VBox()"
      ]
     },
     "metadata": {},
     "output_type": "display_data"
    },
    {
     "data": {
      "application/vnd.jupyter.widget-view+json": {
       "model_id": "",
       "version_major": 2,
       "version_minor": 0
      },
      "text/plain": [
       "FloatProgress(value=0.0, bar_style='info', description='Progress:', layout=Layout(height='25px', width='50%'),…"
      ]
     },
     "metadata": {},
     "output_type": "display_data"
    },
    {
     "name": "stdout",
     "output_type": "stream",
     "text": [
      "0.23787878787878786"
     ]
    },
    {
     "name": "stderr",
     "output_type": "stream",
     "text": [
      "Exception in thread cell_monitor-61:\n",
      "Traceback (most recent call last):\n",
      "  File \"/mnt/notebook-env/lib/python3.7/threading.py\", line 926, in _bootstrap_inner\n",
      "    self.run()\n",
      "  File \"/mnt/notebook-env/lib/python3.7/threading.py\", line 870, in run\n",
      "    self._target(*self._args, **self._kwargs)\n",
      "  File \"/mnt/notebook-env/lib/python3.7/site-packages/awseditorssparkmonitoringwidget-1.0-py3.7.egg/awseditorssparkmonitoringwidget/cellmonitor.py\", line 154, in cell_monitor\n",
      "    job_group_filtered_jobs = [job for job in jobs_data if job['jobGroup'] == str(statement_id)]\n",
      "  File \"/mnt/notebook-env/lib/python3.7/site-packages/awseditorssparkmonitoringwidget-1.0-py3.7.egg/awseditorssparkmonitoringwidget/cellmonitor.py\", line 154, in <listcomp>\n",
      "    job_group_filtered_jobs = [job for job in jobs_data if job['jobGroup'] == str(statement_id)]\n",
      "KeyError: 'jobGroup'\n",
      "\n"
     ]
    }
   ],
   "source": [
    "idx = len(np.array(results[\"recall\"])[np.array(results[\"recall\"]) > 0.8])-1\n",
    "results[\"threshold\"][idx]"
   ]
  }
 ],
 "metadata": {
  "kernelspec": {
   "display_name": "Python 3",
   "language": "python",
   "name": "python3"
  },
  "language_info": {
   "codemirror_mode": {
    "name": "ipython",
    "version": 3
   },
   "file_extension": ".py",
   "mimetype": "text/x-python",
   "name": "python",
   "nbconvert_exporter": "python",
   "pygments_lexer": "ipython3",
   "version": "3.8.12"
  },
  "toc": {
   "base_numbering": 1,
   "nav_menu": {},
   "number_sections": true,
   "sideBar": true,
   "skip_h1_title": false,
   "title_cell": "Table of Contents",
   "title_sidebar": "Contents",
   "toc_cell": false,
   "toc_position": {},
   "toc_section_display": true,
   "toc_window_display": false
  }
 },
 "nbformat": 4,
 "nbformat_minor": 5
}
