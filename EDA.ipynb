{
 "cells": [
  {
   "cell_type": "code",
   "execution_count": 1,
   "id": "7b143172",
   "metadata": {},
   "outputs": [],
   "source": [
    "import pandas as pd"
   ]
  },
  {
   "cell_type": "code",
   "execution_count": 2,
   "id": "26b10c6a",
   "metadata": {},
   "outputs": [],
   "source": [
    "df = pd.read_json(\"s3a://udacity-dsnd/sparkify/mini_sparkify_event_data.json\", lines=True)"
   ]
  },
  {
   "cell_type": "code",
   "execution_count": 3,
   "id": "85ff7bb6",
   "metadata": {},
   "outputs": [
    {
     "data": {
      "text/html": [
       "<div>\n",
       "<style scoped>\n",
       "    .dataframe tbody tr th:only-of-type {\n",
       "        vertical-align: middle;\n",
       "    }\n",
       "\n",
       "    .dataframe tbody tr th {\n",
       "        vertical-align: top;\n",
       "    }\n",
       "\n",
       "    .dataframe thead th {\n",
       "        text-align: right;\n",
       "    }\n",
       "</style>\n",
       "<table border=\"1\" class=\"dataframe\">\n",
       "  <thead>\n",
       "    <tr style=\"text-align: right;\">\n",
       "      <th></th>\n",
       "      <th>ts</th>\n",
       "      <th>userId</th>\n",
       "      <th>sessionId</th>\n",
       "      <th>page</th>\n",
       "      <th>auth</th>\n",
       "      <th>method</th>\n",
       "      <th>status</th>\n",
       "      <th>level</th>\n",
       "      <th>itemInSession</th>\n",
       "      <th>location</th>\n",
       "      <th>userAgent</th>\n",
       "      <th>lastName</th>\n",
       "      <th>firstName</th>\n",
       "      <th>registration</th>\n",
       "      <th>gender</th>\n",
       "      <th>artist</th>\n",
       "      <th>song</th>\n",
       "      <th>length</th>\n",
       "    </tr>\n",
       "  </thead>\n",
       "  <tbody>\n",
       "    <tr>\n",
       "      <th>0</th>\n",
       "      <td>1538352117000</td>\n",
       "      <td>30</td>\n",
       "      <td>29</td>\n",
       "      <td>NextSong</td>\n",
       "      <td>Logged In</td>\n",
       "      <td>PUT</td>\n",
       "      <td>200</td>\n",
       "      <td>paid</td>\n",
       "      <td>50</td>\n",
       "      <td>Bakersfield, CA</td>\n",
       "      <td>Mozilla/5.0 (Windows NT 6.1; WOW64; rv:31.0) G...</td>\n",
       "      <td>Freeman</td>\n",
       "      <td>Colin</td>\n",
       "      <td>1.538173e+12</td>\n",
       "      <td>M</td>\n",
       "      <td>Martha Tilston</td>\n",
       "      <td>Rockpools</td>\n",
       "      <td>277.89016</td>\n",
       "    </tr>\n",
       "    <tr>\n",
       "      <th>1</th>\n",
       "      <td>1538352180000</td>\n",
       "      <td>9</td>\n",
       "      <td>8</td>\n",
       "      <td>NextSong</td>\n",
       "      <td>Logged In</td>\n",
       "      <td>PUT</td>\n",
       "      <td>200</td>\n",
       "      <td>free</td>\n",
       "      <td>79</td>\n",
       "      <td>Boston-Cambridge-Newton, MA-NH</td>\n",
       "      <td>\"Mozilla/5.0 (Windows NT 6.1; WOW64) AppleWebK...</td>\n",
       "      <td>Long</td>\n",
       "      <td>Micah</td>\n",
       "      <td>1.538332e+12</td>\n",
       "      <td>M</td>\n",
       "      <td>Five Iron Frenzy</td>\n",
       "      <td>Canada</td>\n",
       "      <td>236.09424</td>\n",
       "    </tr>\n",
       "    <tr>\n",
       "      <th>2</th>\n",
       "      <td>1538352394000</td>\n",
       "      <td>30</td>\n",
       "      <td>29</td>\n",
       "      <td>NextSong</td>\n",
       "      <td>Logged In</td>\n",
       "      <td>PUT</td>\n",
       "      <td>200</td>\n",
       "      <td>paid</td>\n",
       "      <td>51</td>\n",
       "      <td>Bakersfield, CA</td>\n",
       "      <td>Mozilla/5.0 (Windows NT 6.1; WOW64; rv:31.0) G...</td>\n",
       "      <td>Freeman</td>\n",
       "      <td>Colin</td>\n",
       "      <td>1.538173e+12</td>\n",
       "      <td>M</td>\n",
       "      <td>Adam Lambert</td>\n",
       "      <td>Time For Miracles</td>\n",
       "      <td>282.82730</td>\n",
       "    </tr>\n",
       "    <tr>\n",
       "      <th>3</th>\n",
       "      <td>1538352416000</td>\n",
       "      <td>9</td>\n",
       "      <td>8</td>\n",
       "      <td>NextSong</td>\n",
       "      <td>Logged In</td>\n",
       "      <td>PUT</td>\n",
       "      <td>200</td>\n",
       "      <td>free</td>\n",
       "      <td>80</td>\n",
       "      <td>Boston-Cambridge-Newton, MA-NH</td>\n",
       "      <td>\"Mozilla/5.0 (Windows NT 6.1; WOW64) AppleWebK...</td>\n",
       "      <td>Long</td>\n",
       "      <td>Micah</td>\n",
       "      <td>1.538332e+12</td>\n",
       "      <td>M</td>\n",
       "      <td>Enigma</td>\n",
       "      <td>Knocking On Forbidden Doors</td>\n",
       "      <td>262.71302</td>\n",
       "    </tr>\n",
       "    <tr>\n",
       "      <th>4</th>\n",
       "      <td>1538352676000</td>\n",
       "      <td>30</td>\n",
       "      <td>29</td>\n",
       "      <td>NextSong</td>\n",
       "      <td>Logged In</td>\n",
       "      <td>PUT</td>\n",
       "      <td>200</td>\n",
       "      <td>paid</td>\n",
       "      <td>52</td>\n",
       "      <td>Bakersfield, CA</td>\n",
       "      <td>Mozilla/5.0 (Windows NT 6.1; WOW64; rv:31.0) G...</td>\n",
       "      <td>Freeman</td>\n",
       "      <td>Colin</td>\n",
       "      <td>1.538173e+12</td>\n",
       "      <td>M</td>\n",
       "      <td>Daft Punk</td>\n",
       "      <td>Harder Better Faster Stronger</td>\n",
       "      <td>223.60771</td>\n",
       "    </tr>\n",
       "  </tbody>\n",
       "</table>\n",
       "</div>"
      ],
      "text/plain": [
       "              ts userId  sessionId      page       auth method  status level  \\\n",
       "0  1538352117000     30         29  NextSong  Logged In    PUT     200  paid   \n",
       "1  1538352180000      9          8  NextSong  Logged In    PUT     200  free   \n",
       "2  1538352394000     30         29  NextSong  Logged In    PUT     200  paid   \n",
       "3  1538352416000      9          8  NextSong  Logged In    PUT     200  free   \n",
       "4  1538352676000     30         29  NextSong  Logged In    PUT     200  paid   \n",
       "\n",
       "   itemInSession                        location  \\\n",
       "0             50                 Bakersfield, CA   \n",
       "1             79  Boston-Cambridge-Newton, MA-NH   \n",
       "2             51                 Bakersfield, CA   \n",
       "3             80  Boston-Cambridge-Newton, MA-NH   \n",
       "4             52                 Bakersfield, CA   \n",
       "\n",
       "                                           userAgent lastName firstName  \\\n",
       "0  Mozilla/5.0 (Windows NT 6.1; WOW64; rv:31.0) G...  Freeman     Colin   \n",
       "1  \"Mozilla/5.0 (Windows NT 6.1; WOW64) AppleWebK...     Long     Micah   \n",
       "2  Mozilla/5.0 (Windows NT 6.1; WOW64; rv:31.0) G...  Freeman     Colin   \n",
       "3  \"Mozilla/5.0 (Windows NT 6.1; WOW64) AppleWebK...     Long     Micah   \n",
       "4  Mozilla/5.0 (Windows NT 6.1; WOW64; rv:31.0) G...  Freeman     Colin   \n",
       "\n",
       "   registration gender            artist                           song  \\\n",
       "0  1.538173e+12      M    Martha Tilston                      Rockpools   \n",
       "1  1.538332e+12      M  Five Iron Frenzy                         Canada   \n",
       "2  1.538173e+12      M      Adam Lambert              Time For Miracles   \n",
       "3  1.538332e+12      M            Enigma    Knocking On Forbidden Doors   \n",
       "4  1.538173e+12      M         Daft Punk  Harder Better Faster Stronger   \n",
       "\n",
       "      length  \n",
       "0  277.89016  \n",
       "1  236.09424  \n",
       "2  282.82730  \n",
       "3  262.71302  \n",
       "4  223.60771  "
      ]
     },
     "execution_count": 3,
     "metadata": {},
     "output_type": "execute_result"
    }
   ],
   "source": [
    "df.head()"
   ]
  },
  {
   "cell_type": "code",
   "execution_count": 4,
   "id": "94f27b41",
   "metadata": {},
   "outputs": [
    {
     "data": {
      "text/plain": [
       "58392"
      ]
     },
     "execution_count": 4,
     "metadata": {},
     "output_type": "execute_result"
    }
   ],
   "source": [
    "df[\"length\"].isna().sum()"
   ]
  },
  {
   "cell_type": "code",
   "execution_count": 11,
   "id": "00bbb45a",
   "metadata": {},
   "outputs": [],
   "source": [
    "time_bw_songs = df[(df[\"page\"] == \"NextSong\") & (df[\"userId\"] == '30')].sort_values(\"ts\")[\"ts\"].diff() / 1000"
   ]
  },
  {
   "cell_type": "code",
   "execution_count": 16,
   "id": "64ad0601",
   "metadata": {},
   "outputs": [],
   "source": [
    "listening_data = pd.concat([\n",
    "    time_bw_songs.shift(-1), \n",
    "    df[(df[\"page\"] == \"NextSong\") & (df[\"userId\"] == '30')].sort_values(\"ts\")[\"length\"]], \n",
    "axis=1)"
   ]
  },
  {
   "cell_type": "code",
   "execution_count": 24,
   "id": "f3019b94",
   "metadata": {},
   "outputs": [],
   "source": [
    "import math"
   ]
  },
  {
   "cell_type": "code",
   "execution_count": 26,
   "id": "efc59972",
   "metadata": {},
   "outputs": [
    {
     "data": {
      "text/html": [
       "<div>\n",
       "<style scoped>\n",
       "    .dataframe tbody tr th:only-of-type {\n",
       "        vertical-align: middle;\n",
       "    }\n",
       "\n",
       "    .dataframe tbody tr th {\n",
       "        vertical-align: top;\n",
       "    }\n",
       "\n",
       "    .dataframe thead th {\n",
       "        text-align: right;\n",
       "    }\n",
       "</style>\n",
       "<table border=\"1\" class=\"dataframe\">\n",
       "  <thead>\n",
       "    <tr style=\"text-align: right;\">\n",
       "      <th></th>\n",
       "      <th>ts</th>\n",
       "      <th>length</th>\n",
       "    </tr>\n",
       "  </thead>\n",
       "  <tbody>\n",
       "    <tr>\n",
       "      <th>0</th>\n",
       "      <td>277.0</td>\n",
       "      <td>277.89016</td>\n",
       "    </tr>\n",
       "    <tr>\n",
       "      <th>2</th>\n",
       "      <td>282.0</td>\n",
       "      <td>282.82730</td>\n",
       "    </tr>\n",
       "    <tr>\n",
       "      <th>4</th>\n",
       "      <td>223.0</td>\n",
       "      <td>223.60771</td>\n",
       "    </tr>\n",
       "    <tr>\n",
       "      <th>7</th>\n",
       "      <td>185.0</td>\n",
       "      <td>185.44281</td>\n",
       "    </tr>\n",
       "    <tr>\n",
       "      <th>9</th>\n",
       "      <td>134.0</td>\n",
       "      <td>134.47791</td>\n",
       "    </tr>\n",
       "    <tr>\n",
       "      <th>...</th>\n",
       "      <td>...</td>\n",
       "      <td>...</td>\n",
       "    </tr>\n",
       "    <tr>\n",
       "      <th>213657</th>\n",
       "      <td>360.0</td>\n",
       "      <td>360.82893</td>\n",
       "    </tr>\n",
       "    <tr>\n",
       "      <th>213669</th>\n",
       "      <td>303.0</td>\n",
       "      <td>303.38567</td>\n",
       "    </tr>\n",
       "    <tr>\n",
       "      <th>213674</th>\n",
       "      <td>236.0</td>\n",
       "      <td>236.45995</td>\n",
       "    </tr>\n",
       "    <tr>\n",
       "      <th>213679</th>\n",
       "      <td>239.0</td>\n",
       "      <td>239.30730</td>\n",
       "    </tr>\n",
       "    <tr>\n",
       "      <th>213686</th>\n",
       "      <td>NaN</td>\n",
       "      <td>175.77751</td>\n",
       "    </tr>\n",
       "  </tbody>\n",
       "</table>\n",
       "<p>1417 rows × 2 columns</p>\n",
       "</div>"
      ],
      "text/plain": [
       "           ts     length\n",
       "0       277.0  277.89016\n",
       "2       282.0  282.82730\n",
       "4       223.0  223.60771\n",
       "7       185.0  185.44281\n",
       "9       134.0  134.47791\n",
       "...       ...        ...\n",
       "213657  360.0  360.82893\n",
       "213669  303.0  303.38567\n",
       "213674  236.0  236.45995\n",
       "213679  239.0  239.30730\n",
       "213686    NaN  175.77751\n",
       "\n",
       "[1417 rows x 2 columns]"
      ]
     },
     "execution_count": 26,
     "metadata": {},
     "output_type": "execute_result"
    }
   ],
   "source": [
    "listening_data"
   ]
  },
  {
   "cell_type": "code",
   "execution_count": 32,
   "id": "0b180efd",
   "metadata": {},
   "outputs": [],
   "source": [
    "whole_song = listening_data.apply(lambda x: math.isclose(x[\"ts\"], math.floor(x[\"length\"])), axis=1)"
   ]
  },
  {
   "cell_type": "code",
   "execution_count": 58,
   "id": "6b8c3154",
   "metadata": {},
   "outputs": [
    {
     "data": {
      "text/plain": [
       "userId\n",
       "               0.00000\n",
       "10        166866.37251\n",
       "100       672877.85659\n",
       "100001     35073.74215\n",
       "100002     49559.91810\n",
       "              ...     \n",
       "95        427135.54534\n",
       "96        452492.37829\n",
       "97        491231.49635\n",
       "98        611701.97747\n",
       "99        127877.88359\n",
       "Name: length, Length: 226, dtype: float64"
      ]
     },
     "execution_count": 58,
     "metadata": {},
     "output_type": "execute_result"
    }
   ],
   "source": [
    "df.groupby(\"userId\")[\"length\"].sum()"
   ]
  },
  {
   "cell_type": "code",
   "execution_count": 54,
   "id": "36e0b282",
   "metadata": {},
   "outputs": [
    {
     "data": {
      "text/html": [
       "<div>\n",
       "<style scoped>\n",
       "    .dataframe tbody tr th:only-of-type {\n",
       "        vertical-align: middle;\n",
       "    }\n",
       "\n",
       "    .dataframe tbody tr th {\n",
       "        vertical-align: top;\n",
       "    }\n",
       "\n",
       "    .dataframe thead th {\n",
       "        text-align: right;\n",
       "    }\n",
       "</style>\n",
       "<table border=\"1\" class=\"dataframe\">\n",
       "  <thead>\n",
       "    <tr style=\"text-align: right;\">\n",
       "      <th></th>\n",
       "      <th>ts</th>\n",
       "      <th>length</th>\n",
       "    </tr>\n",
       "  </thead>\n",
       "  <tbody>\n",
       "    <tr>\n",
       "      <th>172</th>\n",
       "      <td>265.0</td>\n",
       "      <td>265.71710</td>\n",
       "    </tr>\n",
       "    <tr>\n",
       "      <th>179</th>\n",
       "      <td>168.0</td>\n",
       "      <td>168.98567</td>\n",
       "    </tr>\n",
       "    <tr>\n",
       "      <th>185</th>\n",
       "      <td>449090.0</td>\n",
       "      <td>268.38159</td>\n",
       "    </tr>\n",
       "    <tr>\n",
       "      <th>16157</th>\n",
       "      <td>137610.0</td>\n",
       "      <td>164.70159</td>\n",
       "    </tr>\n",
       "  </tbody>\n",
       "</table>\n",
       "</div>"
      ],
      "text/plain": [
       "             ts     length\n",
       "172       265.0  265.71710\n",
       "179       168.0  168.98567\n",
       "185    449090.0  268.38159\n",
       "16157  137610.0  164.70159"
      ]
     },
     "execution_count": 54,
     "metadata": {},
     "output_type": "execute_result"
    }
   ],
   "source": [
    "listening_data.loc[170:20000]"
   ]
  },
  {
   "cell_type": "code",
   "execution_count": 34,
   "id": "8e05680b",
   "metadata": {},
   "outputs": [
    {
     "data": {
      "text/html": [
       "<div>\n",
       "<style scoped>\n",
       "    .dataframe tbody tr th:only-of-type {\n",
       "        vertical-align: middle;\n",
       "    }\n",
       "\n",
       "    .dataframe tbody tr th {\n",
       "        vertical-align: top;\n",
       "    }\n",
       "\n",
       "    .dataframe thead th {\n",
       "        text-align: right;\n",
       "    }\n",
       "</style>\n",
       "<table border=\"1\" class=\"dataframe\">\n",
       "  <thead>\n",
       "    <tr style=\"text-align: right;\">\n",
       "      <th></th>\n",
       "      <th>ts</th>\n",
       "      <th>length</th>\n",
       "    </tr>\n",
       "  </thead>\n",
       "  <tbody>\n",
       "    <tr>\n",
       "      <th>185</th>\n",
       "      <td>449090.0</td>\n",
       "      <td>268.38159</td>\n",
       "    </tr>\n",
       "    <tr>\n",
       "      <th>16157</th>\n",
       "      <td>137610.0</td>\n",
       "      <td>164.70159</td>\n",
       "    </tr>\n",
       "    <tr>\n",
       "      <th>21051</th>\n",
       "      <td>150.0</td>\n",
       "      <td>101.61587</td>\n",
       "    </tr>\n",
       "    <tr>\n",
       "      <th>22475</th>\n",
       "      <td>149695.0</td>\n",
       "      <td>241.34485</td>\n",
       "    </tr>\n",
       "    <tr>\n",
       "      <th>29795</th>\n",
       "      <td>115755.0</td>\n",
       "      <td>933.43302</td>\n",
       "    </tr>\n",
       "    <tr>\n",
       "      <th>36542</th>\n",
       "      <td>14719.0</td>\n",
       "      <td>254.85016</td>\n",
       "    </tr>\n",
       "    <tr>\n",
       "      <th>37378</th>\n",
       "      <td>314188.0</td>\n",
       "      <td>220.13342</td>\n",
       "    </tr>\n",
       "    <tr>\n",
       "      <th>47067</th>\n",
       "      <td>233.0</td>\n",
       "      <td>219.34975</td>\n",
       "    </tr>\n",
       "    <tr>\n",
       "      <th>47125</th>\n",
       "      <td>638258.0</td>\n",
       "      <td>396.66893</td>\n",
       "    </tr>\n",
       "    <tr>\n",
       "      <th>76235</th>\n",
       "      <td>274865.0</td>\n",
       "      <td>227.39546</td>\n",
       "    </tr>\n",
       "    <tr>\n",
       "      <th>88327</th>\n",
       "      <td>12444.0</td>\n",
       "      <td>254.48444</td>\n",
       "    </tr>\n",
       "    <tr>\n",
       "      <th>88556</th>\n",
       "      <td>84466.0</td>\n",
       "      <td>182.80444</td>\n",
       "    </tr>\n",
       "    <tr>\n",
       "      <th>91441</th>\n",
       "      <td>322863.0</td>\n",
       "      <td>512.52200</td>\n",
       "    </tr>\n",
       "    <tr>\n",
       "      <th>106671</th>\n",
       "      <td>32110.0</td>\n",
       "      <td>201.32526</td>\n",
       "    </tr>\n",
       "    <tr>\n",
       "      <th>108943</th>\n",
       "      <td>113398.0</td>\n",
       "      <td>158.74567</td>\n",
       "    </tr>\n",
       "    <tr>\n",
       "      <th>117010</th>\n",
       "      <td>26832.0</td>\n",
       "      <td>300.40771</td>\n",
       "    </tr>\n",
       "    <tr>\n",
       "      <th>119978</th>\n",
       "      <td>92705.0</td>\n",
       "      <td>236.45995</td>\n",
       "    </tr>\n",
       "    <tr>\n",
       "      <th>123106</th>\n",
       "      <td>99867.0</td>\n",
       "      <td>235.54567</td>\n",
       "    </tr>\n",
       "    <tr>\n",
       "      <th>125846</th>\n",
       "      <td>4404.0</td>\n",
       "      <td>200.77669</td>\n",
       "    </tr>\n",
       "    <tr>\n",
       "      <th>126027</th>\n",
       "      <td>11370.0</td>\n",
       "      <td>151.74485</td>\n",
       "    </tr>\n",
       "    <tr>\n",
       "      <th>127002</th>\n",
       "      <td>283609.0</td>\n",
       "      <td>194.45506</td>\n",
       "    </tr>\n",
       "    <tr>\n",
       "      <th>137641</th>\n",
       "      <td>36429.0</td>\n",
       "      <td>213.28934</td>\n",
       "    </tr>\n",
       "    <tr>\n",
       "      <th>140163</th>\n",
       "      <td>17689.0</td>\n",
       "      <td>45.63546</td>\n",
       "    </tr>\n",
       "    <tr>\n",
       "      <th>141071</th>\n",
       "      <td>76034.0</td>\n",
       "      <td>226.19383</td>\n",
       "    </tr>\n",
       "    <tr>\n",
       "      <th>143817</th>\n",
       "      <td>829159.0</td>\n",
       "      <td>181.21098</td>\n",
       "    </tr>\n",
       "    <tr>\n",
       "      <th>175884</th>\n",
       "      <td>10400.0</td>\n",
       "      <td>194.50730</td>\n",
       "    </tr>\n",
       "    <tr>\n",
       "      <th>176421</th>\n",
       "      <td>264634.0</td>\n",
       "      <td>250.25261</td>\n",
       "    </tr>\n",
       "    <tr>\n",
       "      <th>189925</th>\n",
       "      <td>391682.0</td>\n",
       "      <td>342.75220</td>\n",
       "    </tr>\n",
       "    <tr>\n",
       "      <th>207421</th>\n",
       "      <td>113901.0</td>\n",
       "      <td>230.45179</td>\n",
       "    </tr>\n",
       "    <tr>\n",
       "      <th>213686</th>\n",
       "      <td>NaN</td>\n",
       "      <td>175.77751</td>\n",
       "    </tr>\n",
       "  </tbody>\n",
       "</table>\n",
       "</div>"
      ],
      "text/plain": [
       "              ts     length\n",
       "185     449090.0  268.38159\n",
       "16157   137610.0  164.70159\n",
       "21051      150.0  101.61587\n",
       "22475   149695.0  241.34485\n",
       "29795   115755.0  933.43302\n",
       "36542    14719.0  254.85016\n",
       "37378   314188.0  220.13342\n",
       "47067      233.0  219.34975\n",
       "47125   638258.0  396.66893\n",
       "76235   274865.0  227.39546\n",
       "88327    12444.0  254.48444\n",
       "88556    84466.0  182.80444\n",
       "91441   322863.0  512.52200\n",
       "106671   32110.0  201.32526\n",
       "108943  113398.0  158.74567\n",
       "117010   26832.0  300.40771\n",
       "119978   92705.0  236.45995\n",
       "123106   99867.0  235.54567\n",
       "125846    4404.0  200.77669\n",
       "126027   11370.0  151.74485\n",
       "127002  283609.0  194.45506\n",
       "137641   36429.0  213.28934\n",
       "140163   17689.0   45.63546\n",
       "141071   76034.0  226.19383\n",
       "143817  829159.0  181.21098\n",
       "175884   10400.0  194.50730\n",
       "176421  264634.0  250.25261\n",
       "189925  391682.0  342.75220\n",
       "207421  113901.0  230.45179\n",
       "213686       NaN  175.77751"
      ]
     },
     "execution_count": 34,
     "metadata": {},
     "output_type": "execute_result"
    }
   ],
   "source": [
    "listening_data[~whole_song]"
   ]
  },
  {
   "cell_type": "code",
   "execution_count": 144,
   "id": "fb45c0c5",
   "metadata": {},
   "outputs": [
    {
     "data": {
      "text/plain": [
       "Index(['ts', 'userId', 'sessionId', 'page', 'auth', 'method', 'status',\n",
       "       'level', 'itemInSession', 'location', 'userAgent', 'lastName',\n",
       "       'firstName', 'registration', 'gender', 'artist', 'song', 'length'],\n",
       "      dtype='object')"
      ]
     },
     "execution_count": 144,
     "metadata": {},
     "output_type": "execute_result"
    }
   ],
   "source": [
    "df.columns"
   ]
  },
  {
   "cell_type": "markdown",
   "id": "e1ebbfdb",
   "metadata": {},
   "source": [
    "## Exploration"
   ]
  },
  {
   "cell_type": "code",
   "execution_count": 145,
   "id": "3ebef0b3",
   "metadata": {},
   "outputs": [
    {
     "data": {
      "text/plain": [
       "226"
      ]
     },
     "execution_count": 145,
     "metadata": {},
     "output_type": "execute_result"
    }
   ],
   "source": [
    "df[\"userId\"].nunique()"
   ]
  },
  {
   "cell_type": "markdown",
   "id": "f352372e",
   "metadata": {},
   "source": [
    "Filter out users who are not logged in. We only care about churn so we focus our analysis on users that already have an account"
   ]
  },
  {
   "cell_type": "code",
   "execution_count": 146,
   "id": "7d11c805",
   "metadata": {},
   "outputs": [],
   "source": [
    "df = df[df[\"userId\"] != \"\"]"
   ]
  },
  {
   "cell_type": "code",
   "execution_count": 147,
   "id": "7dfd0152",
   "metadata": {},
   "outputs": [
    {
     "data": {
      "text/plain": [
       "array([200, 307, 404])"
      ]
     },
     "execution_count": 147,
     "metadata": {},
     "output_type": "execute_result"
    }
   ],
   "source": [
    "df[\"status\"].unique()"
   ]
  },
  {
   "cell_type": "code",
   "execution_count": 148,
   "id": "2c818fc5",
   "metadata": {},
   "outputs": [
    {
     "data": {
      "text/html": [
       "<div>\n",
       "<style scoped>\n",
       "    .dataframe tbody tr th:only-of-type {\n",
       "        vertical-align: middle;\n",
       "    }\n",
       "\n",
       "    .dataframe tbody tr th {\n",
       "        vertical-align: top;\n",
       "    }\n",
       "\n",
       "    .dataframe thead th {\n",
       "        text-align: right;\n",
       "    }\n",
       "</style>\n",
       "<table border=\"1\" class=\"dataframe\">\n",
       "  <thead>\n",
       "    <tr style=\"text-align: right;\">\n",
       "      <th></th>\n",
       "      <th>page</th>\n",
       "      <th>status</th>\n",
       "    </tr>\n",
       "  </thead>\n",
       "  <tbody>\n",
       "    <tr>\n",
       "      <th>0</th>\n",
       "      <td>NextSong</td>\n",
       "      <td>200</td>\n",
       "    </tr>\n",
       "    <tr>\n",
       "      <th>8</th>\n",
       "      <td>Add to Playlist</td>\n",
       "      <td>200</td>\n",
       "    </tr>\n",
       "    <tr>\n",
       "      <th>11</th>\n",
       "      <td>Roll Advert</td>\n",
       "      <td>200</td>\n",
       "    </tr>\n",
       "    <tr>\n",
       "      <th>14</th>\n",
       "      <td>Thumbs Up</td>\n",
       "      <td>307</td>\n",
       "    </tr>\n",
       "    <tr>\n",
       "      <th>35</th>\n",
       "      <td>Downgrade</td>\n",
       "      <td>200</td>\n",
       "    </tr>\n",
       "    <tr>\n",
       "      <th>47</th>\n",
       "      <td>Thumbs Down</td>\n",
       "      <td>307</td>\n",
       "    </tr>\n",
       "    <tr>\n",
       "      <th>51</th>\n",
       "      <td>Home</td>\n",
       "      <td>200</td>\n",
       "    </tr>\n",
       "    <tr>\n",
       "      <th>53</th>\n",
       "      <td>Logout</td>\n",
       "      <td>307</td>\n",
       "    </tr>\n",
       "    <tr>\n",
       "      <th>139</th>\n",
       "      <td>Help</td>\n",
       "      <td>200</td>\n",
       "    </tr>\n",
       "    <tr>\n",
       "      <th>144</th>\n",
       "      <td>Upgrade</td>\n",
       "      <td>200</td>\n",
       "    </tr>\n",
       "    <tr>\n",
       "      <th>176</th>\n",
       "      <td>Add Friend</td>\n",
       "      <td>307</td>\n",
       "    </tr>\n",
       "    <tr>\n",
       "      <th>307</th>\n",
       "      <td>Settings</td>\n",
       "      <td>200</td>\n",
       "    </tr>\n",
       "    <tr>\n",
       "      <th>374</th>\n",
       "      <td>Submit Upgrade</td>\n",
       "      <td>307</td>\n",
       "    </tr>\n",
       "    <tr>\n",
       "      <th>523</th>\n",
       "      <td>About</td>\n",
       "      <td>200</td>\n",
       "    </tr>\n",
       "    <tr>\n",
       "      <th>930</th>\n",
       "      <td>Submit Downgrade</td>\n",
       "      <td>307</td>\n",
       "    </tr>\n",
       "    <tr>\n",
       "      <th>939</th>\n",
       "      <td>Error</td>\n",
       "      <td>404</td>\n",
       "    </tr>\n",
       "    <tr>\n",
       "      <th>2176</th>\n",
       "      <td>Save Settings</td>\n",
       "      <td>307</td>\n",
       "    </tr>\n",
       "    <tr>\n",
       "      <th>20225</th>\n",
       "      <td>Cancel</td>\n",
       "      <td>307</td>\n",
       "    </tr>\n",
       "    <tr>\n",
       "      <th>20231</th>\n",
       "      <td>Cancellation Confirmation</td>\n",
       "      <td>200</td>\n",
       "    </tr>\n",
       "  </tbody>\n",
       "</table>\n",
       "</div>"
      ],
      "text/plain": [
       "                            page  status\n",
       "0                       NextSong     200\n",
       "8                Add to Playlist     200\n",
       "11                   Roll Advert     200\n",
       "14                     Thumbs Up     307\n",
       "35                     Downgrade     200\n",
       "47                   Thumbs Down     307\n",
       "51                          Home     200\n",
       "53                        Logout     307\n",
       "139                         Help     200\n",
       "144                      Upgrade     200\n",
       "176                   Add Friend     307\n",
       "307                     Settings     200\n",
       "374               Submit Upgrade     307\n",
       "523                        About     200\n",
       "930             Submit Downgrade     307\n",
       "939                        Error     404\n",
       "2176               Save Settings     307\n",
       "20225                     Cancel     307\n",
       "20231  Cancellation Confirmation     200"
      ]
     },
     "execution_count": 148,
     "metadata": {},
     "output_type": "execute_result"
    }
   ],
   "source": [
    "df[[\"page\", \"status\"]].drop_duplicates()"
   ]
  },
  {
   "cell_type": "code",
   "execution_count": 149,
   "id": "4c73e7f2",
   "metadata": {},
   "outputs": [
    {
     "data": {
      "text/plain": [
       "array(['PUT', 'GET'], dtype=object)"
      ]
     },
     "execution_count": 149,
     "metadata": {},
     "output_type": "execute_result"
    }
   ],
   "source": [
    "df[\"method\"].unique()"
   ]
  },
  {
   "cell_type": "code",
   "execution_count": 150,
   "id": "1a46b61b",
   "metadata": {},
   "outputs": [
    {
     "data": {
      "text/html": [
       "<div>\n",
       "<style scoped>\n",
       "    .dataframe tbody tr th:only-of-type {\n",
       "        vertical-align: middle;\n",
       "    }\n",
       "\n",
       "    .dataframe tbody tr th {\n",
       "        vertical-align: top;\n",
       "    }\n",
       "\n",
       "    .dataframe thead th {\n",
       "        text-align: right;\n",
       "    }\n",
       "</style>\n",
       "<table border=\"1\" class=\"dataframe\">\n",
       "  <thead>\n",
       "    <tr style=\"text-align: right;\">\n",
       "      <th></th>\n",
       "      <th>page</th>\n",
       "      <th>status</th>\n",
       "      <th>method</th>\n",
       "    </tr>\n",
       "  </thead>\n",
       "  <tbody>\n",
       "    <tr>\n",
       "      <th>0</th>\n",
       "      <td>NextSong</td>\n",
       "      <td>200</td>\n",
       "      <td>PUT</td>\n",
       "    </tr>\n",
       "    <tr>\n",
       "      <th>8</th>\n",
       "      <td>Add to Playlist</td>\n",
       "      <td>200</td>\n",
       "      <td>PUT</td>\n",
       "    </tr>\n",
       "    <tr>\n",
       "      <th>11</th>\n",
       "      <td>Roll Advert</td>\n",
       "      <td>200</td>\n",
       "      <td>GET</td>\n",
       "    </tr>\n",
       "    <tr>\n",
       "      <th>14</th>\n",
       "      <td>Thumbs Up</td>\n",
       "      <td>307</td>\n",
       "      <td>PUT</td>\n",
       "    </tr>\n",
       "    <tr>\n",
       "      <th>35</th>\n",
       "      <td>Downgrade</td>\n",
       "      <td>200</td>\n",
       "      <td>GET</td>\n",
       "    </tr>\n",
       "    <tr>\n",
       "      <th>47</th>\n",
       "      <td>Thumbs Down</td>\n",
       "      <td>307</td>\n",
       "      <td>PUT</td>\n",
       "    </tr>\n",
       "    <tr>\n",
       "      <th>51</th>\n",
       "      <td>Home</td>\n",
       "      <td>200</td>\n",
       "      <td>GET</td>\n",
       "    </tr>\n",
       "    <tr>\n",
       "      <th>53</th>\n",
       "      <td>Logout</td>\n",
       "      <td>307</td>\n",
       "      <td>PUT</td>\n",
       "    </tr>\n",
       "    <tr>\n",
       "      <th>139</th>\n",
       "      <td>Help</td>\n",
       "      <td>200</td>\n",
       "      <td>GET</td>\n",
       "    </tr>\n",
       "    <tr>\n",
       "      <th>144</th>\n",
       "      <td>Upgrade</td>\n",
       "      <td>200</td>\n",
       "      <td>GET</td>\n",
       "    </tr>\n",
       "    <tr>\n",
       "      <th>176</th>\n",
       "      <td>Add Friend</td>\n",
       "      <td>307</td>\n",
       "      <td>PUT</td>\n",
       "    </tr>\n",
       "    <tr>\n",
       "      <th>307</th>\n",
       "      <td>Settings</td>\n",
       "      <td>200</td>\n",
       "      <td>GET</td>\n",
       "    </tr>\n",
       "    <tr>\n",
       "      <th>374</th>\n",
       "      <td>Submit Upgrade</td>\n",
       "      <td>307</td>\n",
       "      <td>PUT</td>\n",
       "    </tr>\n",
       "    <tr>\n",
       "      <th>523</th>\n",
       "      <td>About</td>\n",
       "      <td>200</td>\n",
       "      <td>GET</td>\n",
       "    </tr>\n",
       "    <tr>\n",
       "      <th>930</th>\n",
       "      <td>Submit Downgrade</td>\n",
       "      <td>307</td>\n",
       "      <td>PUT</td>\n",
       "    </tr>\n",
       "    <tr>\n",
       "      <th>939</th>\n",
       "      <td>Error</td>\n",
       "      <td>404</td>\n",
       "      <td>GET</td>\n",
       "    </tr>\n",
       "    <tr>\n",
       "      <th>2176</th>\n",
       "      <td>Save Settings</td>\n",
       "      <td>307</td>\n",
       "      <td>PUT</td>\n",
       "    </tr>\n",
       "    <tr>\n",
       "      <th>20225</th>\n",
       "      <td>Cancel</td>\n",
       "      <td>307</td>\n",
       "      <td>PUT</td>\n",
       "    </tr>\n",
       "    <tr>\n",
       "      <th>20231</th>\n",
       "      <td>Cancellation Confirmation</td>\n",
       "      <td>200</td>\n",
       "      <td>GET</td>\n",
       "    </tr>\n",
       "  </tbody>\n",
       "</table>\n",
       "</div>"
      ],
      "text/plain": [
       "                            page  status method\n",
       "0                       NextSong     200    PUT\n",
       "8                Add to Playlist     200    PUT\n",
       "11                   Roll Advert     200    GET\n",
       "14                     Thumbs Up     307    PUT\n",
       "35                     Downgrade     200    GET\n",
       "47                   Thumbs Down     307    PUT\n",
       "51                          Home     200    GET\n",
       "53                        Logout     307    PUT\n",
       "139                         Help     200    GET\n",
       "144                      Upgrade     200    GET\n",
       "176                   Add Friend     307    PUT\n",
       "307                     Settings     200    GET\n",
       "374               Submit Upgrade     307    PUT\n",
       "523                        About     200    GET\n",
       "930             Submit Downgrade     307    PUT\n",
       "939                        Error     404    GET\n",
       "2176               Save Settings     307    PUT\n",
       "20225                     Cancel     307    PUT\n",
       "20231  Cancellation Confirmation     200    GET"
      ]
     },
     "execution_count": 150,
     "metadata": {},
     "output_type": "execute_result"
    }
   ],
   "source": [
    "df[[\"page\", \"status\", \"method\"]].drop_duplicates()"
   ]
  },
  {
   "cell_type": "markdown",
   "id": "dda3d6e1",
   "metadata": {},
   "source": [
    "Pretty much all information is captured in the page column itself (IE each page only has one combination of status codes and methods)."
   ]
  },
  {
   "cell_type": "code",
   "execution_count": 151,
   "id": "25f4bd4c",
   "metadata": {},
   "outputs": [
    {
     "data": {
      "image/png": "[encoded data removed]",
      "text/plain": [
       "<Figure size 432x288 with 1 Axes>"
      ]
     },
     "metadata": {
      "needs_background": "light"
     },
     "output_type": "display_data"
    }
   ],
   "source": [
    "df[\"registration\"].hist();"
   ]
  },
  {
   "cell_type": "markdown",
   "id": "3cae4cc8",
   "metadata": {},
   "source": [
    "Detecting mobile or desktop based on user agent:\n",
    "\n",
    "https://developer.mozilla.org/en-US/docs/Web/HTTP/Browser_detection_using_the_user_agent#mobile_tablet_or_desktop"
   ]
  },
  {
   "cell_type": "code",
   "execution_count": 152,
   "id": "625f1d17",
   "metadata": {},
   "outputs": [
    {
     "data": {
      "text/plain": [
       "False    255581\n",
       "True      22573\n",
       "Name: userAgent, dtype: int64"
      ]
     },
     "execution_count": 152,
     "metadata": {},
     "output_type": "execute_result"
    }
   ],
   "source": [
    "df[\"userAgent\"].str.contains(\"Mobi\").value_counts()"
   ]
  },
  {
   "cell_type": "code",
   "execution_count": 153,
   "id": "2e32cfaa",
   "metadata": {},
   "outputs": [],
   "source": [
    "df[\"isMobile\"] = df[\"userAgent\"].str.contains(\"Mobi\")"
   ]
  },
  {
   "cell_type": "code",
   "execution_count": 154,
   "id": "d8bbf620",
   "metadata": {},
   "outputs": [
    {
     "data": {
      "text/plain": [
       "array([0., 1.])"
      ]
     },
     "execution_count": 154,
     "metadata": {},
     "output_type": "execute_result"
    }
   ],
   "source": [
    "df.groupby(\"userId\")[\"isMobile\"].mean().unique()"
   ]
  },
  {
   "cell_type": "markdown",
   "id": "fbcfe922",
   "metadata": {},
   "source": [
    "Users either spend all their time on mobile or on desktop. We can use this as a feature for each user."
   ]
  },
  {
   "cell_type": "markdown",
   "id": "ba6262e4",
   "metadata": {},
   "source": [
    "Let's take a look at the location column"
   ]
  },
  {
   "cell_type": "code",
   "execution_count": 155,
   "id": "12340e83",
   "metadata": {},
   "outputs": [
    {
     "data": {
      "text/plain": [
       "114"
      ]
     },
     "execution_count": 155,
     "metadata": {},
     "output_type": "execute_result"
    }
   ],
   "source": [
    "df[\"location\"].nunique()"
   ]
  },
  {
   "cell_type": "markdown",
   "id": "9f7ae551",
   "metadata": {},
   "source": [
    "There are a lot of different values so let's take a look at how they're formatted so we can maybe clean the column up a little bit."
   ]
  },
  {
   "cell_type": "code",
   "execution_count": 156,
   "id": "183daaf1",
   "metadata": {},
   "outputs": [
    {
     "data": {
      "text/plain": [
       "array(['Bakersfield, CA', 'Boston-Cambridge-Newton, MA-NH',\n",
       "       'Tallahassee, FL', 'Spokane-Spokane Valley, WA',\n",
       "       'Baltimore-Columbia-Towson, MD', 'Denver-Aurora-Lakewood, CO',\n",
       "       'McAllen-Edinburg-Mission, TX', 'Columbus, GA-AL',\n",
       "       'Phoenix-Mesa-Scottsdale, AZ',\n",
       "       'Tampa-St. Petersburg-Clearwater, FL'], dtype=object)"
      ]
     },
     "execution_count": 156,
     "metadata": {},
     "output_type": "execute_result"
    }
   ],
   "source": [
    "df[\"location\"].unique()[:10]"
   ]
  },
  {
   "cell_type": "markdown",
   "id": "92a0f0c7",
   "metadata": {},
   "source": [
    "Let's just take the first state in the list and use that as the location for our users."
   ]
  },
  {
   "cell_type": "code",
   "execution_count": 157,
   "id": "b29af434",
   "metadata": {},
   "outputs": [],
   "source": [
    "df[\"stateCode\"] = df[\"location\"].str.split(\", \").map(lambda x: x[1].split(\"-\")[0])"
   ]
  },
  {
   "cell_type": "code",
   "execution_count": 158,
   "id": "f2cdf2fc",
   "metadata": {},
   "outputs": [],
   "source": [
    "import matplotlib.pyplot as plt"
   ]
  },
  {
   "cell_type": "code",
   "execution_count": 159,
   "id": "cfda6f78",
   "metadata": {},
   "outputs": [
    {
     "data": {
      "image/png": "[encoded data removed]",
      "text/plain": [
       "<Figure size 1152x648 with 1 Axes>"
      ]
     },
     "metadata": {
      "needs_background": "light"
     },
     "output_type": "display_data"
    }
   ],
   "source": [
    "plt.figure(figsize=(16,9))\n",
    "df.groupby(\"userId\")[\"stateCode\"].unique().map(lambda x: x[0]).value_counts().plot(kind=\"bar\");"
   ]
  },
  {
   "cell_type": "markdown",
   "id": "3138f174",
   "metadata": {},
   "source": [
    "This is a categorical variable with relatively high cardinality. It would need to be one-hot-encoded which would then add up to 50 columns to our dataset. This should start to make us worry about the curse of dimensionality. If we include too many columns with so few observations, we end up \"misleading\" the model since it's not able to differentiate any signal from the noise."
   ]
  },
  {
   "cell_type": "code",
   "execution_count": 160,
   "id": "65181646",
   "metadata": {},
   "outputs": [
    {
     "data": {
      "text/plain": [
       "array(['paid', 'free'], dtype=object)"
      ]
     },
     "execution_count": 160,
     "metadata": {},
     "output_type": "execute_result"
    }
   ],
   "source": [
    "df[\"level\"].unique()"
   ]
  },
  {
   "cell_type": "markdown",
   "id": "c5bc8357",
   "metadata": {},
   "source": [
    "We can easily binary encode this column, but the value can change over time so we should use the value from the user's latest interaction with the platform."
   ]
  },
  {
   "cell_type": "code",
   "execution_count": 161,
   "id": "4d9eea11",
   "metadata": {},
   "outputs": [],
   "source": [
    "paid_user = df.sort_values(\"ts\").groupby(\"userId\")[\"level\"].last().map({\"free\": 0, \"paid\": 1})"
   ]
  },
  {
   "cell_type": "markdown",
   "id": "a1b5e114",
   "metadata": {},
   "source": [
    "If the user has visited the Cancellation Confirmation page, they have left the platform"
   ]
  },
  {
   "cell_type": "code",
   "execution_count": 162,
   "id": "d3c51159",
   "metadata": {},
   "outputs": [],
   "source": [
    "churned = df.groupby(\"userId\")[\"page\"].unique() \\\n",
    "    .map(lambda x: 1 if \"Cancellation Confirmation\" in x else 0)"
   ]
  },
  {
   "cell_type": "code",
   "execution_count": 163,
   "id": "2b35e9d4",
   "metadata": {},
   "outputs": [],
   "source": [
    "sessions_per_user = df.groupby(\"userId\")[\"sessionId\"].nunique()"
   ]
  },
  {
   "cell_type": "code",
   "execution_count": 164,
   "id": "0083d51e",
   "metadata": {},
   "outputs": [],
   "source": [
    "session_len = df.groupby(['userId', \"sessionId\"]).agg({\"ts\": ['min', 'max']})"
   ]
  },
  {
   "cell_type": "code",
   "execution_count": 165,
   "id": "8cabc71d",
   "metadata": {},
   "outputs": [],
   "source": [
    "session_len[\"length\"] = session_len[('ts', 'max')] - session_len[('ts', 'min')]"
   ]
  },
  {
   "cell_type": "code",
   "execution_count": 166,
   "id": "666b72a0",
   "metadata": {},
   "outputs": [
    {
     "data": {
      "text/html": [
       "<div>\n",
       "<style scoped>\n",
       "    .dataframe tbody tr th:only-of-type {\n",
       "        vertical-align: middle;\n",
       "    }\n",
       "\n",
       "    .dataframe tbody tr th {\n",
       "        vertical-align: top;\n",
       "    }\n",
       "\n",
       "    .dataframe thead tr th {\n",
       "        text-align: left;\n",
       "    }\n",
       "\n",
       "    .dataframe thead tr:last-of-type th {\n",
       "        text-align: right;\n",
       "    }\n",
       "</style>\n",
       "<table border=\"1\" class=\"dataframe\">\n",
       "  <thead>\n",
       "    <tr>\n",
       "      <th></th>\n",
       "      <th></th>\n",
       "      <th colspan=\"2\" halign=\"left\">ts</th>\n",
       "      <th>length</th>\n",
       "    </tr>\n",
       "    <tr>\n",
       "      <th></th>\n",
       "      <th></th>\n",
       "      <th>min</th>\n",
       "      <th>max</th>\n",
       "      <th></th>\n",
       "    </tr>\n",
       "    <tr>\n",
       "      <th>userId</th>\n",
       "      <th>sessionId</th>\n",
       "      <th></th>\n",
       "      <th></th>\n",
       "      <th></th>\n",
       "    </tr>\n",
       "  </thead>\n",
       "  <tbody>\n",
       "    <tr>\n",
       "      <th rowspan=\"5\" valign=\"top\">10</th>\n",
       "      <th>9</th>\n",
       "      <td>1538965220000</td>\n",
       "      <td>1538979372000</td>\n",
       "      <td>14152000</td>\n",
       "    </tr>\n",
       "    <tr>\n",
       "      <th>595</th>\n",
       "      <td>1539833923000</td>\n",
       "      <td>1539926798000</td>\n",
       "      <td>92875000</td>\n",
       "    </tr>\n",
       "    <tr>\n",
       "      <th>1047</th>\n",
       "      <td>1540850546000</td>\n",
       "      <td>1540856031000</td>\n",
       "      <td>5485000</td>\n",
       "    </tr>\n",
       "    <tr>\n",
       "      <th>1414</th>\n",
       "      <td>1541255262000</td>\n",
       "      <td>1541270598000</td>\n",
       "      <td>15336000</td>\n",
       "    </tr>\n",
       "    <tr>\n",
       "      <th>1592</th>\n",
       "      <td>1542310466000</td>\n",
       "      <td>1542327989000</td>\n",
       "      <td>17523000</td>\n",
       "    </tr>\n",
       "    <tr>\n",
       "      <th>...</th>\n",
       "      <th>...</th>\n",
       "      <td>...</td>\n",
       "      <td>...</td>\n",
       "      <td>...</td>\n",
       "    </tr>\n",
       "    <tr>\n",
       "      <th rowspan=\"5\" valign=\"top\">99</th>\n",
       "      <th>1683</th>\n",
       "      <td>1542376407000</td>\n",
       "      <td>1542389629000</td>\n",
       "      <td>13222000</td>\n",
       "    </tr>\n",
       "    <tr>\n",
       "      <th>2011</th>\n",
       "      <td>1542585085000</td>\n",
       "      <td>1542590831000</td>\n",
       "      <td>5746000</td>\n",
       "    </tr>\n",
       "    <tr>\n",
       "      <th>2062</th>\n",
       "      <td>1542900850000</td>\n",
       "      <td>1542918384000</td>\n",
       "      <td>17534000</td>\n",
       "    </tr>\n",
       "    <tr>\n",
       "      <th>2201</th>\n",
       "      <td>1543067431000</td>\n",
       "      <td>1543095650000</td>\n",
       "      <td>28219000</td>\n",
       "    </tr>\n",
       "    <tr>\n",
       "      <th>2274</th>\n",
       "      <td>1543275474000</td>\n",
       "      <td>1543303277000</td>\n",
       "      <td>27803000</td>\n",
       "    </tr>\n",
       "  </tbody>\n",
       "</table>\n",
       "<p>3176 rows × 3 columns</p>\n",
       "</div>"
      ],
      "text/plain": [
       "                             ts                   length\n",
       "                            min            max          \n",
       "userId sessionId                                        \n",
       "10     9          1538965220000  1538979372000  14152000\n",
       "       595        1539833923000  1539926798000  92875000\n",
       "       1047       1540850546000  1540856031000   5485000\n",
       "       1414       1541255262000  1541270598000  15336000\n",
       "       1592       1542310466000  1542327989000  17523000\n",
       "...                         ...            ...       ...\n",
       "99     1683       1542376407000  1542389629000  13222000\n",
       "       2011       1542585085000  1542590831000   5746000\n",
       "       2062       1542900850000  1542918384000  17534000\n",
       "       2201       1543067431000  1543095650000  28219000\n",
       "       2274       1543275474000  1543303277000  27803000\n",
       "\n",
       "[3176 rows x 3 columns]"
      ]
     },
     "execution_count": 166,
     "metadata": {},
     "output_type": "execute_result"
    }
   ],
   "source": [
    "session_len"
   ]
  },
  {
   "cell_type": "code",
   "execution_count": 167,
   "id": "7ae8f50c",
   "metadata": {},
   "outputs": [],
   "source": [
    "import seaborn as sns"
   ]
  },
  {
   "cell_type": "code",
   "execution_count": 168,
   "id": "b5c9726e",
   "metadata": {},
   "outputs": [
    {
     "data": {
      "image/png": "[encoded data removed]",
      "text/plain": [
       "<Figure size 432x288 with 1 Axes>"
      ]
     },
     "metadata": {
      "needs_background": "light"
     },
     "output_type": "display_data"
    }
   ],
   "source": [
    "session_len.groupby(\"userId\")[\"length\"].mean().hist(bins=20);"
   ]
  },
  {
   "cell_type": "code",
   "execution_count": 169,
   "id": "9818ea28",
   "metadata": {},
   "outputs": [],
   "source": [
    "avg_session_len_per_user = session_len.groupby(\"userId\")[\"length\"].mean()"
   ]
  },
  {
   "cell_type": "code",
   "execution_count": 170,
   "id": "f337a17f",
   "metadata": {},
   "outputs": [
    {
     "data": {
      "text/plain": [
       "userId\n",
       "10        2.758483e+07\n",
       "100       1.899114e+07\n",
       "100001    8.889500e+06\n",
       "100002    1.207100e+07\n",
       "100003    5.947000e+06\n",
       "              ...     \n",
       "95        1.269688e+07\n",
       "96        2.354216e+07\n",
       "97        1.609980e+07\n",
       "98        2.223082e+07\n",
       "99        1.142982e+07\n",
       "Name: length, Length: 225, dtype: float64"
      ]
     },
     "execution_count": 170,
     "metadata": {},
     "output_type": "execute_result"
    }
   ],
   "source": [
    "avg_session_len_per_user"
   ]
  },
  {
   "cell_type": "code",
   "execution_count": 171,
   "id": "3b51601d",
   "metadata": {},
   "outputs": [],
   "source": [
    "churned_len = pd.concat([churned, avg_session_len_per_user], axis=1)\n",
    "churned_len.columns = [\"Churned\", \"Session Length\"]"
   ]
  },
  {
   "cell_type": "code",
   "execution_count": 172,
   "id": "b4472181",
   "metadata": {},
   "outputs": [],
   "source": [
    "import matplotlib.pyplot as plt"
   ]
  },
  {
   "cell_type": "code",
   "execution_count": 173,
   "id": "da8a06a3",
   "metadata": {},
   "outputs": [
    {
     "data": {
      "image/png": "[encoded data removed]",
      "text/plain": [
       "<Figure size 1152x648 with 1 Axes>"
      ]
     },
     "metadata": {
      "needs_background": "light"
     },
     "output_type": "display_data"
    }
   ],
   "source": [
    "plt.figure(figsize=(16,9))\n",
    "sns.histplot(churned_len, x=\"Session Length\", hue=\"Churned\");"
   ]
  },
  {
   "cell_type": "markdown",
   "id": "c821373d",
   "metadata": {},
   "source": [
    "There is no clear difference in session time between churned and not churned users."
   ]
  },
  {
   "cell_type": "code",
   "execution_count": 174,
   "id": "f676cc37",
   "metadata": {},
   "outputs": [],
   "source": [
    "session_ends = df.sort_values(\"ts\").groupby([\"userId\", \"sessionId\"])[[\"ts\", \"itemInSession\"]].last()"
   ]
  },
  {
   "cell_type": "code",
   "execution_count": 175,
   "id": "faa771f6",
   "metadata": {},
   "outputs": [
    {
     "data": {
      "text/html": [
       "<div>\n",
       "<style scoped>\n",
       "    .dataframe tbody tr th:only-of-type {\n",
       "        vertical-align: middle;\n",
       "    }\n",
       "\n",
       "    .dataframe tbody tr th {\n",
       "        vertical-align: top;\n",
       "    }\n",
       "\n",
       "    .dataframe thead th {\n",
       "        text-align: right;\n",
       "    }\n",
       "</style>\n",
       "<table border=\"1\" class=\"dataframe\">\n",
       "  <thead>\n",
       "    <tr style=\"text-align: right;\">\n",
       "      <th></th>\n",
       "      <th></th>\n",
       "      <th>ts</th>\n",
       "      <th>itemInSession</th>\n",
       "    </tr>\n",
       "    <tr>\n",
       "      <th>userId</th>\n",
       "      <th>sessionId</th>\n",
       "      <th></th>\n",
       "      <th></th>\n",
       "    </tr>\n",
       "  </thead>\n",
       "  <tbody>\n",
       "    <tr>\n",
       "      <th rowspan=\"5\" valign=\"top\">10</th>\n",
       "      <th>9</th>\n",
       "      <td>1538979372000</td>\n",
       "      <td>71</td>\n",
       "    </tr>\n",
       "    <tr>\n",
       "      <th>595</th>\n",
       "      <td>1539926798000</td>\n",
       "      <td>456</td>\n",
       "    </tr>\n",
       "    <tr>\n",
       "      <th>1047</th>\n",
       "      <td>1540856031000</td>\n",
       "      <td>24</td>\n",
       "    </tr>\n",
       "    <tr>\n",
       "      <th>1414</th>\n",
       "      <td>1541270598000</td>\n",
       "      <td>81</td>\n",
       "    </tr>\n",
       "    <tr>\n",
       "      <th>1592</th>\n",
       "      <td>1542327989000</td>\n",
       "      <td>83</td>\n",
       "    </tr>\n",
       "    <tr>\n",
       "      <th>...</th>\n",
       "      <th>...</th>\n",
       "      <td>...</td>\n",
       "      <td>...</td>\n",
       "    </tr>\n",
       "    <tr>\n",
       "      <th rowspan=\"5\" valign=\"top\">99</th>\n",
       "      <th>1683</th>\n",
       "      <td>1542389629000</td>\n",
       "      <td>55</td>\n",
       "    </tr>\n",
       "    <tr>\n",
       "      <th>2011</th>\n",
       "      <td>1542590831000</td>\n",
       "      <td>23</td>\n",
       "    </tr>\n",
       "    <tr>\n",
       "      <th>2062</th>\n",
       "      <td>1542918384000</td>\n",
       "      <td>91</td>\n",
       "    </tr>\n",
       "    <tr>\n",
       "      <th>2201</th>\n",
       "      <td>1543095650000</td>\n",
       "      <td>148</td>\n",
       "    </tr>\n",
       "    <tr>\n",
       "      <th>2274</th>\n",
       "      <td>1543303277000</td>\n",
       "      <td>136</td>\n",
       "    </tr>\n",
       "  </tbody>\n",
       "</table>\n",
       "<p>3176 rows × 2 columns</p>\n",
       "</div>"
      ],
      "text/plain": [
       "                             ts  itemInSession\n",
       "userId sessionId                              \n",
       "10     9          1538979372000             71\n",
       "       595        1539926798000            456\n",
       "       1047       1540856031000             24\n",
       "       1414       1541270598000             81\n",
       "       1592       1542327989000             83\n",
       "...                         ...            ...\n",
       "99     1683       1542389629000             55\n",
       "       2011       1542590831000             23\n",
       "       2062       1542918384000             91\n",
       "       2201       1543095650000            148\n",
       "       2274       1543303277000            136\n",
       "\n",
       "[3176 rows x 2 columns]"
      ]
     },
     "execution_count": 175,
     "metadata": {},
     "output_type": "execute_result"
    }
   ],
   "source": [
    "session_ends"
   ]
  },
  {
   "cell_type": "code",
   "execution_count": 176,
   "id": "28a16b43",
   "metadata": {},
   "outputs": [],
   "source": [
    "avg_time_bw_sessions = session_ends.sort_values('ts').groupby(\"userId\")['ts'].agg(lambda x: x.diff().mean())"
   ]
  },
  {
   "cell_type": "code",
   "execution_count": 177,
   "id": "54ab6e38",
   "metadata": {},
   "outputs": [
    {
     "data": {
      "text/plain": [
       "userId\n",
       "10        7.304832e+08\n",
       "100       1.487741e+08\n",
       "100001    3.737400e+07\n",
       "100002    1.586523e+09\n",
       "100003    1.741680e+08\n",
       "100004    2.459878e+08\n",
       "100005    3.888878e+08\n",
       "100006             NaN\n",
       "100007    6.250461e+08\n",
       "100008    8.457060e+08\n",
       "Name: ts, dtype: float64"
      ]
     },
     "execution_count": 177,
     "metadata": {},
     "output_type": "execute_result"
    }
   ],
   "source": [
    "avg_time_bw_sessions[:10]"
   ]
  },
  {
   "cell_type": "code",
   "execution_count": 178,
   "id": "ddc841ad",
   "metadata": {},
   "outputs": [
    {
     "data": {
      "text/plain": [
       "487043744.5645679"
      ]
     },
     "execution_count": 178,
     "metadata": {},
     "output_type": "execute_result"
    }
   ],
   "source": [
    "avg_time_bw_sessions.mean()"
   ]
  },
  {
   "cell_type": "code",
   "execution_count": 179,
   "id": "34f75cc6",
   "metadata": {},
   "outputs": [
    {
     "data": {
      "image/png": "[encoded data removed]",
      "text/plain": [
       "<Figure size 432x288 with 1 Axes>"
      ]
     },
     "metadata": {
      "needs_background": "light"
     },
     "output_type": "display_data"
    }
   ],
   "source": [
    "avg_time_bw_sessions.hist();"
   ]
  },
  {
   "cell_type": "code",
   "execution_count": 180,
   "id": "b06256f5",
   "metadata": {},
   "outputs": [
    {
     "data": {
      "text/plain": [
       "15"
      ]
     },
     "execution_count": 180,
     "metadata": {},
     "output_type": "execute_result"
    }
   ],
   "source": [
    "avg_time_bw_sessions.isna().sum()"
   ]
  },
  {
   "cell_type": "code",
   "execution_count": 181,
   "id": "68e18a9c",
   "metadata": {},
   "outputs": [
    {
     "data": {
      "text/plain": [
       "array(['NextSong', 'Add to Playlist', 'Roll Advert', 'Thumbs Up',\n",
       "       'Downgrade', 'Thumbs Down', 'Home', 'Logout', 'Help', 'Upgrade',\n",
       "       'Add Friend', 'Settings', 'Submit Upgrade', 'About',\n",
       "       'Submit Downgrade', 'Error', 'Save Settings', 'Cancel',\n",
       "       'Cancellation Confirmation'], dtype=object)"
      ]
     },
     "execution_count": 181,
     "metadata": {},
     "output_type": "execute_result"
    }
   ],
   "source": [
    "df[\"page\"].unique()"
   ]
  },
  {
   "cell_type": "code",
   "execution_count": 182,
   "id": "ef256598",
   "metadata": {},
   "outputs": [
    {
     "data": {
      "text/plain": [
       "array(['Logged In', 'Cancelled'], dtype=object)"
      ]
     },
     "execution_count": 182,
     "metadata": {},
     "output_type": "execute_result"
    }
   ],
   "source": [
    "df[\"auth\"].unique()"
   ]
  },
  {
   "cell_type": "code",
   "execution_count": 183,
   "id": "89671df9",
   "metadata": {},
   "outputs": [
    {
     "data": {
      "text/html": [
       "<div>\n",
       "<style scoped>\n",
       "    .dataframe tbody tr th:only-of-type {\n",
       "        vertical-align: middle;\n",
       "    }\n",
       "\n",
       "    .dataframe tbody tr th {\n",
       "        vertical-align: top;\n",
       "    }\n",
       "\n",
       "    .dataframe thead th {\n",
       "        text-align: right;\n",
       "    }\n",
       "</style>\n",
       "<table border=\"1\" class=\"dataframe\">\n",
       "  <thead>\n",
       "    <tr style=\"text-align: right;\">\n",
       "      <th></th>\n",
       "      <th>ts</th>\n",
       "      <th>userId</th>\n",
       "      <th>sessionId</th>\n",
       "      <th>page</th>\n",
       "      <th>auth</th>\n",
       "      <th>method</th>\n",
       "      <th>status</th>\n",
       "      <th>level</th>\n",
       "      <th>itemInSession</th>\n",
       "      <th>location</th>\n",
       "      <th>userAgent</th>\n",
       "      <th>lastName</th>\n",
       "      <th>firstName</th>\n",
       "      <th>registration</th>\n",
       "      <th>gender</th>\n",
       "      <th>artist</th>\n",
       "      <th>song</th>\n",
       "      <th>length</th>\n",
       "      <th>isMobile</th>\n",
       "      <th>stateCode</th>\n",
       "    </tr>\n",
       "  </thead>\n",
       "  <tbody>\n",
       "    <tr>\n",
       "      <th>20231</th>\n",
       "      <td>1538943990000</td>\n",
       "      <td>18</td>\n",
       "      <td>514</td>\n",
       "      <td>Cancellation Confirmation</td>\n",
       "      <td>Cancelled</td>\n",
       "      <td>GET</td>\n",
       "      <td>200</td>\n",
       "      <td>paid</td>\n",
       "      <td>104</td>\n",
       "      <td>Kansas City, MO-KS</td>\n",
       "      <td>\"Mozilla/5.0 (Macintosh; Intel Mac OS X 10_9_4...</td>\n",
       "      <td>Mendoza</td>\n",
       "      <td>Adriel</td>\n",
       "      <td>1.535623e+12</td>\n",
       "      <td>M</td>\n",
       "      <td>NaN</td>\n",
       "      <td>NaN</td>\n",
       "      <td>NaN</td>\n",
       "      <td>False</td>\n",
       "      <td>MO</td>\n",
       "    </tr>\n",
       "    <tr>\n",
       "      <th>23811</th>\n",
       "      <td>1539033046000</td>\n",
       "      <td>32</td>\n",
       "      <td>540</td>\n",
       "      <td>Cancellation Confirmation</td>\n",
       "      <td>Cancelled</td>\n",
       "      <td>GET</td>\n",
       "      <td>200</td>\n",
       "      <td>paid</td>\n",
       "      <td>56</td>\n",
       "      <td>Phoenix-Mesa-Scottsdale, AZ</td>\n",
       "      <td>\"Mozilla/5.0 (iPhone; CPU iPhone OS 7_1_2 like...</td>\n",
       "      <td>Mckee</td>\n",
       "      <td>Diego</td>\n",
       "      <td>1.537168e+12</td>\n",
       "      <td>M</td>\n",
       "      <td>NaN</td>\n",
       "      <td>NaN</td>\n",
       "      <td>NaN</td>\n",
       "      <td>True</td>\n",
       "      <td>AZ</td>\n",
       "    </tr>\n",
       "    <tr>\n",
       "      <th>37817</th>\n",
       "      <td>1539318918000</td>\n",
       "      <td>125</td>\n",
       "      <td>174</td>\n",
       "      <td>Cancellation Confirmation</td>\n",
       "      <td>Cancelled</td>\n",
       "      <td>GET</td>\n",
       "      <td>200</td>\n",
       "      <td>free</td>\n",
       "      <td>10</td>\n",
       "      <td>Corpus Christi, TX</td>\n",
       "      <td>\"Mozilla/5.0 (Macintosh; Intel Mac OS X 10_9_4...</td>\n",
       "      <td>Hart</td>\n",
       "      <td>Mason</td>\n",
       "      <td>1.533157e+12</td>\n",
       "      <td>M</td>\n",
       "      <td>NaN</td>\n",
       "      <td>NaN</td>\n",
       "      <td>NaN</td>\n",
       "      <td>False</td>\n",
       "      <td>TX</td>\n",
       "    </tr>\n",
       "    <tr>\n",
       "      <th>40356</th>\n",
       "      <td>1539375441000</td>\n",
       "      <td>105</td>\n",
       "      <td>508</td>\n",
       "      <td>Cancellation Confirmation</td>\n",
       "      <td>Cancelled</td>\n",
       "      <td>GET</td>\n",
       "      <td>200</td>\n",
       "      <td>paid</td>\n",
       "      <td>332</td>\n",
       "      <td>Indianapolis-Carmel-Anderson, IN</td>\n",
       "      <td>Mozilla/5.0 (Windows NT 6.1; WOW64; rv:31.0) G...</td>\n",
       "      <td>Garcia</td>\n",
       "      <td>Alexander</td>\n",
       "      <td>1.536817e+12</td>\n",
       "      <td>M</td>\n",
       "      <td>NaN</td>\n",
       "      <td>NaN</td>\n",
       "      <td>NaN</td>\n",
       "      <td>False</td>\n",
       "      <td>IN</td>\n",
       "    </tr>\n",
       "    <tr>\n",
       "      <th>42009</th>\n",
       "      <td>1539465584000</td>\n",
       "      <td>17</td>\n",
       "      <td>797</td>\n",
       "      <td>Cancellation Confirmation</td>\n",
       "      <td>Cancelled</td>\n",
       "      <td>GET</td>\n",
       "      <td>200</td>\n",
       "      <td>paid</td>\n",
       "      <td>273</td>\n",
       "      <td>Philadelphia-Camden-Wilmington, PA-NJ-DE-MD</td>\n",
       "      <td>Mozilla/5.0 (Windows NT 6.1; WOW64; rv:24.0) G...</td>\n",
       "      <td>Johnson</td>\n",
       "      <td>Kayla</td>\n",
       "      <td>1.538334e+12</td>\n",
       "      <td>F</td>\n",
       "      <td>NaN</td>\n",
       "      <td>NaN</td>\n",
       "      <td>NaN</td>\n",
       "      <td>False</td>\n",
       "      <td>PA</td>\n",
       "    </tr>\n",
       "    <tr>\n",
       "      <th>44616</th>\n",
       "      <td>1539588854000</td>\n",
       "      <td>143</td>\n",
       "      <td>843</td>\n",
       "      <td>Cancellation Confirmation</td>\n",
       "      <td>Cancelled</td>\n",
       "      <td>GET</td>\n",
       "      <td>200</td>\n",
       "      <td>free</td>\n",
       "      <td>29</td>\n",
       "      <td>Virginia Beach-Norfolk-Newport News, VA-NC</td>\n",
       "      <td>\"Mozilla/5.0 (Macintosh; Intel Mac OS X 10_9_4...</td>\n",
       "      <td>Harrison</td>\n",
       "      <td>Molly</td>\n",
       "      <td>1.534255e+12</td>\n",
       "      <td>F</td>\n",
       "      <td>NaN</td>\n",
       "      <td>NaN</td>\n",
       "      <td>NaN</td>\n",
       "      <td>False</td>\n",
       "      <td>VA</td>\n",
       "    </tr>\n",
       "    <tr>\n",
       "      <th>52748</th>\n",
       "      <td>1539729037000</td>\n",
       "      <td>101</td>\n",
       "      <td>842</td>\n",
       "      <td>Cancellation Confirmation</td>\n",
       "      <td>Cancelled</td>\n",
       "      <td>GET</td>\n",
       "      <td>200</td>\n",
       "      <td>paid</td>\n",
       "      <td>145</td>\n",
       "      <td>Denver-Aurora-Lakewood, CO</td>\n",
       "      <td>Mozilla/5.0 (Windows NT 6.2; WOW64; rv:31.0) G...</td>\n",
       "      <td>Hogan</td>\n",
       "      <td>Alex</td>\n",
       "      <td>1.535066e+12</td>\n",
       "      <td>M</td>\n",
       "      <td>NaN</td>\n",
       "      <td>NaN</td>\n",
       "      <td>NaN</td>\n",
       "      <td>False</td>\n",
       "      <td>CO</td>\n",
       "    </tr>\n",
       "    <tr>\n",
       "      <th>53205</th>\n",
       "      <td>1539736161000</td>\n",
       "      <td>129</td>\n",
       "      <td>802</td>\n",
       "      <td>Cancellation Confirmation</td>\n",
       "      <td>Cancelled</td>\n",
       "      <td>GET</td>\n",
       "      <td>200</td>\n",
       "      <td>paid</td>\n",
       "      <td>34</td>\n",
       "      <td>Flint, MI</td>\n",
       "      <td>\"Mozilla/5.0 (Windows NT 6.3; WOW64) AppleWebK...</td>\n",
       "      <td>Wang</td>\n",
       "      <td>Davis</td>\n",
       "      <td>1.538290e+12</td>\n",
       "      <td>M</td>\n",
       "      <td>NaN</td>\n",
       "      <td>NaN</td>\n",
       "      <td>NaN</td>\n",
       "      <td>False</td>\n",
       "      <td>MI</td>\n",
       "    </tr>\n",
       "    <tr>\n",
       "      <th>54476</th>\n",
       "      <td>1539759749000</td>\n",
       "      <td>121</td>\n",
       "      <td>881</td>\n",
       "      <td>Cancellation Confirmation</td>\n",
       "      <td>Cancelled</td>\n",
       "      <td>GET</td>\n",
       "      <td>200</td>\n",
       "      <td>paid</td>\n",
       "      <td>287</td>\n",
       "      <td>Oxnard-Thousand Oaks-Ventura, CA</td>\n",
       "      <td>Mozilla/5.0 (X11; Ubuntu; Linux x86_64; rv:31....</td>\n",
       "      <td>Olsen</td>\n",
       "      <td>Nikolas</td>\n",
       "      <td>1.528404e+12</td>\n",
       "      <td>M</td>\n",
       "      <td>NaN</td>\n",
       "      <td>NaN</td>\n",
       "      <td>NaN</td>\n",
       "      <td>False</td>\n",
       "      <td>CA</td>\n",
       "    </tr>\n",
       "    <tr>\n",
       "      <th>54619</th>\n",
       "      <td>1539761972000</td>\n",
       "      <td>51</td>\n",
       "      <td>934</td>\n",
       "      <td>Cancellation Confirmation</td>\n",
       "      <td>Cancelled</td>\n",
       "      <td>GET</td>\n",
       "      <td>200</td>\n",
       "      <td>paid</td>\n",
       "      <td>176</td>\n",
       "      <td>Lexington-Fayette, KY</td>\n",
       "      <td>\"Mozilla/5.0 (Windows NT 6.1; WOW64) AppleWebK...</td>\n",
       "      <td>Johnson</td>\n",
       "      <td>Ethan</td>\n",
       "      <td>1.538081e+12</td>\n",
       "      <td>M</td>\n",
       "      <td>NaN</td>\n",
       "      <td>NaN</td>\n",
       "      <td>NaN</td>\n",
       "      <td>False</td>\n",
       "      <td>KY</td>\n",
       "    </tr>\n",
       "    <tr>\n",
       "      <th>68257</th>\n",
       "      <td>1540050556000</td>\n",
       "      <td>87</td>\n",
       "      <td>1092</td>\n",
       "      <td>Cancellation Confirmation</td>\n",
       "      <td>Cancelled</td>\n",
       "      <td>GET</td>\n",
       "      <td>200</td>\n",
       "      <td>paid</td>\n",
       "      <td>100</td>\n",
       "      <td>Quincy, IL-MO</td>\n",
       "      <td>\"Mozilla/5.0 (Windows NT 6.1; WOW64) AppleWebK...</td>\n",
       "      <td>Robinson</td>\n",
       "      <td>Christian</td>\n",
       "      <td>1.534942e+12</td>\n",
       "      <td>M</td>\n",
       "      <td>NaN</td>\n",
       "      <td>NaN</td>\n",
       "      <td>NaN</td>\n",
       "      <td>False</td>\n",
       "      <td>IL</td>\n",
       "    </tr>\n",
       "    <tr>\n",
       "      <th>68858</th>\n",
       "      <td>1540062068000</td>\n",
       "      <td>122</td>\n",
       "      <td>1029</td>\n",
       "      <td>Cancellation Confirmation</td>\n",
       "      <td>Cancelled</td>\n",
       "      <td>GET</td>\n",
       "      <td>200</td>\n",
       "      <td>paid</td>\n",
       "      <td>43</td>\n",
       "      <td>Memphis, TN-MS-AR</td>\n",
       "      <td>Mozilla/5.0 (X11; Ubuntu; Linux i686; rv:31.0)...</td>\n",
       "      <td>Patterson</td>\n",
       "      <td>Molly</td>\n",
       "      <td>1.535499e+12</td>\n",
       "      <td>F</td>\n",
       "      <td>NaN</td>\n",
       "      <td>NaN</td>\n",
       "      <td>NaN</td>\n",
       "      <td>False</td>\n",
       "      <td>TN</td>\n",
       "    </tr>\n",
       "    <tr>\n",
       "      <th>73003</th>\n",
       "      <td>1540193374000</td>\n",
       "      <td>12</td>\n",
       "      <td>1072</td>\n",
       "      <td>Cancellation Confirmation</td>\n",
       "      <td>Cancelled</td>\n",
       "      <td>GET</td>\n",
       "      <td>200</td>\n",
       "      <td>paid</td>\n",
       "      <td>72</td>\n",
       "      <td>Los Angeles-Long Beach-Anaheim, CA</td>\n",
       "      <td>Mozilla/5.0 (Windows NT 6.3; WOW64; rv:31.0) G...</td>\n",
       "      <td>Perry</td>\n",
       "      <td>Sophia</td>\n",
       "      <td>1.533886e+12</td>\n",
       "      <td>F</td>\n",
       "      <td>NaN</td>\n",
       "      <td>NaN</td>\n",
       "      <td>NaN</td>\n",
       "      <td>False</td>\n",
       "      <td>CA</td>\n",
       "    </tr>\n",
       "    <tr>\n",
       "      <th>74448</th>\n",
       "      <td>1540223006000</td>\n",
       "      <td>58</td>\n",
       "      <td>1112</td>\n",
       "      <td>Cancellation Confirmation</td>\n",
       "      <td>Cancelled</td>\n",
       "      <td>GET</td>\n",
       "      <td>200</td>\n",
       "      <td>paid</td>\n",
       "      <td>48</td>\n",
       "      <td>Selma, AL</td>\n",
       "      <td>\"Mozilla/5.0 (Windows NT 6.3; WOW64) AppleWebK...</td>\n",
       "      <td>Brooks</td>\n",
       "      <td>Erick</td>\n",
       "      <td>1.537957e+12</td>\n",
       "      <td>M</td>\n",
       "      <td>NaN</td>\n",
       "      <td>NaN</td>\n",
       "      <td>NaN</td>\n",
       "      <td>False</td>\n",
       "      <td>AL</td>\n",
       "    </tr>\n",
       "    <tr>\n",
       "      <th>81810</th>\n",
       "      <td>1540402387000</td>\n",
       "      <td>73</td>\n",
       "      <td>1059</td>\n",
       "      <td>Cancellation Confirmation</td>\n",
       "      <td>Cancelled</td>\n",
       "      <td>GET</td>\n",
       "      <td>200</td>\n",
       "      <td>paid</td>\n",
       "      <td>11</td>\n",
       "      <td>Albany-Schenectady-Troy, NY</td>\n",
       "      <td>Mozilla/5.0 (Windows NT 6.1; WOW64; rv:31.0) G...</td>\n",
       "      <td>Bailey</td>\n",
       "      <td>Rachel</td>\n",
       "      <td>1.536103e+12</td>\n",
       "      <td>F</td>\n",
       "      <td>NaN</td>\n",
       "      <td>NaN</td>\n",
       "      <td>NaN</td>\n",
       "      <td>False</td>\n",
       "      <td>NY</td>\n",
       "    </tr>\n",
       "    <tr>\n",
       "      <th>99723</th>\n",
       "      <td>1540875543000</td>\n",
       "      <td>3</td>\n",
       "      <td>1324</td>\n",
       "      <td>Cancellation Confirmation</td>\n",
       "      <td>Cancelled</td>\n",
       "      <td>GET</td>\n",
       "      <td>200</td>\n",
       "      <td>paid</td>\n",
       "      <td>46</td>\n",
       "      <td>Bozeman, MT</td>\n",
       "      <td>\"Mozilla/5.0 (Windows NT 6.1; WOW64) AppleWebK...</td>\n",
       "      <td>Wheeler</td>\n",
       "      <td>Jeffery</td>\n",
       "      <td>1.533886e+12</td>\n",
       "      <td>M</td>\n",
       "      <td>NaN</td>\n",
       "      <td>NaN</td>\n",
       "      <td>NaN</td>\n",
       "      <td>False</td>\n",
       "      <td>MT</td>\n",
       "    </tr>\n",
       "    <tr>\n",
       "      <th>116327</th>\n",
       "      <td>1541166424000</td>\n",
       "      <td>106</td>\n",
       "      <td>1383</td>\n",
       "      <td>Cancellation Confirmation</td>\n",
       "      <td>Cancelled</td>\n",
       "      <td>GET</td>\n",
       "      <td>200</td>\n",
       "      <td>paid</td>\n",
       "      <td>18</td>\n",
       "      <td>Los Angeles-Long Beach-Anaheim, CA</td>\n",
       "      <td>\"Mozilla/5.0 (Macintosh; Intel Mac OS X 10_9_4...</td>\n",
       "      <td>Key</td>\n",
       "      <td>Sophia</td>\n",
       "      <td>1.537680e+12</td>\n",
       "      <td>F</td>\n",
       "      <td>NaN</td>\n",
       "      <td>NaN</td>\n",
       "      <td>NaN</td>\n",
       "      <td>False</td>\n",
       "      <td>CA</td>\n",
       "    </tr>\n",
       "    <tr>\n",
       "      <th>123522</th>\n",
       "      <td>1541340091000</td>\n",
       "      <td>103</td>\n",
       "      <td>1583</td>\n",
       "      <td>Cancellation Confirmation</td>\n",
       "      <td>Cancelled</td>\n",
       "      <td>GET</td>\n",
       "      <td>200</td>\n",
       "      <td>paid</td>\n",
       "      <td>8</td>\n",
       "      <td>New York-Newark-Jersey City, NY-NJ-PA</td>\n",
       "      <td>\"Mozilla/5.0 (Macintosh; Intel Mac OS X 10_9_4...</td>\n",
       "      <td>Nielsen</td>\n",
       "      <td>Piper</td>\n",
       "      <td>1.537700e+12</td>\n",
       "      <td>F</td>\n",
       "      <td>NaN</td>\n",
       "      <td>NaN</td>\n",
       "      <td>NaN</td>\n",
       "      <td>False</td>\n",
       "      <td>NY</td>\n",
       "    </tr>\n",
       "    <tr>\n",
       "      <th>127249</th>\n",
       "      <td>1541463632000</td>\n",
       "      <td>28</td>\n",
       "      <td>1519</td>\n",
       "      <td>Cancellation Confirmation</td>\n",
       "      <td>Cancelled</td>\n",
       "      <td>GET</td>\n",
       "      <td>200</td>\n",
       "      <td>paid</td>\n",
       "      <td>306</td>\n",
       "      <td>New Philadelphia-Dover, OH</td>\n",
       "      <td>Mozilla/5.0 (Windows NT 6.1; WOW64; Trident/7....</td>\n",
       "      <td>Roberts</td>\n",
       "      <td>Teagan</td>\n",
       "      <td>1.537635e+12</td>\n",
       "      <td>F</td>\n",
       "      <td>NaN</td>\n",
       "      <td>NaN</td>\n",
       "      <td>NaN</td>\n",
       "      <td>False</td>\n",
       "      <td>OH</td>\n",
       "    </tr>\n",
       "    <tr>\n",
       "      <th>148791</th>\n",
       "      <td>1542051608000</td>\n",
       "      <td>54</td>\n",
       "      <td>1819</td>\n",
       "      <td>Cancellation Confirmation</td>\n",
       "      <td>Cancelled</td>\n",
       "      <td>GET</td>\n",
       "      <td>200</td>\n",
       "      <td>paid</td>\n",
       "      <td>42</td>\n",
       "      <td>Spokane-Spokane Valley, WA</td>\n",
       "      <td>Mozilla/5.0 (Windows NT 6.1; WOW64; rv:32.0) G...</td>\n",
       "      <td>Warren</td>\n",
       "      <td>Alexi</td>\n",
       "      <td>1.532483e+12</td>\n",
       "      <td>F</td>\n",
       "      <td>NaN</td>\n",
       "      <td>NaN</td>\n",
       "      <td>NaN</td>\n",
       "      <td>False</td>\n",
       "      <td>WA</td>\n",
       "    </tr>\n",
       "    <tr>\n",
       "      <th>154047</th>\n",
       "      <td>1542181031000</td>\n",
       "      <td>29</td>\n",
       "      <td>1864</td>\n",
       "      <td>Cancellation Confirmation</td>\n",
       "      <td>Cancelled</td>\n",
       "      <td>GET</td>\n",
       "      <td>200</td>\n",
       "      <td>paid</td>\n",
       "      <td>49</td>\n",
       "      <td>Los Angeles-Long Beach-Anaheim, CA</td>\n",
       "      <td>\"Mozilla/5.0 (Macintosh; Intel Mac OS X 10_9_4...</td>\n",
       "      <td>Thompson</td>\n",
       "      <td>Kaleb</td>\n",
       "      <td>1.536988e+12</td>\n",
       "      <td>M</td>\n",
       "      <td>NaN</td>\n",
       "      <td>NaN</td>\n",
       "      <td>NaN</td>\n",
       "      <td>False</td>\n",
       "      <td>CA</td>\n",
       "    </tr>\n",
       "    <tr>\n",
       "      <th>156343</th>\n",
       "      <td>1542234867000</td>\n",
       "      <td>70</td>\n",
       "      <td>1940</td>\n",
       "      <td>Cancellation Confirmation</td>\n",
       "      <td>Cancelled</td>\n",
       "      <td>GET</td>\n",
       "      <td>200</td>\n",
       "      <td>paid</td>\n",
       "      <td>91</td>\n",
       "      <td>Jackson, MS</td>\n",
       "      <td>\"Mozilla/5.0 (Windows NT 6.1; WOW64) AppleWebK...</td>\n",
       "      <td>Keller</td>\n",
       "      <td>Chayse</td>\n",
       "      <td>1.529643e+12</td>\n",
       "      <td>M</td>\n",
       "      <td>NaN</td>\n",
       "      <td>NaN</td>\n",
       "      <td>NaN</td>\n",
       "      <td>False</td>\n",
       "      <td>MS</td>\n",
       "    </tr>\n",
       "    <tr>\n",
       "      <th>170913</th>\n",
       "      <td>1542630896000</td>\n",
       "      <td>53</td>\n",
       "      <td>2003</td>\n",
       "      <td>Cancellation Confirmation</td>\n",
       "      <td>Cancelled</td>\n",
       "      <td>GET</td>\n",
       "      <td>200</td>\n",
       "      <td>paid</td>\n",
       "      <td>110</td>\n",
       "      <td>Jackson, MS</td>\n",
       "      <td>\"Mozilla/5.0 (Macintosh; Intel Mac OS X 10_9_2...</td>\n",
       "      <td>Wang</td>\n",
       "      <td>Sebastian</td>\n",
       "      <td>1.538050e+12</td>\n",
       "      <td>M</td>\n",
       "      <td>NaN</td>\n",
       "      <td>NaN</td>\n",
       "      <td>NaN</td>\n",
       "      <td>False</td>\n",
       "      <td>MS</td>\n",
       "    </tr>\n",
       "    <tr>\n",
       "      <th>213929</th>\n",
       "      <td>1538417085000</td>\n",
       "      <td>100011</td>\n",
       "      <td>40</td>\n",
       "      <td>Cancellation Confirmation</td>\n",
       "      <td>Cancelled</td>\n",
       "      <td>GET</td>\n",
       "      <td>200</td>\n",
       "      <td>free</td>\n",
       "      <td>22</td>\n",
       "      <td>Albany, OR</td>\n",
       "      <td>Mozilla/5.0 (Windows NT 6.1; WOW64; rv:31.0) G...</td>\n",
       "      <td>Ball</td>\n",
       "      <td>Sebastian</td>\n",
       "      <td>1.537971e+12</td>\n",
       "      <td>M</td>\n",
       "      <td>NaN</td>\n",
       "      <td>NaN</td>\n",
       "      <td>NaN</td>\n",
       "      <td>False</td>\n",
       "      <td>OR</td>\n",
       "    </tr>\n",
       "    <tr>\n",
       "      <th>214371</th>\n",
       "      <td>1538498205000</td>\n",
       "      <td>100001</td>\n",
       "      <td>53</td>\n",
       "      <td>Cancellation Confirmation</td>\n",
       "      <td>Cancelled</td>\n",
       "      <td>GET</td>\n",
       "      <td>200</td>\n",
       "      <td>free</td>\n",
       "      <td>23</td>\n",
       "      <td>Miami-Fort Lauderdale-West Palm Beach, FL</td>\n",
       "      <td>\"Mozilla/5.0 (Macintosh; Intel Mac OS X 10_6_8...</td>\n",
       "      <td>Perez</td>\n",
       "      <td>Delaney</td>\n",
       "      <td>1.534627e+12</td>\n",
       "      <td>F</td>\n",
       "      <td>NaN</td>\n",
       "      <td>NaN</td>\n",
       "      <td>NaN</td>\n",
       "      <td>False</td>\n",
       "      <td>FL</td>\n",
       "    </tr>\n",
       "    <tr>\n",
       "      <th>215289</th>\n",
       "      <td>1538695038000</td>\n",
       "      <td>100024</td>\n",
       "      <td>42</td>\n",
       "      <td>Cancellation Confirmation</td>\n",
       "      <td>Cancelled</td>\n",
       "      <td>GET</td>\n",
       "      <td>200</td>\n",
       "      <td>free</td>\n",
       "      <td>36</td>\n",
       "      <td>New York-Newark-Jersey City, NY-NJ-PA</td>\n",
       "      <td>Mozilla/5.0 (Windows NT 6.1; rv:31.0) Gecko/20...</td>\n",
       "      <td>Miller</td>\n",
       "      <td>Jonathon</td>\n",
       "      <td>1.536343e+12</td>\n",
       "      <td>M</td>\n",
       "      <td>NaN</td>\n",
       "      <td>NaN</td>\n",
       "      <td>NaN</td>\n",
       "      <td>False</td>\n",
       "      <td>NY</td>\n",
       "    </tr>\n",
       "    <tr>\n",
       "      <th>215521</th>\n",
       "      <td>1538753070000</td>\n",
       "      <td>100006</td>\n",
       "      <td>6</td>\n",
       "      <td>Cancellation Confirmation</td>\n",
       "      <td>Cancelled</td>\n",
       "      <td>GET</td>\n",
       "      <td>200</td>\n",
       "      <td>free</td>\n",
       "      <td>45</td>\n",
       "      <td>Flint, MI</td>\n",
       "      <td>\"Mozilla/5.0 (Windows NT 6.3; WOW64) AppleWebK...</td>\n",
       "      <td>Barnes</td>\n",
       "      <td>Leyla</td>\n",
       "      <td>1.537964e+12</td>\n",
       "      <td>F</td>\n",
       "      <td>NaN</td>\n",
       "      <td>NaN</td>\n",
       "      <td>NaN</td>\n",
       "      <td>False</td>\n",
       "      <td>MI</td>\n",
       "    </tr>\n",
       "    <tr>\n",
       "      <th>215992</th>\n",
       "      <td>1538953071000</td>\n",
       "      <td>100019</td>\n",
       "      <td>71</td>\n",
       "      <td>Cancellation Confirmation</td>\n",
       "      <td>Cancelled</td>\n",
       "      <td>GET</td>\n",
       "      <td>200</td>\n",
       "      <td>free</td>\n",
       "      <td>65</td>\n",
       "      <td>Spokane-Spokane Valley, WA</td>\n",
       "      <td>Mozilla/5.0 (X11; Ubuntu; Linux x86_64; rv:31....</td>\n",
       "      <td>Jacobs</td>\n",
       "      <td>Angel</td>\n",
       "      <td>1.536257e+12</td>\n",
       "      <td>M</td>\n",
       "      <td>NaN</td>\n",
       "      <td>NaN</td>\n",
       "      <td>NaN</td>\n",
       "      <td>False</td>\n",
       "      <td>WA</td>\n",
       "    </tr>\n",
       "    <tr>\n",
       "      <th>217230</th>\n",
       "      <td>1539274781000</td>\n",
       "      <td>100003</td>\n",
       "      <td>86</td>\n",
       "      <td>Cancellation Confirmation</td>\n",
       "      <td>Cancelled</td>\n",
       "      <td>GET</td>\n",
       "      <td>200</td>\n",
       "      <td>free</td>\n",
       "      <td>81</td>\n",
       "      <td>Miami-Fort Lauderdale-West Palm Beach, FL</td>\n",
       "      <td>Mozilla/5.0 (Windows NT 6.1; WOW64; rv:31.0) G...</td>\n",
       "      <td>Jones</td>\n",
       "      <td>Nevaeh</td>\n",
       "      <td>1.537309e+12</td>\n",
       "      <td>F</td>\n",
       "      <td>NaN</td>\n",
       "      <td>NaN</td>\n",
       "      <td>NaN</td>\n",
       "      <td>False</td>\n",
       "      <td>FL</td>\n",
       "    </tr>\n",
       "    <tr>\n",
       "      <th>218183</th>\n",
       "      <td>1539475237000</td>\n",
       "      <td>100023</td>\n",
       "      <td>109</td>\n",
       "      <td>Cancellation Confirmation</td>\n",
       "      <td>Cancelled</td>\n",
       "      <td>GET</td>\n",
       "      <td>200</td>\n",
       "      <td>paid</td>\n",
       "      <td>18</td>\n",
       "      <td>Greenville-Anderson-Mauldin, SC</td>\n",
       "      <td>\"Mozilla/5.0 (Windows NT 6.1; WOW64) AppleWebK...</td>\n",
       "      <td>Nelson</td>\n",
       "      <td>Sawyer</td>\n",
       "      <td>1.536679e+12</td>\n",
       "      <td>M</td>\n",
       "      <td>NaN</td>\n",
       "      <td>NaN</td>\n",
       "      <td>NaN</td>\n",
       "      <td>False</td>\n",
       "      <td>SC</td>\n",
       "    </tr>\n",
       "    <tr>\n",
       "      <th>220027</th>\n",
       "      <td>1539971825000</td>\n",
       "      <td>100005</td>\n",
       "      <td>115</td>\n",
       "      <td>Cancellation Confirmation</td>\n",
       "      <td>Cancelled</td>\n",
       "      <td>GET</td>\n",
       "      <td>200</td>\n",
       "      <td>free</td>\n",
       "      <td>73</td>\n",
       "      <td>Monroe, LA</td>\n",
       "      <td>\"Mozilla/5.0 (Macintosh; Intel Mac OS X 10_9_4...</td>\n",
       "      <td>Smith</td>\n",
       "      <td>Cason</td>\n",
       "      <td>1.532611e+12</td>\n",
       "      <td>M</td>\n",
       "      <td>NaN</td>\n",
       "      <td>NaN</td>\n",
       "      <td>NaN</td>\n",
       "      <td>False</td>\n",
       "      <td>LA</td>\n",
       "    </tr>\n",
       "    <tr>\n",
       "      <th>220484</th>\n",
       "      <td>1540062847000</td>\n",
       "      <td>100017</td>\n",
       "      <td>17</td>\n",
       "      <td>Cancellation Confirmation</td>\n",
       "      <td>Cancelled</td>\n",
       "      <td>GET</td>\n",
       "      <td>200</td>\n",
       "      <td>free</td>\n",
       "      <td>74</td>\n",
       "      <td>Birmingham-Hoover, AL</td>\n",
       "      <td>\"Mozilla/5.0 (iPhone; CPU iPhone OS 7_1_2 like...</td>\n",
       "      <td>Mann</td>\n",
       "      <td>James</td>\n",
       "      <td>1.533247e+12</td>\n",
       "      <td>M</td>\n",
       "      <td>NaN</td>\n",
       "      <td>NaN</td>\n",
       "      <td>NaN</td>\n",
       "      <td>True</td>\n",
       "      <td>AL</td>\n",
       "    </tr>\n",
       "    <tr>\n",
       "      <th>220890</th>\n",
       "      <td>1540299152000</td>\n",
       "      <td>100025</td>\n",
       "      <td>129</td>\n",
       "      <td>Cancellation Confirmation</td>\n",
       "      <td>Cancelled</td>\n",
       "      <td>GET</td>\n",
       "      <td>200</td>\n",
       "      <td>free</td>\n",
       "      <td>49</td>\n",
       "      <td>New York-Newark-Jersey City, NY-NJ-PA</td>\n",
       "      <td>\"Mozilla/5.0 (Macintosh; Intel Mac OS X 10_9_4...</td>\n",
       "      <td>Diaz</td>\n",
       "      <td>London</td>\n",
       "      <td>1.532626e+12</td>\n",
       "      <td>F</td>\n",
       "      <td>NaN</td>\n",
       "      <td>NaN</td>\n",
       "      <td>NaN</td>\n",
       "      <td>False</td>\n",
       "      <td>NY</td>\n",
       "    </tr>\n",
       "    <tr>\n",
       "      <th>221610</th>\n",
       "      <td>1540611104000</td>\n",
       "      <td>100009</td>\n",
       "      <td>145</td>\n",
       "      <td>Cancellation Confirmation</td>\n",
       "      <td>Cancelled</td>\n",
       "      <td>GET</td>\n",
       "      <td>200</td>\n",
       "      <td>free</td>\n",
       "      <td>61</td>\n",
       "      <td>San Francisco-Oakland-Hayward, CA</td>\n",
       "      <td>\"Mozilla/5.0 (Windows NT 6.1; WOW64) AppleWebK...</td>\n",
       "      <td>Mathis</td>\n",
       "      <td>Troy</td>\n",
       "      <td>1.537376e+12</td>\n",
       "      <td>M</td>\n",
       "      <td>NaN</td>\n",
       "      <td>NaN</td>\n",
       "      <td>NaN</td>\n",
       "      <td>False</td>\n",
       "      <td>CA</td>\n",
       "    </tr>\n",
       "    <tr>\n",
       "      <th>222341</th>\n",
       "      <td>1541100900000</td>\n",
       "      <td>100012</td>\n",
       "      <td>156</td>\n",
       "      <td>Cancellation Confirmation</td>\n",
       "      <td>Cancelled</td>\n",
       "      <td>GET</td>\n",
       "      <td>200</td>\n",
       "      <td>free</td>\n",
       "      <td>74</td>\n",
       "      <td>Chicago-Naperville-Elgin, IL-IN-WI</td>\n",
       "      <td>\"Mozilla/5.0 (Macintosh; Intel Mac OS X 10_9_4...</td>\n",
       "      <td>Marks</td>\n",
       "      <td>Daniel</td>\n",
       "      <td>1.537381e+12</td>\n",
       "      <td>M</td>\n",
       "      <td>NaN</td>\n",
       "      <td>NaN</td>\n",
       "      <td>NaN</td>\n",
       "      <td>False</td>\n",
       "      <td>IL</td>\n",
       "    </tr>\n",
       "    <tr>\n",
       "      <th>222521</th>\n",
       "      <td>1541184816000</td>\n",
       "      <td>100013</td>\n",
       "      <td>165</td>\n",
       "      <td>Cancellation Confirmation</td>\n",
       "      <td>Cancelled</td>\n",
       "      <td>GET</td>\n",
       "      <td>200</td>\n",
       "      <td>paid</td>\n",
       "      <td>51</td>\n",
       "      <td>Cleveland-Elyria, OH</td>\n",
       "      <td>\"Mozilla/5.0 (Windows NT 6.1) AppleWebKit/537....</td>\n",
       "      <td>Brown</td>\n",
       "      <td>Cali</td>\n",
       "      <td>1.537368e+12</td>\n",
       "      <td>F</td>\n",
       "      <td>NaN</td>\n",
       "      <td>NaN</td>\n",
       "      <td>NaN</td>\n",
       "      <td>False</td>\n",
       "      <td>OH</td>\n",
       "    </tr>\n",
       "    <tr>\n",
       "      <th>223676</th>\n",
       "      <td>1542038645000</td>\n",
       "      <td>100022</td>\n",
       "      <td>191</td>\n",
       "      <td>Cancellation Confirmation</td>\n",
       "      <td>Cancelled</td>\n",
       "      <td>GET</td>\n",
       "      <td>200</td>\n",
       "      <td>free</td>\n",
       "      <td>17</td>\n",
       "      <td>Houston-The Woodlands-Sugar Land, TX</td>\n",
       "      <td>Mozilla/5.0 (Macintosh; Intel Mac OS X 10.9; r...</td>\n",
       "      <td>Robinson</td>\n",
       "      <td>Mahi</td>\n",
       "      <td>1.537898e+12</td>\n",
       "      <td>F</td>\n",
       "      <td>NaN</td>\n",
       "      <td>NaN</td>\n",
       "      <td>NaN</td>\n",
       "      <td>False</td>\n",
       "      <td>TX</td>\n",
       "    </tr>\n",
       "    <tr>\n",
       "      <th>224893</th>\n",
       "      <td>1542740649000</td>\n",
       "      <td>100014</td>\n",
       "      <td>185</td>\n",
       "      <td>Cancellation Confirmation</td>\n",
       "      <td>Cancelled</td>\n",
       "      <td>GET</td>\n",
       "      <td>200</td>\n",
       "      <td>paid</td>\n",
       "      <td>73</td>\n",
       "      <td>New York-Newark-Jersey City, NY-NJ-PA</td>\n",
       "      <td>\"Mozilla/5.0 (Windows NT 6.1; WOW64) AppleWebK...</td>\n",
       "      <td>Carey</td>\n",
       "      <td>Rodrigo</td>\n",
       "      <td>1.535389e+12</td>\n",
       "      <td>M</td>\n",
       "      <td>NaN</td>\n",
       "      <td>NaN</td>\n",
       "      <td>NaN</td>\n",
       "      <td>False</td>\n",
       "      <td>NY</td>\n",
       "    </tr>\n",
       "    <tr>\n",
       "      <th>225260</th>\n",
       "      <td>1543073753000</td>\n",
       "      <td>100015</td>\n",
       "      <td>188</td>\n",
       "      <td>Cancellation Confirmation</td>\n",
       "      <td>Cancelled</td>\n",
       "      <td>GET</td>\n",
       "      <td>200</td>\n",
       "      <td>paid</td>\n",
       "      <td>115</td>\n",
       "      <td>North Wilkesboro, NC</td>\n",
       "      <td>\"Mozilla/5.0 (Macintosh; Intel Mac OS X 10_9_4...</td>\n",
       "      <td>Thompson</td>\n",
       "      <td>Tina</td>\n",
       "      <td>1.537209e+12</td>\n",
       "      <td>F</td>\n",
       "      <td>NaN</td>\n",
       "      <td>NaN</td>\n",
       "      <td>NaN</td>\n",
       "      <td>False</td>\n",
       "      <td>NC</td>\n",
       "    </tr>\n",
       "    <tr>\n",
       "      <th>225456</th>\n",
       "      <td>1543143782000</td>\n",
       "      <td>100021</td>\n",
       "      <td>172</td>\n",
       "      <td>Cancellation Confirmation</td>\n",
       "      <td>Cancelled</td>\n",
       "      <td>GET</td>\n",
       "      <td>200</td>\n",
       "      <td>free</td>\n",
       "      <td>185</td>\n",
       "      <td>Dallas-Fort Worth-Arlington, TX</td>\n",
       "      <td>\"Mozilla/5.0 (Macintosh; Intel Mac OS X 10_9_4...</td>\n",
       "      <td>Phillips</td>\n",
       "      <td>Rayden</td>\n",
       "      <td>1.537550e+12</td>\n",
       "      <td>M</td>\n",
       "      <td>NaN</td>\n",
       "      <td>NaN</td>\n",
       "      <td>NaN</td>\n",
       "      <td>False</td>\n",
       "      <td>TX</td>\n",
       "    </tr>\n",
       "    <tr>\n",
       "      <th>226522</th>\n",
       "      <td>1543491909000</td>\n",
       "      <td>100007</td>\n",
       "      <td>205</td>\n",
       "      <td>Cancellation Confirmation</td>\n",
       "      <td>Cancelled</td>\n",
       "      <td>GET</td>\n",
       "      <td>200</td>\n",
       "      <td>paid</td>\n",
       "      <td>201</td>\n",
       "      <td>Little Rock-North Little Rock-Conway, AR</td>\n",
       "      <td>\"Mozilla/5.0 (Windows NT 6.3; WOW64) AppleWebK...</td>\n",
       "      <td>Cook</td>\n",
       "      <td>Piper</td>\n",
       "      <td>1.533522e+12</td>\n",
       "      <td>F</td>\n",
       "      <td>NaN</td>\n",
       "      <td>NaN</td>\n",
       "      <td>NaN</td>\n",
       "      <td>False</td>\n",
       "      <td>AR</td>\n",
       "    </tr>\n",
       "    <tr>\n",
       "      <th>232438</th>\n",
       "      <td>1539629720000</td>\n",
       "      <td>200001</td>\n",
       "      <td>136</td>\n",
       "      <td>Cancellation Confirmation</td>\n",
       "      <td>Cancelled</td>\n",
       "      <td>GET</td>\n",
       "      <td>200</td>\n",
       "      <td>free</td>\n",
       "      <td>19</td>\n",
       "      <td>Washington-Arlington-Alexandria, DC-VA-MD-WV</td>\n",
       "      <td>\"Mozilla/5.0 (Windows NT 6.1; WOW64) AppleWebK...</td>\n",
       "      <td>Moore</td>\n",
       "      <td>Reece</td>\n",
       "      <td>1.538255e+12</td>\n",
       "      <td>M</td>\n",
       "      <td>NaN</td>\n",
       "      <td>NaN</td>\n",
       "      <td>NaN</td>\n",
       "      <td>False</td>\n",
       "      <td>DC</td>\n",
       "    </tr>\n",
       "    <tr>\n",
       "      <th>235486</th>\n",
       "      <td>1540353577000</td>\n",
       "      <td>200024</td>\n",
       "      <td>208</td>\n",
       "      <td>Cancellation Confirmation</td>\n",
       "      <td>Cancelled</td>\n",
       "      <td>GET</td>\n",
       "      <td>200</td>\n",
       "      <td>paid</td>\n",
       "      <td>46</td>\n",
       "      <td>London, KY</td>\n",
       "      <td>Mozilla/5.0 (X11; Ubuntu; Linux x86_64; rv:31....</td>\n",
       "      <td>Gomez</td>\n",
       "      <td>Isaiah</td>\n",
       "      <td>1.537897e+12</td>\n",
       "      <td>M</td>\n",
       "      <td>NaN</td>\n",
       "      <td>NaN</td>\n",
       "      <td>NaN</td>\n",
       "      <td>False</td>\n",
       "      <td>KY</td>\n",
       "    </tr>\n",
       "    <tr>\n",
       "      <th>239959</th>\n",
       "      <td>1541120964000</td>\n",
       "      <td>200011</td>\n",
       "      <td>267</td>\n",
       "      <td>Cancellation Confirmation</td>\n",
       "      <td>Cancelled</td>\n",
       "      <td>GET</td>\n",
       "      <td>200</td>\n",
       "      <td>free</td>\n",
       "      <td>7</td>\n",
       "      <td>St. Louis, MO-IL</td>\n",
       "      <td>\"Mozilla/5.0 (Macintosh; Intel Mac OS X 10_9_4...</td>\n",
       "      <td>Harper</td>\n",
       "      <td>Charles</td>\n",
       "      <td>1.531680e+12</td>\n",
       "      <td>M</td>\n",
       "      <td>NaN</td>\n",
       "      <td>NaN</td>\n",
       "      <td>NaN</td>\n",
       "      <td>False</td>\n",
       "      <td>MO</td>\n",
       "    </tr>\n",
       "    <tr>\n",
       "      <th>240108</th>\n",
       "      <td>1541138333000</td>\n",
       "      <td>200021</td>\n",
       "      <td>276</td>\n",
       "      <td>Cancellation Confirmation</td>\n",
       "      <td>Cancelled</td>\n",
       "      <td>GET</td>\n",
       "      <td>200</td>\n",
       "      <td>paid</td>\n",
       "      <td>85</td>\n",
       "      <td>Detroit-Warren-Dearborn, MI</td>\n",
       "      <td>Mozilla/5.0 (Macintosh; Intel Mac OS X 10.7; r...</td>\n",
       "      <td>Owen</td>\n",
       "      <td>Liliana</td>\n",
       "      <td>1.535033e+12</td>\n",
       "      <td>F</td>\n",
       "      <td>NaN</td>\n",
       "      <td>NaN</td>\n",
       "      <td>NaN</td>\n",
       "      <td>False</td>\n",
       "      <td>MI</td>\n",
       "    </tr>\n",
       "    <tr>\n",
       "      <th>240249</th>\n",
       "      <td>1541153274000</td>\n",
       "      <td>200018</td>\n",
       "      <td>268</td>\n",
       "      <td>Cancellation Confirmation</td>\n",
       "      <td>Cancelled</td>\n",
       "      <td>GET</td>\n",
       "      <td>200</td>\n",
       "      <td>free</td>\n",
       "      <td>78</td>\n",
       "      <td>Philadelphia-Camden-Wilmington, PA-NJ-DE-MD</td>\n",
       "      <td>\"Mozilla/5.0 (iPhone; CPU iPhone OS 7_1_2 like...</td>\n",
       "      <td>Burgess</td>\n",
       "      <td>Saulo</td>\n",
       "      <td>1.536957e+12</td>\n",
       "      <td>M</td>\n",
       "      <td>NaN</td>\n",
       "      <td>NaN</td>\n",
       "      <td>NaN</td>\n",
       "      <td>True</td>\n",
       "      <td>PA</td>\n",
       "    </tr>\n",
       "    <tr>\n",
       "      <th>243048</th>\n",
       "      <td>1541746863000</td>\n",
       "      <td>200015</td>\n",
       "      <td>270</td>\n",
       "      <td>Cancellation Confirmation</td>\n",
       "      <td>Cancelled</td>\n",
       "      <td>GET</td>\n",
       "      <td>200</td>\n",
       "      <td>free</td>\n",
       "      <td>33</td>\n",
       "      <td>San Diego-Carlsbad, CA</td>\n",
       "      <td>\"Mozilla/5.0 (iPhone; CPU iPhone OS 7_1_2 like...</td>\n",
       "      <td>Mendoza</td>\n",
       "      <td>Connor</td>\n",
       "      <td>1.534176e+12</td>\n",
       "      <td>M</td>\n",
       "      <td>NaN</td>\n",
       "      <td>NaN</td>\n",
       "      <td>NaN</td>\n",
       "      <td>True</td>\n",
       "      <td>CA</td>\n",
       "    </tr>\n",
       "    <tr>\n",
       "      <th>244442</th>\n",
       "      <td>1542313003000</td>\n",
       "      <td>200017</td>\n",
       "      <td>301</td>\n",
       "      <td>Cancellation Confirmation</td>\n",
       "      <td>Cancelled</td>\n",
       "      <td>GET</td>\n",
       "      <td>200</td>\n",
       "      <td>paid</td>\n",
       "      <td>44</td>\n",
       "      <td>New York-Newark-Jersey City, NY-NJ-PA</td>\n",
       "      <td>\"Mozilla/5.0 (Macintosh; Intel Mac OS X 10_9_4...</td>\n",
       "      <td>Dickerson</td>\n",
       "      <td>James</td>\n",
       "      <td>1.537044e+12</td>\n",
       "      <td>M</td>\n",
       "      <td>NaN</td>\n",
       "      <td>NaN</td>\n",
       "      <td>NaN</td>\n",
       "      <td>False</td>\n",
       "      <td>NY</td>\n",
       "    </tr>\n",
       "    <tr>\n",
       "      <th>244860</th>\n",
       "      <td>1542356278000</td>\n",
       "      <td>200016</td>\n",
       "      <td>347</td>\n",
       "      <td>Cancellation Confirmation</td>\n",
       "      <td>Cancelled</td>\n",
       "      <td>GET</td>\n",
       "      <td>200</td>\n",
       "      <td>free</td>\n",
       "      <td>122</td>\n",
       "      <td>Baltimore-Columbia-Towson, MD</td>\n",
       "      <td>\"Mozilla/5.0 (Macintosh; Intel Mac OS X 10_9_4...</td>\n",
       "      <td>Frazier</td>\n",
       "      <td>Charlotte</td>\n",
       "      <td>1.537538e+12</td>\n",
       "      <td>F</td>\n",
       "      <td>NaN</td>\n",
       "      <td>NaN</td>\n",
       "      <td>NaN</td>\n",
       "      <td>False</td>\n",
       "      <td>MD</td>\n",
       "    </tr>\n",
       "    <tr>\n",
       "      <th>245329</th>\n",
       "      <td>1542472842000</td>\n",
       "      <td>200020</td>\n",
       "      <td>351</td>\n",
       "      <td>Cancellation Confirmation</td>\n",
       "      <td>Cancelled</td>\n",
       "      <td>GET</td>\n",
       "      <td>200</td>\n",
       "      <td>free</td>\n",
       "      <td>46</td>\n",
       "      <td>Orlando-Kissimmee-Sanford, FL</td>\n",
       "      <td>Mozilla/5.0 (Macintosh; Intel Mac OS X 10.9; r...</td>\n",
       "      <td>Rivera</td>\n",
       "      <td>Keegan</td>\n",
       "      <td>1.535907e+12</td>\n",
       "      <td>M</td>\n",
       "      <td>NaN</td>\n",
       "      <td>NaN</td>\n",
       "      <td>NaN</td>\n",
       "      <td>False</td>\n",
       "      <td>FL</td>\n",
       "    </tr>\n",
       "    <tr>\n",
       "      <th>251370</th>\n",
       "      <td>1538705338000</td>\n",
       "      <td>300007</td>\n",
       "      <td>44</td>\n",
       "      <td>Cancellation Confirmation</td>\n",
       "      <td>Cancelled</td>\n",
       "      <td>GET</td>\n",
       "      <td>200</td>\n",
       "      <td>paid</td>\n",
       "      <td>142</td>\n",
       "      <td>Phoenix-Mesa-Scottsdale, AZ</td>\n",
       "      <td>\"Mozilla/5.0 (X11; Linux x86_64) AppleWebKit/5...</td>\n",
       "      <td>Franklin</td>\n",
       "      <td>Lucas</td>\n",
       "      <td>1.537707e+12</td>\n",
       "      <td>M</td>\n",
       "      <td>NaN</td>\n",
       "      <td>NaN</td>\n",
       "      <td>NaN</td>\n",
       "      <td>False</td>\n",
       "      <td>AZ</td>\n",
       "    </tr>\n",
       "    <tr>\n",
       "      <th>281480</th>\n",
       "      <td>1543009344000</td>\n",
       "      <td>300001</td>\n",
       "      <td>397</td>\n",
       "      <td>Cancellation Confirmation</td>\n",
       "      <td>Cancelled</td>\n",
       "      <td>GET</td>\n",
       "      <td>200</td>\n",
       "      <td>paid</td>\n",
       "      <td>311</td>\n",
       "      <td>Colorado Springs, CO</td>\n",
       "      <td>\"Mozilla/5.0 (Windows NT 5.1) AppleWebKit/537....</td>\n",
       "      <td>Kennedy</td>\n",
       "      <td>Antonina</td>\n",
       "      <td>1.526739e+12</td>\n",
       "      <td>F</td>\n",
       "      <td>NaN</td>\n",
       "      <td>NaN</td>\n",
       "      <td>NaN</td>\n",
       "      <td>False</td>\n",
       "      <td>CO</td>\n",
       "    </tr>\n",
       "  </tbody>\n",
       "</table>\n",
       "</div>"
      ],
      "text/plain": [
       "                   ts  userId  sessionId                       page  \\\n",
       "20231   1538943990000      18        514  Cancellation Confirmation   \n",
       "23811   1539033046000      32        540  Cancellation Confirmation   \n",
       "37817   1539318918000     125        174  Cancellation Confirmation   \n",
       "40356   1539375441000     105        508  Cancellation Confirmation   \n",
       "42009   1539465584000      17        797  Cancellation Confirmation   \n",
       "44616   1539588854000     143        843  Cancellation Confirmation   \n",
       "52748   1539729037000     101        842  Cancellation Confirmation   \n",
       "53205   1539736161000     129        802  Cancellation Confirmation   \n",
       "54476   1539759749000     121        881  Cancellation Confirmation   \n",
       "54619   1539761972000      51        934  Cancellation Confirmation   \n",
       "68257   1540050556000      87       1092  Cancellation Confirmation   \n",
       "68858   1540062068000     122       1029  Cancellation Confirmation   \n",
       "73003   1540193374000      12       1072  Cancellation Confirmation   \n",
       "74448   1540223006000      58       1112  Cancellation Confirmation   \n",
       "81810   1540402387000      73       1059  Cancellation Confirmation   \n",
       "99723   1540875543000       3       1324  Cancellation Confirmation   \n",
       "116327  1541166424000     106       1383  Cancellation Confirmation   \n",
       "123522  1541340091000     103       1583  Cancellation Confirmation   \n",
       "127249  1541463632000      28       1519  Cancellation Confirmation   \n",
       "148791  1542051608000      54       1819  Cancellation Confirmation   \n",
       "154047  1542181031000      29       1864  Cancellation Confirmation   \n",
       "156343  1542234867000      70       1940  Cancellation Confirmation   \n",
       "170913  1542630896000      53       2003  Cancellation Confirmation   \n",
       "213929  1538417085000  100011         40  Cancellation Confirmation   \n",
       "214371  1538498205000  100001         53  Cancellation Confirmation   \n",
       "215289  1538695038000  100024         42  Cancellation Confirmation   \n",
       "215521  1538753070000  100006          6  Cancellation Confirmation   \n",
       "215992  1538953071000  100019         71  Cancellation Confirmation   \n",
       "217230  1539274781000  100003         86  Cancellation Confirmation   \n",
       "218183  1539475237000  100023        109  Cancellation Confirmation   \n",
       "220027  1539971825000  100005        115  Cancellation Confirmation   \n",
       "220484  1540062847000  100017         17  Cancellation Confirmation   \n",
       "220890  1540299152000  100025        129  Cancellation Confirmation   \n",
       "221610  1540611104000  100009        145  Cancellation Confirmation   \n",
       "222341  1541100900000  100012        156  Cancellation Confirmation   \n",
       "222521  1541184816000  100013        165  Cancellation Confirmation   \n",
       "223676  1542038645000  100022        191  Cancellation Confirmation   \n",
       "224893  1542740649000  100014        185  Cancellation Confirmation   \n",
       "225260  1543073753000  100015        188  Cancellation Confirmation   \n",
       "225456  1543143782000  100021        172  Cancellation Confirmation   \n",
       "226522  1543491909000  100007        205  Cancellation Confirmation   \n",
       "232438  1539629720000  200001        136  Cancellation Confirmation   \n",
       "235486  1540353577000  200024        208  Cancellation Confirmation   \n",
       "239959  1541120964000  200011        267  Cancellation Confirmation   \n",
       "240108  1541138333000  200021        276  Cancellation Confirmation   \n",
       "240249  1541153274000  200018        268  Cancellation Confirmation   \n",
       "243048  1541746863000  200015        270  Cancellation Confirmation   \n",
       "244442  1542313003000  200017        301  Cancellation Confirmation   \n",
       "244860  1542356278000  200016        347  Cancellation Confirmation   \n",
       "245329  1542472842000  200020        351  Cancellation Confirmation   \n",
       "251370  1538705338000  300007         44  Cancellation Confirmation   \n",
       "281480  1543009344000  300001        397  Cancellation Confirmation   \n",
       "\n",
       "             auth method  status level  itemInSession  \\\n",
       "20231   Cancelled    GET     200  paid            104   \n",
       "23811   Cancelled    GET     200  paid             56   \n",
       "37817   Cancelled    GET     200  free             10   \n",
       "40356   Cancelled    GET     200  paid            332   \n",
       "42009   Cancelled    GET     200  paid            273   \n",
       "44616   Cancelled    GET     200  free             29   \n",
       "52748   Cancelled    GET     200  paid            145   \n",
       "53205   Cancelled    GET     200  paid             34   \n",
       "54476   Cancelled    GET     200  paid            287   \n",
       "54619   Cancelled    GET     200  paid            176   \n",
       "68257   Cancelled    GET     200  paid            100   \n",
       "68858   Cancelled    GET     200  paid             43   \n",
       "73003   Cancelled    GET     200  paid             72   \n",
       "74448   Cancelled    GET     200  paid             48   \n",
       "81810   Cancelled    GET     200  paid             11   \n",
       "99723   Cancelled    GET     200  paid             46   \n",
       "116327  Cancelled    GET     200  paid             18   \n",
       "123522  Cancelled    GET     200  paid              8   \n",
       "127249  Cancelled    GET     200  paid            306   \n",
       "148791  Cancelled    GET     200  paid             42   \n",
       "154047  Cancelled    GET     200  paid             49   \n",
       "156343  Cancelled    GET     200  paid             91   \n",
       "170913  Cancelled    GET     200  paid            110   \n",
       "213929  Cancelled    GET     200  free             22   \n",
       "214371  Cancelled    GET     200  free             23   \n",
       "215289  Cancelled    GET     200  free             36   \n",
       "215521  Cancelled    GET     200  free             45   \n",
       "215992  Cancelled    GET     200  free             65   \n",
       "217230  Cancelled    GET     200  free             81   \n",
       "218183  Cancelled    GET     200  paid             18   \n",
       "220027  Cancelled    GET     200  free             73   \n",
       "220484  Cancelled    GET     200  free             74   \n",
       "220890  Cancelled    GET     200  free             49   \n",
       "221610  Cancelled    GET     200  free             61   \n",
       "222341  Cancelled    GET     200  free             74   \n",
       "222521  Cancelled    GET     200  paid             51   \n",
       "223676  Cancelled    GET     200  free             17   \n",
       "224893  Cancelled    GET     200  paid             73   \n",
       "225260  Cancelled    GET     200  paid            115   \n",
       "225456  Cancelled    GET     200  free            185   \n",
       "226522  Cancelled    GET     200  paid            201   \n",
       "232438  Cancelled    GET     200  free             19   \n",
       "235486  Cancelled    GET     200  paid             46   \n",
       "239959  Cancelled    GET     200  free              7   \n",
       "240108  Cancelled    GET     200  paid             85   \n",
       "240249  Cancelled    GET     200  free             78   \n",
       "243048  Cancelled    GET     200  free             33   \n",
       "244442  Cancelled    GET     200  paid             44   \n",
       "244860  Cancelled    GET     200  free            122   \n",
       "245329  Cancelled    GET     200  free             46   \n",
       "251370  Cancelled    GET     200  paid            142   \n",
       "281480  Cancelled    GET     200  paid            311   \n",
       "\n",
       "                                            location  \\\n",
       "20231                             Kansas City, MO-KS   \n",
       "23811                    Phoenix-Mesa-Scottsdale, AZ   \n",
       "37817                             Corpus Christi, TX   \n",
       "40356               Indianapolis-Carmel-Anderson, IN   \n",
       "42009    Philadelphia-Camden-Wilmington, PA-NJ-DE-MD   \n",
       "44616     Virginia Beach-Norfolk-Newport News, VA-NC   \n",
       "52748                     Denver-Aurora-Lakewood, CO   \n",
       "53205                                      Flint, MI   \n",
       "54476               Oxnard-Thousand Oaks-Ventura, CA   \n",
       "54619                          Lexington-Fayette, KY   \n",
       "68257                                  Quincy, IL-MO   \n",
       "68858                              Memphis, TN-MS-AR   \n",
       "73003             Los Angeles-Long Beach-Anaheim, CA   \n",
       "74448                                      Selma, AL   \n",
       "81810                    Albany-Schenectady-Troy, NY   \n",
       "99723                                    Bozeman, MT   \n",
       "116327            Los Angeles-Long Beach-Anaheim, CA   \n",
       "123522         New York-Newark-Jersey City, NY-NJ-PA   \n",
       "127249                    New Philadelphia-Dover, OH   \n",
       "148791                    Spokane-Spokane Valley, WA   \n",
       "154047            Los Angeles-Long Beach-Anaheim, CA   \n",
       "156343                                   Jackson, MS   \n",
       "170913                                   Jackson, MS   \n",
       "213929                                    Albany, OR   \n",
       "214371     Miami-Fort Lauderdale-West Palm Beach, FL   \n",
       "215289         New York-Newark-Jersey City, NY-NJ-PA   \n",
       "215521                                     Flint, MI   \n",
       "215992                    Spokane-Spokane Valley, WA   \n",
       "217230     Miami-Fort Lauderdale-West Palm Beach, FL   \n",
       "218183               Greenville-Anderson-Mauldin, SC   \n",
       "220027                                    Monroe, LA   \n",
       "220484                         Birmingham-Hoover, AL   \n",
       "220890         New York-Newark-Jersey City, NY-NJ-PA   \n",
       "221610             San Francisco-Oakland-Hayward, CA   \n",
       "222341            Chicago-Naperville-Elgin, IL-IN-WI   \n",
       "222521                          Cleveland-Elyria, OH   \n",
       "223676          Houston-The Woodlands-Sugar Land, TX   \n",
       "224893         New York-Newark-Jersey City, NY-NJ-PA   \n",
       "225260                          North Wilkesboro, NC   \n",
       "225456               Dallas-Fort Worth-Arlington, TX   \n",
       "226522      Little Rock-North Little Rock-Conway, AR   \n",
       "232438  Washington-Arlington-Alexandria, DC-VA-MD-WV   \n",
       "235486                                    London, KY   \n",
       "239959                              St. Louis, MO-IL   \n",
       "240108                   Detroit-Warren-Dearborn, MI   \n",
       "240249   Philadelphia-Camden-Wilmington, PA-NJ-DE-MD   \n",
       "243048                        San Diego-Carlsbad, CA   \n",
       "244442         New York-Newark-Jersey City, NY-NJ-PA   \n",
       "244860                 Baltimore-Columbia-Towson, MD   \n",
       "245329                 Orlando-Kissimmee-Sanford, FL   \n",
       "251370                   Phoenix-Mesa-Scottsdale, AZ   \n",
       "281480                          Colorado Springs, CO   \n",
       "\n",
       "                                                userAgent   lastName  \\\n",
       "20231   \"Mozilla/5.0 (Macintosh; Intel Mac OS X 10_9_4...    Mendoza   \n",
       "23811   \"Mozilla/5.0 (iPhone; CPU iPhone OS 7_1_2 like...      Mckee   \n",
       "37817   \"Mozilla/5.0 (Macintosh; Intel Mac OS X 10_9_4...       Hart   \n",
       "40356   Mozilla/5.0 (Windows NT 6.1; WOW64; rv:31.0) G...     Garcia   \n",
       "42009   Mozilla/5.0 (Windows NT 6.1; WOW64; rv:24.0) G...    Johnson   \n",
       "44616   \"Mozilla/5.0 (Macintosh; Intel Mac OS X 10_9_4...   Harrison   \n",
       "52748   Mozilla/5.0 (Windows NT 6.2; WOW64; rv:31.0) G...      Hogan   \n",
       "53205   \"Mozilla/5.0 (Windows NT 6.3; WOW64) AppleWebK...       Wang   \n",
       "54476   Mozilla/5.0 (X11; Ubuntu; Linux x86_64; rv:31....      Olsen   \n",
       "54619   \"Mozilla/5.0 (Windows NT 6.1; WOW64) AppleWebK...    Johnson   \n",
       "68257   \"Mozilla/5.0 (Windows NT 6.1; WOW64) AppleWebK...   Robinson   \n",
       "68858   Mozilla/5.0 (X11; Ubuntu; Linux i686; rv:31.0)...  Patterson   \n",
       "73003   Mozilla/5.0 (Windows NT 6.3; WOW64; rv:31.0) G...      Perry   \n",
       "74448   \"Mozilla/5.0 (Windows NT 6.3; WOW64) AppleWebK...     Brooks   \n",
       "81810   Mozilla/5.0 (Windows NT 6.1; WOW64; rv:31.0) G...     Bailey   \n",
       "99723   \"Mozilla/5.0 (Windows NT 6.1; WOW64) AppleWebK...    Wheeler   \n",
       "116327  \"Mozilla/5.0 (Macintosh; Intel Mac OS X 10_9_4...        Key   \n",
       "123522  \"Mozilla/5.0 (Macintosh; Intel Mac OS X 10_9_4...    Nielsen   \n",
       "127249  Mozilla/5.0 (Windows NT 6.1; WOW64; Trident/7....    Roberts   \n",
       "148791  Mozilla/5.0 (Windows NT 6.1; WOW64; rv:32.0) G...     Warren   \n",
       "154047  \"Mozilla/5.0 (Macintosh; Intel Mac OS X 10_9_4...   Thompson   \n",
       "156343  \"Mozilla/5.0 (Windows NT 6.1; WOW64) AppleWebK...     Keller   \n",
       "170913  \"Mozilla/5.0 (Macintosh; Intel Mac OS X 10_9_2...       Wang   \n",
       "213929  Mozilla/5.0 (Windows NT 6.1; WOW64; rv:31.0) G...       Ball   \n",
       "214371  \"Mozilla/5.0 (Macintosh; Intel Mac OS X 10_6_8...      Perez   \n",
       "215289  Mozilla/5.0 (Windows NT 6.1; rv:31.0) Gecko/20...     Miller   \n",
       "215521  \"Mozilla/5.0 (Windows NT 6.3; WOW64) AppleWebK...     Barnes   \n",
       "215992  Mozilla/5.0 (X11; Ubuntu; Linux x86_64; rv:31....     Jacobs   \n",
       "217230  Mozilla/5.0 (Windows NT 6.1; WOW64; rv:31.0) G...      Jones   \n",
       "218183  \"Mozilla/5.0 (Windows NT 6.1; WOW64) AppleWebK...     Nelson   \n",
       "220027  \"Mozilla/5.0 (Macintosh; Intel Mac OS X 10_9_4...      Smith   \n",
       "220484  \"Mozilla/5.0 (iPhone; CPU iPhone OS 7_1_2 like...       Mann   \n",
       "220890  \"Mozilla/5.0 (Macintosh; Intel Mac OS X 10_9_4...       Diaz   \n",
       "221610  \"Mozilla/5.0 (Windows NT 6.1; WOW64) AppleWebK...     Mathis   \n",
       "222341  \"Mozilla/5.0 (Macintosh; Intel Mac OS X 10_9_4...      Marks   \n",
       "222521  \"Mozilla/5.0 (Windows NT 6.1) AppleWebKit/537....      Brown   \n",
       "223676  Mozilla/5.0 (Macintosh; Intel Mac OS X 10.9; r...   Robinson   \n",
       "224893  \"Mozilla/5.0 (Windows NT 6.1; WOW64) AppleWebK...      Carey   \n",
       "225260  \"Mozilla/5.0 (Macintosh; Intel Mac OS X 10_9_4...   Thompson   \n",
       "225456  \"Mozilla/5.0 (Macintosh; Intel Mac OS X 10_9_4...   Phillips   \n",
       "226522  \"Mozilla/5.0 (Windows NT 6.3; WOW64) AppleWebK...       Cook   \n",
       "232438  \"Mozilla/5.0 (Windows NT 6.1; WOW64) AppleWebK...      Moore   \n",
       "235486  Mozilla/5.0 (X11; Ubuntu; Linux x86_64; rv:31....      Gomez   \n",
       "239959  \"Mozilla/5.0 (Macintosh; Intel Mac OS X 10_9_4...     Harper   \n",
       "240108  Mozilla/5.0 (Macintosh; Intel Mac OS X 10.7; r...       Owen   \n",
       "240249  \"Mozilla/5.0 (iPhone; CPU iPhone OS 7_1_2 like...    Burgess   \n",
       "243048  \"Mozilla/5.0 (iPhone; CPU iPhone OS 7_1_2 like...    Mendoza   \n",
       "244442  \"Mozilla/5.0 (Macintosh; Intel Mac OS X 10_9_4...  Dickerson   \n",
       "244860  \"Mozilla/5.0 (Macintosh; Intel Mac OS X 10_9_4...    Frazier   \n",
       "245329  Mozilla/5.0 (Macintosh; Intel Mac OS X 10.9; r...     Rivera   \n",
       "251370  \"Mozilla/5.0 (X11; Linux x86_64) AppleWebKit/5...   Franklin   \n",
       "281480  \"Mozilla/5.0 (Windows NT 5.1) AppleWebKit/537....    Kennedy   \n",
       "\n",
       "        firstName  registration gender artist song  length  isMobile stateCode  \n",
       "20231      Adriel  1.535623e+12      M    NaN  NaN     NaN     False        MO  \n",
       "23811       Diego  1.537168e+12      M    NaN  NaN     NaN      True        AZ  \n",
       "37817       Mason  1.533157e+12      M    NaN  NaN     NaN     False        TX  \n",
       "40356   Alexander  1.536817e+12      M    NaN  NaN     NaN     False        IN  \n",
       "42009       Kayla  1.538334e+12      F    NaN  NaN     NaN     False        PA  \n",
       "44616       Molly  1.534255e+12      F    NaN  NaN     NaN     False        VA  \n",
       "52748        Alex  1.535066e+12      M    NaN  NaN     NaN     False        CO  \n",
       "53205       Davis  1.538290e+12      M    NaN  NaN     NaN     False        MI  \n",
       "54476     Nikolas  1.528404e+12      M    NaN  NaN     NaN     False        CA  \n",
       "54619       Ethan  1.538081e+12      M    NaN  NaN     NaN     False        KY  \n",
       "68257   Christian  1.534942e+12      M    NaN  NaN     NaN     False        IL  \n",
       "68858       Molly  1.535499e+12      F    NaN  NaN     NaN     False        TN  \n",
       "73003      Sophia  1.533886e+12      F    NaN  NaN     NaN     False        CA  \n",
       "74448       Erick  1.537957e+12      M    NaN  NaN     NaN     False        AL  \n",
       "81810      Rachel  1.536103e+12      F    NaN  NaN     NaN     False        NY  \n",
       "99723     Jeffery  1.533886e+12      M    NaN  NaN     NaN     False        MT  \n",
       "116327     Sophia  1.537680e+12      F    NaN  NaN     NaN     False        CA  \n",
       "123522      Piper  1.537700e+12      F    NaN  NaN     NaN     False        NY  \n",
       "127249     Teagan  1.537635e+12      F    NaN  NaN     NaN     False        OH  \n",
       "148791      Alexi  1.532483e+12      F    NaN  NaN     NaN     False        WA  \n",
       "154047      Kaleb  1.536988e+12      M    NaN  NaN     NaN     False        CA  \n",
       "156343     Chayse  1.529643e+12      M    NaN  NaN     NaN     False        MS  \n",
       "170913  Sebastian  1.538050e+12      M    NaN  NaN     NaN     False        MS  \n",
       "213929  Sebastian  1.537971e+12      M    NaN  NaN     NaN     False        OR  \n",
       "214371    Delaney  1.534627e+12      F    NaN  NaN     NaN     False        FL  \n",
       "215289   Jonathon  1.536343e+12      M    NaN  NaN     NaN     False        NY  \n",
       "215521      Leyla  1.537964e+12      F    NaN  NaN     NaN     False        MI  \n",
       "215992      Angel  1.536257e+12      M    NaN  NaN     NaN     False        WA  \n",
       "217230     Nevaeh  1.537309e+12      F    NaN  NaN     NaN     False        FL  \n",
       "218183     Sawyer  1.536679e+12      M    NaN  NaN     NaN     False        SC  \n",
       "220027      Cason  1.532611e+12      M    NaN  NaN     NaN     False        LA  \n",
       "220484      James  1.533247e+12      M    NaN  NaN     NaN      True        AL  \n",
       "220890     London  1.532626e+12      F    NaN  NaN     NaN     False        NY  \n",
       "221610       Troy  1.537376e+12      M    NaN  NaN     NaN     False        CA  \n",
       "222341     Daniel  1.537381e+12      M    NaN  NaN     NaN     False        IL  \n",
       "222521       Cali  1.537368e+12      F    NaN  NaN     NaN     False        OH  \n",
       "223676       Mahi  1.537898e+12      F    NaN  NaN     NaN     False        TX  \n",
       "224893    Rodrigo  1.535389e+12      M    NaN  NaN     NaN     False        NY  \n",
       "225260       Tina  1.537209e+12      F    NaN  NaN     NaN     False        NC  \n",
       "225456     Rayden  1.537550e+12      M    NaN  NaN     NaN     False        TX  \n",
       "226522      Piper  1.533522e+12      F    NaN  NaN     NaN     False        AR  \n",
       "232438      Reece  1.538255e+12      M    NaN  NaN     NaN     False        DC  \n",
       "235486     Isaiah  1.537897e+12      M    NaN  NaN     NaN     False        KY  \n",
       "239959    Charles  1.531680e+12      M    NaN  NaN     NaN     False        MO  \n",
       "240108    Liliana  1.535033e+12      F    NaN  NaN     NaN     False        MI  \n",
       "240249      Saulo  1.536957e+12      M    NaN  NaN     NaN      True        PA  \n",
       "243048     Connor  1.534176e+12      M    NaN  NaN     NaN      True        CA  \n",
       "244442      James  1.537044e+12      M    NaN  NaN     NaN     False        NY  \n",
       "244860  Charlotte  1.537538e+12      F    NaN  NaN     NaN     False        MD  \n",
       "245329     Keegan  1.535907e+12      M    NaN  NaN     NaN     False        FL  \n",
       "251370      Lucas  1.537707e+12      M    NaN  NaN     NaN     False        AZ  \n",
       "281480   Antonina  1.526739e+12      F    NaN  NaN     NaN     False        CO  "
      ]
     },
     "execution_count": 183,
     "metadata": {},
     "output_type": "execute_result"
    }
   ],
   "source": [
    "df[df[\"page\"] == \"Cancellation Confirmation\"]"
   ]
  },
  {
   "cell_type": "markdown",
   "id": "0855918f",
   "metadata": {},
   "source": [
    "## Create main dataframe"
   ]
  },
  {
   "cell_type": "code",
   "execution_count": 184,
   "id": "d4d98aae",
   "metadata": {},
   "outputs": [],
   "source": [
    "user_info = pd.DataFrame({\"avg_time_bw_sessions\": avg_time_bw_sessions})"
   ]
  },
  {
   "cell_type": "code",
   "execution_count": 185,
   "id": "b8ab6641",
   "metadata": {},
   "outputs": [],
   "source": [
    "user_info[\"avg_session_length\"] = avg_session_len_per_user"
   ]
  },
  {
   "cell_type": "code",
   "execution_count": 186,
   "id": "36af411c",
   "metadata": {},
   "outputs": [
    {
     "data": {
      "text/html": [
       "<div>\n",
       "<style scoped>\n",
       "    .dataframe tbody tr th:only-of-type {\n",
       "        vertical-align: middle;\n",
       "    }\n",
       "\n",
       "    .dataframe tbody tr th {\n",
       "        vertical-align: top;\n",
       "    }\n",
       "\n",
       "    .dataframe thead th {\n",
       "        text-align: right;\n",
       "    }\n",
       "</style>\n",
       "<table border=\"1\" class=\"dataframe\">\n",
       "  <thead>\n",
       "    <tr style=\"text-align: right;\">\n",
       "      <th></th>\n",
       "      <th>avg_time_bw_sessions</th>\n",
       "      <th>avg_session_length</th>\n",
       "    </tr>\n",
       "    <tr>\n",
       "      <th>userId</th>\n",
       "      <th></th>\n",
       "      <th></th>\n",
       "    </tr>\n",
       "  </thead>\n",
       "  <tbody>\n",
       "    <tr>\n",
       "      <th>10</th>\n",
       "      <td>7.304832e+08</td>\n",
       "      <td>2.758483e+07</td>\n",
       "    </tr>\n",
       "    <tr>\n",
       "      <th>100</th>\n",
       "      <td>1.487741e+08</td>\n",
       "      <td>1.899114e+07</td>\n",
       "    </tr>\n",
       "    <tr>\n",
       "      <th>100001</th>\n",
       "      <td>3.737400e+07</td>\n",
       "      <td>8.889500e+06</td>\n",
       "    </tr>\n",
       "    <tr>\n",
       "      <th>100002</th>\n",
       "      <td>1.586523e+09</td>\n",
       "      <td>1.207100e+07</td>\n",
       "    </tr>\n",
       "    <tr>\n",
       "      <th>100003</th>\n",
       "      <td>1.741680e+08</td>\n",
       "      <td>5.947000e+06</td>\n",
       "    </tr>\n",
       "  </tbody>\n",
       "</table>\n",
       "</div>"
      ],
      "text/plain": [
       "        avg_time_bw_sessions  avg_session_length\n",
       "userId                                          \n",
       "10              7.304832e+08        2.758483e+07\n",
       "100             1.487741e+08        1.899114e+07\n",
       "100001          3.737400e+07        8.889500e+06\n",
       "100002          1.586523e+09        1.207100e+07\n",
       "100003          1.741680e+08        5.947000e+06"
      ]
     },
     "execution_count": 186,
     "metadata": {},
     "output_type": "execute_result"
    }
   ],
   "source": [
    "user_info.head()"
   ]
  },
  {
   "cell_type": "code",
   "execution_count": 187,
   "id": "a4ef965c",
   "metadata": {},
   "outputs": [
    {
     "data": {
      "text/plain": [
       "avg_time_bw_sessions    15\n",
       "avg_session_length       0\n",
       "dtype: int64"
      ]
     },
     "execution_count": 187,
     "metadata": {},
     "output_type": "execute_result"
    }
   ],
   "source": [
    "user_info.isna().sum()"
   ]
  },
  {
   "cell_type": "code",
   "execution_count": 188,
   "id": "1d31304f",
   "metadata": {},
   "outputs": [],
   "source": [
    "from sklearn.impute import SimpleImputer\n",
    "\n",
    "impute = SimpleImputer()\n",
    "user_info[\"avg_time_bw_sessions\"] = impute.fit_transform(user_info[[\"avg_time_bw_sessions\"]])"
   ]
  },
  {
   "cell_type": "markdown",
   "id": "69cda047",
   "metadata": {},
   "source": [
    "Check format of ts, looks to be in milliseconds since epoch"
   ]
  },
  {
   "cell_type": "code",
   "execution_count": 189,
   "id": "736beee3",
   "metadata": {},
   "outputs": [
    {
     "data": {
      "text/plain": [
       "1538352117000"
      ]
     },
     "execution_count": 189,
     "metadata": {},
     "output_type": "execute_result"
    }
   ],
   "source": [
    "df[\"ts\"].iloc[0]"
   ]
  },
  {
   "cell_type": "code",
   "execution_count": 190,
   "id": "0ba94082",
   "metadata": {},
   "outputs": [],
   "source": [
    "def daysOnPlatform(x):\n",
    "    return max(1, round((x[\"ts\"] - x[\"registration\"]) / 3600 / 24 / 1000, 2))\n",
    "\n",
    "days_on_platform = df.groupby(\"userId\").last().apply(daysOnPlatform, axis=1)"
   ]
  },
  {
   "cell_type": "code",
   "execution_count": 191,
   "id": "55d6a582",
   "metadata": {},
   "outputs": [],
   "source": [
    "user_info[\"days_on_platform\"] = days_on_platform"
   ]
  },
  {
   "cell_type": "code",
   "execution_count": 192,
   "id": "917e8e56",
   "metadata": {},
   "outputs": [
    {
     "data": {
      "text/plain": [
       "avg_time_bw_sessions    0\n",
       "avg_session_length      0\n",
       "days_on_platform        0\n",
       "dtype: int64"
      ]
     },
     "execution_count": 192,
     "metadata": {},
     "output_type": "execute_result"
    }
   ],
   "source": [
    "user_info.isna().sum()"
   ]
  },
  {
   "cell_type": "code",
   "execution_count": 193,
   "id": "0bc83b38",
   "metadata": {},
   "outputs": [],
   "source": [
    "user_info[\"total_pages\"] = df.groupby(\"userId\")['ts'].count()"
   ]
  },
  {
   "cell_type": "code",
   "execution_count": 194,
   "id": "22c7ae41",
   "metadata": {},
   "outputs": [
    {
     "data": {
      "text/plain": [
       "avg_time_bw_sessions    0\n",
       "avg_session_length      0\n",
       "days_on_platform        0\n",
       "total_pages             0\n",
       "dtype: int64"
      ]
     },
     "execution_count": 194,
     "metadata": {},
     "output_type": "execute_result"
    }
   ],
   "source": [
    "user_info.isna().sum()"
   ]
  },
  {
   "cell_type": "code",
   "execution_count": 195,
   "id": "fe1e8816",
   "metadata": {},
   "outputs": [],
   "source": [
    "user_info[\"pages_per_day\"] = user_info.apply(lambda x: x[\"total_pages\"] / x[\"days_on_platform\"], axis=1)"
   ]
  },
  {
   "cell_type": "code",
   "execution_count": 196,
   "id": "c051028d",
   "metadata": {},
   "outputs": [
    {
     "data": {
      "image/png": "[encoded data removed]",
      "text/plain": [
       "<Figure size 432x288 with 1 Axes>"
      ]
     },
     "metadata": {
      "needs_background": "light"
     },
     "output_type": "display_data"
    }
   ],
   "source": [
    "user_info[\"pages_per_day\"].hist();"
   ]
  },
  {
   "cell_type": "code",
   "execution_count": 197,
   "id": "ec0017e8",
   "metadata": {},
   "outputs": [
    {
     "data": {
      "text/plain": [
       "avg_time_bw_sessions    0\n",
       "avg_session_length      0\n",
       "days_on_platform        0\n",
       "total_pages             0\n",
       "pages_per_day           0\n",
       "dtype: int64"
      ]
     },
     "execution_count": 197,
     "metadata": {},
     "output_type": "execute_result"
    }
   ],
   "source": [
    "user_info.isna().sum()"
   ]
  },
  {
   "cell_type": "code",
   "execution_count": 198,
   "id": "cbb3c585",
   "metadata": {},
   "outputs": [],
   "source": [
    "page_visits = df.groupby(\"userId\")[\"page\"].value_counts().unstack()"
   ]
  },
  {
   "cell_type": "code",
   "execution_count": 199,
   "id": "b275d225",
   "metadata": {},
   "outputs": [],
   "source": [
    "page_visits = page_visits.fillna(0)"
   ]
  },
  {
   "cell_type": "code",
   "execution_count": 200,
   "id": "33485109",
   "metadata": {},
   "outputs": [
    {
     "data": {
      "text/html": [
       "<div>\n",
       "<style scoped>\n",
       "    .dataframe tbody tr th:only-of-type {\n",
       "        vertical-align: middle;\n",
       "    }\n",
       "\n",
       "    .dataframe tbody tr th {\n",
       "        vertical-align: top;\n",
       "    }\n",
       "\n",
       "    .dataframe thead th {\n",
       "        text-align: right;\n",
       "    }\n",
       "</style>\n",
       "<table border=\"1\" class=\"dataframe\">\n",
       "  <thead>\n",
       "    <tr style=\"text-align: right;\">\n",
       "      <th>page</th>\n",
       "      <th>About</th>\n",
       "      <th>Add Friend</th>\n",
       "      <th>Add to Playlist</th>\n",
       "      <th>Cancel</th>\n",
       "      <th>Cancellation Confirmation</th>\n",
       "      <th>Downgrade</th>\n",
       "      <th>Error</th>\n",
       "      <th>Help</th>\n",
       "      <th>Home</th>\n",
       "      <th>Logout</th>\n",
       "      <th>NextSong</th>\n",
       "      <th>Roll Advert</th>\n",
       "      <th>Save Settings</th>\n",
       "      <th>Settings</th>\n",
       "      <th>Submit Downgrade</th>\n",
       "      <th>Submit Upgrade</th>\n",
       "      <th>Thumbs Down</th>\n",
       "      <th>Thumbs Up</th>\n",
       "      <th>Upgrade</th>\n",
       "    </tr>\n",
       "    <tr>\n",
       "      <th>userId</th>\n",
       "      <th></th>\n",
       "      <th></th>\n",
       "      <th></th>\n",
       "      <th></th>\n",
       "      <th></th>\n",
       "      <th></th>\n",
       "      <th></th>\n",
       "      <th></th>\n",
       "      <th></th>\n",
       "      <th></th>\n",
       "      <th></th>\n",
       "      <th></th>\n",
       "      <th></th>\n",
       "      <th></th>\n",
       "      <th></th>\n",
       "      <th></th>\n",
       "      <th></th>\n",
       "      <th></th>\n",
       "      <th></th>\n",
       "    </tr>\n",
       "  </thead>\n",
       "  <tbody>\n",
       "    <tr>\n",
       "      <th>10</th>\n",
       "      <td>2.0</td>\n",
       "      <td>12.0</td>\n",
       "      <td>9.0</td>\n",
       "      <td>0.0</td>\n",
       "      <td>0.0</td>\n",
       "      <td>7.0</td>\n",
       "      <td>0.0</td>\n",
       "      <td>1.0</td>\n",
       "      <td>30.0</td>\n",
       "      <td>11.0</td>\n",
       "      <td>673.0</td>\n",
       "      <td>1.0</td>\n",
       "      <td>1.0</td>\n",
       "      <td>7.0</td>\n",
       "      <td>0.0</td>\n",
       "      <td>0.0</td>\n",
       "      <td>4.0</td>\n",
       "      <td>37.0</td>\n",
       "      <td>0.0</td>\n",
       "    </tr>\n",
       "    <tr>\n",
       "      <th>100</th>\n",
       "      <td>12.0</td>\n",
       "      <td>49.0</td>\n",
       "      <td>61.0</td>\n",
       "      <td>0.0</td>\n",
       "      <td>0.0</td>\n",
       "      <td>30.0</td>\n",
       "      <td>3.0</td>\n",
       "      <td>18.0</td>\n",
       "      <td>105.0</td>\n",
       "      <td>35.0</td>\n",
       "      <td>2682.0</td>\n",
       "      <td>25.0</td>\n",
       "      <td>5.0</td>\n",
       "      <td>11.0</td>\n",
       "      <td>1.0</td>\n",
       "      <td>1.0</td>\n",
       "      <td>27.0</td>\n",
       "      <td>148.0</td>\n",
       "      <td>1.0</td>\n",
       "    </tr>\n",
       "    <tr>\n",
       "      <th>100001</th>\n",
       "      <td>0.0</td>\n",
       "      <td>2.0</td>\n",
       "      <td>3.0</td>\n",
       "      <td>1.0</td>\n",
       "      <td>1.0</td>\n",
       "      <td>0.0</td>\n",
       "      <td>1.0</td>\n",
       "      <td>1.0</td>\n",
       "      <td>11.0</td>\n",
       "      <td>7.0</td>\n",
       "      <td>133.0</td>\n",
       "      <td>14.0</td>\n",
       "      <td>0.0</td>\n",
       "      <td>1.0</td>\n",
       "      <td>0.0</td>\n",
       "      <td>0.0</td>\n",
       "      <td>2.0</td>\n",
       "      <td>8.0</td>\n",
       "      <td>2.0</td>\n",
       "    </tr>\n",
       "    <tr>\n",
       "      <th>100002</th>\n",
       "      <td>0.0</td>\n",
       "      <td>1.0</td>\n",
       "      <td>5.0</td>\n",
       "      <td>0.0</td>\n",
       "      <td>0.0</td>\n",
       "      <td>2.0</td>\n",
       "      <td>0.0</td>\n",
       "      <td>0.0</td>\n",
       "      <td>6.0</td>\n",
       "      <td>1.0</td>\n",
       "      <td>195.0</td>\n",
       "      <td>3.0</td>\n",
       "      <td>0.0</td>\n",
       "      <td>0.0</td>\n",
       "      <td>0.0</td>\n",
       "      <td>0.0</td>\n",
       "      <td>0.0</td>\n",
       "      <td>5.0</td>\n",
       "      <td>0.0</td>\n",
       "    </tr>\n",
       "    <tr>\n",
       "      <th>100003</th>\n",
       "      <td>0.0</td>\n",
       "      <td>0.0</td>\n",
       "      <td>2.0</td>\n",
       "      <td>1.0</td>\n",
       "      <td>1.0</td>\n",
       "      <td>0.0</td>\n",
       "      <td>0.0</td>\n",
       "      <td>1.0</td>\n",
       "      <td>7.0</td>\n",
       "      <td>3.0</td>\n",
       "      <td>51.0</td>\n",
       "      <td>9.0</td>\n",
       "      <td>0.0</td>\n",
       "      <td>0.0</td>\n",
       "      <td>0.0</td>\n",
       "      <td>0.0</td>\n",
       "      <td>0.0</td>\n",
       "      <td>3.0</td>\n",
       "      <td>0.0</td>\n",
       "    </tr>\n",
       "  </tbody>\n",
       "</table>\n",
       "</div>"
      ],
      "text/plain": [
       "page    About  Add Friend  Add to Playlist  Cancel  Cancellation Confirmation  \\\n",
       "userId                                                                          \n",
       "10        2.0        12.0              9.0     0.0                        0.0   \n",
       "100      12.0        49.0             61.0     0.0                        0.0   \n",
       "100001    0.0         2.0              3.0     1.0                        1.0   \n",
       "100002    0.0         1.0              5.0     0.0                        0.0   \n",
       "100003    0.0         0.0              2.0     1.0                        1.0   \n",
       "\n",
       "page    Downgrade  Error  Help   Home  Logout  NextSong  Roll Advert  \\\n",
       "userId                                                                 \n",
       "10            7.0    0.0   1.0   30.0    11.0     673.0          1.0   \n",
       "100          30.0    3.0  18.0  105.0    35.0    2682.0         25.0   \n",
       "100001        0.0    1.0   1.0   11.0     7.0     133.0         14.0   \n",
       "100002        2.0    0.0   0.0    6.0     1.0     195.0          3.0   \n",
       "100003        0.0    0.0   1.0    7.0     3.0      51.0          9.0   \n",
       "\n",
       "page    Save Settings  Settings  Submit Downgrade  Submit Upgrade  \\\n",
       "userId                                                              \n",
       "10                1.0       7.0               0.0             0.0   \n",
       "100               5.0      11.0               1.0             1.0   \n",
       "100001            0.0       1.0               0.0             0.0   \n",
       "100002            0.0       0.0               0.0             0.0   \n",
       "100003            0.0       0.0               0.0             0.0   \n",
       "\n",
       "page    Thumbs Down  Thumbs Up  Upgrade  \n",
       "userId                                   \n",
       "10              4.0       37.0      0.0  \n",
       "100            27.0      148.0      1.0  \n",
       "100001          2.0        8.0      2.0  \n",
       "100002          0.0        5.0      0.0  \n",
       "100003          0.0        3.0      0.0  "
      ]
     },
     "execution_count": 200,
     "metadata": {},
     "output_type": "execute_result"
    }
   ],
   "source": [
    "page_visits = df.groupby(\"userId\")[\"page\"].value_counts().unstack()\n",
    "page_visits = page_visits.fillna(0)\n",
    "page_visits.head()"
   ]
  },
  {
   "cell_type": "code",
   "execution_count": 201,
   "id": "96f09391",
   "metadata": {},
   "outputs": [
    {
     "data": {
      "image/png": "[encoded data removed]",
      "text/plain": [
       "<Figure size 1152x648 with 2 Axes>"
      ]
     },
     "metadata": {
      "needs_background": "light"
     },
     "output_type": "display_data"
    }
   ],
   "source": [
    "import seaborn as sns\n",
    "plt.figure(figsize=(16,9))\n",
    "sns.heatmap(page_visits.corr());"
   ]
  },
  {
   "cell_type": "code",
   "execution_count": 202,
   "id": "0674f551",
   "metadata": {},
   "outputs": [
    {
     "data": {
      "text/plain": [
       "Index(['10', '100', '100001', '100002', '100003', '100004', '100005', '100006',\n",
       "       '100007', '100008',\n",
       "       ...\n",
       "       '90', '91', '92', '93', '94', '95', '96', '97', '98', '99'],\n",
       "      dtype='object', name='userId', length=225)"
      ]
     },
     "execution_count": 202,
     "metadata": {},
     "output_type": "execute_result"
    }
   ],
   "source": [
    "user_info.index"
   ]
  },
  {
   "cell_type": "code",
   "execution_count": 203,
   "id": "7f2c2160",
   "metadata": {},
   "outputs": [],
   "source": [
    "user_info = user_info.merge(page_visits, on=\"userId\")"
   ]
  },
  {
   "cell_type": "code",
   "execution_count": 204,
   "id": "4d59e46a",
   "metadata": {},
   "outputs": [
    {
     "data": {
      "text/plain": [
       "(225, 24)"
      ]
     },
     "execution_count": 204,
     "metadata": {},
     "output_type": "execute_result"
    }
   ],
   "source": [
    "user_info.shape"
   ]
  },
  {
   "cell_type": "code",
   "execution_count": 205,
   "id": "7e2e998c",
   "metadata": {},
   "outputs": [
    {
     "data": {
      "text/plain": [
       "avg_time_bw_sessions         0\n",
       "avg_session_length           0\n",
       "days_on_platform             0\n",
       "total_pages                  0\n",
       "pages_per_day                0\n",
       "About                        0\n",
       "Add Friend                   0\n",
       "Add to Playlist              0\n",
       "Cancel                       0\n",
       "Cancellation Confirmation    0\n",
       "Downgrade                    0\n",
       "Error                        0\n",
       "Help                         0\n",
       "Home                         0\n",
       "Logout                       0\n",
       "NextSong                     0\n",
       "Roll Advert                  0\n",
       "Save Settings                0\n",
       "Settings                     0\n",
       "Submit Downgrade             0\n",
       "Submit Upgrade               0\n",
       "Thumbs Down                  0\n",
       "Thumbs Up                    0\n",
       "Upgrade                      0\n",
       "dtype: int64"
      ]
     },
     "execution_count": 205,
     "metadata": {},
     "output_type": "execute_result"
    }
   ],
   "source": [
    "user_info.isna().sum()"
   ]
  },
  {
   "cell_type": "code",
   "execution_count": 206,
   "id": "9097eb14",
   "metadata": {},
   "outputs": [],
   "source": [
    "items_per_session = df.groupby([\"userId\", \"sessionId\"])[\"itemInSession\"].max().groupby(\"userId\").mean();"
   ]
  },
  {
   "cell_type": "code",
   "execution_count": 207,
   "id": "ffb20609",
   "metadata": {},
   "outputs": [],
   "source": [
    "user_info = user_info.merge(items_per_session, on=\"userId\")"
   ]
  },
  {
   "cell_type": "code",
   "execution_count": 208,
   "id": "8963d53e",
   "metadata": {},
   "outputs": [
    {
     "data": {
      "text/plain": [
       "<AxesSubplot:>"
      ]
     },
     "execution_count": 208,
     "metadata": {},
     "output_type": "execute_result"
    },
    {
     "data": {
      "image/png": "[encoded data removed]",
      "text/plain": [
       "<Figure size 432x288 with 1 Axes>"
      ]
     },
     "metadata": {
      "needs_background": "light"
     },
     "output_type": "display_data"
    }
   ],
   "source": [
    "listening_to_music = df.groupby(\"userId\")[\"length\"].sum()\n",
    "listening_to_music.hist()"
   ]
  },
  {
   "cell_type": "code",
   "execution_count": 209,
   "id": "b552b5f6",
   "metadata": {},
   "outputs": [],
   "source": [
    "user_info = user_info.merge(listening_to_music, on=\"userId\")"
   ]
  },
  {
   "cell_type": "code",
   "execution_count": 210,
   "id": "066006ec",
   "metadata": {},
   "outputs": [
    {
     "data": {
      "text/html": [
       "<div>\n",
       "<style scoped>\n",
       "    .dataframe tbody tr th:only-of-type {\n",
       "        vertical-align: middle;\n",
       "    }\n",
       "\n",
       "    .dataframe tbody tr th {\n",
       "        vertical-align: top;\n",
       "    }\n",
       "\n",
       "    .dataframe thead th {\n",
       "        text-align: right;\n",
       "    }\n",
       "</style>\n",
       "<table border=\"1\" class=\"dataframe\">\n",
       "  <thead>\n",
       "    <tr style=\"text-align: right;\">\n",
       "      <th></th>\n",
       "      <th>avg_time_bw_sessions</th>\n",
       "      <th>avg_session_length</th>\n",
       "      <th>days_on_platform</th>\n",
       "      <th>total_pages</th>\n",
       "      <th>pages_per_day</th>\n",
       "      <th>About</th>\n",
       "      <th>Add Friend</th>\n",
       "      <th>Add to Playlist</th>\n",
       "      <th>Cancel</th>\n",
       "      <th>Cancellation Confirmation</th>\n",
       "      <th>...</th>\n",
       "      <th>Roll Advert</th>\n",
       "      <th>Save Settings</th>\n",
       "      <th>Settings</th>\n",
       "      <th>Submit Downgrade</th>\n",
       "      <th>Submit Upgrade</th>\n",
       "      <th>Thumbs Down</th>\n",
       "      <th>Thumbs Up</th>\n",
       "      <th>Upgrade</th>\n",
       "      <th>itemInSession</th>\n",
       "      <th>length</th>\n",
       "    </tr>\n",
       "    <tr>\n",
       "      <th>userId</th>\n",
       "      <th></th>\n",
       "      <th></th>\n",
       "      <th></th>\n",
       "      <th></th>\n",
       "      <th></th>\n",
       "      <th></th>\n",
       "      <th></th>\n",
       "      <th></th>\n",
       "      <th></th>\n",
       "      <th></th>\n",
       "      <th></th>\n",
       "      <th></th>\n",
       "      <th></th>\n",
       "      <th></th>\n",
       "      <th></th>\n",
       "      <th></th>\n",
       "      <th></th>\n",
       "      <th></th>\n",
       "      <th></th>\n",
       "      <th></th>\n",
       "      <th></th>\n",
       "    </tr>\n",
       "  </thead>\n",
       "  <tbody>\n",
       "    <tr>\n",
       "      <th>10</th>\n",
       "      <td>7.304832e+08</td>\n",
       "      <td>2.758483e+07</td>\n",
       "      <td>51.76</td>\n",
       "      <td>795</td>\n",
       "      <td>15.359351</td>\n",
       "      <td>2.0</td>\n",
       "      <td>12.0</td>\n",
       "      <td>9.0</td>\n",
       "      <td>0.0</td>\n",
       "      <td>0.0</td>\n",
       "      <td>...</td>\n",
       "      <td>1.0</td>\n",
       "      <td>1.0</td>\n",
       "      <td>7.0</td>\n",
       "      <td>0.0</td>\n",
       "      <td>0.0</td>\n",
       "      <td>4.0</td>\n",
       "      <td>37.0</td>\n",
       "      <td>0.0</td>\n",
       "      <td>135.500000</td>\n",
       "      <td>166866.37251</td>\n",
       "    </tr>\n",
       "    <tr>\n",
       "      <th>100</th>\n",
       "      <td>1.487741e+08</td>\n",
       "      <td>1.899114e+07</td>\n",
       "      <td>64.87</td>\n",
       "      <td>3214</td>\n",
       "      <td>49.545244</td>\n",
       "      <td>12.0</td>\n",
       "      <td>49.0</td>\n",
       "      <td>61.0</td>\n",
       "      <td>0.0</td>\n",
       "      <td>0.0</td>\n",
       "      <td>...</td>\n",
       "      <td>25.0</td>\n",
       "      <td>5.0</td>\n",
       "      <td>11.0</td>\n",
       "      <td>1.0</td>\n",
       "      <td>1.0</td>\n",
       "      <td>27.0</td>\n",
       "      <td>148.0</td>\n",
       "      <td>1.0</td>\n",
       "      <td>93.228571</td>\n",
       "      <td>672877.85659</td>\n",
       "    </tr>\n",
       "    <tr>\n",
       "      <th>100001</th>\n",
       "      <td>3.737400e+07</td>\n",
       "      <td>8.889500e+06</td>\n",
       "      <td>44.80</td>\n",
       "      <td>187</td>\n",
       "      <td>4.174107</td>\n",
       "      <td>0.0</td>\n",
       "      <td>2.0</td>\n",
       "      <td>3.0</td>\n",
       "      <td>1.0</td>\n",
       "      <td>1.0</td>\n",
       "      <td>...</td>\n",
       "      <td>14.0</td>\n",
       "      <td>0.0</td>\n",
       "      <td>1.0</td>\n",
       "      <td>0.0</td>\n",
       "      <td>0.0</td>\n",
       "      <td>2.0</td>\n",
       "      <td>8.0</td>\n",
       "      <td>2.0</td>\n",
       "      <td>49.250000</td>\n",
       "      <td>35073.74215</td>\n",
       "    </tr>\n",
       "    <tr>\n",
       "      <th>100002</th>\n",
       "      <td>1.586523e+09</td>\n",
       "      <td>1.207100e+07</td>\n",
       "      <td>160.47</td>\n",
       "      <td>218</td>\n",
       "      <td>1.358509</td>\n",
       "      <td>0.0</td>\n",
       "      <td>1.0</td>\n",
       "      <td>5.0</td>\n",
       "      <td>0.0</td>\n",
       "      <td>0.0</td>\n",
       "      <td>...</td>\n",
       "      <td>3.0</td>\n",
       "      <td>0.0</td>\n",
       "      <td>0.0</td>\n",
       "      <td>0.0</td>\n",
       "      <td>0.0</td>\n",
       "      <td>0.0</td>\n",
       "      <td>5.0</td>\n",
       "      <td>0.0</td>\n",
       "      <td>54.000000</td>\n",
       "      <td>49559.91810</td>\n",
       "    </tr>\n",
       "    <tr>\n",
       "      <th>100003</th>\n",
       "      <td>1.741680e+08</td>\n",
       "      <td>5.947000e+06</td>\n",
       "      <td>22.75</td>\n",
       "      <td>78</td>\n",
       "      <td>3.428571</td>\n",
       "      <td>0.0</td>\n",
       "      <td>0.0</td>\n",
       "      <td>2.0</td>\n",
       "      <td>1.0</td>\n",
       "      <td>1.0</td>\n",
       "      <td>...</td>\n",
       "      <td>9.0</td>\n",
       "      <td>0.0</td>\n",
       "      <td>0.0</td>\n",
       "      <td>0.0</td>\n",
       "      <td>0.0</td>\n",
       "      <td>0.0</td>\n",
       "      <td>3.0</td>\n",
       "      <td>0.0</td>\n",
       "      <td>41.000000</td>\n",
       "      <td>12306.41932</td>\n",
       "    </tr>\n",
       "  </tbody>\n",
       "</table>\n",
       "<p>5 rows × 26 columns</p>\n",
       "</div>"
      ],
      "text/plain": [
       "        avg_time_bw_sessions  avg_session_length  days_on_platform  \\\n",
       "userId                                                               \n",
       "10              7.304832e+08        2.758483e+07             51.76   \n",
       "100             1.487741e+08        1.899114e+07             64.87   \n",
       "100001          3.737400e+07        8.889500e+06             44.80   \n",
       "100002          1.586523e+09        1.207100e+07            160.47   \n",
       "100003          1.741680e+08        5.947000e+06             22.75   \n",
       "\n",
       "        total_pages  pages_per_day  About  Add Friend  Add to Playlist  \\\n",
       "userId                                                                   \n",
       "10              795      15.359351    2.0        12.0              9.0   \n",
       "100            3214      49.545244   12.0        49.0             61.0   \n",
       "100001          187       4.174107    0.0         2.0              3.0   \n",
       "100002          218       1.358509    0.0         1.0              5.0   \n",
       "100003           78       3.428571    0.0         0.0              2.0   \n",
       "\n",
       "        Cancel  Cancellation Confirmation  ...  Roll Advert  Save Settings  \\\n",
       "userId                                     ...                               \n",
       "10         0.0                        0.0  ...          1.0            1.0   \n",
       "100        0.0                        0.0  ...         25.0            5.0   \n",
       "100001     1.0                        1.0  ...         14.0            0.0   \n",
       "100002     0.0                        0.0  ...          3.0            0.0   \n",
       "100003     1.0                        1.0  ...          9.0            0.0   \n",
       "\n",
       "        Settings  Submit Downgrade  Submit Upgrade  Thumbs Down  Thumbs Up  \\\n",
       "userId                                                                       \n",
       "10           7.0               0.0             0.0          4.0       37.0   \n",
       "100         11.0               1.0             1.0         27.0      148.0   \n",
       "100001       1.0               0.0             0.0          2.0        8.0   \n",
       "100002       0.0               0.0             0.0          0.0        5.0   \n",
       "100003       0.0               0.0             0.0          0.0        3.0   \n",
       "\n",
       "        Upgrade  itemInSession        length  \n",
       "userId                                        \n",
       "10          0.0     135.500000  166866.37251  \n",
       "100         1.0      93.228571  672877.85659  \n",
       "100001      2.0      49.250000   35073.74215  \n",
       "100002      0.0      54.000000   49559.91810  \n",
       "100003      0.0      41.000000   12306.41932  \n",
       "\n",
       "[5 rows x 26 columns]"
      ]
     },
     "execution_count": 210,
     "metadata": {},
     "output_type": "execute_result"
    }
   ],
   "source": [
    "user_info.head()"
   ]
  },
  {
   "cell_type": "code",
   "execution_count": 211,
   "id": "728c4831",
   "metadata": {},
   "outputs": [],
   "source": [
    "isMobile = df.groupby(\"userId\")[\"isMobile\"].first().astype(\"int8\")"
   ]
  },
  {
   "cell_type": "code",
   "execution_count": 212,
   "id": "009dfd9f",
   "metadata": {},
   "outputs": [],
   "source": [
    "user_info = user_info.merge(isMobile, on=\"userId\")"
   ]
  },
  {
   "cell_type": "code",
   "execution_count": 213,
   "id": "bf472c65",
   "metadata": {},
   "outputs": [],
   "source": [
    "gender = df.groupby(\"userId\")[\"gender\"].first().map({\"M\": 0, \"F\": 1})"
   ]
  },
  {
   "cell_type": "code",
   "execution_count": 214,
   "id": "da2fb482",
   "metadata": {},
   "outputs": [],
   "source": [
    "user_info = user_info.merge(gender, on=\"userId\")"
   ]
  },
  {
   "cell_type": "code",
   "execution_count": 215,
   "id": "52fb884c",
   "metadata": {},
   "outputs": [],
   "source": [
    "paid_user = df.sort_values(\"ts\").groupby(\"userId\")[\"level\"].last().map({\"free\": 0, \"paid\": 1})\n",
    "user_info = user_info.merge(paid_user, on=\"userId\")"
   ]
  },
  {
   "cell_type": "code",
   "execution_count": 216,
   "id": "f5182eef",
   "metadata": {},
   "outputs": [
    {
     "data": {
      "image/png": "[encoded data removed]",
      "text/plain": [
       "<Figure size 1152x648 with 2 Axes>"
      ]
     },
     "metadata": {
      "needs_background": "light"
     },
     "output_type": "display_data"
    }
   ],
   "source": [
    "plt.figure(figsize=(16, 9))\n",
    "sns.heatmap(user_info.corr());"
   ]
  },
  {
   "cell_type": "markdown",
   "id": "23b7960c",
   "metadata": {},
   "source": [
    "## Modeling"
   ]
  },
  {
   "cell_type": "markdown",
   "id": "ba13be9e",
   "metadata": {},
   "source": [
    "Let's train a baseline LogisticRegression just to see what happens"
   ]
  },
  {
   "cell_type": "code",
   "execution_count": 218,
   "id": "901804a5",
   "metadata": {},
   "outputs": [],
   "source": [
    "# Let's make a dictionary to store results of each model\n",
    "performance = {}"
   ]
  },
  {
   "cell_type": "code",
   "execution_count": 220,
   "id": "89b06a3b",
   "metadata": {},
   "outputs": [],
   "source": [
    "X = user_info.drop(columns=[\"Cancellation Confirmation\", \"Cancel\"])\n",
    "y = user_info[\"Cancellation Confirmation\"]"
   ]
  },
  {
   "cell_type": "code",
   "execution_count": 221,
   "id": "424804ec",
   "metadata": {},
   "outputs": [],
   "source": [
    "from sklearn.linear_model import LogisticRegression\n",
    "from sklearn.model_selection import train_test_split"
   ]
  },
  {
   "cell_type": "code",
   "execution_count": 222,
   "id": "e2e4d44a",
   "metadata": {},
   "outputs": [],
   "source": [
    "X_train, X_test, y_train, y_test = train_test_split(X, y, test_size=0.3, random_state=1)"
   ]
  },
  {
   "cell_type": "code",
   "execution_count": 223,
   "id": "9e336b60",
   "metadata": {},
   "outputs": [
    {
     "data": {
      "text/plain": [
       "LogisticRegression()"
      ]
     },
     "execution_count": 223,
     "metadata": {},
     "output_type": "execute_result"
    }
   ],
   "source": [
    "log_reg = LogisticRegression()\n",
    "log_reg.fit(X_train, y_train)"
   ]
  },
  {
   "cell_type": "code",
   "execution_count": 224,
   "id": "b5fb9c0d",
   "metadata": {},
   "outputs": [
    {
     "name": "stdout",
     "output_type": "stream",
     "text": [
      "              precision    recall  f1-score   support\n",
      "\n",
      "         0.0       0.79      0.98      0.87        53\n",
      "         1.0       0.50      0.07      0.12        15\n",
      "\n",
      "    accuracy                           0.78        68\n",
      "   macro avg       0.64      0.52      0.50        68\n",
      "weighted avg       0.72      0.78      0.71        68\n",
      "\n"
     ]
    }
   ],
   "source": [
    "from sklearn.metrics import classification_report\n",
    "preds = log_reg.predict(X_test)\n",
    "print(classification_report(y_test, preds))"
   ]
  },
  {
   "cell_type": "code",
   "execution_count": 225,
   "id": "07f41c3e",
   "metadata": {},
   "outputs": [],
   "source": [
    "from sklearn.metrics import recall_score, accuracy_score\n",
    "def record_metrics(model, X, y_true):\n",
    "    preds = model.predict(X)\n",
    "    recall = recall_score(y_true, preds)\n",
    "    acc = accuracy_score(y_true, preds)\n",
    "    return [recall, acc]"
   ]
  },
  {
   "cell_type": "code",
   "execution_count": 226,
   "id": "59f42237",
   "metadata": {},
   "outputs": [],
   "source": [
    "performance[\"log_reg\"] = record_metrics(log_reg, X_test, y_test)"
   ]
  },
  {
   "cell_type": "markdown",
   "id": "24165d03",
   "metadata": {},
   "source": [
    "Not so great since we have such a small sample size and very low number of churned users in general. Let's try some other modeling approaches."
   ]
  },
  {
   "cell_type": "markdown",
   "id": "7ca98f5b",
   "metadata": {},
   "source": [
    "### RandomForestClassifier"
   ]
  },
  {
   "cell_type": "code",
   "execution_count": 227,
   "id": "a4a977e4",
   "metadata": {},
   "outputs": [],
   "source": [
    "from sklearn.ensemble import RandomForestClassifier"
   ]
  },
  {
   "cell_type": "code",
   "execution_count": 228,
   "id": "d7266e2b",
   "metadata": {},
   "outputs": [
    {
     "data": {
      "text/plain": [
       "RandomForestClassifier(max_depth=10, n_estimators=1000)"
      ]
     },
     "execution_count": 228,
     "metadata": {},
     "output_type": "execute_result"
    }
   ],
   "source": [
    "forest = RandomForestClassifier(n_estimators=1000, max_depth=10)\n",
    "forest.fit(X_train, y_train)"
   ]
  },
  {
   "cell_type": "code",
   "execution_count": 229,
   "id": "0adc9d11",
   "metadata": {},
   "outputs": [
    {
     "data": {
      "text/html": [
       "<div>\n",
       "<style scoped>\n",
       "    .dataframe tbody tr th:only-of-type {\n",
       "        vertical-align: middle;\n",
       "    }\n",
       "\n",
       "    .dataframe tbody tr th {\n",
       "        vertical-align: top;\n",
       "    }\n",
       "\n",
       "    .dataframe thead th {\n",
       "        text-align: right;\n",
       "    }\n",
       "</style>\n",
       "<table border=\"1\" class=\"dataframe\">\n",
       "  <thead>\n",
       "    <tr style=\"text-align: right;\">\n",
       "      <th></th>\n",
       "      <th>0</th>\n",
       "    </tr>\n",
       "  </thead>\n",
       "  <tbody>\n",
       "    <tr>\n",
       "      <th>days_on_platform</th>\n",
       "      <td>0.157525</td>\n",
       "    </tr>\n",
       "    <tr>\n",
       "      <th>avg_time_bw_sessions</th>\n",
       "      <td>0.138883</td>\n",
       "    </tr>\n",
       "    <tr>\n",
       "      <th>pages_per_day</th>\n",
       "      <td>0.054681</td>\n",
       "    </tr>\n",
       "    <tr>\n",
       "      <th>length</th>\n",
       "      <td>0.050482</td>\n",
       "    </tr>\n",
       "    <tr>\n",
       "      <th>NextSong</th>\n",
       "      <td>0.046959</td>\n",
       "    </tr>\n",
       "    <tr>\n",
       "      <th>Thumbs Up</th>\n",
       "      <td>0.046643</td>\n",
       "    </tr>\n",
       "    <tr>\n",
       "      <th>avg_session_length</th>\n",
       "      <td>0.043796</td>\n",
       "    </tr>\n",
       "    <tr>\n",
       "      <th>itemInSession</th>\n",
       "      <td>0.040843</td>\n",
       "    </tr>\n",
       "    <tr>\n",
       "      <th>total_pages</th>\n",
       "      <td>0.040751</td>\n",
       "    </tr>\n",
       "    <tr>\n",
       "      <th>Roll Advert</th>\n",
       "      <td>0.039387</td>\n",
       "    </tr>\n",
       "    <tr>\n",
       "      <th>Add Friend</th>\n",
       "      <td>0.038248</td>\n",
       "    </tr>\n",
       "    <tr>\n",
       "      <th>Add to Playlist</th>\n",
       "      <td>0.035504</td>\n",
       "    </tr>\n",
       "    <tr>\n",
       "      <th>Thumbs Down</th>\n",
       "      <td>0.034748</td>\n",
       "    </tr>\n",
       "    <tr>\n",
       "      <th>Home</th>\n",
       "      <td>0.034154</td>\n",
       "    </tr>\n",
       "    <tr>\n",
       "      <th>Logout</th>\n",
       "      <td>0.030994</td>\n",
       "    </tr>\n",
       "    <tr>\n",
       "      <th>Settings</th>\n",
       "      <td>0.028405</td>\n",
       "    </tr>\n",
       "    <tr>\n",
       "      <th>Downgrade</th>\n",
       "      <td>0.026325</td>\n",
       "    </tr>\n",
       "    <tr>\n",
       "      <th>About</th>\n",
       "      <td>0.026059</td>\n",
       "    </tr>\n",
       "    <tr>\n",
       "      <th>Upgrade</th>\n",
       "      <td>0.018772</td>\n",
       "    </tr>\n",
       "    <tr>\n",
       "      <th>Help</th>\n",
       "      <td>0.018585</td>\n",
       "    </tr>\n",
       "    <tr>\n",
       "      <th>Save Settings</th>\n",
       "      <td>0.014879</td>\n",
       "    </tr>\n",
       "    <tr>\n",
       "      <th>Error</th>\n",
       "      <td>0.011555</td>\n",
       "    </tr>\n",
       "    <tr>\n",
       "      <th>Submit Upgrade</th>\n",
       "      <td>0.006008</td>\n",
       "    </tr>\n",
       "    <tr>\n",
       "      <th>gender</th>\n",
       "      <td>0.005339</td>\n",
       "    </tr>\n",
       "    <tr>\n",
       "      <th>Submit Downgrade</th>\n",
       "      <td>0.004980</td>\n",
       "    </tr>\n",
       "    <tr>\n",
       "      <th>level</th>\n",
       "      <td>0.003077</td>\n",
       "    </tr>\n",
       "    <tr>\n",
       "      <th>isMobile</th>\n",
       "      <td>0.002418</td>\n",
       "    </tr>\n",
       "  </tbody>\n",
       "</table>\n",
       "</div>"
      ],
      "text/plain": [
       "                             0\n",
       "days_on_platform      0.157525\n",
       "avg_time_bw_sessions  0.138883\n",
       "pages_per_day         0.054681\n",
       "length                0.050482\n",
       "NextSong              0.046959\n",
       "Thumbs Up             0.046643\n",
       "avg_session_length    0.043796\n",
       "itemInSession         0.040843\n",
       "total_pages           0.040751\n",
       "Roll Advert           0.039387\n",
       "Add Friend            0.038248\n",
       "Add to Playlist       0.035504\n",
       "Thumbs Down           0.034748\n",
       "Home                  0.034154\n",
       "Logout                0.030994\n",
       "Settings              0.028405\n",
       "Downgrade             0.026325\n",
       "About                 0.026059\n",
       "Upgrade               0.018772\n",
       "Help                  0.018585\n",
       "Save Settings         0.014879\n",
       "Error                 0.011555\n",
       "Submit Upgrade        0.006008\n",
       "gender                0.005339\n",
       "Submit Downgrade      0.004980\n",
       "level                 0.003077\n",
       "isMobile              0.002418"
      ]
     },
     "execution_count": 229,
     "metadata": {},
     "output_type": "execute_result"
    }
   ],
   "source": [
    "pd.DataFrame(forest.feature_importances_, index=X.columns).sort_values(0, ascending=False)"
   ]
  },
  {
   "cell_type": "code",
   "execution_count": 230,
   "id": "6036a97c",
   "metadata": {},
   "outputs": [
    {
     "name": "stdout",
     "output_type": "stream",
     "text": [
      "              precision    recall  f1-score   support\n",
      "\n",
      "         0.0       0.85      0.94      0.89        53\n",
      "         1.0       0.67      0.40      0.50        15\n",
      "\n",
      "    accuracy                           0.82        68\n",
      "   macro avg       0.76      0.67      0.70        68\n",
      "weighted avg       0.81      0.82      0.81        68\n",
      "\n"
     ]
    }
   ],
   "source": [
    "preds = forest.predict(X_test)\n",
    "print(classification_report(y_test, preds))"
   ]
  },
  {
   "cell_type": "code",
   "execution_count": 231,
   "id": "8fb49542",
   "metadata": {},
   "outputs": [
    {
     "data": {
      "text/plain": [
       "0.7794117647058824"
      ]
     },
     "execution_count": 231,
     "metadata": {},
     "output_type": "execute_result"
    }
   ],
   "source": [
    "53/68"
   ]
  },
  {
   "cell_type": "markdown",
   "id": "8d7ac2e7",
   "metadata": {},
   "source": [
    "We have a slightly better accuracy than just predicting the most common class, but the model is really not doing much. Maybe a gridsearch could get us closer. In the grid search, we will optimize for recall since we want to capture as many users likely to churn as possible."
   ]
  },
  {
   "cell_type": "code",
   "execution_count": 232,
   "id": "7a452ccb",
   "metadata": {},
   "outputs": [],
   "source": [
    "from sklearn.model_selection import GridSearchCV"
   ]
  },
  {
   "cell_type": "code",
   "execution_count": 233,
   "id": "18ad26b8",
   "metadata": {},
   "outputs": [],
   "source": [
    "params = {\n",
    "    \"max_depth\": [2, 5, 10, 20],\n",
    "    \"min_samples_split\": [2,4,6]\n",
    "}\n",
    "\n",
    "cv = GridSearchCV(RandomForestClassifier(n_estimators=1000), params, cv=3, scoring=\"recall\")"
   ]
  },
  {
   "cell_type": "code",
   "execution_count": 234,
   "id": "de2255ad",
   "metadata": {},
   "outputs": [
    {
     "data": {
      "text/plain": [
       "GridSearchCV(cv=3, estimator=RandomForestClassifier(n_estimators=1000),\n",
       "             param_grid={'max_depth': [2, 5, 10, 20],\n",
       "                         'min_samples_split': [2, 4, 6]},\n",
       "             scoring='recall')"
      ]
     },
     "execution_count": 234,
     "metadata": {},
     "output_type": "execute_result"
    }
   ],
   "source": [
    "cv.fit(X_train, y_train)"
   ]
  },
  {
   "cell_type": "code",
   "execution_count": 235,
   "id": "0ef48f7c",
   "metadata": {},
   "outputs": [
    {
     "data": {
      "text/plain": [
       "{'max_depth': 10, 'min_samples_split': 4}"
      ]
     },
     "execution_count": 235,
     "metadata": {},
     "output_type": "execute_result"
    }
   ],
   "source": [
    "cv.best_params_"
   ]
  },
  {
   "cell_type": "code",
   "execution_count": 236,
   "id": "f2a4d79e",
   "metadata": {},
   "outputs": [
    {
     "name": "stdout",
     "output_type": "stream",
     "text": [
      "              precision    recall  f1-score   support\n",
      "\n",
      "         0.0       0.85      0.96      0.90        53\n",
      "         1.0       0.75      0.40      0.52        15\n",
      "\n",
      "    accuracy                           0.84        68\n",
      "   macro avg       0.80      0.68      0.71        68\n",
      "weighted avg       0.83      0.84      0.82        68\n",
      "\n"
     ]
    }
   ],
   "source": [
    "threshold = 0.5\n",
    "preds = cv.best_estimator_.predict_proba(X_test)\n",
    "print(classification_report(y_test, preds[:, 1] > threshold))"
   ]
  },
  {
   "cell_type": "code",
   "execution_count": 237,
   "id": "46c98d6c",
   "metadata": {},
   "outputs": [],
   "source": [
    "performance[\"random_forest\"] = record_metrics(cv.best_estimator_, X_test, y_test)"
   ]
  },
  {
   "cell_type": "markdown",
   "id": "7cca6789",
   "metadata": {},
   "source": [
    "Still not great."
   ]
  },
  {
   "cell_type": "markdown",
   "id": "58f8eb19",
   "metadata": {},
   "source": [
    "### XGBClassifier"
   ]
  },
  {
   "cell_type": "code",
   "execution_count": 238,
   "id": "c6181398",
   "metadata": {},
   "outputs": [],
   "source": [
    "import xgboost as xgb\n",
    "model = xgb.XGBClassifier(n_jobs=2)"
   ]
  },
  {
   "cell_type": "code",
   "execution_count": 239,
   "id": "bcc6d63b",
   "metadata": {},
   "outputs": [
    {
     "data": {
      "text/plain": [
       "GridSearchCV(cv=3,\n",
       "             estimator=XGBClassifier(base_score=None, booster=None,\n",
       "                                     callbacks=None, colsample_bylevel=None,\n",
       "                                     colsample_bynode=None,\n",
       "                                     colsample_bytree=None,\n",
       "                                     early_stopping_rounds=None,\n",
       "                                     enable_categorical=False, eval_metric=None,\n",
       "                                     feature_types=None, gamma=None,\n",
       "                                     gpu_id=None, grow_policy=None,\n",
       "                                     importance_type=None,\n",
       "                                     interaction_constraints=None,\n",
       "                                     learning_rate=None, max_bin=None,\n",
       "                                     max_cat_threshold=None,\n",
       "                                     max_cat_to_onehot=None,\n",
       "                                     max_delta_step=None, max_depth=None,\n",
       "                                     max_leaves=None, min_child_weight=None,\n",
       "                                     missing=nan, monotone_constraints=None,\n",
       "                                     n_estimators=100, n_jobs=2,\n",
       "                                     num_parallel_tree=None, predictor=None,\n",
       "                                     random_state=None, ...),\n",
       "             param_grid={'max_depth': [2, 5, 20],\n",
       "                         'n_estimators': [50, 100, 200]},\n",
       "             scoring='recall')"
      ]
     },
     "execution_count": 239,
     "metadata": {},
     "output_type": "execute_result"
    }
   ],
   "source": [
    "params = {\n",
    "    \"max_depth\": [2, 5, 20],\n",
    "    \"n_estimators\": [50, 100, 200]\n",
    "}\n",
    "\n",
    "cv = GridSearchCV(model, params, cv=3, scoring=\"recall\")\n",
    "\n",
    "cv.fit(X_train, y_train)"
   ]
  },
  {
   "cell_type": "code",
   "execution_count": 240,
   "id": "6a007be2",
   "metadata": {},
   "outputs": [
    {
     "data": {
      "text/plain": [
       "{'max_depth': 5, 'n_estimators': 200}"
      ]
     },
     "execution_count": 240,
     "metadata": {},
     "output_type": "execute_result"
    }
   ],
   "source": [
    "cv.best_params_"
   ]
  },
  {
   "cell_type": "code",
   "execution_count": 241,
   "id": "c6984707",
   "metadata": {},
   "outputs": [
    {
     "name": "stdout",
     "output_type": "stream",
     "text": [
      "              precision    recall  f1-score   support\n",
      "\n",
      "         0.0       0.88      0.94      0.91        53\n",
      "         1.0       0.73      0.53      0.62        15\n",
      "\n",
      "    accuracy                           0.85        68\n",
      "   macro avg       0.80      0.74      0.76        68\n",
      "weighted avg       0.84      0.85      0.84        68\n",
      "\n"
     ]
    }
   ],
   "source": [
    "threshold = 0.5\n",
    "preds = cv.best_estimator_.predict_proba(X_test)\n",
    "print(classification_report(y_test, preds[:, 1] > threshold))"
   ]
  },
  {
   "cell_type": "markdown",
   "id": "ca0a55be",
   "metadata": {},
   "source": [
    "Getting a bit better slowly. Let's test more values in a random search"
   ]
  },
  {
   "cell_type": "code",
   "execution_count": 242,
   "id": "8d99ee89",
   "metadata": {},
   "outputs": [
    {
     "data": {
      "text/plain": [
       "RandomizedSearchCV(cv=3,\n",
       "                   estimator=XGBClassifier(base_score=None, booster=None,\n",
       "                                           callbacks=None,\n",
       "                                           colsample_bylevel=None,\n",
       "                                           colsample_bynode=None,\n",
       "                                           colsample_bytree=None,\n",
       "                                           early_stopping_rounds=None,\n",
       "                                           enable_categorical=False,\n",
       "                                           eval_metric=None, feature_types=None,\n",
       "                                           gamma=None, gpu_id=None,\n",
       "                                           grow_policy=None,\n",
       "                                           importance_type=None,\n",
       "                                           interaction_constraints=None,\n",
       "                                           learning_rate...\n",
       "                                           max_delta_step=None, max_depth=None,\n",
       "                                           max_leaves=None,\n",
       "                                           min_child_weight=None, missing=nan,\n",
       "                                           monotone_constraints=None,\n",
       "                                           n_estimators=100, n_jobs=2,\n",
       "                                           num_parallel_tree=None,\n",
       "                                           predictor=None, random_state=None, ...),\n",
       "                   n_iter=50,\n",
       "                   param_distributions={'max_depth': <scipy.stats._distn_infrastructure.rv_frozen object at 0x7f35cbf01280>,\n",
       "                                        'n_estimators': [50, 100, 200]},\n",
       "                   scoring='recall')"
      ]
     },
     "execution_count": 242,
     "metadata": {},
     "output_type": "execute_result"
    }
   ],
   "source": [
    "from sklearn.model_selection import RandomizedSearchCV\n",
    "from scipy.stats import uniform, norm, randint\n",
    "\n",
    "params = {\n",
    "    \"max_depth\": randint(1, 100),\n",
    "    \"n_estimators\": [50, 100, 200]\n",
    "}\n",
    "\n",
    "cv = RandomizedSearchCV(model, params, cv=3, scoring=\"recall\", n_iter=50)\n",
    "\n",
    "cv.fit(X_train, y_train)"
   ]
  },
  {
   "cell_type": "code",
   "execution_count": 243,
   "id": "c8359f79",
   "metadata": {},
   "outputs": [
    {
     "data": {
      "text/plain": [
       "{'max_depth': 5, 'n_estimators': 200}"
      ]
     },
     "execution_count": 243,
     "metadata": {},
     "output_type": "execute_result"
    }
   ],
   "source": [
    "cv.best_params_"
   ]
  },
  {
   "cell_type": "code",
   "execution_count": 244,
   "id": "873ba032",
   "metadata": {},
   "outputs": [
    {
     "name": "stdout",
     "output_type": "stream",
     "text": [
      "              precision    recall  f1-score   support\n",
      "\n",
      "         0.0       0.88      0.94      0.91        53\n",
      "         1.0       0.73      0.53      0.62        15\n",
      "\n",
      "    accuracy                           0.85        68\n",
      "   macro avg       0.80      0.74      0.76        68\n",
      "weighted avg       0.84      0.85      0.84        68\n",
      "\n"
     ]
    }
   ],
   "source": [
    "threshold = 0.5\n",
    "preds = cv.best_estimator_.predict_proba(X_test)\n",
    "print(classification_report(y_test, preds[:, 1] > threshold))"
   ]
  },
  {
   "cell_type": "markdown",
   "id": "764a3db6",
   "metadata": {},
   "source": [
    "We end up with the same metrics after the grid search"
   ]
  },
  {
   "cell_type": "code",
   "execution_count": 245,
   "id": "d73390f3",
   "metadata": {},
   "outputs": [],
   "source": [
    "performance[\"xgboost\"] = record_metrics(cv.best_estimator_, X_test, y_test)"
   ]
  },
  {
   "cell_type": "code",
   "execution_count": 246,
   "id": "619064af",
   "metadata": {},
   "outputs": [
    {
     "data": {
      "text/html": [
       "<div>\n",
       "<style scoped>\n",
       "    .dataframe tbody tr th:only-of-type {\n",
       "        vertical-align: middle;\n",
       "    }\n",
       "\n",
       "    .dataframe tbody tr th {\n",
       "        vertical-align: top;\n",
       "    }\n",
       "\n",
       "    .dataframe thead th {\n",
       "        text-align: right;\n",
       "    }\n",
       "</style>\n",
       "<table border=\"1\" class=\"dataframe\">\n",
       "  <thead>\n",
       "    <tr style=\"text-align: right;\">\n",
       "      <th></th>\n",
       "      <th>0</th>\n",
       "    </tr>\n",
       "  </thead>\n",
       "  <tbody>\n",
       "    <tr>\n",
       "      <th>days_on_platform</th>\n",
       "      <td>0.160699</td>\n",
       "    </tr>\n",
       "    <tr>\n",
       "      <th>Home</th>\n",
       "      <td>0.152672</td>\n",
       "    </tr>\n",
       "    <tr>\n",
       "      <th>Downgrade</th>\n",
       "      <td>0.126270</td>\n",
       "    </tr>\n",
       "    <tr>\n",
       "      <th>pages_per_day</th>\n",
       "      <td>0.067340</td>\n",
       "    </tr>\n",
       "    <tr>\n",
       "      <th>About</th>\n",
       "      <td>0.060588</td>\n",
       "    </tr>\n",
       "    <tr>\n",
       "      <th>avg_time_bw_sessions</th>\n",
       "      <td>0.060212</td>\n",
       "    </tr>\n",
       "    <tr>\n",
       "      <th>Logout</th>\n",
       "      <td>0.045688</td>\n",
       "    </tr>\n",
       "    <tr>\n",
       "      <th>Thumbs Down</th>\n",
       "      <td>0.041284</td>\n",
       "    </tr>\n",
       "    <tr>\n",
       "      <th>Save Settings</th>\n",
       "      <td>0.039719</td>\n",
       "    </tr>\n",
       "    <tr>\n",
       "      <th>Thumbs Up</th>\n",
       "      <td>0.037569</td>\n",
       "    </tr>\n",
       "    <tr>\n",
       "      <th>itemInSession</th>\n",
       "      <td>0.035524</td>\n",
       "    </tr>\n",
       "    <tr>\n",
       "      <th>Add Friend</th>\n",
       "      <td>0.026907</td>\n",
       "    </tr>\n",
       "    <tr>\n",
       "      <th>avg_session_length</th>\n",
       "      <td>0.024392</td>\n",
       "    </tr>\n",
       "    <tr>\n",
       "      <th>Roll Advert</th>\n",
       "      <td>0.021571</td>\n",
       "    </tr>\n",
       "    <tr>\n",
       "      <th>gender</th>\n",
       "      <td>0.017170</td>\n",
       "    </tr>\n",
       "    <tr>\n",
       "      <th>Add to Playlist</th>\n",
       "      <td>0.015314</td>\n",
       "    </tr>\n",
       "    <tr>\n",
       "      <th>total_pages</th>\n",
       "      <td>0.015006</td>\n",
       "    </tr>\n",
       "    <tr>\n",
       "      <th>Submit Upgrade</th>\n",
       "      <td>0.014884</td>\n",
       "    </tr>\n",
       "    <tr>\n",
       "      <th>Error</th>\n",
       "      <td>0.014392</td>\n",
       "    </tr>\n",
       "    <tr>\n",
       "      <th>Upgrade</th>\n",
       "      <td>0.009792</td>\n",
       "    </tr>\n",
       "    <tr>\n",
       "      <th>NextSong</th>\n",
       "      <td>0.006877</td>\n",
       "    </tr>\n",
       "    <tr>\n",
       "      <th>Settings</th>\n",
       "      <td>0.006126</td>\n",
       "    </tr>\n",
       "    <tr>\n",
       "      <th>Submit Downgrade</th>\n",
       "      <td>0.000000</td>\n",
       "    </tr>\n",
       "    <tr>\n",
       "      <th>length</th>\n",
       "      <td>0.000000</td>\n",
       "    </tr>\n",
       "    <tr>\n",
       "      <th>isMobile</th>\n",
       "      <td>0.000000</td>\n",
       "    </tr>\n",
       "    <tr>\n",
       "      <th>Help</th>\n",
       "      <td>0.000000</td>\n",
       "    </tr>\n",
       "    <tr>\n",
       "      <th>level</th>\n",
       "      <td>0.000000</td>\n",
       "    </tr>\n",
       "  </tbody>\n",
       "</table>\n",
       "</div>"
      ],
      "text/plain": [
       "                             0\n",
       "days_on_platform      0.160699\n",
       "Home                  0.152672\n",
       "Downgrade             0.126270\n",
       "pages_per_day         0.067340\n",
       "About                 0.060588\n",
       "avg_time_bw_sessions  0.060212\n",
       "Logout                0.045688\n",
       "Thumbs Down           0.041284\n",
       "Save Settings         0.039719\n",
       "Thumbs Up             0.037569\n",
       "itemInSession         0.035524\n",
       "Add Friend            0.026907\n",
       "avg_session_length    0.024392\n",
       "Roll Advert           0.021571\n",
       "gender                0.017170\n",
       "Add to Playlist       0.015314\n",
       "total_pages           0.015006\n",
       "Submit Upgrade        0.014884\n",
       "Error                 0.014392\n",
       "Upgrade               0.009792\n",
       "NextSong              0.006877\n",
       "Settings              0.006126\n",
       "Submit Downgrade      0.000000\n",
       "length                0.000000\n",
       "isMobile              0.000000\n",
       "Help                  0.000000\n",
       "level                 0.000000"
      ]
     },
     "execution_count": 246,
     "metadata": {},
     "output_type": "execute_result"
    }
   ],
   "source": [
    "pd.DataFrame(cv.best_estimator_.feature_importances_, index=X.columns).sort_values(0, ascending=False)"
   ]
  },
  {
   "cell_type": "markdown",
   "id": "7dbc5713",
   "metadata": {},
   "source": [
    "Tree-based models allow us to interpret the feature importance by seeing which features split the data most cleanly. We see that most features have similar importance levels so it's not so easy to define which features are really the most important in this case."
   ]
  },
  {
   "cell_type": "markdown",
   "id": "66a925e1",
   "metadata": {},
   "source": [
    "The next few approaches will be highly dependent on scaled data (tree-based models do not need scaled data). We'll do a quick robust scaling to get everything into a similar range of values."
   ]
  },
  {
   "cell_type": "code",
   "execution_count": 247,
   "id": "54a27292",
   "metadata": {},
   "outputs": [],
   "source": [
    "from sklearn.preprocessing import RobustScaler\n",
    "\n",
    "r_scaler = RobustScaler()\n",
    "X_train_scaled = r_scaler.fit_transform(X_train)\n",
    "X_test_scaled = r_scaler.transform(X_test)"
   ]
  },
  {
   "cell_type": "markdown",
   "id": "8de06dc5",
   "metadata": {},
   "source": [
    "### KNeighborsClassifier"
   ]
  },
  {
   "cell_type": "code",
   "execution_count": 248,
   "id": "7535bfdb",
   "metadata": {},
   "outputs": [],
   "source": [
    "from sklearn.neighbors import KNeighborsClassifier"
   ]
  },
  {
   "cell_type": "code",
   "execution_count": 249,
   "id": "0d1a8277",
   "metadata": {},
   "outputs": [
    {
     "data": {
      "text/plain": [
       "KNeighborsClassifier()"
      ]
     },
     "execution_count": 249,
     "metadata": {},
     "output_type": "execute_result"
    }
   ],
   "source": [
    "knn = KNeighborsClassifier(n_neighbors=5)\n",
    "knn.fit(X_train_scaled, y_train)"
   ]
  },
  {
   "cell_type": "code",
   "execution_count": 250,
   "id": "f9e76884",
   "metadata": {},
   "outputs": [
    {
     "name": "stdout",
     "output_type": "stream",
     "text": [
      "              precision    recall  f1-score   support\n",
      "\n",
      "         0.0       0.84      0.96      0.89        53\n",
      "         1.0       0.71      0.33      0.45        15\n",
      "\n",
      "    accuracy                           0.82        68\n",
      "   macro avg       0.78      0.65      0.67        68\n",
      "weighted avg       0.81      0.82      0.80        68\n",
      "\n"
     ]
    }
   ],
   "source": [
    "pred = knn.predict(X_test_scaled)\n",
    "print(classification_report(y_test, pred))"
   ]
  },
  {
   "cell_type": "code",
   "execution_count": 251,
   "id": "19ad770d",
   "metadata": {},
   "outputs": [
    {
     "data": {
      "text/plain": [
       "GridSearchCV(cv=3, estimator=KNeighborsClassifier(),\n",
       "             param_grid={'n_neighbors': [2, 5, 10, 20]}, scoring='recall')"
      ]
     },
     "execution_count": 251,
     "metadata": {},
     "output_type": "execute_result"
    }
   ],
   "source": [
    "params = {\n",
    "    \"n_neighbors\": [2, 5, 10, 20]\n",
    "}\n",
    "\n",
    "cv = GridSearchCV(knn, params, cv=3, scoring=\"recall\")\n",
    "\n",
    "cv.fit(X_train_scaled, y_train)"
   ]
  },
  {
   "cell_type": "code",
   "execution_count": 252,
   "id": "f7edbd0f",
   "metadata": {},
   "outputs": [
    {
     "data": {
      "text/plain": [
       "{'n_neighbors': 5}"
      ]
     },
     "execution_count": 252,
     "metadata": {},
     "output_type": "execute_result"
    }
   ],
   "source": [
    "cv.best_params_"
   ]
  },
  {
   "cell_type": "code",
   "execution_count": 253,
   "id": "5f38c53b",
   "metadata": {},
   "outputs": [
    {
     "name": "stdout",
     "output_type": "stream",
     "text": [
      "              precision    recall  f1-score   support\n",
      "\n",
      "         0.0       0.84      0.96      0.89        53\n",
      "         1.0       0.71      0.33      0.45        15\n",
      "\n",
      "    accuracy                           0.82        68\n",
      "   macro avg       0.78      0.65      0.67        68\n",
      "weighted avg       0.81      0.82      0.80        68\n",
      "\n"
     ]
    }
   ],
   "source": [
    "pred = cv.best_estimator_.predict(X_test_scaled)\n",
    "print(classification_report(y_test, pred))"
   ]
  },
  {
   "cell_type": "markdown",
   "id": "e65ae159",
   "metadata": {},
   "source": [
    "Worse than our XGBoost."
   ]
  },
  {
   "cell_type": "code",
   "execution_count": 254,
   "id": "bd118326",
   "metadata": {},
   "outputs": [],
   "source": [
    "performance[\"k_neighbors\"] = record_metrics(cv.best_estimator_, X_test_scaled, y_test)"
   ]
  },
  {
   "cell_type": "markdown",
   "id": "d40b5663",
   "metadata": {},
   "source": [
    "### LinearSVM"
   ]
  },
  {
   "cell_type": "code",
   "execution_count": 255,
   "id": "64212f76",
   "metadata": {},
   "outputs": [],
   "source": [
    "from sklearn.svm import SVC"
   ]
  },
  {
   "cell_type": "code",
   "execution_count": 256,
   "id": "ccce13eb",
   "metadata": {},
   "outputs": [],
   "source": [
    "linear_svc = SVC(kernel=\"linear\")"
   ]
  },
  {
   "cell_type": "code",
   "execution_count": 257,
   "id": "ff296973",
   "metadata": {},
   "outputs": [
    {
     "data": {
      "text/plain": [
       "SVC(kernel='linear')"
      ]
     },
     "execution_count": 257,
     "metadata": {},
     "output_type": "execute_result"
    }
   ],
   "source": [
    "linear_svc.fit(X_train_scaled, y_train)"
   ]
  },
  {
   "cell_type": "code",
   "execution_count": 258,
   "id": "8b038aa6",
   "metadata": {},
   "outputs": [
    {
     "name": "stdout",
     "output_type": "stream",
     "text": [
      "              precision    recall  f1-score   support\n",
      "\n",
      "         0.0       0.86      0.94      0.90        53\n",
      "         1.0       0.70      0.47      0.56        15\n",
      "\n",
      "    accuracy                           0.84        68\n",
      "   macro avg       0.78      0.71      0.73        68\n",
      "weighted avg       0.83      0.84      0.83        68\n",
      "\n"
     ]
    }
   ],
   "source": [
    "pred = linear_svc.predict(X_test_scaled)\n",
    "print(classification_report(y_test, pred))"
   ]
  },
  {
   "cell_type": "markdown",
   "id": "25d0cc27",
   "metadata": {},
   "source": [
    "Vanilla linear SVM performs worse than our xgboost, let's see if we can gridsearch."
   ]
  },
  {
   "cell_type": "code",
   "execution_count": 259,
   "id": "f41394bc",
   "metadata": {},
   "outputs": [],
   "source": [
    "performance[\"linear_svc_vanilla\"] = record_metrics(linear_svc, X_test_scaled, y_test)"
   ]
  },
  {
   "cell_type": "code",
   "execution_count": 260,
   "id": "a46d1323",
   "metadata": {},
   "outputs": [
    {
     "data": {
      "text/plain": [
       "GridSearchCV(cv=3, estimator=SVC(kernel='linear'),\n",
       "             param_grid={'C': [0.001, 0.01, 0.1, 1, 10, 100]},\n",
       "             scoring='recall')"
      ]
     },
     "execution_count": 260,
     "metadata": {},
     "output_type": "execute_result"
    }
   ],
   "source": [
    "params = {\n",
    "    \"C\": [0.001, 0.01, 0.1, 1, 10, 100]\n",
    "}\n",
    "\n",
    "cv = GridSearchCV(linear_svc, params, cv=3, scoring=\"recall\")\n",
    "\n",
    "cv.fit(X_train_scaled, y_train)"
   ]
  },
  {
   "cell_type": "code",
   "execution_count": 261,
   "id": "f354aa1b",
   "metadata": {},
   "outputs": [
    {
     "data": {
      "text/plain": [
       "{'C': 10}"
      ]
     },
     "execution_count": 261,
     "metadata": {},
     "output_type": "execute_result"
    }
   ],
   "source": [
    "cv.best_params_"
   ]
  },
  {
   "cell_type": "code",
   "execution_count": 262,
   "id": "16b259a4",
   "metadata": {},
   "outputs": [
    {
     "name": "stdout",
     "output_type": "stream",
     "text": [
      "              precision    recall  f1-score   support\n",
      "\n",
      "         0.0       0.92      0.83      0.87        53\n",
      "         1.0       0.55      0.73      0.63        15\n",
      "\n",
      "    accuracy                           0.81        68\n",
      "   macro avg       0.73      0.78      0.75        68\n",
      "weighted avg       0.84      0.81      0.82        68\n",
      "\n"
     ]
    }
   ],
   "source": [
    "pred = cv.best_estimator_.predict(X_test_scaled)\n",
    "print(classification_report(y_test, pred))"
   ]
  },
  {
   "cell_type": "code",
   "execution_count": 263,
   "id": "7c199a91",
   "metadata": {},
   "outputs": [],
   "source": [
    "performance[\"linear_svc_tuned\"] = record_metrics(cv.best_estimator_, X_test_scaled, y_test)"
   ]
  },
  {
   "cell_type": "markdown",
   "id": "f14c5295",
   "metadata": {},
   "source": [
    "We're able to get a much higher recall on the churned class while not sacrificing much accuracy."
   ]
  },
  {
   "cell_type": "markdown",
   "id": "ba70d035",
   "metadata": {},
   "source": [
    "### SVM with an RBF kernel"
   ]
  },
  {
   "cell_type": "code",
   "execution_count": 264,
   "id": "ab220626",
   "metadata": {},
   "outputs": [],
   "source": [
    "svc = SVC(kernel=\"rbf\")"
   ]
  },
  {
   "cell_type": "code",
   "execution_count": 265,
   "id": "ee0e94d6",
   "metadata": {},
   "outputs": [
    {
     "data": {
      "text/plain": [
       "GridSearchCV(cv=3, estimator=SVC(),\n",
       "             param_grid={'C': [0.001, 0.01, 0.1, 1, 10, 100, 1000, 10000,\n",
       "                               100000],\n",
       "                         'gamma': ['scale', 0.01, 0.001, 0.1, 1, 10]},\n",
       "             scoring='recall')"
      ]
     },
     "execution_count": 265,
     "metadata": {},
     "output_type": "execute_result"
    }
   ],
   "source": [
    "params = {\n",
    "    \"C\": [0.001, 0.01, 0.1, 1, 10, 100, 1000, 10000, 100000],\n",
    "    \"gamma\": [\"scale\", 0.01, 0.001, 0.1, 1, 10]\n",
    "}\n",
    "\n",
    "cv = GridSearchCV(svc, params, cv=3, scoring=\"recall\")\n",
    "\n",
    "cv.fit(X_train_scaled, y_train)"
   ]
  },
  {
   "cell_type": "code",
   "execution_count": 266,
   "id": "037dd066",
   "metadata": {},
   "outputs": [
    {
     "data": {
      "text/plain": [
       "{'C': 100, 'gamma': 0.01}"
      ]
     },
     "execution_count": 266,
     "metadata": {},
     "output_type": "execute_result"
    }
   ],
   "source": [
    "cv.best_params_"
   ]
  },
  {
   "cell_type": "code",
   "execution_count": 267,
   "id": "9e523c11",
   "metadata": {},
   "outputs": [
    {
     "name": "stdout",
     "output_type": "stream",
     "text": [
      "              precision    recall  f1-score   support\n",
      "\n",
      "         0.0       0.87      0.85      0.86        53\n",
      "         1.0       0.50      0.53      0.52        15\n",
      "\n",
      "    accuracy                           0.78        68\n",
      "   macro avg       0.68      0.69      0.69        68\n",
      "weighted avg       0.78      0.78      0.78        68\n",
      "\n"
     ]
    }
   ],
   "source": [
    "pred = cv.best_estimator_.predict(X_test_scaled)\n",
    "print(classification_report(y_test, pred))"
   ]
  },
  {
   "cell_type": "code",
   "execution_count": 268,
   "id": "a74a35ea",
   "metadata": {},
   "outputs": [],
   "source": [
    "performance[\"rbf_svc_1\"] = record_metrics(cv.best_estimator_, X_test_scaled, y_test)"
   ]
  },
  {
   "cell_type": "markdown",
   "id": "84032f90",
   "metadata": {},
   "source": [
    "Getting up to 0.60 recall while sacrificing some precision. Let's random search around those parameters from above."
   ]
  },
  {
   "cell_type": "code",
   "execution_count": 269,
   "id": "415c1959",
   "metadata": {},
   "outputs": [
    {
     "data": {
      "text/plain": [
       "RandomizedSearchCV(cv=3, estimator=SVC(), n_iter=100,\n",
       "                   param_distributions={'C': <scipy.stats._distn_infrastructure.rv_frozen object at 0x7f35c25a63d0>,\n",
       "                                        'gamma': <scipy.stats._distn_infrastructure.rv_frozen object at 0x7f35c25a6b80>},\n",
       "                   scoring='recall')"
      ]
     },
     "execution_count": 269,
     "metadata": {},
     "output_type": "execute_result"
    }
   ],
   "source": [
    "from sklearn.model_selection import RandomizedSearchCV\n",
    "from scipy.stats import uniform, norm\n",
    "\n",
    "params = {\n",
    "    \"C\": norm(10000, 1000),\n",
    "    \"gamma\": uniform(0.001, 0.015)\n",
    "}\n",
    "\n",
    "cv = RandomizedSearchCV(svc, params, cv=3, scoring=\"recall\", n_iter=100)\n",
    "\n",
    "cv.fit(X_train_scaled, y_train)"
   ]
  },
  {
   "cell_type": "code",
   "execution_count": 270,
   "id": "fcfe2acf",
   "metadata": {},
   "outputs": [
    {
     "name": "stdout",
     "output_type": "stream",
     "text": [
      "              precision    recall  f1-score   support\n",
      "\n",
      "         0.0       0.87      0.74      0.80        53\n",
      "         1.0       0.39      0.60      0.47        15\n",
      "\n",
      "    accuracy                           0.71        68\n",
      "   macro avg       0.63      0.67      0.63        68\n",
      "weighted avg       0.76      0.71      0.72        68\n",
      "\n"
     ]
    }
   ],
   "source": [
    "pred = cv.best_estimator_.predict(X_test_scaled)\n",
    "print(classification_report(y_test, pred))"
   ]
  },
  {
   "cell_type": "code",
   "execution_count": 271,
   "id": "79d423a5",
   "metadata": {},
   "outputs": [],
   "source": [
    "performance[\"rbf_svc_recall\"] = record_metrics(cv.best_estimator_, X_test_scaled, y_test)"
   ]
  },
  {
   "cell_type": "code",
   "execution_count": 272,
   "id": "0c884882",
   "metadata": {},
   "outputs": [
    {
     "data": {
      "text/plain": [
       "{'C': 8162.398564208252, 'gamma': 0.006385037635936427}"
      ]
     },
     "execution_count": 272,
     "metadata": {},
     "output_type": "execute_result"
    }
   ],
   "source": [
    "cv.best_params_"
   ]
  },
  {
   "cell_type": "markdown",
   "id": "97435ebc",
   "metadata": {},
   "source": [
    "I'll also try average_precision since it approximates the area under the precision-recall curve and should produce better results with an imbalanced dataset."
   ]
  },
  {
   "cell_type": "code",
   "execution_count": 273,
   "id": "630a2356",
   "metadata": {},
   "outputs": [
    {
     "data": {
      "text/plain": [
       "RandomizedSearchCV(cv=3, estimator=SVC(), n_iter=100,\n",
       "                   param_distributions={'C': <scipy.stats._distn_infrastructure.rv_frozen object at 0x7f35d194dd00>,\n",
       "                                        'gamma': <scipy.stats._distn_infrastructure.rv_frozen object at 0x7f35d194d4c0>},\n",
       "                   scoring='average_precision')"
      ]
     },
     "execution_count": 273,
     "metadata": {},
     "output_type": "execute_result"
    }
   ],
   "source": [
    "from sklearn.model_selection import RandomizedSearchCV\n",
    "from scipy.stats import uniform, norm\n",
    "\n",
    "params = {\n",
    "    \"C\": norm(10000, 1000),\n",
    "    \"gamma\": uniform(0.001, 0.015)\n",
    "}\n",
    "\n",
    "cv = RandomizedSearchCV(svc, params, cv=3, scoring=\"average_precision\", n_iter=100)\n",
    "\n",
    "cv.fit(X_train_scaled, y_train)"
   ]
  },
  {
   "cell_type": "code",
   "execution_count": 274,
   "id": "812b694a",
   "metadata": {},
   "outputs": [
    {
     "data": {
      "text/plain": [
       "{'C': 10562.933546109205, 'gamma': 0.0023445896714157826}"
      ]
     },
     "execution_count": 274,
     "metadata": {},
     "output_type": "execute_result"
    }
   ],
   "source": [
    "cv.best_params_"
   ]
  },
  {
   "cell_type": "code",
   "execution_count": 275,
   "id": "24bbdad7",
   "metadata": {},
   "outputs": [
    {
     "name": "stdout",
     "output_type": "stream",
     "text": [
      "              precision    recall  f1-score   support\n",
      "\n",
      "         0.0       0.87      0.77      0.82        53\n",
      "         1.0       0.43      0.60      0.50        15\n",
      "\n",
      "    accuracy                           0.74        68\n",
      "   macro avg       0.65      0.69      0.66        68\n",
      "weighted avg       0.77      0.74      0.75        68\n",
      "\n"
     ]
    }
   ],
   "source": [
    "pred = cv.best_estimator_.predict(X_test_scaled)\n",
    "print(classification_report(y_test, pred))"
   ]
  },
  {
   "cell_type": "code",
   "execution_count": 276,
   "id": "f90673c0",
   "metadata": {},
   "outputs": [
    {
     "data": {
      "text/plain": [
       "0.6"
      ]
     },
     "execution_count": 276,
     "metadata": {},
     "output_type": "execute_result"
    }
   ],
   "source": [
    "recall_score(y_test, pred)"
   ]
  },
  {
   "cell_type": "code",
   "execution_count": 277,
   "id": "3f7e832f",
   "metadata": {},
   "outputs": [],
   "source": [
    "performance[\"rbf_svc_avg_precision\"] = record_metrics(cv.best_estimator_, X_test_scaled, y_test)"
   ]
  },
  {
   "cell_type": "markdown",
   "id": "0da344a3",
   "metadata": {},
   "source": [
    "We end up with a worse recall than in the previous example so let's keep \"recall\" as our scoring metric to optimize."
   ]
  },
  {
   "cell_type": "code",
   "execution_count": 278,
   "id": "13101a6c",
   "metadata": {},
   "outputs": [],
   "source": [
    "#plt.figure(figsize=(16,9))\n",
    "perf_df = pd.DataFrame(performance)\n",
    "perf_df = perf_df.T\n",
    "perf_df.columns = [\"recall\", \"accuracy\"]"
   ]
  },
  {
   "cell_type": "code",
   "execution_count": 279,
   "id": "5f764074",
   "metadata": {},
   "outputs": [
    {
     "data": {
      "text/html": [
       "<div>\n",
       "<style scoped>\n",
       "    .dataframe tbody tr th:only-of-type {\n",
       "        vertical-align: middle;\n",
       "    }\n",
       "\n",
       "    .dataframe tbody tr th {\n",
       "        vertical-align: top;\n",
       "    }\n",
       "\n",
       "    .dataframe thead th {\n",
       "        text-align: right;\n",
       "    }\n",
       "</style>\n",
       "<table border=\"1\" class=\"dataframe\">\n",
       "  <thead>\n",
       "    <tr style=\"text-align: right;\">\n",
       "      <th></th>\n",
       "      <th>recall</th>\n",
       "      <th>accuracy</th>\n",
       "    </tr>\n",
       "  </thead>\n",
       "  <tbody>\n",
       "    <tr>\n",
       "      <th>log_reg</th>\n",
       "      <td>0.066667</td>\n",
       "      <td>0.779412</td>\n",
       "    </tr>\n",
       "    <tr>\n",
       "      <th>random_forest</th>\n",
       "      <td>0.400000</td>\n",
       "      <td>0.838235</td>\n",
       "    </tr>\n",
       "    <tr>\n",
       "      <th>xgboost</th>\n",
       "      <td>0.533333</td>\n",
       "      <td>0.852941</td>\n",
       "    </tr>\n",
       "    <tr>\n",
       "      <th>k_neighbors</th>\n",
       "      <td>0.333333</td>\n",
       "      <td>0.823529</td>\n",
       "    </tr>\n",
       "    <tr>\n",
       "      <th>linear_svc_vanilla</th>\n",
       "      <td>0.466667</td>\n",
       "      <td>0.838235</td>\n",
       "    </tr>\n",
       "    <tr>\n",
       "      <th>linear_svc_tuned</th>\n",
       "      <td>0.733333</td>\n",
       "      <td>0.808824</td>\n",
       "    </tr>\n",
       "    <tr>\n",
       "      <th>rbf_svc_1</th>\n",
       "      <td>0.533333</td>\n",
       "      <td>0.779412</td>\n",
       "    </tr>\n",
       "    <tr>\n",
       "      <th>rbf_svc_recall</th>\n",
       "      <td>0.600000</td>\n",
       "      <td>0.705882</td>\n",
       "    </tr>\n",
       "    <tr>\n",
       "      <th>rbf_svc_avg_precision</th>\n",
       "      <td>0.600000</td>\n",
       "      <td>0.735294</td>\n",
       "    </tr>\n",
       "  </tbody>\n",
       "</table>\n",
       "</div>"
      ],
      "text/plain": [
       "                         recall  accuracy\n",
       "log_reg                0.066667  0.779412\n",
       "random_forest          0.400000  0.838235\n",
       "xgboost                0.533333  0.852941\n",
       "k_neighbors            0.333333  0.823529\n",
       "linear_svc_vanilla     0.466667  0.838235\n",
       "linear_svc_tuned       0.733333  0.808824\n",
       "rbf_svc_1              0.533333  0.779412\n",
       "rbf_svc_recall         0.600000  0.705882\n",
       "rbf_svc_avg_precision  0.600000  0.735294"
      ]
     },
     "execution_count": 279,
     "metadata": {},
     "output_type": "execute_result"
    }
   ],
   "source": [
    "perf_df"
   ]
  },
  {
   "cell_type": "code",
   "execution_count": 280,
   "id": "02abac6b",
   "metadata": {
    "scrolled": false
   },
   "outputs": [
    {
     "data": {
      "image/png": "[encoded data removed]",
      "text/plain": [
       "<Figure size 1152x648 with 1 Axes>"
      ]
     },
     "metadata": {
      "needs_background": "light"
     },
     "output_type": "display_data"
    }
   ],
   "source": [
    "plt.figure(figsize=(16,9))\n",
    "to_graph = perf_df.stack().to_frame(\"value\").reset_index()\n",
    "to_graph.columns = [\"Model\", \"Metric\", \"Value\"]\n",
    "sns.barplot(data=to_graph, hue=\"Metric\", x=\"Model\", y=\"Value\");"
   ]
  },
  {
   "cell_type": "markdown",
   "id": "f2ac7247",
   "metadata": {},
   "source": [
    "The SVM with a linear kernel is the best model for our use case. As I ran this notebook with different train_test splits, the results changed dramatically. We still don't have quite enough data points to properly train the model (there is a large amount of variance between splits) so hopefully results will improve on the full dataset."
   ]
  }
 ],
 "metadata": {
  "kernelspec": {
   "display_name": "Python 3",
   "language": "python",
   "name": "python3"
  },
  "language_info": {
   "codemirror_mode": {
    "name": "ipython",
    "version": 3
   },
   "file_extension": ".py",
   "mimetype": "text/x-python",
   "name": "python",
   "nbconvert_exporter": "python",
   "pygments_lexer": "ipython3",
   "version": "3.8.12"
  },
  "toc": {
   "base_numbering": 1,
   "nav_menu": {},
   "number_sections": true,
   "sideBar": true,
   "skip_h1_title": false,
   "title_cell": "Table of Contents",
   "title_sidebar": "Contents",
   "toc_cell": false,
   "toc_position": {},
   "toc_section_display": true,
   "toc_window_display": false
  }
 },
 "nbformat": 4,
 "nbformat_minor": 5
}
